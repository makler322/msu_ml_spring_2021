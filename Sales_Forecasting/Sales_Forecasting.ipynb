{
 "cells": [
  {
   "cell_type": "code",
   "execution_count": null,
   "metadata": {},
   "outputs": [],
   "source": []
  },
  {
   "cell_type": "markdown",
   "metadata": {
    "id": "y0sILquw9rta"
   },
   "source": [
    "## Для начала посмотрим на наши данные, нужно понять с чем мы работаем"
   ]
  },
  {
   "cell_type": "markdown",
   "metadata": {
    "id": "zvLceESzwbFT"
   },
   "source": [
    "### Подключим все необходимые библиотеки"
   ]
  },
  {
   "cell_type": "code",
   "execution_count": 2,
   "metadata": {
    "id": "nDvz0qXduEAo"
   },
   "outputs": [],
   "source": [
    "import pandas as pd\n",
    "import matplotlib.pyplot as plt\n",
    "import numpy as np\n",
    "plt.style.use('ggplot')\n",
    "from tqdm import tqdm\n",
    "from sklearn.model_selection import train_test_split\n",
    "from sklearn.preprocessing  import LabelEncoder\n",
    "from sklearn.feature_extraction.text import TfidfVectorizer,CountVectorizer\n",
    "from sklearn.linear_model import SGDClassifier\n",
    "from sklearn.pipeline import Pipeline\n",
    "from sklearn.metrics import balanced_accuracy_score, accuracy_score, mean_absolute_error\n",
    "from collections import Counter\n",
    "import re\n",
    "import nltk\n",
    "#import pymorphy2\n",
    "from ast import literal_eval\n",
    "import gensim\n",
    "import math"
   ]
  },
  {
   "cell_type": "markdown",
   "metadata": {
    "id": "iu4vGS5Cvg7t"
   },
   "source": [
    "\n",
    "### Поля данных\n",
    "\n",
    "* warehouse_id - идентификатор магазина\n",
    "* product_id - идентификатор продукта\n",
    "* date - дата\n",
    "* quantity - кол-во продаж\n",
    "* id - уникальный идентификатор строки\n",
    "\n",
    " "
   ]
  },
  {
   "cell_type": "code",
   "execution_count": 3,
   "metadata": {
    "colab": {
     "base_uri": "https://localhost:8080/",
     "height": 569
    },
    "id": "2zA5SS10ubK2",
    "outputId": "6c9c6fc4-356d-4b4e-b182-d08ccdd3ef3d"
   },
   "outputs": [
    {
     "name": "stdout",
     "output_type": "stream",
     "text": [
      "(78067, 5)\n"
     ]
    },
    {
     "data": {
      "text/html": [
       "<div>\n",
       "<style scoped>\n",
       "    .dataframe tbody tr th:only-of-type {\n",
       "        vertical-align: middle;\n",
       "    }\n",
       "\n",
       "    .dataframe tbody tr th {\n",
       "        vertical-align: top;\n",
       "    }\n",
       "\n",
       "    .dataframe thead th {\n",
       "        text-align: right;\n",
       "    }\n",
       "</style>\n",
       "<table border=\"1\" class=\"dataframe\">\n",
       "  <thead>\n",
       "    <tr style=\"text-align: right;\">\n",
       "      <th></th>\n",
       "      <th>warehouse_id</th>\n",
       "      <th>product_id</th>\n",
       "      <th>date</th>\n",
       "      <th>quantity</th>\n",
       "      <th>id</th>\n",
       "    </tr>\n",
       "  </thead>\n",
       "  <tbody>\n",
       "    <tr>\n",
       "      <th>0</th>\n",
       "      <td>0</td>\n",
       "      <td>71165</td>\n",
       "      <td>2020-12-02</td>\n",
       "      <td>1</td>\n",
       "      <td>0</td>\n",
       "    </tr>\n",
       "    <tr>\n",
       "      <th>1</th>\n",
       "      <td>0</td>\n",
       "      <td>71165</td>\n",
       "      <td>2020-12-03</td>\n",
       "      <td>3</td>\n",
       "      <td>1</td>\n",
       "    </tr>\n",
       "    <tr>\n",
       "      <th>2</th>\n",
       "      <td>0</td>\n",
       "      <td>71165</td>\n",
       "      <td>2020-12-07</td>\n",
       "      <td>2</td>\n",
       "      <td>2</td>\n",
       "    </tr>\n",
       "    <tr>\n",
       "      <th>3</th>\n",
       "      <td>0</td>\n",
       "      <td>71165</td>\n",
       "      <td>2020-12-08</td>\n",
       "      <td>2</td>\n",
       "      <td>3</td>\n",
       "    </tr>\n",
       "    <tr>\n",
       "      <th>4</th>\n",
       "      <td>0</td>\n",
       "      <td>71165</td>\n",
       "      <td>2020-12-09</td>\n",
       "      <td>3</td>\n",
       "      <td>4</td>\n",
       "    </tr>\n",
       "    <tr>\n",
       "      <th>5</th>\n",
       "      <td>0</td>\n",
       "      <td>71165</td>\n",
       "      <td>2020-12-10</td>\n",
       "      <td>1</td>\n",
       "      <td>5</td>\n",
       "    </tr>\n",
       "    <tr>\n",
       "      <th>6</th>\n",
       "      <td>0</td>\n",
       "      <td>71165</td>\n",
       "      <td>2020-12-12</td>\n",
       "      <td>6</td>\n",
       "      <td>6</td>\n",
       "    </tr>\n",
       "    <tr>\n",
       "      <th>7</th>\n",
       "      <td>0</td>\n",
       "      <td>71165</td>\n",
       "      <td>2020-12-13</td>\n",
       "      <td>4</td>\n",
       "      <td>7</td>\n",
       "    </tr>\n",
       "    <tr>\n",
       "      <th>8</th>\n",
       "      <td>0</td>\n",
       "      <td>71165</td>\n",
       "      <td>2020-12-14</td>\n",
       "      <td>4</td>\n",
       "      <td>8</td>\n",
       "    </tr>\n",
       "    <tr>\n",
       "      <th>9</th>\n",
       "      <td>0</td>\n",
       "      <td>71165</td>\n",
       "      <td>2020-12-15</td>\n",
       "      <td>9</td>\n",
       "      <td>9</td>\n",
       "    </tr>\n",
       "    <tr>\n",
       "      <th>10</th>\n",
       "      <td>0</td>\n",
       "      <td>71165</td>\n",
       "      <td>2020-12-18</td>\n",
       "      <td>1</td>\n",
       "      <td>10</td>\n",
       "    </tr>\n",
       "    <tr>\n",
       "      <th>11</th>\n",
       "      <td>0</td>\n",
       "      <td>71165</td>\n",
       "      <td>2020-12-20</td>\n",
       "      <td>3</td>\n",
       "      <td>11</td>\n",
       "    </tr>\n",
       "    <tr>\n",
       "      <th>12</th>\n",
       "      <td>0</td>\n",
       "      <td>71165</td>\n",
       "      <td>2020-12-21</td>\n",
       "      <td>3</td>\n",
       "      <td>12</td>\n",
       "    </tr>\n",
       "    <tr>\n",
       "      <th>13</th>\n",
       "      <td>0</td>\n",
       "      <td>71165</td>\n",
       "      <td>2020-12-22</td>\n",
       "      <td>1</td>\n",
       "      <td>13</td>\n",
       "    </tr>\n",
       "    <tr>\n",
       "      <th>14</th>\n",
       "      <td>0</td>\n",
       "      <td>71165</td>\n",
       "      <td>2020-12-24</td>\n",
       "      <td>3</td>\n",
       "      <td>14</td>\n",
       "    </tr>\n",
       "    <tr>\n",
       "      <th>15</th>\n",
       "      <td>0</td>\n",
       "      <td>71165</td>\n",
       "      <td>2020-12-25</td>\n",
       "      <td>1</td>\n",
       "      <td>15</td>\n",
       "    </tr>\n",
       "  </tbody>\n",
       "</table>\n",
       "</div>"
      ],
      "text/plain": [
       "    warehouse_id  product_id        date  quantity  id\n",
       "0              0       71165  2020-12-02         1   0\n",
       "1              0       71165  2020-12-03         3   1\n",
       "2              0       71165  2020-12-07         2   2\n",
       "3              0       71165  2020-12-08         2   3\n",
       "4              0       71165  2020-12-09         3   4\n",
       "5              0       71165  2020-12-10         1   5\n",
       "6              0       71165  2020-12-12         6   6\n",
       "7              0       71165  2020-12-13         4   7\n",
       "8              0       71165  2020-12-14         4   8\n",
       "9              0       71165  2020-12-15         9   9\n",
       "10             0       71165  2020-12-18         1  10\n",
       "11             0       71165  2020-12-20         3  11\n",
       "12             0       71165  2020-12-21         3  12\n",
       "13             0       71165  2020-12-22         1  13\n",
       "14             0       71165  2020-12-24         3  14\n",
       "15             0       71165  2020-12-25         1  15"
      ]
     },
     "execution_count": 3,
     "metadata": {
      "tags": []
     },
     "output_type": "execute_result"
    }
   ],
   "source": [
    "train_data = pd.read_csv(\"/content/drive/MyDrive/Sales_Forecasting/train.csv\")\n",
    "print(train_data.shape)\n",
    "train_data.head(16)"
   ]
  },
  {
   "cell_type": "markdown",
   "metadata": {
    "id": "si_RR9QI2FKc"
   },
   "source": [
    "### Посмотрим на количество товаров и на их id"
   ]
  },
  {
   "cell_type": "code",
   "execution_count": 4,
   "metadata": {
    "colab": {
     "base_uri": "https://localhost:8080/"
    },
    "id": "Cq8zKmj61peJ",
    "outputId": "27f8953e-dd59-4245-893b-e254db24edc7"
   },
   "outputs": [
    {
     "name": "stdout",
     "output_type": "stream",
     "text": [
      "3288\n",
      "[71165 71170 71185 71215 71220]\n"
     ]
    }
   ],
   "source": [
    "product_id = train_data.sort_values(by=['product_id'])['product_id'].unique()\n",
    "print(len(product_id))\n",
    "print(product_id[:5])"
   ]
  },
  {
   "cell_type": "markdown",
   "metadata": {
    "id": "LdS8FI152Uq-"
   },
   "source": [
    "### Посмотрим на тестовую выборку и сделаем некоторые выводы"
   ]
  },
  {
   "cell_type": "code",
   "execution_count": 5,
   "metadata": {
    "colab": {
     "base_uri": "https://localhost:8080/",
     "height": 537
    },
    "id": "U6r9koVw1U4v",
    "outputId": "a8cdab31-7733-4a4e-96ef-3ca4aa530333"
   },
   "outputs": [
    {
     "name": "stdout",
     "output_type": "stream",
     "text": [
      "(46032, 4)\n"
     ]
    },
    {
     "data": {
      "text/html": [
       "<div>\n",
       "<style scoped>\n",
       "    .dataframe tbody tr th:only-of-type {\n",
       "        vertical-align: middle;\n",
       "    }\n",
       "\n",
       "    .dataframe tbody tr th {\n",
       "        vertical-align: top;\n",
       "    }\n",
       "\n",
       "    .dataframe thead th {\n",
       "        text-align: right;\n",
       "    }\n",
       "</style>\n",
       "<table border=\"1\" class=\"dataframe\">\n",
       "  <thead>\n",
       "    <tr style=\"text-align: right;\">\n",
       "      <th></th>\n",
       "      <th>date</th>\n",
       "      <th>product_id</th>\n",
       "      <th>warehouse_id</th>\n",
       "      <th>id</th>\n",
       "    </tr>\n",
       "  </thead>\n",
       "  <tbody>\n",
       "    <tr>\n",
       "      <th>0</th>\n",
       "      <td>2021-04-09</td>\n",
       "      <td>71165</td>\n",
       "      <td>0</td>\n",
       "      <td>0</td>\n",
       "    </tr>\n",
       "    <tr>\n",
       "      <th>1</th>\n",
       "      <td>2021-04-09</td>\n",
       "      <td>71165</td>\n",
       "      <td>1</td>\n",
       "      <td>1</td>\n",
       "    </tr>\n",
       "    <tr>\n",
       "      <th>2</th>\n",
       "      <td>2021-04-09</td>\n",
       "      <td>71170</td>\n",
       "      <td>0</td>\n",
       "      <td>2</td>\n",
       "    </tr>\n",
       "    <tr>\n",
       "      <th>3</th>\n",
       "      <td>2021-04-09</td>\n",
       "      <td>71170</td>\n",
       "      <td>1</td>\n",
       "      <td>3</td>\n",
       "    </tr>\n",
       "    <tr>\n",
       "      <th>4</th>\n",
       "      <td>2021-04-09</td>\n",
       "      <td>71185</td>\n",
       "      <td>0</td>\n",
       "      <td>4</td>\n",
       "    </tr>\n",
       "    <tr>\n",
       "      <th>5</th>\n",
       "      <td>2021-04-09</td>\n",
       "      <td>71185</td>\n",
       "      <td>1</td>\n",
       "      <td>5</td>\n",
       "    </tr>\n",
       "    <tr>\n",
       "      <th>6</th>\n",
       "      <td>2021-04-09</td>\n",
       "      <td>71215</td>\n",
       "      <td>0</td>\n",
       "      <td>6</td>\n",
       "    </tr>\n",
       "    <tr>\n",
       "      <th>7</th>\n",
       "      <td>2021-04-09</td>\n",
       "      <td>71215</td>\n",
       "      <td>1</td>\n",
       "      <td>7</td>\n",
       "    </tr>\n",
       "    <tr>\n",
       "      <th>8</th>\n",
       "      <td>2021-04-09</td>\n",
       "      <td>71220</td>\n",
       "      <td>0</td>\n",
       "      <td>8</td>\n",
       "    </tr>\n",
       "    <tr>\n",
       "      <th>9</th>\n",
       "      <td>2021-04-09</td>\n",
       "      <td>71220</td>\n",
       "      <td>1</td>\n",
       "      <td>9</td>\n",
       "    </tr>\n",
       "    <tr>\n",
       "      <th>10</th>\n",
       "      <td>2021-04-09</td>\n",
       "      <td>71225</td>\n",
       "      <td>0</td>\n",
       "      <td>10</td>\n",
       "    </tr>\n",
       "    <tr>\n",
       "      <th>11</th>\n",
       "      <td>2021-04-09</td>\n",
       "      <td>71225</td>\n",
       "      <td>1</td>\n",
       "      <td>11</td>\n",
       "    </tr>\n",
       "    <tr>\n",
       "      <th>12</th>\n",
       "      <td>2021-04-09</td>\n",
       "      <td>71230</td>\n",
       "      <td>0</td>\n",
       "      <td>12</td>\n",
       "    </tr>\n",
       "    <tr>\n",
       "      <th>13</th>\n",
       "      <td>2021-04-09</td>\n",
       "      <td>71230</td>\n",
       "      <td>1</td>\n",
       "      <td>13</td>\n",
       "    </tr>\n",
       "    <tr>\n",
       "      <th>14</th>\n",
       "      <td>2021-04-09</td>\n",
       "      <td>71235</td>\n",
       "      <td>0</td>\n",
       "      <td>14</td>\n",
       "    </tr>\n",
       "  </tbody>\n",
       "</table>\n",
       "</div>"
      ],
      "text/plain": [
       "          date  product_id  warehouse_id  id\n",
       "0   2021-04-09       71165             0   0\n",
       "1   2021-04-09       71165             1   1\n",
       "2   2021-04-09       71170             0   2\n",
       "3   2021-04-09       71170             1   3\n",
       "4   2021-04-09       71185             0   4\n",
       "5   2021-04-09       71185             1   5\n",
       "6   2021-04-09       71215             0   6\n",
       "7   2021-04-09       71215             1   7\n",
       "8   2021-04-09       71220             0   8\n",
       "9   2021-04-09       71220             1   9\n",
       "10  2021-04-09       71225             0  10\n",
       "11  2021-04-09       71225             1  11\n",
       "12  2021-04-09       71230             0  12\n",
       "13  2021-04-09       71230             1  13\n",
       "14  2021-04-09       71235             0  14"
      ]
     },
     "execution_count": 5,
     "metadata": {
      "tags": []
     },
     "output_type": "execute_result"
    }
   ],
   "source": [
    "test_data = pd.read_csv(\"/content/drive/MyDrive/Sales_Forecasting/test.csv\")\n",
    "print(test_data.shape)\n",
    "test_data.head(15)"
   ]
  },
  {
   "cell_type": "markdown",
   "metadata": {
    "id": "xwmQURwI2eYt"
   },
   "source": [
    "### Сразу хочется посмотреть на warehouse_id и на product_id, так как при разных product_id будут проблемы\n"
   ]
  },
  {
   "cell_type": "code",
   "execution_count": 6,
   "metadata": {
    "colab": {
     "base_uri": "https://localhost:8080/"
    },
    "id": "l0VUR9qi24CG",
    "outputId": "010a0181-c690-4a31-db65-306202f402aa"
   },
   "outputs": [
    {
     "name": "stdout",
     "output_type": "stream",
     "text": [
      "3288\n",
      "[71165 71170 71185 71215 71220]\n",
      "1\n"
     ]
    }
   ],
   "source": [
    "product_test_id = test_data.sort_values(by=['product_id'])['product_id'].unique()\n",
    "print(len(product_test_id))\n",
    "print(product_test_id[:5])\n",
    "print(len(set(product_test_id == product_id)))  # Все значения совпадают, проблем нет"
   ]
  },
  {
   "cell_type": "code",
   "execution_count": 7,
   "metadata": {
    "colab": {
     "base_uri": "https://localhost:8080/"
    },
    "id": "-IWoYqit4DxJ",
    "outputId": "5a8ff4ec-0270-4bce-f83c-758081eea6e6"
   },
   "outputs": [
    {
     "name": "stdout",
     "output_type": "stream",
     "text": [
      "2\n"
     ]
    }
   ],
   "source": [
    "warehouse_id = test_data['warehouse_id'].unique()\n",
    "print(len(warehouse_id))  # Всего два магазина"
   ]
  },
  {
   "cell_type": "markdown",
   "metadata": {
    "id": "vTI_Y9i_4pS5"
   },
   "source": [
    "### В нашем случае всего два магазина и все значения id товаров совпадают. Проблем с данными нет."
   ]
  },
  {
   "cell_type": "markdown",
   "metadata": {
    "id": "uTgj_VsfxXhq"
   },
   "source": [
    "### Посмотрим на simple submission"
   ]
  },
  {
   "cell_type": "code",
   "execution_count": 8,
   "metadata": {
    "colab": {
     "base_uri": "https://localhost:8080/",
     "height": 224
    },
    "id": "TpjF2xQmubNF",
    "outputId": "12369471-5823-4401-8af7-2292483fdebc"
   },
   "outputs": [
    {
     "name": "stdout",
     "output_type": "stream",
     "text": [
      "(46032, 2)\n"
     ]
    },
    {
     "data": {
      "text/html": [
       "<div>\n",
       "<style scoped>\n",
       "    .dataframe tbody tr th:only-of-type {\n",
       "        vertical-align: middle;\n",
       "    }\n",
       "\n",
       "    .dataframe tbody tr th {\n",
       "        vertical-align: top;\n",
       "    }\n",
       "\n",
       "    .dataframe thead th {\n",
       "        text-align: right;\n",
       "    }\n",
       "</style>\n",
       "<table border=\"1\" class=\"dataframe\">\n",
       "  <thead>\n",
       "    <tr style=\"text-align: right;\">\n",
       "      <th></th>\n",
       "      <th>id</th>\n",
       "      <th>quantity</th>\n",
       "    </tr>\n",
       "  </thead>\n",
       "  <tbody>\n",
       "    <tr>\n",
       "      <th>0</th>\n",
       "      <td>0</td>\n",
       "      <td>1</td>\n",
       "    </tr>\n",
       "    <tr>\n",
       "      <th>1</th>\n",
       "      <td>1</td>\n",
       "      <td>1</td>\n",
       "    </tr>\n",
       "    <tr>\n",
       "      <th>2</th>\n",
       "      <td>2</td>\n",
       "      <td>1</td>\n",
       "    </tr>\n",
       "    <tr>\n",
       "      <th>3</th>\n",
       "      <td>3</td>\n",
       "      <td>1</td>\n",
       "    </tr>\n",
       "    <tr>\n",
       "      <th>4</th>\n",
       "      <td>4</td>\n",
       "      <td>1</td>\n",
       "    </tr>\n",
       "  </tbody>\n",
       "</table>\n",
       "</div>"
      ],
      "text/plain": [
       "   id  quantity\n",
       "0   0         1\n",
       "1   1         1\n",
       "2   2         1\n",
       "3   3         1\n",
       "4   4         1"
      ]
     },
     "execution_count": 8,
     "metadata": {
      "tags": []
     },
     "output_type": "execute_result"
    }
   ],
   "source": [
    "simple_data = pd.read_csv(\"/content/drive/MyDrive/Sales_Forecasting/sub.csv\")\n",
    "print(simple_data.shape)\n",
    "simple_data.head()"
   ]
  },
  {
   "cell_type": "markdown",
   "metadata": {
    "id": "j_6BD0caL1NT"
   },
   "source": [
    "## Разделение данных на train / test"
   ]
  },
  {
   "cell_type": "markdown",
   "metadata": {
    "id": "7ChXzyoFFiun"
   },
   "source": [
    "### Итак, суть задачи ясна. Проблем пока не обнаружено, поэтому разделяем нашу train выборку и начинаем реализовывать идеи"
   ]
  },
  {
   "cell_type": "code",
   "execution_count": 9,
   "metadata": {
    "colab": {
     "base_uri": "https://localhost:8080/",
     "height": 70
    },
    "id": "mxPa36_cF4aj",
    "outputId": "983d85cf-d107-4c23-99ec-6791e1162eb9"
   },
   "outputs": [
    {
     "data": {
      "application/vnd.google.colaboratory.intrinsic+json": {
       "type": "string"
      },
      "text/plain": [
       "\"\\n# Это плохой способ разделять данные в нашем случае!\\nX_train, X_test, y_train, y_test = train_test_split(train_data.drop('quantity', axis=1), train_data[['quantity']], test_size=0.1945, random_state=42)\\nprint(X_train.head(3))\\nprint(X_test.head(3))\\nprint(y_train.head(3))\\nprint(y_test.head(3))\\n\""
      ]
     },
     "execution_count": 9,
     "metadata": {
      "tags": []
     },
     "output_type": "execute_result"
    }
   ],
   "source": [
    "'''\n",
    "# Это плохой способ разделять данные в нашем случае!\n",
    "X_train, X_test, y_train, y_test = train_test_split(train_data.drop('quantity', axis=1), train_data[['quantity']], test_size=0.1945, random_state=42)\n",
    "print(X_train.head(3))\n",
    "print(X_test.head(3))\n",
    "print(y_train.head(3))\n",
    "print(y_test.head(3))\n",
    "'''"
   ]
  },
  {
   "cell_type": "markdown",
   "metadata": {
    "id": "dG9t1jXNJwDu"
   },
   "source": [
    "### Необходимо понимать, что в данных есть пропуски. Это видно по X_train"
   ]
  },
  {
   "cell_type": "code",
   "execution_count": 10,
   "metadata": {
    "colab": {
     "base_uri": "https://localhost:8080/",
     "height": 424
    },
    "id": "ytFxX5QKIJK6",
    "outputId": "8b0d332b-29be-4bca-cdbd-90eea4924885"
   },
   "outputs": [
    {
     "data": {
      "text/html": [
       "<div>\n",
       "<style scoped>\n",
       "    .dataframe tbody tr th:only-of-type {\n",
       "        vertical-align: middle;\n",
       "    }\n",
       "\n",
       "    .dataframe tbody tr th {\n",
       "        vertical-align: top;\n",
       "    }\n",
       "\n",
       "    .dataframe thead th {\n",
       "        text-align: right;\n",
       "    }\n",
       "</style>\n",
       "<table border=\"1\" class=\"dataframe\">\n",
       "  <thead>\n",
       "    <tr style=\"text-align: right;\">\n",
       "      <th></th>\n",
       "      <th>warehouse_id</th>\n",
       "      <th>product_id</th>\n",
       "      <th>date</th>\n",
       "      <th>id</th>\n",
       "    </tr>\n",
       "  </thead>\n",
       "  <tbody>\n",
       "    <tr>\n",
       "      <th>181</th>\n",
       "      <td>0</td>\n",
       "      <td>71220</td>\n",
       "      <td>2020-11-27</td>\n",
       "      <td>191</td>\n",
       "    </tr>\n",
       "    <tr>\n",
       "      <th>30017</th>\n",
       "      <td>1</td>\n",
       "      <td>71220</td>\n",
       "      <td>2020-11-27</td>\n",
       "      <td>32102</td>\n",
       "    </tr>\n",
       "    <tr>\n",
       "      <th>30551</th>\n",
       "      <td>1</td>\n",
       "      <td>71455</td>\n",
       "      <td>2020-11-27</td>\n",
       "      <td>32660</td>\n",
       "    </tr>\n",
       "    <tr>\n",
       "      <th>30772</th>\n",
       "      <td>1</td>\n",
       "      <td>71575</td>\n",
       "      <td>2020-11-27</td>\n",
       "      <td>32892</td>\n",
       "    </tr>\n",
       "    <tr>\n",
       "      <th>30796</th>\n",
       "      <td>1</td>\n",
       "      <td>71580</td>\n",
       "      <td>2020-11-27</td>\n",
       "      <td>32917</td>\n",
       "    </tr>\n",
       "    <tr>\n",
       "      <th>...</th>\n",
       "      <td>...</td>\n",
       "      <td>...</td>\n",
       "      <td>...</td>\n",
       "      <td>...</td>\n",
       "    </tr>\n",
       "    <tr>\n",
       "      <th>78058</th>\n",
       "      <td>1</td>\n",
       "      <td>98240</td>\n",
       "      <td>2021-04-08</td>\n",
       "      <td>83117</td>\n",
       "    </tr>\n",
       "    <tr>\n",
       "      <th>78061</th>\n",
       "      <td>1</td>\n",
       "      <td>98250</td>\n",
       "      <td>2021-04-08</td>\n",
       "      <td>83131</td>\n",
       "    </tr>\n",
       "    <tr>\n",
       "      <th>29790</th>\n",
       "      <td>0</td>\n",
       "      <td>98255</td>\n",
       "      <td>2021-04-08</td>\n",
       "      <td>31817</td>\n",
       "    </tr>\n",
       "    <tr>\n",
       "      <th>78065</th>\n",
       "      <td>1</td>\n",
       "      <td>98620</td>\n",
       "      <td>2021-04-08</td>\n",
       "      <td>83150</td>\n",
       "    </tr>\n",
       "    <tr>\n",
       "      <th>78066</th>\n",
       "      <td>1</td>\n",
       "      <td>98635</td>\n",
       "      <td>2021-04-08</td>\n",
       "      <td>83158</td>\n",
       "    </tr>\n",
       "  </tbody>\n",
       "</table>\n",
       "<p>78067 rows × 4 columns</p>\n",
       "</div>"
      ],
      "text/plain": [
       "       warehouse_id  product_id        date     id\n",
       "181               0       71220  2020-11-27    191\n",
       "30017             1       71220  2020-11-27  32102\n",
       "30551             1       71455  2020-11-27  32660\n",
       "30772             1       71575  2020-11-27  32892\n",
       "30796             1       71580  2020-11-27  32917\n",
       "...             ...         ...         ...    ...\n",
       "78058             1       98240  2021-04-08  83117\n",
       "78061             1       98250  2021-04-08  83131\n",
       "29790             0       98255  2021-04-08  31817\n",
       "78065             1       98620  2021-04-08  83150\n",
       "78066             1       98635  2021-04-08  83158\n",
       "\n",
       "[78067 rows x 4 columns]"
      ]
     },
     "execution_count": 10,
     "metadata": {
      "tags": []
     },
     "output_type": "execute_result"
    }
   ],
   "source": [
    "train_data = train_data.sort_values(by=['date', 'product_id'])\n",
    "X_train = train_data.drop('quantity', axis=1)\n",
    "y_train = train_data['quantity']\n",
    "X_train"
   ]
  },
  {
   "cell_type": "markdown",
   "metadata": {
    "id": "aRUO6LsXKPL4"
   },
   "source": [
    "### Таким образом имеем отсортированные по дате и id данные. Идея деления:\n",
    "\n",
    "*   Находим границу последних n дней\n",
    "*   Делим на train / test по этой границе\n",
    "\n"
   ]
  },
  {
   "cell_type": "code",
   "execution_count": 11,
   "metadata": {
    "colab": {
     "base_uri": "https://localhost:8080/"
    },
    "id": "ODcvGYQDLamn",
    "outputId": "ae4fd40a-c46c-4fe8-c205-dbb8928adf68"
   },
   "outputs": [
    {
     "name": "stdout",
     "output_type": "stream",
     "text": [
      "       warehouse_id  product_id        date       id\n",
      "181             0.0     71220.0  2020-11-27    191.0\n",
      "30017           1.0     71220.0  2020-11-27  32102.0\n",
      "30551           1.0     71455.0  2020-11-27  32660.0\n",
      "       warehouse_id  product_id        date       id\n",
      "92              0.0     71165.0  2021-04-03     92.0\n",
      "29894           1.0     71165.0  2021-04-03  31961.0\n",
      "179             0.0     71215.0  2021-04-03    186.0\n",
      "181      1.0\n",
      "30017    1.0\n",
      "30551    1.0\n",
      "Name: quantity, dtype: float64\n",
      "92       7.0\n",
      "29894    3.0\n",
      "179      1.0\n",
      "Name: quantity, dtype: float64\n"
     ]
    }
   ],
   "source": [
    "# n = 5  # 2021-04-08 - 5 = 2021-04-03 -- Граница\n",
    "X_train = train_data.where(train_data['date'] < '2021-04-03').dropna().drop('quantity', axis=1)\n",
    "y_train = train_data.where(train_data['date'] < '2021-04-03').dropna()['quantity']\n",
    "X_test = train_data.where(train_data['date'] >= '2021-04-03').dropna().drop('quantity', axis=1)\n",
    "y_test = train_data.where(train_data['date'] >= '2021-04-03').dropna()['quantity']\n",
    "print(X_train.head(3))\n",
    "print(X_test.head(3))\n",
    "print(y_train.head(3))\n",
    "print(y_test.head(3))"
   ]
  },
  {
   "cell_type": "markdown",
   "metadata": {
    "id": "Tdp6u4Xr9pih"
   },
   "source": [
    "## Первая идея: дни недели"
   ]
  },
  {
   "cell_type": "markdown",
   "metadata": {
    "id": "-cgXVZaf-HLb"
   },
   "source": [
    "### Суть идеи заключается в том, чтобы в каждом магазине найти некие зависимости в соотношении проданный товар/день недели, далее на основе этих зависимостей седлать прогноз"
   ]
  },
  {
   "cell_type": "markdown",
   "metadata": {
    "id": "c5zncwz3E-rK"
   },
   "source": [
    "\n",
    "\n",
    "---\n",
    "\n",
    "\n",
    "\n"
   ]
  },
  {
   "cell_type": "markdown",
   "metadata": {
    "id": "xjes_eBAE3N9"
   },
   "source": [
    "### Для начала создадим словарь: дата - день недели"
   ]
  },
  {
   "cell_type": "code",
   "execution_count": 12,
   "metadata": {
    "colab": {
     "base_uri": "https://localhost:8080/"
    },
    "id": "sv86LFbfubPK",
    "outputId": "48e85385-3cff-460c-dfe0-37ce94bdc9c7"
   },
   "outputs": [
    {
     "name": "stdout",
     "output_type": "stream",
     "text": [
      "{'2020-11-27': 'Friday', '2020-11-28': 'Saturday', '2020-11-29': 'Sunday', '2020-11-30': 'Monday', '2020-12-01': 'Tuesday', '2020-12-02': 'Wednesday', '2020-12-03': 'Thursday', '2020-12-04': 'Friday', '2020-12-05': 'Saturday', '2020-12-06': 'Sunday', '2020-12-07': 'Monday', '2020-12-08': 'Tuesday', '2020-12-09': 'Wednesday', '2020-12-10': 'Thursday', '2020-12-11': 'Friday', '2020-12-12': 'Saturday', '2020-12-13': 'Sunday', '2020-12-14': 'Monday', '2020-12-15': 'Tuesday', '2020-12-16': 'Wednesday', '2020-12-17': 'Thursday', '2020-12-18': 'Friday', '2020-12-19': 'Saturday', '2020-12-20': 'Sunday', '2020-12-21': 'Monday', '2020-12-22': 'Tuesday', '2020-12-23': 'Wednesday', '2020-12-24': 'Thursday', '2020-12-25': 'Friday', '2020-12-26': 'Saturday', '2020-12-27': 'Sunday', '2020-12-28': 'Monday', '2020-12-29': 'Tuesday', '2020-12-30': 'Wednesday', '2020-12-31': 'Thursday', '2021-01-01': 'Friday', '2021-01-02': 'Saturday', '2021-01-03': 'Sunday', '2021-01-04': 'Monday', '2021-01-05': 'Tuesday', '2021-01-06': 'Wednesday', '2021-01-07': 'Thursday', '2021-01-08': 'Friday', '2021-01-09': 'Saturday', '2021-01-10': 'Sunday', '2021-01-11': 'Monday', '2021-01-12': 'Tuesday', '2021-01-13': 'Wednesday', '2021-01-14': 'Thursday', '2021-01-15': 'Friday', '2021-01-16': 'Saturday', '2021-01-17': 'Sunday', '2021-01-18': 'Monday', '2021-01-19': 'Tuesday', '2021-01-20': 'Wednesday', '2021-01-21': 'Thursday', '2021-01-22': 'Friday', '2021-01-23': 'Saturday', '2021-01-24': 'Sunday', '2021-01-25': 'Monday', '2021-01-26': 'Tuesday', '2021-01-27': 'Wednesday', '2021-01-28': 'Thursday', '2021-01-29': 'Friday', '2021-01-30': 'Saturday', '2021-01-31': 'Sunday', '2021-02-01': 'Monday', '2021-02-02': 'Tuesday', '2021-02-03': 'Wednesday', '2021-02-04': 'Thursday', '2021-02-05': 'Friday', '2021-02-06': 'Saturday', '2021-02-07': 'Sunday', '2021-02-08': 'Monday', '2021-02-09': 'Tuesday', '2021-02-10': 'Wednesday', '2021-02-11': 'Thursday', '2021-02-12': 'Friday', '2021-02-13': 'Saturday', '2021-02-14': 'Sunday', '2021-02-15': 'Monday', '2021-02-16': 'Tuesday', '2021-02-17': 'Wednesday', '2021-02-18': 'Thursday', '2021-02-19': 'Friday', '2021-02-20': 'Saturday', '2021-02-21': 'Sunday', '2021-02-22': 'Monday', '2021-02-23': 'Tuesday', '2021-02-24': 'Wednesday', '2021-02-25': 'Thursday', '2021-02-26': 'Friday', '2021-02-27': 'Saturday', '2021-02-28': 'Sunday', '2021-03-01': 'Monday', '2021-03-02': 'Tuesday', '2021-03-03': 'Wednesday', '2021-03-04': 'Thursday', '2021-03-05': 'Friday', '2021-03-06': 'Saturday', '2021-03-07': 'Sunday', '2021-03-08': 'Monday', '2021-03-09': 'Tuesday', '2021-03-10': 'Wednesday', '2021-03-11': 'Thursday', '2021-03-12': 'Friday', '2021-03-13': 'Saturday', '2021-03-14': 'Sunday', '2021-03-15': 'Monday', '2021-03-16': 'Tuesday', '2021-03-17': 'Wednesday', '2021-03-18': 'Thursday', '2021-03-19': 'Friday', '2021-03-20': 'Saturday', '2021-03-21': 'Sunday', '2021-03-22': 'Monday', '2021-03-23': 'Tuesday', '2021-03-24': 'Wednesday', '2021-03-25': 'Thursday', '2021-03-26': 'Friday', '2021-03-27': 'Saturday', '2021-03-28': 'Sunday', '2021-03-29': 'Monday', '2021-03-30': 'Tuesday', '2021-03-31': 'Wednesday', '2021-04-01': 'Thursday', '2021-04-02': 'Friday', '2021-04-03': 'Saturday', '2021-04-04': 'Sunday', '2021-04-05': 'Monday', '2021-04-06': 'Tuesday', '2021-04-07': 'Wednesday', '2021-04-08': 'Thursday'}\n"
     ]
    }
   ],
   "source": [
    "data_ = pd.Series(pd.to_datetime(train_data['date'].unique()))\n",
    "\n",
    "# print(data_, type(data_))\n",
    "data_week = data_.dt.day_name()\n",
    "# print(data_week)\n",
    "date2week = dict(zip(train_data['date'].unique(), data_week))\n",
    "print(date2week)"
   ]
  },
  {
   "cell_type": "markdown",
   "metadata": {
    "id": "Rk4PKxmpRG2C"
   },
   "source": [
    "### Далее создадим словарь, где key = warehouse_id + product_id, а value = новый словарь с key = день недели и value = массив числа продаж"
   ]
  },
  {
   "cell_type": "code",
   "execution_count": 13,
   "metadata": {
    "colab": {
     "base_uri": "https://localhost:8080/"
    },
    "id": "zyOv4TJESB1w",
    "outputId": "8008bacd-c003-4b10-dfa6-0c1cc4010a12"
   },
   "outputs": [
    {
     "name": "stderr",
     "output_type": "stream",
     "text": [
      "73665it [00:00, 201719.27it/s]\n"
     ]
    }
   ],
   "source": [
    "my_dict = {}\n",
    "# k = 0\n",
    "for product_info, product_quantity in tqdm(zip(X_train[['warehouse_id', 'product_id', 'date']].values, y_train)):\n",
    "    '''\n",
    "    product_info[0] - warehouse_id - идентификатор магазина\n",
    "    product_info[1] - product_id - идентификатор продукта\n",
    "    product_info[2] - date - дата\n",
    "    product_quantity - quantity - кол-во продаж\n",
    "    '''\n",
    "    my_id = str(product_info[0]) + str(product_info[1])\n",
    "    # print(my_id, product_info[0], product_info[1])\n",
    "    if my_id in my_dict:\n",
    "        if date2week[product_info[2]] in my_dict[my_id]:\n",
    "            my_dict[my_id][date2week[product_info[2]]].append(product_quantity)\n",
    "        else:\n",
    "             my_dict[my_id][date2week[product_info[2]]] = [product_quantity]\n",
    "    else:\n",
    "        my_dict[my_id] = {}\n",
    "        my_dict[my_id][date2week[product_info[2]]] = [product_quantity]\n",
    "# my_dict"
   ]
  },
  {
   "cell_type": "markdown",
   "metadata": {
    "id": "UuCSUhEKW7ey"
   },
   "source": [
    "### Теперь для тестовой выборки будем смотреть в этот словарь и искать ответ в зависимости от данных словаря"
   ]
  },
  {
   "cell_type": "code",
   "execution_count": 14,
   "metadata": {
    "colab": {
     "base_uri": "https://localhost:8080/"
    },
    "id": "7B_2-NDfubRJ",
    "outputId": "ca7414ee-338a-41d3-81fc-fee435ef6948"
   },
   "outputs": [
    {
     "name": "stderr",
     "output_type": "stream",
     "text": [
      "100%|██████████| 4402/4402 [00:00<00:00, 148176.03it/s]"
     ]
    },
    {
     "name": "stdout",
     "output_type": "stream",
     "text": [
      "\n",
      "3550 852\n",
      "0.7716946842344389\n",
      "0.726715129486597\n",
      "0.8555202180826896\n"
     ]
    },
    {
     "name": "stderr",
     "output_type": "stream",
     "text": [
      "\n"
     ]
    }
   ],
   "source": [
    "answer_round, answer_floor, answer_ceil = [], [], []\n",
    "nice_product, bad_product = 0, 0\n",
    "for product_info in tqdm(X_test[['warehouse_id', 'product_id', 'date']].values):\n",
    "    my_id_first = str(product_info[0]) + str(product_info[1])\n",
    "    my_id_second = date2week[product_info[2]]\n",
    "    try:\n",
    "        my_array = my_dict[my_id_first][my_id_second]  # Если данных нет в словаре \n",
    "        nice_product += 1\n",
    "    except:\n",
    "        bad_product += 1\n",
    "        my_array = []\n",
    "    if len(my_array) < 1:\n",
    "        answer_round.append(1)\n",
    "        answer_floor.append(1)\n",
    "        answer_ceil.append(1)\n",
    "    else:  # Попробуем среднее\n",
    "        answer_round.append(round(sum(my_array) / len(my_array)))\n",
    "        answer_floor.append(math.floor(sum(my_array) / len(my_array)))\n",
    "        answer_ceil.append(math.ceil(sum(my_array) / len(my_array)))\n",
    "print()\n",
    "print(nice_product, bad_product)\n",
    "# print(len(answer), len(y_test))\n",
    "print(mean_absolute_error(y_test, answer_round))\n",
    "print(mean_absolute_error(y_test, answer_floor))\n",
    "print(mean_absolute_error(y_test, answer_ceil))"
   ]
  },
  {
   "cell_type": "markdown",
   "metadata": {
    "id": "FccBgHAZcV2T"
   },
   "source": [
    "### Показывает достаточно неплохой результат. Причём округление в большую сторону даёт лучший результат. Его и буду использовать. "
   ]
  },
  {
   "cell_type": "code",
   "execution_count": 15,
   "metadata": {
    "colab": {
     "base_uri": "https://localhost:8080/"
    },
    "id": "_pPOhq_hgbwX",
    "outputId": "3694f845-33ec-41b5-ffdd-914555c0b6c4"
   },
   "outputs": [
    {
     "name": "stdout",
     "output_type": "stream",
     "text": [
      "{'2021-04-09': 'Friday', '2021-04-10': 'Saturday', '2021-04-11': 'Sunday', '2021-04-12': 'Monday', '2021-04-13': 'Tuesday', '2021-04-14': 'Wednesday', '2021-04-15': 'Thursday'}\n"
     ]
    }
   ],
   "source": [
    "data_ = pd.Series(pd.to_datetime(test_data['date'].unique()))\n",
    "\n",
    "# print(data_, type(data_))\n",
    "data_week = data_.dt.day_name()\n",
    "# print(data_week)\n",
    "date2week = dict(zip(test_data['date'].unique(), data_week))\n",
    "print(date2week)"
   ]
  },
  {
   "cell_type": "code",
   "execution_count": 16,
   "metadata": {
    "colab": {
     "base_uri": "https://localhost:8080/"
    },
    "id": "gB6zTGxwubTN",
    "outputId": "2a71813e-444a-4bb2-8c95-6240b78d4a0a"
   },
   "outputs": [
    {
     "name": "stderr",
     "output_type": "stream",
     "text": [
      "100%|██████████| 46032/46032 [00:00<00:00, 251641.84it/s]"
     ]
    },
    {
     "name": "stdout",
     "output_type": "stream",
     "text": [
      "\n",
      "25975 20057\n",
      "46032 46032\n"
     ]
    },
    {
     "name": "stderr",
     "output_type": "stream",
     "text": [
      "\n"
     ]
    }
   ],
   "source": [
    "answer_ceil = []\n",
    "nice_product, bad_product = 0, 0\n",
    "data_2 = pd.Series(pd.to_datetime(test_data['date'].unique()))\n",
    "for product_info in tqdm(test_data[['warehouse_id', 'product_id', 'date']].values):\n",
    "    #print()\n",
    "    #print(product_info)\n",
    "    #break\n",
    "    my_id_first = str(float(product_info[0])) + str(float(product_info[1]))\n",
    "    my_id_second = date2week[product_info[2]]\n",
    "    try:\n",
    "        my_array = my_dict[my_id_first][my_id_second]  # Если данных нет в словаре \n",
    "        nice_product += 1\n",
    "    except:\n",
    "        bad_product += 1\n",
    "        my_array = []\n",
    "    if len(my_array) < 3:  # Если товар в определённый день недели купили пару раз, то логично предположить, что его не купят вовсе\n",
    "        answer_ceil.append(0)\n",
    "\n",
    "    else:  \n",
    "        answer_ceil.append(math.ceil(sum(my_array) / len(my_array)))\n",
    "print()\n",
    "print(nice_product, bad_product)\n",
    "print(len(answer_ceil), len(simple_data))\n"
   ]
  },
  {
   "cell_type": "code",
   "execution_count": 17,
   "metadata": {
    "id": "wbL0HToBubVa"
   },
   "outputs": [],
   "source": [
    "Result_table = pd.read_csv(\"/content/drive/MyDrive/Sales_Forecasting/sub.csv\")\n",
    "Result_table['quantity'] = pd.Series(answer_ceil)\n",
    "Result_table[[\"id\", \"quantity\"]].to_csv(\"FINAL.csv\", index=False)"
   ]
  },
  {
   "cell_type": "markdown",
   "metadata": {
    "id": "AeYKuyaYnk6C"
   },
   "source": [
    "### Score = 0.46886 \n",
    "### Мягко говоря - ужасно...\n"
   ]
  },
  {
   "cell_type": "markdown",
   "metadata": {
    "id": "8DSVQhTQof7T"
   },
   "source": [
    "## Выводы после первой идеи:\n",
    "\n",
    "* Корявая обработка нулей, нужно исправлять\n",
    "* На основе количества продаж в определённые дни нужно пытаться делать что-то более нетривиальное, чем просто среднее\n",
    "* Необходимо изменить test / train выборку, ибо нет учёта нулей\n",
    "\n"
   ]
  },
  {
   "cell_type": "markdown",
   "metadata": {
    "id": "zyv8GDPLCLyQ"
   },
   "source": [
    "### Начнём исправляться с заполнения нашей выборки нулями\n",
    "Идея такая: если в определённый день информации о товаре нет, то значит его купили 0 раз. Это поле должно храниться в выборке."
   ]
  },
  {
   "cell_type": "code",
   "execution_count": 18,
   "metadata": {
    "colab": {
     "base_uri": "https://localhost:8080/"
    },
    "id": "qTw6z9bihtX0",
    "outputId": "7d8135aa-6331-40c3-80a9-cfa31705e592"
   },
   "outputs": [
    {
     "name": "stdout",
     "output_type": "stream",
     "text": [
      "3288 133 2 874608\n"
     ]
    }
   ],
   "source": [
    "product_id = train_data['product_id'].unique()\n",
    "date = train_data['date'].unique()\n",
    "warehouse_id = train_data['warehouse_id'].unique()\n",
    "print(len(product_id), len(date), len(warehouse_id), len(product_id) * len(date) * len(warehouse_id))"
   ]
  },
  {
   "cell_type": "markdown",
   "metadata": {
    "id": "qy0jyzwersSk"
   },
   "source": [
    "### Значит у нас должно быть 874608 записей. Не будем вставлять недостоющие записи в таблицу, а сразу будем составлять словарик. Он будет таким же, но более разряженее."
   ]
  },
  {
   "cell_type": "code",
   "execution_count": 19,
   "metadata": {
    "colab": {
     "base_uri": "https://localhost:8080/"
    },
    "id": "28OjqYDNqHSB",
    "outputId": "de363302-ba0f-4397-f5e1-1a0069a30c0b"
   },
   "outputs": [
    {
     "name": "stderr",
     "output_type": "stream",
     "text": [
      "100%|██████████| 78067/78067 [00:00<00:00, 430155.21it/s]"
     ]
    },
    {
     "name": "stdout",
     "output_type": "stream",
     "text": [
      "\n",
      "78067\n"
     ]
    },
    {
     "name": "stderr",
     "output_type": "stream",
     "text": [
      "\n"
     ]
    }
   ],
   "source": [
    "my_current_dict = {}\n",
    "for product_info in tqdm(train_data[['warehouse_id', 'product_id', 'date', 'quantity']].values):\n",
    "    '''\n",
    "    product_info[0] - warehouse_id - идентификатор магазина\n",
    "    product_info[1] - product_id - идентификатор продукта\n",
    "    product_info[2] - date - дата\n",
    "    product_info[3] - quantity - кол-во продаж\n",
    "    '''\n",
    "    my_id = str(product_info[0]) + str(product_info[1]) + str(product_info[2])\n",
    "    my_current_dict[my_id] = product_info[3]\n",
    "print()\n",
    "print(len(my_current_dict))"
   ]
  },
  {
   "cell_type": "markdown",
   "metadata": {
    "id": "AV7MRcZUt5y5"
   },
   "source": [
    "### Информация есть менее чем о 10% товаров."
   ]
  },
  {
   "cell_type": "code",
   "execution_count": 20,
   "metadata": {
    "colab": {
     "base_uri": "https://localhost:8080/"
    },
    "id": "3T5A7F2Azxz3",
    "outputId": "a75760b0-90c0-4896-82e7-e75237dc7086"
   },
   "outputs": [
    {
     "name": "stdout",
     "output_type": "stream",
     "text": [
      "{'2020-11-27': 'Friday', '2020-11-28': 'Saturday', '2020-11-29': 'Sunday', '2020-11-30': 'Monday', '2020-12-01': 'Tuesday', '2020-12-02': 'Wednesday', '2020-12-03': 'Thursday', '2020-12-04': 'Friday', '2020-12-05': 'Saturday', '2020-12-06': 'Sunday', '2020-12-07': 'Monday', '2020-12-08': 'Tuesday', '2020-12-09': 'Wednesday', '2020-12-10': 'Thursday', '2020-12-11': 'Friday', '2020-12-12': 'Saturday', '2020-12-13': 'Sunday', '2020-12-14': 'Monday', '2020-12-15': 'Tuesday', '2020-12-16': 'Wednesday', '2020-12-17': 'Thursday', '2020-12-18': 'Friday', '2020-12-19': 'Saturday', '2020-12-20': 'Sunday', '2020-12-21': 'Monday', '2020-12-22': 'Tuesday', '2020-12-23': 'Wednesday', '2020-12-24': 'Thursday', '2020-12-25': 'Friday', '2020-12-26': 'Saturday', '2020-12-27': 'Sunday', '2020-12-28': 'Monday', '2020-12-29': 'Tuesday', '2020-12-30': 'Wednesday', '2020-12-31': 'Thursday', '2021-01-01': 'Friday', '2021-01-02': 'Saturday', '2021-01-03': 'Sunday', '2021-01-04': 'Monday', '2021-01-05': 'Tuesday', '2021-01-06': 'Wednesday', '2021-01-07': 'Thursday', '2021-01-08': 'Friday', '2021-01-09': 'Saturday', '2021-01-10': 'Sunday', '2021-01-11': 'Monday', '2021-01-12': 'Tuesday', '2021-01-13': 'Wednesday', '2021-01-14': 'Thursday', '2021-01-15': 'Friday', '2021-01-16': 'Saturday', '2021-01-17': 'Sunday', '2021-01-18': 'Monday', '2021-01-19': 'Tuesday', '2021-01-20': 'Wednesday', '2021-01-21': 'Thursday', '2021-01-22': 'Friday', '2021-01-23': 'Saturday', '2021-01-24': 'Sunday', '2021-01-25': 'Monday', '2021-01-26': 'Tuesday', '2021-01-27': 'Wednesday', '2021-01-28': 'Thursday', '2021-01-29': 'Friday', '2021-01-30': 'Saturday', '2021-01-31': 'Sunday', '2021-02-01': 'Monday', '2021-02-02': 'Tuesday', '2021-02-03': 'Wednesday', '2021-02-04': 'Thursday', '2021-02-05': 'Friday', '2021-02-06': 'Saturday', '2021-02-07': 'Sunday', '2021-02-08': 'Monday', '2021-02-09': 'Tuesday', '2021-02-10': 'Wednesday', '2021-02-11': 'Thursday', '2021-02-12': 'Friday', '2021-02-13': 'Saturday', '2021-02-14': 'Sunday', '2021-02-15': 'Monday', '2021-02-16': 'Tuesday', '2021-02-17': 'Wednesday', '2021-02-18': 'Thursday', '2021-02-19': 'Friday', '2021-02-20': 'Saturday', '2021-02-21': 'Sunday', '2021-02-22': 'Monday', '2021-02-23': 'Tuesday', '2021-02-24': 'Wednesday', '2021-02-25': 'Thursday', '2021-02-26': 'Friday', '2021-02-27': 'Saturday', '2021-02-28': 'Sunday', '2021-03-01': 'Monday', '2021-03-02': 'Tuesday', '2021-03-03': 'Wednesday', '2021-03-04': 'Thursday', '2021-03-05': 'Friday', '2021-03-06': 'Saturday', '2021-03-07': 'Sunday', '2021-03-08': 'Monday', '2021-03-09': 'Tuesday', '2021-03-10': 'Wednesday', '2021-03-11': 'Thursday', '2021-03-12': 'Friday', '2021-03-13': 'Saturday', '2021-03-14': 'Sunday', '2021-03-15': 'Monday', '2021-03-16': 'Tuesday', '2021-03-17': 'Wednesday', '2021-03-18': 'Thursday', '2021-03-19': 'Friday', '2021-03-20': 'Saturday', '2021-03-21': 'Sunday', '2021-03-22': 'Monday', '2021-03-23': 'Tuesday', '2021-03-24': 'Wednesday', '2021-03-25': 'Thursday', '2021-03-26': 'Friday', '2021-03-27': 'Saturday', '2021-03-28': 'Sunday', '2021-03-29': 'Monday', '2021-03-30': 'Tuesday', '2021-03-31': 'Wednesday', '2021-04-01': 'Thursday', '2021-04-02': 'Friday', '2021-04-03': 'Saturday', '2021-04-04': 'Sunday', '2021-04-05': 'Monday', '2021-04-06': 'Tuesday', '2021-04-07': 'Wednesday', '2021-04-08': 'Thursday'}\n"
     ]
    }
   ],
   "source": [
    "data_ = pd.Series(pd.to_datetime(train_data['date'].unique()))\n",
    "\n",
    "# print(data_, type(data_))\n",
    "data_week = data_.dt.day_name()\n",
    "# print(data_week)\n",
    "date2week = dict(zip(train_data['date'].unique(), data_week))\n",
    "print(date2week)"
   ]
  },
  {
   "cell_type": "code",
   "execution_count": 21,
   "metadata": {
    "colab": {
     "base_uri": "https://localhost:8080/"
    },
    "id": "48aGjp41sQMw",
    "outputId": "2f8b41ed-ebc7-412a-8631-5070fcea6270"
   },
   "outputs": [
    {
     "name": "stderr",
     "output_type": "stream",
     "text": [
      "100%|██████████| 3288/3288 [00:01<00:00, 2289.80it/s]\n",
      "100%|██████████| 3288/3288 [00:01<00:00, 2281.97it/s]"
     ]
    },
    {
     "name": "stdout",
     "output_type": "stream",
     "text": [
      "\n",
      "78067\n"
     ]
    },
    {
     "name": "stderr",
     "output_type": "stream",
     "text": [
      "\n"
     ]
    }
   ],
   "source": [
    "my_huge_dict = {}\n",
    "nice_product = 0\n",
    "for id_warehouse in warehouse_id:\n",
    "    for id_product in tqdm(product_id):\n",
    "        for id_date in date:\n",
    "            my_id = str(id_warehouse) + str(id_product) + str(id_date)\n",
    "            if my_id in my_current_dict:\n",
    "                nice_product += 1\n",
    "                if id_warehouse in my_huge_dict:\n",
    "                    if id_product in my_huge_dict[id_warehouse]:\n",
    "                        if date2week[id_date] in my_huge_dict[id_warehouse][id_product]:\n",
    "                            my_huge_dict[id_warehouse][id_product][date2week[id_date]].append(my_current_dict[my_id])\n",
    "                        else:\n",
    "                            my_huge_dict[id_warehouse][id_product][date2week[id_date]] = [my_current_dict[my_id]]\n",
    "                    else:\n",
    "                        my_huge_dict[id_warehouse][id_product] = {}\n",
    "                        my_huge_dict[id_warehouse][id_product][date2week[id_date]] = [my_current_dict[my_id]]\n",
    "                else:\n",
    "                    my_huge_dict[id_warehouse] = {}\n",
    "                    my_huge_dict[id_warehouse][id_product] = {}\n",
    "                    my_huge_dict[id_warehouse][id_product][date2week[id_date]] = [my_current_dict[my_id]]\n",
    "            else:\n",
    "                if id_warehouse in my_huge_dict:\n",
    "                    if id_product in my_huge_dict[id_warehouse]:\n",
    "                        if date2week[id_date] in my_huge_dict[id_warehouse][id_product]:\n",
    "                            my_huge_dict[id_warehouse][id_product][date2week[id_date]].append(0)\n",
    "                        else:\n",
    "                            my_huge_dict[id_warehouse][id_product][date2week[id_date]] = [0]\n",
    "                    else:\n",
    "                        my_huge_dict[id_warehouse][id_product] = {}\n",
    "                        my_huge_dict[id_warehouse][id_product][date2week[id_date]] = [0]\n",
    "                else:\n",
    "                    my_huge_dict[id_warehouse] = {}\n",
    "                    my_huge_dict[id_warehouse][id_product] = {}\n",
    "                    my_huge_dict[id_warehouse][id_product][date2week[id_date]] = [0]\n",
    "print()\n",
    "print(nice_product)"
   ]
  },
  {
   "cell_type": "markdown",
   "metadata": {
    "id": "6kl1nGigxro3"
   },
   "source": [
    "### Проверим себя"
   ]
  },
  {
   "cell_type": "code",
   "execution_count": 22,
   "metadata": {
    "colab": {
     "base_uri": "https://localhost:8080/"
    },
    "id": "qjdZF2gHvtsT",
    "outputId": "25cfe6ab-7d68-4574-c8d7-79218a6c56e3"
   },
   "outputs": [
    {
     "name": "stderr",
     "output_type": "stream",
     "text": [
      "100%|██████████| 3288/3288 [00:00<00:00, 3373.05it/s]\n",
      "100%|██████████| 3288/3288 [00:00<00:00, 3394.96it/s]"
     ]
    },
    {
     "name": "stdout",
     "output_type": "stream",
     "text": [
      "\n",
      "874608\n"
     ]
    },
    {
     "name": "stderr",
     "output_type": "stream",
     "text": [
      "\n"
     ]
    }
   ],
   "source": [
    "amount = 0\n",
    "set_amount = set()\n",
    "for id_warehouse in warehouse_id:\n",
    "    for id_product in tqdm(product_id):\n",
    "        for id_date in date:\n",
    "            if str(id_warehouse) + str(id_product) + str(date2week[id_date]) not in set_amount:\n",
    "                amount += len(my_huge_dict[id_warehouse][id_product][date2week[id_date]])\n",
    "                set_amount.add(str(id_warehouse) + str(id_product) + str(date2week[id_date]))\n",
    "print()\n",
    "print(amount)"
   ]
  },
  {
   "cell_type": "markdown",
   "metadata": {
    "id": "h3QJb0d11Ica"
   },
   "source": [
    "### Размеры совпадают, теперь можно делить на train / test. За границу возьмём 2021-04-01, ровно 7 дней"
   ]
  },
  {
   "cell_type": "code",
   "execution_count": 23,
   "metadata": {
    "colab": {
     "base_uri": "https://localhost:8080/"
    },
    "id": "RP4xI6P_sQKD",
    "outputId": "a5edd149-4bc9-43e4-97b3-b89dbed34021"
   },
   "outputs": [
    {
     "name": "stderr",
     "output_type": "stream",
     "text": [
      "100%|██████████| 3288/3288 [00:01<00:00, 2056.03it/s]\n",
      "100%|██████████| 3288/3288 [00:01<00:00, 2237.93it/s]"
     ]
    },
    {
     "name": "stdout",
     "output_type": "stream",
     "text": [
      "\n",
      "78067\n"
     ]
    },
    {
     "name": "stderr",
     "output_type": "stream",
     "text": [
      "\n"
     ]
    }
   ],
   "source": [
    "# Понимаю, что проделываю такую же работу, что и пару ячеек выше. Но хочу сделать акцент на понимании кода\n",
    "my_huge_dict_train = {}\n",
    "my_huge_dict_test = {}\n",
    "nice_product = 0\n",
    "for id_warehouse in warehouse_id:\n",
    "    for id_product in tqdm(product_id):\n",
    "        for id_date in date:\n",
    "            if id_date > '2021-04-01':\n",
    "                my_id = str(id_warehouse) + str(id_product) + str(id_date)\n",
    "                if my_id in my_current_dict:\n",
    "                    nice_product += 1\n",
    "                    if id_warehouse in my_huge_dict_test:\n",
    "                        if id_product in my_huge_dict_test[id_warehouse]:\n",
    "                            if date2week[id_date] in my_huge_dict_test[id_warehouse][id_product]:\n",
    "                                my_huge_dict_test[id_warehouse][id_product][date2week[id_date]].append(my_current_dict[my_id])\n",
    "                            else:\n",
    "                                my_huge_dict_test[id_warehouse][id_product][date2week[id_date]] = [my_current_dict[my_id]]\n",
    "                        else:\n",
    "                            my_huge_dict_test[id_warehouse][id_product] = {}\n",
    "                            my_huge_dict_test[id_warehouse][id_product][date2week[id_date]] = [my_current_dict[my_id]]\n",
    "                    else:\n",
    "                        my_huge_dict_test[id_warehouse] = {}\n",
    "                        my_huge_dict_test[id_warehouse][id_product] = {}\n",
    "                        my_huge_dict_test[id_warehouse][id_product][date2week[id_date]] = [my_current_dict[my_id]]\n",
    "                else:\n",
    "                    if id_warehouse in my_huge_dict_test:\n",
    "                        if id_product in my_huge_dict_test[id_warehouse]:\n",
    "                            if date2week[id_date] in my_huge_dict_test[id_warehouse][id_product]:\n",
    "                                my_huge_dict_test[id_warehouse][id_product][date2week[id_date]].append(0)\n",
    "                            else:\n",
    "                                my_huge_dict_test[id_warehouse][id_product][date2week[id_date]] = [0]\n",
    "                        else:\n",
    "                            my_huge_dict_test[id_warehouse][id_product] = {}\n",
    "                            my_huge_dict_test[id_warehouse][id_product][date2week[id_date]] = [0]\n",
    "                    else:\n",
    "                        my_huge_dict_test[id_warehouse] = {}\n",
    "                        my_huge_dict_test[id_warehouse][id_product] = {}\n",
    "                        my_huge_dict_test[id_warehouse][id_product][date2week[id_date]] = [0]\n",
    "            else:\n",
    "                my_id = str(id_warehouse) + str(id_product) + str(id_date)\n",
    "                if my_id in my_current_dict:\n",
    "                    nice_product += 1\n",
    "                    if id_warehouse in my_huge_dict_train:\n",
    "                        if id_product in my_huge_dict_train[id_warehouse]:\n",
    "                            if date2week[id_date] in my_huge_dict_train[id_warehouse][id_product]:\n",
    "                                my_huge_dict_train[id_warehouse][id_product][date2week[id_date]].append(my_current_dict[my_id])\n",
    "                            else:\n",
    "                                my_huge_dict_train[id_warehouse][id_product][date2week[id_date]] = [my_current_dict[my_id]]\n",
    "                        else:\n",
    "                            my_huge_dict_train[id_warehouse][id_product] = {}\n",
    "                            my_huge_dict_train[id_warehouse][id_product][date2week[id_date]] = [my_current_dict[my_id]]\n",
    "                    else:\n",
    "                        my_huge_dict_train[id_warehouse] = {}\n",
    "                        my_huge_dict_train[id_warehouse][id_product] = {}\n",
    "                        my_huge_dict_train[id_warehouse][id_product][date2week[id_date]] = [my_current_dict[my_id]]\n",
    "                else:\n",
    "                    if id_warehouse in my_huge_dict_train:\n",
    "                        if id_product in my_huge_dict_train[id_warehouse]:\n",
    "                            if date2week[id_date] in my_huge_dict_train[id_warehouse][id_product]:\n",
    "                                my_huge_dict_train[id_warehouse][id_product][date2week[id_date]].append(0)\n",
    "                            else:\n",
    "                                my_huge_dict_train[id_warehouse][id_product][date2week[id_date]] = [0]\n",
    "                        else:\n",
    "                            my_huge_dict_train[id_warehouse][id_product] = {}\n",
    "                            my_huge_dict_train[id_warehouse][id_product][date2week[id_date]] = [0]\n",
    "                    else:\n",
    "                        my_huge_dict_train[id_warehouse] = {}\n",
    "                        my_huge_dict_train[id_warehouse][id_product] = {}\n",
    "                        my_huge_dict_train[id_warehouse][id_product][date2week[id_date]] = [0]\n",
    "print()\n",
    "print(nice_product)"
   ]
  },
  {
   "cell_type": "code",
   "execution_count": 24,
   "metadata": {
    "colab": {
     "base_uri": "https://localhost:8080/"
    },
    "id": "fhMKSBHVsQHk",
    "outputId": "bb7b3a73-a225-4f13-bae9-923e9528f644"
   },
   "outputs": [
    {
     "name": "stderr",
     "output_type": "stream",
     "text": [
      "100%|██████████| 3288/3288 [00:00<00:00, 3399.74it/s]\n",
      "100%|██████████| 3288/3288 [00:00<00:00, 3404.00it/s]"
     ]
    },
    {
     "name": "stdout",
     "output_type": "stream",
     "text": [
      "\n",
      "828576\n"
     ]
    },
    {
     "name": "stderr",
     "output_type": "stream",
     "text": [
      "\n"
     ]
    }
   ],
   "source": [
    "amount = 0\n",
    "set_amount = set()\n",
    "for id_warehouse in warehouse_id:\n",
    "    for id_product in tqdm(product_id):\n",
    "        for id_date in date:\n",
    "            if str(id_warehouse) + str(id_product) + str(date2week[id_date]) not in set_amount:\n",
    "                amount += len(my_huge_dict_train[id_warehouse][id_product][date2week[id_date]])\n",
    "                set_amount.add(str(id_warehouse) + str(id_product) + str(date2week[id_date]))\n",
    "print()\n",
    "print(amount)"
   ]
  },
  {
   "cell_type": "code",
   "execution_count": 25,
   "metadata": {
    "colab": {
     "base_uri": "https://localhost:8080/"
    },
    "id": "dDwgQDbHsQFS",
    "outputId": "b83a6316-8cae-4b06-cff3-a991b636dce5"
   },
   "outputs": [
    {
     "name": "stderr",
     "output_type": "stream",
     "text": [
      "100%|██████████| 3288/3288 [00:00<00:00, 3491.21it/s]\n",
      "100%|██████████| 3288/3288 [00:00<00:00, 3356.73it/s]"
     ]
    },
    {
     "name": "stdout",
     "output_type": "stream",
     "text": [
      "\n",
      "46032\n"
     ]
    },
    {
     "name": "stderr",
     "output_type": "stream",
     "text": [
      "\n"
     ]
    }
   ],
   "source": [
    "amount = 0\n",
    "set_amount = set()\n",
    "for id_warehouse in warehouse_id:\n",
    "    for id_product in tqdm(product_id):\n",
    "        for id_date in date:\n",
    "            if str(id_warehouse) + str(id_product) + str(date2week[id_date]) not in set_amount:\n",
    "                amount += 1  # len(my_huge_dict_test[id_warehouse][id_product][date2week[id_date]])  # Работает, так как у нас всегда массив из одного числа\n",
    "                set_amount.add(str(id_warehouse) + str(id_product) + str(date2week[id_date]))\n",
    "print()\n",
    "print(amount)"
   ]
  },
  {
   "cell_type": "markdown",
   "metadata": {
    "id": "iFsst4df41Nk"
   },
   "source": [
    "### Тестовая выборка занимает всего 5%. Это нужно будет учитывать!"
   ]
  },
  {
   "cell_type": "code",
   "execution_count": 26,
   "metadata": {
    "colab": {
     "base_uri": "https://localhost:8080/"
    },
    "id": "_2AW7RUusQDN",
    "outputId": "8a4c7ad6-760c-4202-db22-4e2a087e461c"
   },
   "outputs": [
    {
     "name": "stderr",
     "output_type": "stream",
     "text": [
      "100%|██████████| 3288/3288 [00:02<00:00, 1592.24it/s]\n",
      "100%|██████████| 3288/3288 [00:02<00:00, 1637.98it/s]\n"
     ]
    },
    {
     "name": "stdout",
     "output_type": "stream",
     "text": [
      "0.21154848800834203\n",
      "0.1989051094890511\n",
      "0.5856795272853667\n"
     ]
    }
   ],
   "source": [
    "right_answer = []\n",
    "answer_round, answer_floor, answer_ceil = [], [], []\n",
    "set_amount = set()\n",
    "for id_warehouse in warehouse_id:\n",
    "    for id_product in tqdm(product_id):\n",
    "        for id_date in date:\n",
    "            right_answer.append(my_huge_dict_test[id_warehouse][id_product][date2week[id_date]][0])\n",
    "            answer_round.append(round(sum(my_huge_dict_train[id_warehouse][id_product][date2week[id_date]])/len(my_huge_dict_train[id_warehouse][id_product][date2week[id_date]])))\n",
    "            answer_floor.append(math.floor(sum(my_huge_dict_train[id_warehouse][id_product][date2week[id_date]])/len(my_huge_dict_train[id_warehouse][id_product][date2week[id_date]])))\n",
    "            answer_ceil.append(math.ceil(sum(my_huge_dict_train[id_warehouse][id_product][date2week[id_date]])/len(my_huge_dict_train[id_warehouse][id_product][date2week[id_date]])))\n",
    "print(mean_absolute_error(right_answer, answer_round))\n",
    "print(mean_absolute_error(right_answer, answer_floor))\n",
    "print(mean_absolute_error(right_answer, answer_ceil))"
   ]
  },
  {
   "cell_type": "markdown",
   "metadata": {
    "id": "CTzSK37b7vMI"
   },
   "source": [
    "### Не будем повторять ошибок. Вместо ceil возьмём floor"
   ]
  },
  {
   "cell_type": "code",
   "execution_count": 39,
   "metadata": {
    "colab": {
     "base_uri": "https://localhost:8080/"
    },
    "id": "2gozu8J6sQBR",
    "outputId": "977a8fdd-25b6-4cab-c6ef-afd034982266"
   },
   "outputs": [
    {
     "name": "stdout",
     "output_type": "stream",
     "text": [
      "{'2021-04-09': 'Friday', '2021-04-10': 'Saturday', '2021-04-11': 'Sunday', '2021-04-12': 'Monday', '2021-04-13': 'Tuesday', '2021-04-14': 'Wednesday', '2021-04-15': 'Thursday'}\n"
     ]
    }
   ],
   "source": [
    "data_ = pd.Series(pd.to_datetime(test_data['date'].unique()))\n",
    "\n",
    "\n",
    "#print(data_, type(data_))\n",
    "data_week = data_.dt.day_name()\n",
    "# print(data_week)\n",
    "date2week = dict(zip(test_data['date'].unique(), data_week))\n",
    "print(date2week)"
   ]
  },
  {
   "cell_type": "code",
   "execution_count": 46,
   "metadata": {
    "colab": {
     "base_uri": "https://localhost:8080/"
    },
    "id": "46-Jmj2e8LGK",
    "outputId": "d4900d2e-0831-4212-82ce-bf9c0fe754f1"
   },
   "outputs": [
    {
     "name": "stderr",
     "output_type": "stream",
     "text": [
      "100%|██████████| 46032/46032 [00:00<00:00, 250264.37it/s]"
     ]
    },
    {
     "name": "stdout",
     "output_type": "stream",
     "text": [
      "\n",
      "46032 46032\n"
     ]
    },
    {
     "name": "stderr",
     "output_type": "stream",
     "text": [
      "\n"
     ]
    }
   ],
   "source": [
    "answer = []\n",
    "for product_info in tqdm(test_data[['warehouse_id', 'product_id', 'date']].values):\n",
    "    id_warehouse = (product_info[0])\n",
    "    id_product = (product_info[1])\n",
    "    id_date = (product_info[2])\n",
    "    #print(id_warehouse)\n",
    "    #print(id_product)\n",
    "    #print(id_date)\n",
    "    #print(my_huge_dict[id_warehouse][id_product][date2week[id_date]])\n",
    "    #break\n",
    "    answer.append(math.floor(sum(my_huge_dict[id_warehouse][id_product][date2week[id_date]])/len(my_huge_dict[id_warehouse][id_product][date2week[id_date]])))\n",
    "    \n",
    "print()\n",
    "print(len(answer), len(simple_data))\n"
   ]
  },
  {
   "cell_type": "code",
   "execution_count": 47,
   "metadata": {
    "id": "MKHln6298LIN"
   },
   "outputs": [],
   "source": [
    "Result_table = pd.read_csv(\"/content/drive/MyDrive/Sales_Forecasting/sub.csv\")\n",
    "Result_table['quantity'] = pd.Series(answer)\n",
    "Result_table[[\"id\", \"quantity\"]].to_csv(\"FINAL.csv\", index=False)"
   ]
  },
  {
   "cell_type": "markdown",
   "metadata": {
    "id": "wXuoJ4w1-ysK"
   },
   "source": [
    "### Score = 0.20210\n",
    "### Это уже гораздо лучше, но не предел :)"
   ]
  },
  {
   "cell_type": "markdown",
   "metadata": {
    "id": "n7Gnnu-PdXnO"
   },
   "source": [
    "## Вторая идея: модернизация среднего\n",
    "\n"
   ]
  },
  {
   "cell_type": "markdown",
   "metadata": {
    "id": "zUN7NIjt8rs4"
   },
   "source": [
    "### Пока оставим идею с днями недели, но будем рассматривать не обычное среднее, а что-то поинтереснее"
   ]
  },
  {
   "cell_type": "code",
   "execution_count": 49,
   "metadata": {
    "colab": {
     "base_uri": "https://localhost:8080/"
    },
    "id": "9_byjcVuIDl0",
    "outputId": "2b64d04f-79f5-4078-8b1d-88f1b846f3cc"
   },
   "outputs": [
    {
     "name": "stdout",
     "output_type": "stream",
     "text": [
      "{'2020-11-27': 'Friday', '2020-11-28': 'Saturday', '2020-11-29': 'Sunday', '2020-11-30': 'Monday', '2020-12-01': 'Tuesday', '2020-12-02': 'Wednesday', '2020-12-03': 'Thursday', '2020-12-04': 'Friday', '2020-12-05': 'Saturday', '2020-12-06': 'Sunday', '2020-12-07': 'Monday', '2020-12-08': 'Tuesday', '2020-12-09': 'Wednesday', '2020-12-10': 'Thursday', '2020-12-11': 'Friday', '2020-12-12': 'Saturday', '2020-12-13': 'Sunday', '2020-12-14': 'Monday', '2020-12-15': 'Tuesday', '2020-12-16': 'Wednesday', '2020-12-17': 'Thursday', '2020-12-18': 'Friday', '2020-12-19': 'Saturday', '2020-12-20': 'Sunday', '2020-12-21': 'Monday', '2020-12-22': 'Tuesday', '2020-12-23': 'Wednesday', '2020-12-24': 'Thursday', '2020-12-25': 'Friday', '2020-12-26': 'Saturday', '2020-12-27': 'Sunday', '2020-12-28': 'Monday', '2020-12-29': 'Tuesday', '2020-12-30': 'Wednesday', '2020-12-31': 'Thursday', '2021-01-01': 'Friday', '2021-01-02': 'Saturday', '2021-01-03': 'Sunday', '2021-01-04': 'Monday', '2021-01-05': 'Tuesday', '2021-01-06': 'Wednesday', '2021-01-07': 'Thursday', '2021-01-08': 'Friday', '2021-01-09': 'Saturday', '2021-01-10': 'Sunday', '2021-01-11': 'Monday', '2021-01-12': 'Tuesday', '2021-01-13': 'Wednesday', '2021-01-14': 'Thursday', '2021-01-15': 'Friday', '2021-01-16': 'Saturday', '2021-01-17': 'Sunday', '2021-01-18': 'Monday', '2021-01-19': 'Tuesday', '2021-01-20': 'Wednesday', '2021-01-21': 'Thursday', '2021-01-22': 'Friday', '2021-01-23': 'Saturday', '2021-01-24': 'Sunday', '2021-01-25': 'Monday', '2021-01-26': 'Tuesday', '2021-01-27': 'Wednesday', '2021-01-28': 'Thursday', '2021-01-29': 'Friday', '2021-01-30': 'Saturday', '2021-01-31': 'Sunday', '2021-02-01': 'Monday', '2021-02-02': 'Tuesday', '2021-02-03': 'Wednesday', '2021-02-04': 'Thursday', '2021-02-05': 'Friday', '2021-02-06': 'Saturday', '2021-02-07': 'Sunday', '2021-02-08': 'Monday', '2021-02-09': 'Tuesday', '2021-02-10': 'Wednesday', '2021-02-11': 'Thursday', '2021-02-12': 'Friday', '2021-02-13': 'Saturday', '2021-02-14': 'Sunday', '2021-02-15': 'Monday', '2021-02-16': 'Tuesday', '2021-02-17': 'Wednesday', '2021-02-18': 'Thursday', '2021-02-19': 'Friday', '2021-02-20': 'Saturday', '2021-02-21': 'Sunday', '2021-02-22': 'Monday', '2021-02-23': 'Tuesday', '2021-02-24': 'Wednesday', '2021-02-25': 'Thursday', '2021-02-26': 'Friday', '2021-02-27': 'Saturday', '2021-02-28': 'Sunday', '2021-03-01': 'Monday', '2021-03-02': 'Tuesday', '2021-03-03': 'Wednesday', '2021-03-04': 'Thursday', '2021-03-05': 'Friday', '2021-03-06': 'Saturday', '2021-03-07': 'Sunday', '2021-03-08': 'Monday', '2021-03-09': 'Tuesday', '2021-03-10': 'Wednesday', '2021-03-11': 'Thursday', '2021-03-12': 'Friday', '2021-03-13': 'Saturday', '2021-03-14': 'Sunday', '2021-03-15': 'Monday', '2021-03-16': 'Tuesday', '2021-03-17': 'Wednesday', '2021-03-18': 'Thursday', '2021-03-19': 'Friday', '2021-03-20': 'Saturday', '2021-03-21': 'Sunday', '2021-03-22': 'Monday', '2021-03-23': 'Tuesday', '2021-03-24': 'Wednesday', '2021-03-25': 'Thursday', '2021-03-26': 'Friday', '2021-03-27': 'Saturday', '2021-03-28': 'Sunday', '2021-03-29': 'Monday', '2021-03-30': 'Tuesday', '2021-03-31': 'Wednesday', '2021-04-01': 'Thursday', '2021-04-02': 'Friday', '2021-04-03': 'Saturday', '2021-04-04': 'Sunday', '2021-04-05': 'Monday', '2021-04-06': 'Tuesday', '2021-04-07': 'Wednesday', '2021-04-08': 'Thursday'}\n"
     ]
    }
   ],
   "source": [
    "data_ = pd.Series(pd.to_datetime(train_data['date'].unique()))\n",
    "\n",
    "# print(data_, type(data_))\n",
    "data_week = data_.dt.day_name()\n",
    "# print(data_week)\n",
    "date2week = dict(zip(train_data['date'].unique(), data_week))\n",
    "print(date2week)"
   ]
  },
  {
   "cell_type": "code",
   "execution_count": 54,
   "metadata": {
    "colab": {
     "base_uri": "https://localhost:8080/"
    },
    "id": "elrrBCNX8LLD",
    "outputId": "2663e85b-e661-4aed-92fb-86b7f8f90020"
   },
   "outputs": [
    {
     "name": "stderr",
     "output_type": "stream",
     "text": [
      "100%|██████████| 3288/3288 [01:04<00:00, 51.36it/s]\n",
      "100%|██████████| 3288/3288 [01:04<00:00, 50.91it/s]\n"
     ]
    },
    {
     "name": "stdout",
     "output_type": "stream",
     "text": [
      "0.21154848800834203\n",
      "0.1989051094890511\n",
      "0.5856795272853667\n",
      "0.19765597844977406\n",
      "0.19797097671185263\n",
      "0.1975147723322906\n",
      "0.20550921098366354\n"
     ]
    }
   ],
   "source": [
    "import statistics\n",
    "from scipy import stats as s\n",
    "\n",
    "right_answer = []\n",
    "answer_round, answer_floor, answer_ceil = [], [], []\n",
    "answer_median, answer_median_low, answer_median_high = [], [], []\n",
    "answer_mode = []\n",
    "set_amount = set()\n",
    "for id_warehouse in warehouse_id:\n",
    "    for id_product in tqdm(product_id):\n",
    "        for id_date in date:\n",
    "            right_answer.append(my_huge_dict_test[id_warehouse][id_product][date2week[id_date]][0])\n",
    "            answer_round.append(round(sum(my_huge_dict_train[id_warehouse][id_product][date2week[id_date]])/len(my_huge_dict_train[id_warehouse][id_product][date2week[id_date]])))\n",
    "            answer_floor.append(math.floor(sum(my_huge_dict_train[id_warehouse][id_product][date2week[id_date]])/len(my_huge_dict_train[id_warehouse][id_product][date2week[id_date]])))\n",
    "            answer_ceil.append(math.ceil(sum(my_huge_dict_train[id_warehouse][id_product][date2week[id_date]])/len(my_huge_dict_train[id_warehouse][id_product][date2week[id_date]])))\n",
    "\n",
    "            answer_median.append(statistics.median(my_huge_dict_train[id_warehouse][id_product][date2week[id_date]]))\n",
    "            answer_median_low.append(statistics.median_low(my_huge_dict_train[id_warehouse][id_product][date2week[id_date]]))\n",
    "            answer_median_high.append(statistics.median_high(my_huge_dict_train[id_warehouse][id_product][date2week[id_date]]))\n",
    "            \n",
    "            answer_mode.append(int(s.mode(my_huge_dict_train[id_warehouse][id_product][date2week[id_date]])[0]))\n",
    "\n",
    "print(mean_absolute_error(right_answer, answer_round))\n",
    "print(mean_absolute_error(right_answer, answer_floor))\n",
    "print(mean_absolute_error(right_answer, answer_ceil))\n",
    "\n",
    "print(mean_absolute_error(right_answer, answer_median))\n",
    "print(mean_absolute_error(right_answer, answer_median_low))\n",
    "print(mean_absolute_error(right_answer, answer_median_high))\n",
    "\n",
    "print(mean_absolute_error(right_answer, answer_mode))"
   ]
  },
  {
   "cell_type": "markdown",
   "metadata": {
    "id": "DooPpygZL2BT"
   },
   "source": [
    "### Медиана даёт неплохой результат. Но давайте попробуем нечто сложнее\n"
   ]
  },
  {
   "cell_type": "code",
   "execution_count": 56,
   "metadata": {
    "id": "ZRqJ89yisP-6"
   },
   "outputs": [],
   "source": [
    "def exponential_smoothing(series, alpha):\n",
    "    result = [series[0]] # first value is same as series\n",
    "    for n in range(1, len(series)):\n",
    "        result.append(alpha * series[n] + (1 - alpha) * result[n-1])\n",
    "    return result[-1]"
   ]
  },
  {
   "cell_type": "code",
   "execution_count": 67,
   "metadata": {
    "colab": {
     "base_uri": "https://localhost:8080/"
    },
    "id": "SVpMs2hSL-7r",
    "outputId": "4c3b22d2-3949-4e85-852c-aca49a09282f"
   },
   "outputs": [
    {
     "name": "stderr",
     "output_type": "stream",
     "text": [
      "\n",
      "  0%|          | 0/29 [00:00<?, ?it/s]\u001b[A\n",
      "  3%|▎         | 1/29 [00:05<02:35,  5.55s/it]\u001b[A\n",
      "  7%|▋         | 2/29 [00:11<02:29,  5.53s/it]\u001b[A\n",
      " 10%|█         | 3/29 [00:16<02:23,  5.52s/it]\u001b[A\n",
      " 14%|█▍        | 4/29 [00:22<02:17,  5.51s/it]\u001b[A\n",
      " 17%|█▋        | 5/29 [00:27<02:12,  5.51s/it]\u001b[A\n",
      " 21%|██        | 6/29 [00:33<02:06,  5.51s/it]\u001b[A\n",
      " 24%|██▍       | 7/29 [00:38<02:01,  5.52s/it]\u001b[A\n",
      " 28%|██▊       | 8/29 [00:44<01:55,  5.51s/it]\u001b[A\n",
      " 31%|███       | 9/29 [00:49<01:50,  5.52s/it]\u001b[A\n",
      " 34%|███▍      | 10/29 [00:55<01:44,  5.51s/it]\u001b[A\n",
      " 38%|███▊      | 11/29 [01:00<01:39,  5.51s/it]\u001b[A\n",
      " 41%|████▏     | 12/29 [01:06<01:33,  5.52s/it]\u001b[A\n",
      " 45%|████▍     | 13/29 [01:11<01:28,  5.51s/it]\u001b[A\n",
      " 48%|████▊     | 14/29 [01:17<01:22,  5.51s/it]\u001b[A\n",
      " 52%|█████▏    | 15/29 [01:22<01:16,  5.48s/it]\u001b[A\n",
      " 55%|█████▌    | 16/29 [01:27<01:10,  5.46s/it]\u001b[A\n",
      " 59%|█████▊    | 17/29 [01:33<01:05,  5.44s/it]\u001b[A\n",
      " 62%|██████▏   | 18/29 [01:38<00:59,  5.43s/it]\u001b[A\n",
      " 66%|██████▌   | 19/29 [01:44<00:54,  5.42s/it]\u001b[A\n",
      " 69%|██████▉   | 20/29 [01:49<00:48,  5.42s/it]\u001b[A\n",
      " 72%|███████▏  | 21/29 [01:54<00:43,  5.41s/it]\u001b[A\n",
      " 76%|███████▌  | 22/29 [02:00<00:37,  5.40s/it]\u001b[A\n",
      " 79%|███████▉  | 23/29 [02:05<00:32,  5.40s/it]\u001b[A\n",
      " 83%|████████▎ | 24/29 [02:11<00:26,  5.39s/it]\u001b[A\n",
      " 86%|████████▌ | 25/29 [02:16<00:21,  5.39s/it]\u001b[A\n",
      " 90%|████████▉ | 26/29 [02:21<00:16,  5.38s/it]\u001b[A\n",
      " 93%|█████████▎| 27/29 [02:27<00:10,  5.37s/it]\u001b[A\n",
      " 97%|█████████▋| 28/29 [02:32<00:05,  5.38s/it]\u001b[A\n",
      "100%|██████████| 29/29 [02:38<00:00,  5.45s/it]"
     ]
    },
    {
     "name": "stdout",
     "output_type": "stream",
     "text": [
      "0.19703684393465415 0.14\n"
     ]
    },
    {
     "name": "stderr",
     "output_type": "stream",
     "text": [
      "\n"
     ]
    }
   ],
   "source": [
    "\n",
    "cur_min = 1\n",
    "cur_alpha = 0\n",
    "\n",
    "for i in tqdm(range(1, 30)):\n",
    "    alpha = i/100\n",
    "    right_answer = []\n",
    "    answer_exponential_smoothing_round, answer_exponential_smoothing_floor, answer_exponential_smoothing_ceil = [], [], []\n",
    "    for id_warehouse in warehouse_id:\n",
    "        for id_product in (product_id):\n",
    "            for id_date in date:\n",
    "                right_answer.append(my_huge_dict_test[id_warehouse][id_product][date2week[id_date]][0])\n",
    "                #answer_exponential_smoothing_round.append(round(exponential_smoothing(my_huge_dict_train[id_warehouse][id_product][date2week[id_date]], alpha)))\n",
    "                answer_exponential_smoothing_floor.append(math.floor(exponential_smoothing(my_huge_dict_train[id_warehouse][id_product][date2week[id_date]], alpha)))\n",
    "                #answer_exponential_smoothing_ceil.append(math.ceil(exponential_smoothing(my_huge_dict_train[id_warehouse][id_product][date2week[id_date]], alpha)))\n",
    "    if mean_absolute_error(right_answer, answer_exponential_smoothing_floor) < cur_min:\n",
    "        cur_min = mean_absolute_error(right_answer, answer_exponential_smoothing_floor)\n",
    "        cur_alpha = alpha\n",
    "#print(mean_absolute_error(right_answer, answer_exponential_smoothing_round))\n",
    "print(cur_min, cur_alpha)\n",
    "#print(mean_absolute_error(right_answer, answer_exponential_smoothing_ceil))"
   ]
  },
  {
   "cell_type": "markdown",
   "metadata": {
    "id": "pMuFu6_ZRcp0"
   },
   "source": [
    "### Сильного прироста нет, поэтому двойное экспонициальное сглаживание использовать не имеет смысла"
   ]
  },
  {
   "cell_type": "code",
   "execution_count": 68,
   "metadata": {
    "colab": {
     "base_uri": "https://localhost:8080/"
    },
    "id": "3p3LXQrVRcTy",
    "outputId": "f076fc62-aea4-4d2e-f1f3-7d63b48c6afd"
   },
   "outputs": [
    {
     "name": "stdout",
     "output_type": "stream",
     "text": [
      "{'2021-04-09': 'Friday', '2021-04-10': 'Saturday', '2021-04-11': 'Sunday', '2021-04-12': 'Monday', '2021-04-13': 'Tuesday', '2021-04-14': 'Wednesday', '2021-04-15': 'Thursday'}\n"
     ]
    }
   ],
   "source": [
    "data_ = pd.Series(pd.to_datetime(test_data['date'].unique()))\n",
    "\n",
    "\n",
    "#print(data_, type(data_))\n",
    "data_week = data_.dt.day_name()\n",
    "# print(data_week)\n",
    "date2week = dict(zip(test_data['date'].unique(), data_week))\n",
    "print(date2week)"
   ]
  },
  {
   "cell_type": "code",
   "execution_count": 69,
   "metadata": {
    "colab": {
     "base_uri": "https://localhost:8080/"
    },
    "id": "Zfua-kYbL-43",
    "outputId": "e3d1def5-7e7d-4ce4-80a3-b5310fa39408"
   },
   "outputs": [
    {
     "name": "stderr",
     "output_type": "stream",
     "text": [
      "\n",
      "  0%|          | 0/46032 [00:00<?, ?it/s]\u001b[A\n",
      " 24%|██▍       | 11033/46032 [00:00<00:00, 110322.21it/s]\u001b[A\n",
      " 48%|████▊     | 22106/46032 [00:00<00:00, 110442.77it/s]\u001b[A\n",
      " 73%|███████▎  | 33639/46032 [00:00<00:00, 111863.99it/s]\u001b[A\n",
      "100%|██████████| 46032/46032 [00:00<00:00, 109963.03it/s]"
     ]
    },
    {
     "name": "stdout",
     "output_type": "stream",
     "text": [
      "\n",
      "46032 46032\n"
     ]
    },
    {
     "name": "stderr",
     "output_type": "stream",
     "text": [
      "\n"
     ]
    }
   ],
   "source": [
    "answer = []\n",
    "alpha = 0.14\n",
    "for product_info in tqdm(test_data[['warehouse_id', 'product_id', 'date']].values):\n",
    "    id_warehouse = (product_info[0])\n",
    "    id_product = (product_info[1])\n",
    "    id_date = (product_info[2])\n",
    "    answer.append(math.floor(exponential_smoothing(my_huge_dict[id_warehouse][id_product][date2week[id_date]], alpha)))\n",
    "    \n",
    "print()\n",
    "print(len(answer), len(simple_data))"
   ]
  },
  {
   "cell_type": "code",
   "execution_count": 71,
   "metadata": {
    "id": "j4DgtZb9L-28"
   },
   "outputs": [],
   "source": [
    "Result_table = pd.read_csv(\"/content/drive/MyDrive/Sales_Forecasting/sub.csv\")\n",
    "Result_table['quantity'] = pd.Series(answer)\n",
    "Result_table[[\"id\", \"quantity\"]].to_csv(\"FINAL_exp.csv\", index=False)"
   ]
  },
  {
   "cell_type": "markdown",
   "metadata": {
    "id": "23Xy6qyZSq0T"
   },
   "source": [
    "### Score = 0.20085\n",
    "### Сильного роста нет. Нужно что-то сложнее..."
   ]
  },
  {
   "cell_type": "code",
   "execution_count": null,
   "metadata": {
    "id": "hU4K-O0iL-0q"
   },
   "outputs": [],
   "source": []
  },
  {
   "cell_type": "code",
   "execution_count": null,
   "metadata": {
    "id": "dplZZxtsL-yr"
   },
   "outputs": [],
   "source": []
  },
  {
   "cell_type": "code",
   "execution_count": null,
   "metadata": {
    "id": "YcMNFC74L-wd"
   },
   "outputs": [],
   "source": []
  }
 ],
 "metadata": {
  "colab": {
   "name": "Sales_Forecasting",
   "provenance": []
  },
  "kernelspec": {
   "display_name": "Python 3",
   "language": "python",
   "name": "python3"
  },
  "language_info": {
   "codemirror_mode": {
    "name": "ipython",
    "version": 3
   },
   "file_extension": ".py",
   "mimetype": "text/x-python",
   "name": "python",
   "nbconvert_exporter": "python",
   "pygments_lexer": "ipython3",
   "version": "3.8.5"
  }
 },
 "nbformat": 4,
 "nbformat_minor": 4
}

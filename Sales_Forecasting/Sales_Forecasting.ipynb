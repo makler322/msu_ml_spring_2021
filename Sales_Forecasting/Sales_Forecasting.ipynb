{
  "nbformat": 4,
  "nbformat_minor": 0,
  "metadata": {
    "colab": {
      "name": "Sales_Forecasting",
      "provenance": []
    },
    "kernelspec": {
      "name": "python3",
      "display_name": "Python 3"
    },
    "language_info": {
      "name": "python"
    }
  },
  "cells": [
    {
      "cell_type": "markdown",
      "metadata": {
        "id": "zvLceESzwbFT"
      },
      "source": [
        "### Подключим все необходимые библиотеки"
      ]
    },
    {
      "cell_type": "code",
      "metadata": {
        "id": "nDvz0qXduEAo"
      },
      "source": [
        "import pandas as pd\n",
        "import matplotlib.pyplot as plt\n",
        "import numpy as np\n",
        "plt.style.use('ggplot')\n",
        "from tqdm import tqdm\n",
        "from sklearn.model_selection import train_test_split\n",
        "from sklearn.preprocessing  import LabelEncoder\n",
        "from sklearn.feature_extraction.text import TfidfVectorizer,CountVectorizer\n",
        "from sklearn.linear_model import SGDClassifier\n",
        "from sklearn.pipeline import Pipeline\n",
        "from sklearn.metrics import balanced_accuracy_score, accuracy_score\n",
        "from collections import Counter\n",
        "import re\n",
        "import nltk\n",
        "#import pymorphy2\n",
        "from ast import literal_eval\n",
        "import gensim"
      ],
      "execution_count": 2,
      "outputs": []
    },
    {
      "cell_type": "markdown",
      "metadata": {
        "id": "iu4vGS5Cvg7t"
      },
      "source": [
        "\n",
        "### Поля данных\n",
        "\n",
        "* warehouse_id - идентификатор магазина\n",
        "* product_id - идентификатор продукта\n",
        "* date - дата\n",
        "* quantity - кол-во продаж\n",
        "* id - уникальный идентификатор строки\n",
        "\n",
        " "
      ]
    },
    {
      "cell_type": "code",
      "metadata": {
        "colab": {
          "base_uri": "https://localhost:8080/",
          "height": 224
        },
        "id": "2zA5SS10ubK2",
        "outputId": "1a7fb580-6707-4ec1-e5b1-10311ce92487"
      },
      "source": [
        "train_data = pd.read_csv(\"/content/drive/MyDrive/Sales_Forecasting/train.csv\")\n",
        "print(train_data.shape)\n",
        "train_data.head()"
      ],
      "execution_count": 24,
      "outputs": [
        {
          "output_type": "stream",
          "text": [
            "(78067, 5)\n"
          ],
          "name": "stdout"
        },
        {
          "output_type": "execute_result",
          "data": {
            "text/html": [
              "<div>\n",
              "<style scoped>\n",
              "    .dataframe tbody tr th:only-of-type {\n",
              "        vertical-align: middle;\n",
              "    }\n",
              "\n",
              "    .dataframe tbody tr th {\n",
              "        vertical-align: top;\n",
              "    }\n",
              "\n",
              "    .dataframe thead th {\n",
              "        text-align: right;\n",
              "    }\n",
              "</style>\n",
              "<table border=\"1\" class=\"dataframe\">\n",
              "  <thead>\n",
              "    <tr style=\"text-align: right;\">\n",
              "      <th></th>\n",
              "      <th>warehouse_id</th>\n",
              "      <th>product_id</th>\n",
              "      <th>date</th>\n",
              "      <th>quantity</th>\n",
              "      <th>id</th>\n",
              "    </tr>\n",
              "  </thead>\n",
              "  <tbody>\n",
              "    <tr>\n",
              "      <th>0</th>\n",
              "      <td>0</td>\n",
              "      <td>71165</td>\n",
              "      <td>2020-12-02</td>\n",
              "      <td>1</td>\n",
              "      <td>0</td>\n",
              "    </tr>\n",
              "    <tr>\n",
              "      <th>1</th>\n",
              "      <td>0</td>\n",
              "      <td>71165</td>\n",
              "      <td>2020-12-03</td>\n",
              "      <td>3</td>\n",
              "      <td>1</td>\n",
              "    </tr>\n",
              "    <tr>\n",
              "      <th>2</th>\n",
              "      <td>0</td>\n",
              "      <td>71165</td>\n",
              "      <td>2020-12-07</td>\n",
              "      <td>2</td>\n",
              "      <td>2</td>\n",
              "    </tr>\n",
              "    <tr>\n",
              "      <th>3</th>\n",
              "      <td>0</td>\n",
              "      <td>71165</td>\n",
              "      <td>2020-12-08</td>\n",
              "      <td>2</td>\n",
              "      <td>3</td>\n",
              "    </tr>\n",
              "    <tr>\n",
              "      <th>4</th>\n",
              "      <td>0</td>\n",
              "      <td>71165</td>\n",
              "      <td>2020-12-09</td>\n",
              "      <td>3</td>\n",
              "      <td>4</td>\n",
              "    </tr>\n",
              "  </tbody>\n",
              "</table>\n",
              "</div>"
            ],
            "text/plain": [
              "   warehouse_id  product_id        date  quantity  id\n",
              "0             0       71165  2020-12-02         1   0\n",
              "1             0       71165  2020-12-03         3   1\n",
              "2             0       71165  2020-12-07         2   2\n",
              "3             0       71165  2020-12-08         2   3\n",
              "4             0       71165  2020-12-09         3   4"
            ]
          },
          "metadata": {
            "tags": []
          },
          "execution_count": 24
        }
      ]
    },
    {
      "cell_type": "markdown",
      "metadata": {
        "id": "si_RR9QI2FKc"
      },
      "source": [
        "### Посмотрим на количество товаров и на их id"
      ]
    },
    {
      "cell_type": "code",
      "metadata": {
        "colab": {
          "base_uri": "https://localhost:8080/"
        },
        "id": "Cq8zKmj61peJ",
        "outputId": "f2eb079a-4e03-44e8-c576-350b185ea63c"
      },
      "source": [
        "product_id = train_data.sort_values(by=['product_id'])['product_id'].unique()\n",
        "print(len(product_id))\n",
        "print(product_id[:5])"
      ],
      "execution_count": 27,
      "outputs": [
        {
          "output_type": "stream",
          "text": [
            "3288\n",
            "[71165 71170 71185 71215 71220]\n"
          ],
          "name": "stdout"
        }
      ]
    },
    {
      "cell_type": "markdown",
      "metadata": {
        "id": "LdS8FI152Uq-"
      },
      "source": [
        "### Посмотрим на тестовую выборку и сделаем некоторые выводы"
      ]
    },
    {
      "cell_type": "code",
      "metadata": {
        "colab": {
          "base_uri": "https://localhost:8080/",
          "height": 537
        },
        "id": "U6r9koVw1U4v",
        "outputId": "6f11de21-f1f9-41ab-9822-1c834389549e"
      },
      "source": [
        "test_data = pd.read_csv(\"/content/drive/MyDrive/Sales_Forecasting/test.csv\")\n",
        "print(test_data.shape)\n",
        "test_data.head(15)"
      ],
      "execution_count": 26,
      "outputs": [
        {
          "output_type": "stream",
          "text": [
            "(46032, 4)\n"
          ],
          "name": "stdout"
        },
        {
          "output_type": "execute_result",
          "data": {
            "text/html": [
              "<div>\n",
              "<style scoped>\n",
              "    .dataframe tbody tr th:only-of-type {\n",
              "        vertical-align: middle;\n",
              "    }\n",
              "\n",
              "    .dataframe tbody tr th {\n",
              "        vertical-align: top;\n",
              "    }\n",
              "\n",
              "    .dataframe thead th {\n",
              "        text-align: right;\n",
              "    }\n",
              "</style>\n",
              "<table border=\"1\" class=\"dataframe\">\n",
              "  <thead>\n",
              "    <tr style=\"text-align: right;\">\n",
              "      <th></th>\n",
              "      <th>date</th>\n",
              "      <th>product_id</th>\n",
              "      <th>warehouse_id</th>\n",
              "      <th>id</th>\n",
              "    </tr>\n",
              "  </thead>\n",
              "  <tbody>\n",
              "    <tr>\n",
              "      <th>0</th>\n",
              "      <td>2021-04-09</td>\n",
              "      <td>71165</td>\n",
              "      <td>0</td>\n",
              "      <td>0</td>\n",
              "    </tr>\n",
              "    <tr>\n",
              "      <th>1</th>\n",
              "      <td>2021-04-09</td>\n",
              "      <td>71165</td>\n",
              "      <td>1</td>\n",
              "      <td>1</td>\n",
              "    </tr>\n",
              "    <tr>\n",
              "      <th>2</th>\n",
              "      <td>2021-04-09</td>\n",
              "      <td>71170</td>\n",
              "      <td>0</td>\n",
              "      <td>2</td>\n",
              "    </tr>\n",
              "    <tr>\n",
              "      <th>3</th>\n",
              "      <td>2021-04-09</td>\n",
              "      <td>71170</td>\n",
              "      <td>1</td>\n",
              "      <td>3</td>\n",
              "    </tr>\n",
              "    <tr>\n",
              "      <th>4</th>\n",
              "      <td>2021-04-09</td>\n",
              "      <td>71185</td>\n",
              "      <td>0</td>\n",
              "      <td>4</td>\n",
              "    </tr>\n",
              "    <tr>\n",
              "      <th>5</th>\n",
              "      <td>2021-04-09</td>\n",
              "      <td>71185</td>\n",
              "      <td>1</td>\n",
              "      <td>5</td>\n",
              "    </tr>\n",
              "    <tr>\n",
              "      <th>6</th>\n",
              "      <td>2021-04-09</td>\n",
              "      <td>71215</td>\n",
              "      <td>0</td>\n",
              "      <td>6</td>\n",
              "    </tr>\n",
              "    <tr>\n",
              "      <th>7</th>\n",
              "      <td>2021-04-09</td>\n",
              "      <td>71215</td>\n",
              "      <td>1</td>\n",
              "      <td>7</td>\n",
              "    </tr>\n",
              "    <tr>\n",
              "      <th>8</th>\n",
              "      <td>2021-04-09</td>\n",
              "      <td>71220</td>\n",
              "      <td>0</td>\n",
              "      <td>8</td>\n",
              "    </tr>\n",
              "    <tr>\n",
              "      <th>9</th>\n",
              "      <td>2021-04-09</td>\n",
              "      <td>71220</td>\n",
              "      <td>1</td>\n",
              "      <td>9</td>\n",
              "    </tr>\n",
              "    <tr>\n",
              "      <th>10</th>\n",
              "      <td>2021-04-09</td>\n",
              "      <td>71225</td>\n",
              "      <td>0</td>\n",
              "      <td>10</td>\n",
              "    </tr>\n",
              "    <tr>\n",
              "      <th>11</th>\n",
              "      <td>2021-04-09</td>\n",
              "      <td>71225</td>\n",
              "      <td>1</td>\n",
              "      <td>11</td>\n",
              "    </tr>\n",
              "    <tr>\n",
              "      <th>12</th>\n",
              "      <td>2021-04-09</td>\n",
              "      <td>71230</td>\n",
              "      <td>0</td>\n",
              "      <td>12</td>\n",
              "    </tr>\n",
              "    <tr>\n",
              "      <th>13</th>\n",
              "      <td>2021-04-09</td>\n",
              "      <td>71230</td>\n",
              "      <td>1</td>\n",
              "      <td>13</td>\n",
              "    </tr>\n",
              "    <tr>\n",
              "      <th>14</th>\n",
              "      <td>2021-04-09</td>\n",
              "      <td>71235</td>\n",
              "      <td>0</td>\n",
              "      <td>14</td>\n",
              "    </tr>\n",
              "  </tbody>\n",
              "</table>\n",
              "</div>"
            ],
            "text/plain": [
              "          date  product_id  warehouse_id  id\n",
              "0   2021-04-09       71165             0   0\n",
              "1   2021-04-09       71165             1   1\n",
              "2   2021-04-09       71170             0   2\n",
              "3   2021-04-09       71170             1   3\n",
              "4   2021-04-09       71185             0   4\n",
              "5   2021-04-09       71185             1   5\n",
              "6   2021-04-09       71215             0   6\n",
              "7   2021-04-09       71215             1   7\n",
              "8   2021-04-09       71220             0   8\n",
              "9   2021-04-09       71220             1   9\n",
              "10  2021-04-09       71225             0  10\n",
              "11  2021-04-09       71225             1  11\n",
              "12  2021-04-09       71230             0  12\n",
              "13  2021-04-09       71230             1  13\n",
              "14  2021-04-09       71235             0  14"
            ]
          },
          "metadata": {
            "tags": []
          },
          "execution_count": 26
        }
      ]
    },
    {
      "cell_type": "markdown",
      "metadata": {
        "id": "xwmQURwI2eYt"
      },
      "source": [
        "### Сразу хочется посмотреть на warehouse_id и на product_id, так как при разных product_id будут проблемы\n"
      ]
    },
    {
      "cell_type": "code",
      "metadata": {
        "colab": {
          "base_uri": "https://localhost:8080/"
        },
        "id": "l0VUR9qi24CG",
        "outputId": "5de41cf8-a08c-48e6-bf08-eb308e6f832e"
      },
      "source": [
        "product_test_id = test_data.sort_values(by=['product_id'])['product_id'].unique()\n",
        "print(len(product_test_id))\n",
        "print(product_test_id[:5])\n",
        "print(len(set(product_test_id == product_id)))  # Все значения совпадают, проблем нет"
      ],
      "execution_count": 34,
      "outputs": [
        {
          "output_type": "stream",
          "text": [
            "3288\n",
            "[71165 71170 71185 71215 71220]\n",
            "1\n"
          ],
          "name": "stdout"
        }
      ]
    },
    {
      "cell_type": "code",
      "metadata": {
        "colab": {
          "base_uri": "https://localhost:8080/"
        },
        "id": "-IWoYqit4DxJ",
        "outputId": "58f708bf-3a7d-431e-9705-b6a5ba7b3402"
      },
      "source": [
        "warehouse_id = test_data['warehouse_id'].unique()\n",
        "print(len(warehouse_id))  # Всего два магазина"
      ],
      "execution_count": 37,
      "outputs": [
        {
          "output_type": "stream",
          "text": [
            "2\n"
          ],
          "name": "stdout"
        }
      ]
    },
    {
      "cell_type": "markdown",
      "metadata": {
        "id": "vTI_Y9i_4pS5"
      },
      "source": [
        "### В нашем случае всего два магазина и все значения id товаров совпадают. Проблем с данными нет."
      ]
    },
    {
      "cell_type": "markdown",
      "metadata": {
        "id": "uTgj_VsfxXhq"
      },
      "source": [
        "### Посмотрим на simple submission"
      ]
    },
    {
      "cell_type": "code",
      "metadata": {
        "colab": {
          "base_uri": "https://localhost:8080/",
          "height": 224
        },
        "id": "TpjF2xQmubNF",
        "outputId": "026dd000-d381-48a7-ed49-f2f4de95321c"
      },
      "source": [
        "simple_data = pd.read_csv(\"/content/drive/MyDrive/Sales_Forecasting/sub.csv\")\n",
        "print(simple_data.shape)\n",
        "simple_data.head()\n"
      ],
      "execution_count": 23,
      "outputs": [
        {
          "output_type": "stream",
          "text": [
            "(46032, 2)\n"
          ],
          "name": "stdout"
        },
        {
          "output_type": "execute_result",
          "data": {
            "text/html": [
              "<div>\n",
              "<style scoped>\n",
              "    .dataframe tbody tr th:only-of-type {\n",
              "        vertical-align: middle;\n",
              "    }\n",
              "\n",
              "    .dataframe tbody tr th {\n",
              "        vertical-align: top;\n",
              "    }\n",
              "\n",
              "    .dataframe thead th {\n",
              "        text-align: right;\n",
              "    }\n",
              "</style>\n",
              "<table border=\"1\" class=\"dataframe\">\n",
              "  <thead>\n",
              "    <tr style=\"text-align: right;\">\n",
              "      <th></th>\n",
              "      <th>id</th>\n",
              "      <th>quantity</th>\n",
              "    </tr>\n",
              "  </thead>\n",
              "  <tbody>\n",
              "    <tr>\n",
              "      <th>0</th>\n",
              "      <td>0</td>\n",
              "      <td>1</td>\n",
              "    </tr>\n",
              "    <tr>\n",
              "      <th>1</th>\n",
              "      <td>1</td>\n",
              "      <td>1</td>\n",
              "    </tr>\n",
              "    <tr>\n",
              "      <th>2</th>\n",
              "      <td>2</td>\n",
              "      <td>1</td>\n",
              "    </tr>\n",
              "    <tr>\n",
              "      <th>3</th>\n",
              "      <td>3</td>\n",
              "      <td>1</td>\n",
              "    </tr>\n",
              "    <tr>\n",
              "      <th>4</th>\n",
              "      <td>4</td>\n",
              "      <td>1</td>\n",
              "    </tr>\n",
              "  </tbody>\n",
              "</table>\n",
              "</div>"
            ],
            "text/plain": [
              "   id  quantity\n",
              "0   0         1\n",
              "1   1         1\n",
              "2   2         1\n",
              "3   3         1\n",
              "4   4         1"
            ]
          },
          "metadata": {
            "tags": []
          },
          "execution_count": 23
        }
      ]
    },
    {
      "cell_type": "code",
      "metadata": {
        "colab": {
          "base_uri": "https://localhost:8080/"
        },
        "id": "sv86LFbfubPK",
        "outputId": "d40569b8-096a-4a2e-993e-a6bef158353f"
      },
      "source": [
        "\n"
      ],
      "execution_count": 22,
      "outputs": [
        {
          "output_type": "stream",
          "text": [
            "3288\n",
            "[71165 71170 71185 71215 71220]\n"
          ],
          "name": "stdout"
        }
      ]
    },
    {
      "cell_type": "code",
      "metadata": {
        "id": "7B_2-NDfubRJ"
      },
      "source": [
        ""
      ],
      "execution_count": null,
      "outputs": []
    },
    {
      "cell_type": "code",
      "metadata": {
        "id": "gB6zTGxwubTN"
      },
      "source": [
        ""
      ],
      "execution_count": null,
      "outputs": []
    },
    {
      "cell_type": "code",
      "metadata": {
        "id": "wbL0HToBubVa"
      },
      "source": [
        ""
      ],
      "execution_count": null,
      "outputs": []
    }
  ]
}
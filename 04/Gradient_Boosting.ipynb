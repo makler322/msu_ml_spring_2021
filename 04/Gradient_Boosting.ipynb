{
 "cells": [
  {
   "cell_type": "code",
   "execution_count": null,
   "metadata": {},
   "outputs": [],
   "source": []
  },
  {
   "cell_type": "markdown",
   "metadata": {
    "id": "DQG2-8OKZar-"
   },
   "source": [
    "### Алгоритмы интеллектуальной обработки больших объемов данных\n",
    "## Домашнее задание №4 - Градиентный бустинг\n"
   ]
  },
  {
   "cell_type": "markdown",
   "metadata": {
    "id": "e37rap4VZasE"
   },
   "source": [
    "**Общая информация**\n",
    "\n",
    "**Срок сдачи:** 10 мая 2021, 08:30   \n",
    "**Штраф за опоздание:** -2 балла после 08:30 10 мая, -4 балла после 08:30 17 мая, -6 баллов после 08:30 24 мая, -8 баллов после 08:30 31 мая.\n",
    "\n",
    "При отправлении ДЗ указывайте фамилию в названии файла Присылать ДЗ необходимо в виде ссылки на свой github репозиторий на почту ml1.sphere@mail.ru с указанием темы в следующем формате:\n",
    "[ML0221, Задание 4] Фамилия Имя. \n",
    "\n",
    "\n",
    "Используйте данный Ipython Notebook при оформлении домашнего задания."
   ]
  },
  {
   "cell_type": "markdown",
   "metadata": {
    "id": "qSoz1QskZasF"
   },
   "source": [
    "##  Считаем производные для функций потерь (1 балл)"
   ]
  },
  {
   "cell_type": "markdown",
   "metadata": {
    "id": "eOQaAaXcZasG"
   },
   "source": [
    "Мы будем реализовать градиентный бустинг для 3 функций потерь:\n",
    "\n",
    "1) MSE  $L(a(x_i), y_i) = (y_i - a(x_i)) ^ 2$\n",
    "\n",
    "2) Экспоненциальная  $L(a(x_i), y_i) = exp( -a(x_i) y_i), y_i \\in \\{-1, 1\\}$\n",
    "\n",
    "3) Логистическая  $L(a(x_i), y_i) = \\log (1 + exp( -a(x_i) y_i)), y_i \\in \\{-1, 1\\}$\n",
    "\n",
    "где $a(x_i)$ предсказание бустинга на итом объекте. \n",
    "\n",
    "Для каждой функции потерь напишите таргет, на который будет настраиваться каждое дерево в бустинге. "
   ]
  },
  {
   "cell_type": "markdown",
   "metadata": {
    "id": "eorBZNNBZasH"
   },
   "source": [
    "### Таргеты\n",
    "\n",
    "1.   MSE : $-\\frac{dL}{da(x_i)}(L(a(x_i), y_i)) = 2 (y_i - a(x_i))$\n",
    "2.   Экспоненциальная : $-\\frac{dL}{da(x_i)}(L(a(x_i), y_i)) = exp(-a(x_i)y_i)y_i$\n",
    "3.   Логистическая : $-\\frac{dL}{da(x_i)}(L(a(x_i), y_i)) = \\frac{y_i}{exp(a(x_i)y_i) + 1}$\n",
    "\n"
   ]
  },
  {
   "cell_type": "markdown",
   "metadata": {
    "id": "jUwHfElWZasH"
   },
   "source": [
    "##  Реализуем градиентный бустинг (3 балла)"
   ]
  },
  {
   "cell_type": "markdown",
   "metadata": {
    "id": "nnOgwCZnZasH"
   },
   "source": [
    "Реализуйте класс градиентного бустинга для классификации. Ваша реализация бустинга должна работать по точности не более чем на 5 процентов хуже чем GradientBoostingClassifier из sklearn. \n"
   ]
  },
  {
   "cell_type": "markdown",
   "metadata": {
    "id": "H6vVnwDOZasH"
   },
   "source": [
    "Детали реализации:\n",
    "\n",
    "-- должно поддерживаться 3 функции потерь\n",
    "\n",
    "-- сами базовые алгоритмы(деревья, линейные модели и тп) реализовать не надо, просто возьмите готовые из sklearn\n",
    "\n",
    "-- в качестве функции потерь для построения одного дерева используйте MSE\n",
    "\n",
    "-- шаг в бустинге можно не подбирать, можно брать константный\n",
    "\n",
    "-- можно брать разные модели в качестве инициализации бустинга\n",
    "\n",
    "-- должны поддерживаться следующие параметры:\n",
    "\n",
    "а) число итераций\n",
    "б) размер шага\n",
    "в) процент случайных фичей при построении одного дерева\n",
    "д) процент случайных объектов при построении одного дерева\n",
    "е) параметры базового алгоритма (передавайте через **kwargs)"
   ]
  },
  {
   "cell_type": "code",
   "execution_count": 1,
   "metadata": {
    "collapsed": true,
    "id": "hif6fKOPZasI",
    "jupyter": {
     "outputs_hidden": true
    }
   },
   "outputs": [],
   "source": [
    "import numpy as np\n",
    "from math import exp\n",
    "import matplotlib.pyplot as plt\n",
    "from sklearn.datasets import load_wine\n",
    "from sklearn.ensemble import GradientBoostingClassifier\n",
    "from sklearn.metrics import accuracy_score\n",
    "from sklearn.model_selection import train_test_split\n",
    "from sklearn.tree import DecisionTreeRegressor\n",
    "from sklearn.linear_model import LinearRegression\n",
    "from sklearn.ensemble import RandomForestRegressor\n",
    "from sklearn.svm import SVR\n",
    "from tqdm import tqdm"
   ]
  },
  {
   "cell_type": "code",
   "execution_count": 2,
   "metadata": {
    "collapsed": true,
    "id": "JlrneaLoZasJ",
    "jupyter": {
     "outputs_hidden": true
    }
   },
   "outputs": [],
   "source": [
    "class MyGradientBoostingClassifier:\n",
    "\n",
    "    def __init__(self, loss='mse', learning_rate=0.1, n_estimators=100, colsample=1, subsample=1, *args, **kwargs):\n",
    "        \"\"\"\n",
    "        loss -- один из 3 лоссов\n",
    "        learning_rate -- шаг бустинга\n",
    "        n_estimators -- число итераций\n",
    "        colsample -- процент рандомных признаков при обучнеии одного алгоритма\n",
    "        subsample -- процент рандомных объектов при обучнеии одного алгоритма\n",
    "        args, kwargs -- параметры  базовых моделей\n",
    "        \"\"\"\n",
    "        self.loss = loss\n",
    "        self.learning_rate = learning_rate\n",
    "        self.n_estimators = n_estimators\n",
    "        self.colsample = colsample\n",
    "        self.subsample = subsample\n",
    "        self.args = args\n",
    "        self.kwargs = kwargs\n",
    "        self.models = []\n",
    "    \n",
    "    def fit(self, X, y, base_model=DecisionTreeRegressor, init_model=None):\n",
    "        \"\"\"\n",
    "        X -- объекты для обучения\n",
    "        y -- таргеты для обучения\n",
    "        base_model -- класс базовых моделей, например sklearn.tree.DecisionTreeRegressor\n",
    "        init_model -- класс для первой модели, если None то берем константу (только для посл задания)\n",
    "        \"\"\"\n",
    "\n",
    "        # 1 шаг: инициализировать f_0\n",
    "        # 2 шаг: обучить f_k на выборке (x_i, -dL/dF) на MSE функции потерь. Посчитать антиградиент\n",
    "        # 3 шаг: найти шаг c_k. В нашем случае это self.learning_rate\n",
    "        # 4 шаг: достроить ансамбль F_k = F_k-1 + c_k*f_k\n",
    "        # 5 шаг: повторять 2-4 M итераций\n",
    "\n",
    "        '''\n",
    "        Должна быть поддержка colsample и subsample!\n",
    "        X.sample(frac=...)\n",
    "        Вот хочется так написать, но тогда мы ничего не сможем сделать с y.\n",
    "        Поэтому буду использовать механизм масок\n",
    "        '''\n",
    "        mask_x = np.zeros(X.shape[0]).astype(bool)\n",
    "        mask_x[:round(X.shape[0]*self.subsample)] = True\n",
    "        np.random.shuffle(mask_x)\n",
    "\n",
    "        mask_y = np.zeros(X.shape[1]).astype(bool)\n",
    "        mask_y[:round(X.shape[1]*self.colsample)] = True\n",
    "        np.random.shuffle(mask_y)\n",
    "        \n",
    "        #X = X[mask_x][:,mask_y]\n",
    "        #y = y[mask_x]\n",
    "        #---1---\n",
    "        if init_model == None:\n",
    "            model = None\n",
    "        else:\n",
    "            init_ = init_model(*self.args, **self.kwargs)\n",
    "            model = init_.fit(X, y)\n",
    "        \n",
    "        self.models.append(model)\n",
    "\n",
    "        #---2--- \n",
    "        for i in range(self.n_estimators - 1):  # 1 модель считаем вручную\n",
    "            model = base_model(*self.args, **self.kwargs)\n",
    "            if self.loss == 'mse':\n",
    "                model.fit(X[mask_x][:,mask_y], 2*(y[mask_x] - self.predict(X[mask_x])))\n",
    "            elif self.loss == 'exp':\n",
    "                model.fit(X[mask_x][:,mask_y], np.exp(-self.predict(X[mask_x])*y[mask_x])*y[mask_x])\n",
    "            elif self.loss == 'log':\n",
    "                model.fit(X[mask_x][:,mask_y], y[mask_x]/(np.exp(self.predict(X[mask_x])*y[mask_x])+1))\n",
    "            self.models.append([model, mask_y])  # 4 шаг\n",
    "            \n",
    "\n",
    "        \n",
    "    def predict(self, X):\n",
    "        answer = np.zeros(len(X))\n",
    "        first_flag = True\n",
    "        for i in self.models:\n",
    "            if first_flag:\n",
    "                if i != None:\n",
    "                    answer += i.predict(X[:])\n",
    "                first_flag = False\n",
    "            else:\n",
    "                answer += self.learning_rate * i[0].predict(X[:, i[1]]) \n",
    "        return np.rint(answer).astype(int)\n",
    "\n",
    "\n"
   ]
  },
  {
   "cell_type": "code",
   "execution_count": 3,
   "metadata": {
    "id": "NNqfQBblZasK"
   },
   "outputs": [],
   "source": [
    "my_clf = MyGradientBoostingClassifier()\n",
    "clf = GradientBoostingClassifier()"
   ]
  },
  {
   "cell_type": "code",
   "execution_count": 4,
   "metadata": {
    "collapsed": true,
    "id": "P6MC62v3ZasM",
    "jupyter": {
     "outputs_hidden": true
    }
   },
   "outputs": [],
   "source": [
    "wine = load_wine()\n",
    "X_train, X_test, y_train, y_test = train_test_split(wine.data, wine.target, test_size=0.1, stratify=wine.target)"
   ]
  },
  {
   "cell_type": "code",
   "execution_count": 5,
   "metadata": {
    "colab": {
     "base_uri": "https://localhost:8080/"
    },
    "id": "w0GliMXIZasM",
    "outputId": "09db415a-3b4f-477b-ded6-931272566df2"
   },
   "outputs": [
    {
     "name": "stdout",
     "output_type": "stream",
     "text": [
      "0.9444444444444444\n",
      "0.9444444444444444\n"
     ]
    }
   ],
   "source": [
    "my_clf.fit(X_train, y_train)\n",
    "clf.fit(X_train, y_train)\n",
    "print(accuracy_score(y_pred=clf.predict(X_test), y_true=y_test))\n",
    "print(accuracy_score(y_pred=my_clf.predict(X_test), y_true=y_test))"
   ]
  },
  {
   "cell_type": "markdown",
   "metadata": {
    "id": "LLzu4VWBZasN"
   },
   "source": [
    "## Подбираем параметры (2 балла)\n",
    "\n",
    "Давайте попробуем применить Ваш бустинг для предсказаний цены домов в Калифорнии. Чтобы можно было попробовтаь разные функции потерь, переведем по порогу таргет в 2 класса: дорогие и дешевые дома."
   ]
  },
  {
   "cell_type": "markdown",
   "metadata": {
    "id": "Vpq5XNpHZasN"
   },
   "source": [
    "В задании нужно\n",
    "\n",
    "1) Построить график точности в зависимости от числа итераций на валидации.\n",
    "\n",
    "2) Подобрать оптимальные параметры Вашего бустинга на валидации. \n"
   ]
  },
  {
   "cell_type": "code",
   "execution_count": 6,
   "metadata": {
    "id": "OmAwdX-GZasN"
   },
   "outputs": [],
   "source": [
    "from sklearn.datasets import fetch_california_housing\n",
    "X, y = fetch_california_housing(return_X_y=True)"
   ]
  },
  {
   "cell_type": "code",
   "execution_count": 7,
   "metadata": {
    "colab": {
     "base_uri": "https://localhost:8080/"
    },
    "id": "JyMGiYtjZasN",
    "outputId": "bcc11258-b865-4f0b-84c1-2ab4aaaf3d11"
   },
   "outputs": [
    {
     "name": "stdout",
     "output_type": "stream",
     "text": [
      "(20640, 8) (20640,)\n"
     ]
    }
   ],
   "source": [
    "# Превращаем регрессию в классификацию\n",
    "y = (y > 2.0).astype(int)\n",
    "print(X.shape, y.shape)"
   ]
  },
  {
   "cell_type": "code",
   "execution_count": 8,
   "metadata": {
    "collapsed": true,
    "id": "SZ0ZDycDZasP",
    "jupyter": {
     "outputs_hidden": true
    }
   },
   "outputs": [],
   "source": [
    "X_train, X_test, y_train, y_test = train_test_split(X, y, test_size=0.1, stratify=y)"
   ]
  },
  {
   "cell_type": "code",
   "execution_count": 9,
   "metadata": {
    "colab": {
     "base_uri": "https://localhost:8080/",
     "height": 312
    },
    "collapsed": true,
    "id": "UZe1RkUzZasP",
    "jupyter": {
     "outputs_hidden": true
    },
    "outputId": "e3261a34-cc35-4f8a-9efd-c827d523aba2"
   },
   "outputs": [
    {
     "name": "stderr",
     "output_type": "stream",
     "text": [
      "100%|██████████| 20/20 [02:31<00:00,  7.59s/it]\n"
     ]
    },
    {
     "data": {
      "image/png": "[encoded data removed]",
      "text/plain": [
       "<Figure size 432x288 with 1 Axes>"
      ]
     },
     "metadata": {
      "needs_background": "light",
      "tags": []
     },
     "output_type": "display_data"
    }
   ],
   "source": [
    "my_GBC_score = []\n",
    "number_of_estimators = []\n",
    "for i in tqdm(range(1, 200, 10)):\n",
    "    my_clf = MyGradientBoostingClassifier(n_estimators = i)\n",
    "    my_clf.fit(X_train, y_train)\n",
    "    my_GBC_score.append(accuracy_score(y_pred=my_clf.predict(X_test), y_true=y_test))\n",
    "    number_of_estimators.append(i)\n",
    "\n",
    "\n",
    "plt.plot(number_of_estimators, my_GBC_score, color='orange', label='my GBC')\n",
    "\n",
    "plt.xlabel(\"Number of estimators\")\n",
    "plt.ylabel(\"Score\")\n",
    "plt.title(\"Dependence on number of estimators\")\n",
    "\n",
    "plt.legend()\n",
    "plt.show()"
   ]
  },
  {
   "cell_type": "code",
   "execution_count": 12,
   "metadata": {
    "colab": {
     "base_uri": "https://localhost:8080/",
     "height": 296
    },
    "id": "s2hR8oyBpa7r",
    "outputId": "b94dd6eb-9689-49bb-d67e-43552c75a7fb"
   },
   "outputs": [
    {
     "data": {
      "image/png": "[encoded data removed]",
      "text/plain": [
       "<Figure size 432x288 with 1 Axes>"
      ]
     },
     "metadata": {
      "needs_background": "light",
      "tags": []
     },
     "output_type": "display_data"
    }
   ],
   "source": [
    "my_GBC_score = []\n",
    "number_of_estimators = []\n",
    "for i in (np.arange(0.05, 1.0, 0.05)):\n",
    "    my_clf = MyGradientBoostingClassifier(learning_rate=i)\n",
    "    my_clf.fit(X_train, y_train)\n",
    "    my_GBC_score.append(accuracy_score(y_pred=my_clf.predict(X_test), y_true=y_test))\n",
    "    number_of_estimators.append(i)\n",
    "\n",
    "\n",
    "plt.plot(number_of_estimators, my_GBC_score, color='orange', label='my GBC')\n",
    "\n",
    "plt.xlabel(\"learning_rate\")\n",
    "plt.ylabel(\"Score\")\n",
    "plt.title(\"Dependence on learning_rate\")\n",
    "\n",
    "plt.legend()\n",
    "plt.show()"
   ]
  },
  {
   "cell_type": "code",
   "execution_count": 13,
   "metadata": {
    "colab": {
     "base_uri": "https://localhost:8080/",
     "height": 295
    },
    "id": "HOi2ik0jrbNT",
    "outputId": "9d0b4009-5baf-4b81-9530-55f36dbd09a5"
   },
   "outputs": [
    {
     "data": {
      "image/png": "[encoded data removed]",
      "text/plain": [
       "<Figure size 432x288 with 1 Axes>"
      ]
     },
     "metadata": {
      "needs_background": "light",
      "tags": []
     },
     "output_type": "display_data"
    }
   ],
   "source": [
    "my_GBC_score = []\n",
    "number_of_estimators = []\n",
    "for i in (np.arange(0.15, 1.05, 0.05)):\n",
    "    my_clf = MyGradientBoostingClassifier(colsample=i)\n",
    "    my_clf.fit(X_train, y_train)\n",
    "    my_GBC_score.append(accuracy_score(y_pred=my_clf.predict(X_test), y_true=y_test))\n",
    "    number_of_estimators.append(i)\n",
    "\n",
    "\n",
    "plt.plot(number_of_estimators, my_GBC_score, color='orange', label='my GBC')\n",
    "\n",
    "plt.xlabel(\"colsample\")\n",
    "plt.ylabel(\"Score\")\n",
    "plt.title(\"Dependence on colsample\")\n",
    "\n",
    "plt.legend()\n",
    "plt.show()"
   ]
  },
  {
   "cell_type": "code",
   "execution_count": 14,
   "metadata": {
    "colab": {
     "base_uri": "https://localhost:8080/",
     "height": 295
    },
    "id": "5jhCiszBsr9Y",
    "outputId": "2c206647-6fca-404b-a02f-e21f1d89dba7"
   },
   "outputs": [
    {
     "data": {
      "image/png": "[encoded data removed]",
      "text/plain": [
       "<Figure size 432x288 with 1 Axes>"
      ]
     },
     "metadata": {
      "needs_background": "light",
      "tags": []
     },
     "output_type": "display_data"
    }
   ],
   "source": [
    "my_GBC_score = []\n",
    "number_of_estimators = []\n",
    "for i in (np.arange(0.15, 1.05, 0.05)):\n",
    "    my_clf = MyGradientBoostingClassifier(subsample=i)\n",
    "    my_clf.fit(X_train, y_train)\n",
    "    my_GBC_score.append(accuracy_score(y_pred=my_clf.predict(X_test), y_true=y_test))\n",
    "    number_of_estimators.append(i)\n",
    "\n",
    "\n",
    "plt.plot(number_of_estimators, my_GBC_score, color='orange', label='my GBC')\n",
    "\n",
    "plt.xlabel(\"subsample\")\n",
    "plt.ylabel(\"Score\")\n",
    "plt.title(\"Dependence on subsample\")\n",
    "\n",
    "plt.legend()\n",
    "plt.show()"
   ]
  },
  {
   "cell_type": "code",
   "execution_count": 15,
   "metadata": {
    "colab": {
     "base_uri": "https://localhost:8080/",
     "height": 295
    },
    "id": "NISsbl8AtXhE",
    "outputId": "d33d3b8f-ad92-40da-98c5-4dca9c2d6273"
   },
   "outputs": [
    {
     "data": {
      "image/png": "[encoded data removed]",
      "text/plain": [
       "<Figure size 432x288 with 1 Axes>"
      ]
     },
     "metadata": {
      "needs_background": "light",
      "tags": []
     },
     "output_type": "display_data"
    }
   ],
   "source": [
    "my_loss = ['mse', 'exp', 'log']\n",
    "my_GBC_score = []\n",
    "for i in my_loss:\n",
    "    my_clf = MyGradientBoostingClassifier(loss=i)\n",
    "    my_clf.fit(X_train, y_train)\n",
    "    my_GBC_score.append(accuracy_score(y_pred=my_clf.predict(X_test), y_true=y_test))\n",
    "\n",
    "plt.bar(my_loss, my_GBC_score, color='orange', label='my GBC')\n",
    "\n",
    "plt.xlabel(\"Loss\")\n",
    "plt.ylabel(\"Score\")\n",
    "plt.title(\"Dependence on loss\")\n",
    "\n",
    "plt.legend()\n",
    "plt.show()"
   ]
  },
  {
   "cell_type": "markdown",
   "metadata": {
    "id": "jPK3kQUNv5wi"
   },
   "source": [
    "### Таким образом выяснили, что самые оптимальные признаки это: \n",
    "\n",
    "*   loss='mse'\n",
    "*   n_estimators=100 (здесь не принципиально)\n",
    "*   learning_rate=0.7\n",
    "*   colsample=0.45\n",
    "*   subsample=0.85\n",
    "\n",
    "\n",
    "\n",
    "\n"
   ]
  },
  {
   "cell_type": "code",
   "execution_count": 20,
   "metadata": {
    "colab": {
     "base_uri": "https://localhost:8080/"
    },
    "id": "zu9FM-JGwzeU",
    "outputId": "3f0d2c0e-d875-4ba8-b1bd-cccde206826d"
   },
   "outputs": [
    {
     "name": "stdout",
     "output_type": "stream",
     "text": [
      "0.6908914728682171\n"
     ]
    }
   ],
   "source": [
    "my_clf = MyGradientBoostingClassifier(loss='mse', learning_rate=0.7, colsample=0.45, subsample=0.85)\n",
    "my_clf.fit(X_train, y_train)\n",
    "print(accuracy_score(y_pred=my_clf.predict(X_test), y_true=y_test))"
   ]
  },
  {
   "cell_type": "markdown",
   "metadata": {
    "id": "CYAKXEhmZasP"
   },
   "source": [
    "## BooBag BagBoo (1 балл)\n",
    "\n"
   ]
  },
  {
   "cell_type": "markdown",
   "metadata": {
    "id": "nxHrnuw0ZasP"
   },
   "source": [
    "Попробуем объединить бустинг и бэгинг. Давайте\n",
    "\n",
    "1) в качестве базовой модели брать не дерево решений, а случайный лес (из sklearn)\n",
    "\n",
    "2) обучать N бустингов на бустрапированной выборке, а затем предикт усреднять"
   ]
  },
  {
   "cell_type": "markdown",
   "metadata": {
    "id": "uuhQCpRpZasP"
   },
   "source": [
    "Попробуйте обе этих стратегии на данных из прошлого задания. Получилось ли улучшить качество? Почему?"
   ]
  },
  {
   "cell_type": "code",
   "execution_count": 16,
   "metadata": {
    "collapsed": true,
    "id": "ngMI7fQ1ZasP",
    "jupyter": {
     "outputs_hidden": true
    }
   },
   "outputs": [],
   "source": []
  },
  {
   "cell_type": "code",
   "execution_count": 16,
   "metadata": {
    "collapsed": true,
    "id": "HjrA3btNZasP",
    "jupyter": {
     "outputs_hidden": true
    }
   },
   "outputs": [],
   "source": []
  },
  {
   "cell_type": "markdown",
   "metadata": {
    "id": "3ke9jWrAZasQ"
   },
   "source": [
    "## Умная инициализация (1 балл)\n",
    "\n",
    "Попробуйте брать в качестве инициализации бустинга не константу, а какой-то алгоритм и уже от его предикта стартовать итерации бустинга. Попробуйте разные модели из sklearn: линейные модели, рандом форест, svm..\n",
    "\n",
    "Получилось ли улучшить качество? Почему?\n",
    "\n"
   ]
  },
  {
   "cell_type": "code",
   "execution_count": 17,
   "metadata": {
    "colab": {
     "base_uri": "https://localhost:8080/"
    },
    "collapsed": true,
    "id": "T4Sx0UpQZasQ",
    "jupyter": {
     "outputs_hidden": true
    },
    "outputId": "3fc570a7-ee33-4fab-8d4c-a3a396235a86"
   },
   "outputs": [
    {
     "name": "stdout",
     "output_type": "stream",
     "text": [
      "0.6472868217054264\n"
     ]
    }
   ],
   "source": [
    "my_clf = MyGradientBoostingClassifier(loss='mse', learning_rate=0.7, colsample=0.55, subsample=0.95)\n",
    "my_clf.fit(X=X_train, y=y_train, init_model=LinearRegression)\n",
    "print(accuracy_score(y_pred=my_clf.predict(X_test), y_true=y_test))"
   ]
  },
  {
   "cell_type": "code",
   "execution_count": 18,
   "metadata": {
    "colab": {
     "base_uri": "https://localhost:8080/"
    },
    "collapsed": true,
    "id": "V0GB9CmOZasQ",
    "jupyter": {
     "outputs_hidden": true
    },
    "outputId": "506abaf0-762a-46f3-8886-11431e8ff144"
   },
   "outputs": [
    {
     "name": "stdout",
     "output_type": "stream",
     "text": [
      "0.875484496124031\n"
     ]
    }
   ],
   "source": [
    "my_clf = MyGradientBoostingClassifier(loss='mse', learning_rate=0.7, colsample=0.55, subsample=0.95)\n",
    "my_clf.fit(X_train, y_train, init_model=RandomForestRegressor)\n",
    "print(accuracy_score(y_pred=my_clf.predict(X_test), y_true=y_test))"
   ]
  },
  {
   "cell_type": "code",
   "execution_count": 19,
   "metadata": {
    "colab": {
     "base_uri": "https://localhost:8080/"
    },
    "id": "IsdezrFAyQqO",
    "outputId": "92c9adc6-14f8-483d-b027-e7af5f65efd6"
   },
   "outputs": [
    {
     "name": "stdout",
     "output_type": "stream",
     "text": [
      "0.41908914728682173\n"
     ]
    }
   ],
   "source": [
    "my_clf = MyGradientBoostingClassifier(loss='mse', learning_rate=0.7, colsample=0.55, subsample=0.95)\n",
    "my_clf.fit(X_train, y_train, init_model=SVR)\n",
    "print(accuracy_score(y_pred=my_clf.predict(X_test), y_true=y_test))"
   ]
  },
  {
   "cell_type": "markdown",
   "metadata": {
    "id": "klnXesoM308m"
   },
   "source": [
    "### Качество немного подросло в RandomForestRegressor. Всё-равно инициализация нулями это не всегда хорошо. При умной инициализации можно найти другие зависимости."
   ]
  },
  {
   "cell_type": "markdown",
   "metadata": {
    "id": "xZaHYphzZasQ"
   },
   "source": [
    "## Фидбек (бесценно)"
   ]
  },
  {
   "cell_type": "markdown",
   "metadata": {
    "id": "WAIkL3WhZasR"
   },
   "source": [
    "* Какие аспекты обучения  ансамблей Вам показались непонятными? Какое место стоит дополнительно объяснить?"
   ]
  },
  {
   "cell_type": "markdown",
   "metadata": {
    "id": "QfFVCKX7ZasS"
   },
   "source": [
    "### Ваш ответ здесь"
   ]
  },
  {
   "cell_type": "markdown",
   "metadata": {
    "id": "fwJpxsPPZasS"
   },
   "source": [
    "Всё-таки тяжеловато. Вроде и лекцию посмотрел и презентацию заботал, а всё-равно идёт туго. Особенно с методом fit долго просидел. Может стоит дать подсказку как его делать в следующий раз. Хорошо, что времени было предостаточно. \n",
    "Ещё с colsample и subsample провозился. Куча ошибок с размерностью было, но вроде всё пофиксил. Времени убил кончено...\n",
    "\n",
    "Ещё не очень круто, что дедлайн тесно пересекается с соревнованием и мини-проектом по анализу. Поэтому пришлось на майских прям посидеть.\n",
    "\n",
    "А в целом прикольное дз, считай возишься 80% времени с построением класса, а потом просто чиллишь на подборе параметров. Имхо, самая интересная домашка)"
   ]
  },
  {
   "cell_type": "markdown",
   "metadata": {
    "id": "7pWzaIUcZasS"
   },
   "source": [
    "### ВАШ ОТЗЫВ ЗДЕСЬ\n",
    "\n"
   ]
  },
  {
   "cell_type": "code",
   "execution_count": null,
   "metadata": {
    "collapsed": true,
    "id": "zdM3Yuf8ZasS",
    "jupyter": {
     "outputs_hidden": true
    }
   },
   "outputs": [],
   "source": []
  },
  {
   "cell_type": "code",
   "execution_count": null,
   "metadata": {
    "collapsed": true,
    "id": "eeL4MzbVZasT",
    "jupyter": {
     "outputs_hidden": true
    }
   },
   "outputs": [],
   "source": []
  }
 ],
 "metadata": {
  "anaconda-cloud": {},
  "colab": {
   "name": "Gradient_Boosting.ipynb",
   "provenance": [],
   "toc_visible": true
  },
  "kernelspec": {
   "display_name": "Python 3",
   "language": "python",
   "name": "python3"
  },
  "language_info": {
   "codemirror_mode": {
    "name": "ipython",
    "version": 3
   },
   "file_extension": ".py",
   "mimetype": "text/x-python",
   "name": "python",
   "nbconvert_exporter": "python",
   "pygments_lexer": "ipython3",
   "version": "3.8.5"
  }
 },
 "nbformat": 4,
 "nbformat_minor": 4
}

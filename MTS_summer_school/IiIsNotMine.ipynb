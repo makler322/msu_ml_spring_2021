{
  "nbformat": 4,
  "nbformat_minor": 0,
  "metadata": {
    "kernelspec": {
      "language": "python",
      "display_name": "Python 3",
      "name": "python3"
    },
    "language_info": {
      "pygments_lexer": "ipython3",
      "nbconvert_exporter": "python",
      "version": "3.6.4",
      "file_extension": ".py",
      "codemirror_mode": {
        "name": "ipython",
        "version": 3
      },
      "name": "python",
      "mimetype": "text/x-python"
    },
    "colab": {
      "name": "IiIsNotMine.ipynb",
      "provenance": [],
      "toc_visible": true,
      "include_colab_link": true
    }
  },
  "cells": [
    {
      "cell_type": "markdown",
      "metadata": {
        "id": "view-in-github",
        "colab_type": "text"
      },
      "source": [
        "<a href=\"https://colab.research.google.com/github/makler322/msu_ml_spring_2021/blob/master/MTS_summer_school/IiIsNotMine.ipynb\" target=\"_parent\"><img src=\"https://colab.research.google.com/assets/colab-badge.svg\" alt=\"Open In Colab\"/></a>"
      ]
    },
    {
      "cell_type": "markdown",
      "metadata": {
        "editable": false,
        "id": "aynWt4Riw4Td"
      },
      "source": [
        "# **Рекомендательная система**"
      ]
    },
    {
      "cell_type": "markdown",
      "metadata": {
        "editable": false,
        "id": "xZNDyrLww4Tm"
      },
      "source": [
        "Имеются следующие базы: Книг (Автор, Название, Год, Идентификатор, Жанр)\n",
        "                        Пользователей (Идентификатор, Возраст, Пол)\n",
        "                        Взаимодействия (Идентификатор пользователя, Идентификатор книги, Прогресс прочтения книги пользователем в процентах\n",
        "                                            Оценка пользователя, Дата открытия книги)\n",
        "\n",
        "Цель: Наиболее точно порекомендовать список из 10 книг для каждого пользователя из тестовой выборки.\n",
        "Так как мне не хотят сообщать что нужно вычислить факт прочтения или факт открытия (как сообщать дострою еще варианты, блокнот получится длиииным)))\n",
        "                     буду пока оценивать по своей метрике."
      ]
    },
    {
      "cell_type": "markdown",
      "metadata": {
        "editable": false,
        "id": "bXEk956tw4Tn"
      },
      "source": [
        "1. Загрузка, обработка и стыковка данных\n",
        "2. модель **Tensor Flow** раотающая на **TPU**   (в 16 раз ускорило работу сети) модель с четырмя раздельными входами: \n",
        "          1 - принимает id пользователя, разбивая на вектор эмбединга\n",
        "          2 - принимает id книги, разбивая на вектор эмбединга\n",
        "          3 - принимает массив числовые характеристик книг и пользователя и их взаимодействий\n",
        "          4 - принимает вектор описания жанра объединенное с автором разбитый на токены\n",
        "          На выход подается id книги с которым пользователь взаимодействовал после книги поданной на вход"
      ]
    },
    {
      "cell_type": "markdown",
      "metadata": {
        "editable": false,
        "id": "xLeLc9cFw4To"
      },
      "source": [
        "Конечно времени не так много и проект тестовый и реальную метрику не уточняют мне в задании, но рабочий можно было бы еще оптимизировать.\n",
        "Оптимизировать код весь для работы в компании где маленький процент точности дает результаты хорошие в бизнесе, расчиеты, вычисления в матричные по возмможности все перевести, после этого и  с сетью проще будет и быстрее работать. Далее я бы использовал парсер сайтов чтоб собрать описания книг и возможно комментарии к ним объеденив комменатрии к каждой книге тоже в эмбединг пропустив через lstm сеть, используя Bert к примеру, количество страниц и т.д. Наши данные здесь и модель далеки от совершенства, но ядро думаю очень неплохо составленно. Попробовать первый слой для входа описаний использовать так же Conv слои из компьютерного зрения собирающие признаки в ядра свертки. С LSTM бы сняли больше смысловой инфы с текстов, сверточные слои в качестве енкодеров после них ускорили бы значительно работу сети. Написать Функцию кросс валидации, потому что для этой сети с TPU сырая библиотека и нет готовой, но думаю проблемы ни для кого не составит. Организовать систему подбора гипер параметров. это уже легкие задачи, но перед этим нужно значительно оптимизировать все."
      ]
    },
    {
      "cell_type": "markdown",
      "metadata": {
        "editable": false,
        "id": "kdNkdQRTw4Tp"
      },
      "source": [
        "Времени мало. Для идеального решения такой задачи важно так же сравнить это все с работой других моделей и алгоритмов машинного обучения, Пробовать стекинг объязательно, я пробовал на другой задаче стекинг нейросетей с простыми алгоритмами и бустингами. Это все очень занимательно и важно для задачи и хочется все модели построить проверить. Впрочем может позже будет поставлена такая задача, где я смогу собрать это все провести детальный анализ и написать статью хорошо оформленную, где распишу каждый шаг. думаю этого в сети не хватает)))"
      ]
    },
    {
      "cell_type": "code",
      "metadata": {
        "editable": false,
        "trusted": true,
        "colab": {
          "base_uri": "https://localhost:8080/"
        },
        "id": "Y3q0g83-w4Tp",
        "outputId": "c96418c1-4b97-4b61-b02b-8229744c8655"
      },
      "source": [
        "#!pip install ml_metrics\n",
        "!pip install lightfm"
      ],
      "execution_count": 11,
      "outputs": [
        {
          "output_type": "stream",
          "text": [
            "Collecting lightfm\n",
            "\u001b[?25l  Downloading https://files.pythonhosted.org/packages/5e/fe/8864d723daa8e5afc74080ce510c30f7ad52facf6a157d4b42dec83dfab4/lightfm-1.16.tar.gz (310kB)\n",
            "\u001b[K     |████████████████████████████████| 317kB 3.9MB/s \n",
            "\u001b[?25hRequirement already satisfied: numpy in /usr/local/lib/python3.7/dist-packages (from lightfm) (1.19.5)\n",
            "Requirement already satisfied: scipy>=0.17.0 in /usr/local/lib/python3.7/dist-packages (from lightfm) (1.4.1)\n",
            "Requirement already satisfied: requests in /usr/local/lib/python3.7/dist-packages (from lightfm) (2.23.0)\n",
            "Requirement already satisfied: scikit-learn in /usr/local/lib/python3.7/dist-packages (from lightfm) (0.22.2.post1)\n",
            "Requirement already satisfied: certifi>=2017.4.17 in /usr/local/lib/python3.7/dist-packages (from requests->lightfm) (2020.12.5)\n",
            "Requirement already satisfied: urllib3!=1.25.0,!=1.25.1,<1.26,>=1.21.1 in /usr/local/lib/python3.7/dist-packages (from requests->lightfm) (1.24.3)\n",
            "Requirement already satisfied: idna<3,>=2.5 in /usr/local/lib/python3.7/dist-packages (from requests->lightfm) (2.10)\n",
            "Requirement already satisfied: chardet<4,>=3.0.2 in /usr/local/lib/python3.7/dist-packages (from requests->lightfm) (3.0.4)\n",
            "Requirement already satisfied: joblib>=0.11 in /usr/local/lib/python3.7/dist-packages (from scikit-learn->lightfm) (1.0.1)\n",
            "Building wheels for collected packages: lightfm\n",
            "  Building wheel for lightfm (setup.py) ... \u001b[?25l\u001b[?25hdone\n",
            "  Created wheel for lightfm: filename=lightfm-1.16-cp37-cp37m-linux_x86_64.whl size=705351 sha256=88967e689e1ba9fc1ca8e3c378db1e1a6f9ea9a1ea35e90d2bdad9352781a2d8\n",
            "  Stored in directory: /root/.cache/pip/wheels/c6/64/d4/673c7277f71ac4c5ad4835b94708c01b653ef2d3aa78ef20aa\n",
            "Successfully built lightfm\n",
            "Installing collected packages: lightfm\n",
            "Successfully installed lightfm-1.16\n"
          ],
          "name": "stdout"
        }
      ]
    },
    {
      "cell_type": "code",
      "metadata": {
        "colab": {
          "base_uri": "https://localhost:8080/"
        },
        "id": "12hURZUexNCS",
        "outputId": "7060e692-a601-4b45-e3fa-478dec4c5d47"
      },
      "source": [
        "from google.colab import drive\n",
        "drive.mount('/content/drive')"
      ],
      "execution_count": 9,
      "outputs": [
        {
          "output_type": "stream",
          "text": [
            "Drive already mounted at /content/drive; to attempt to forcibly remount, call drive.mount(\"/content/drive\", force_remount=True).\n"
          ],
          "name": "stdout"
        }
      ]
    },
    {
      "cell_type": "code",
      "metadata": {
        "editable": false,
        "trusted": true,
        "colab": {
          "base_uri": "https://localhost:8080/",
          "height": 70
        },
        "id": "AsxgSti3w4Tr",
        "outputId": "e2e7c7a5-2424-43a6-a900-389ffba80443"
      },
      "source": [
        "# Импорт библиотек\n",
        "import warnings\n",
        "warnings.filterwarnings(\"ignore\")\n",
        "\n",
        "import os\n",
        "import re\n",
        "import sys\n",
        "import nltk\n",
        "import time\n",
        "import pickle\n",
        "import string\n",
        "import datetime\n",
        "import ml_metrics \n",
        "import numpy as np\n",
        "import pandas as pd\n",
        "from  more_itertools import unique_everseen\n",
        "import tensorflow as tf\n",
        "import plotly.graph_objs as go\n",
        "import plotly.figure_factory as ff\n",
        "\n",
        "from tqdm.auto import tqdm\n",
        "from lightfm.data import Dataset\n",
        "from collections import deque\n",
        "from sklearn.metrics import mean_squared_error\n",
        "from sklearn.metrics.pairwise import cosine_similarity\n",
        "from scipy.sparse import coo_matrix\n",
        "from lightfm import LightFM\n",
        "from lightfm.evaluation import precision_at_k\n",
        "from scipy.sparse import vstack\n",
        "from scipy import sparse\n",
        "from lightfm import LightFM\n",
        "from sklearn.metrics.pairwise import cosine_similarity\n",
        "\n",
        "from scipy import stats\n",
        "from sklearn.preprocessing import StandardScaler, LabelEncoder\n",
        "from sklearn.metrics import mean_squared_error\n",
        "from sklearn.feature_extraction.text import TfidfVectorizer\n",
        "from sklearn.model_selection import KFold, cross_val_score, train_test_split\n",
        "from sklearn.experimental import enable_iterative_imputer\n",
        "from sklearn.impute import IterativeImputer\n",
        "from subprocess import check_output\n",
        "from scipy.special import boxcox1p\n",
        "\n",
        "from tensorflow.keras.layers import Input, Embedding, Reshape, Dot, Concatenate, Dense, Dropout, BatchNormalization, Flatten\n",
        "from tensorflow.keras.optimizers import Adam, Adagrad, SGD\n",
        "from tensorflow.python.keras import regularizers\n",
        "from tensorflow.keras.models import Model\n",
        "from tensorflow.keras.callbacks import ModelCheckpoint, EarlyStopping\n",
        "\n",
        "from nltk.corpus import stopwords\n",
        "from nltk.stem import WordNetLemmatizer\n",
        "from nltk import word_tokenize\n",
        "from nltk.corpus import stopwords\n",
        "\n",
        "nltk.download('stopwords')\n",
        "stop = stopwords.words('russian')\n",
        "stop_words_ = set(stopwords.words('russian'))\n",
        "wn = WordNetLemmatizer()\n",
        "\n",
        "tf.__version__"
      ],
      "execution_count": 13,
      "outputs": [
        {
          "output_type": "stream",
          "text": [
            "[nltk_data] Downloading package stopwords to /root/nltk_data...\n",
            "[nltk_data]   Unzipping corpora/stopwords.zip.\n"
          ],
          "name": "stdout"
        },
        {
          "output_type": "execute_result",
          "data": {
            "application/vnd.google.colaboratory.intrinsic+json": {
              "type": "string"
            },
            "text/plain": [
              "'2.4.1'"
            ]
          },
          "metadata": {
            "tags": []
          },
          "execution_count": 13
        }
      ]
    },
    {
      "cell_type": "markdown",
      "metadata": {
        "editable": false,
        "id": "rZcW_vnFw4Tt"
      },
      "source": [
        "Запуск обнаружения наличия GPU и вывод количества потоков доступных для распаралеливания вычислений. Не забудьте выключить GPU в блокноте"
      ]
    },
    {
      "cell_type": "code",
      "metadata": {
        "editable": false,
        "trusted": true,
        "colab": {
          "base_uri": "https://localhost:8080/"
        },
        "id": "tjanKxemw4Tt",
        "outputId": "d32bc439-0c86-47a3-eca9-899dbfd043cf"
      },
      "source": [
        "device_name = tf.test.gpu_device_name()\n",
        "if \"GPU\" not in device_name:\n",
        "    print(\"GPU device not found\")\n",
        "print('Found GPU at: {}'.format(device_name))\n",
        "strategy = tf.distribute.MirroredStrategy(devices = [\"GPU:0\", \"GPU:1\"])"
      ],
      "execution_count": 14,
      "outputs": [
        {
          "output_type": "stream",
          "text": [
            "GPU device not found\n",
            "Found GPU at: \n",
            "WARNING:tensorflow:Some requested devices in `tf.distribute.Strategy` are not visible to TensorFlow: /job:localhost/replica:0/task:0/device:GPU:1,/job:localhost/replica:0/task:0/device:GPU:0\n",
            "INFO:tensorflow:Using MirroredStrategy with devices ('/job:localhost/replica:0/task:0/device:GPU:0', '/job:localhost/replica:0/task:0/device:GPU:1')\n"
          ],
          "name": "stdout"
        }
      ]
    },
    {
      "cell_type": "markdown",
      "metadata": {
        "editable": false,
        "id": "_0KAGTVxw4Tt"
      },
      "source": [
        "Запуск обнаружения наличия TPU и вывод количества потоков доступных для распаралеливания вычислений. Не забудьте выключить TPU в блокноте"
      ]
    },
    {
      "cell_type": "code",
      "metadata": {
        "editable": false,
        "trusted": true,
        "colab": {
          "base_uri": "https://localhost:8080/",
          "height": 70
        },
        "id": "YRP2lwv4w4Tt",
        "outputId": "3379cc17-786b-4426-b133-30bdeb4345f2"
      },
      "source": [
        "'''try:\n",
        "    tpu = tf.distribute.cluster_resolver.TPUClusterResolver()\n",
        "    tf.config.experimental_connect_to_cluster(tpu)\n",
        "    tf.tpu.experimental.initialize_tpu_system(tpu)\n",
        "    strategy = tf.distribute.experimental.TPUStrategy(tpu)\n",
        "    print('Running on TPU ', tpu.master())\n",
        "except ValueError:\n",
        "    strategy = tf.distribute.get_strategy()\n",
        "\n",
        "print(\"REPLICAS: \", strategy.num_replicas_in_sync)'''"
      ],
      "execution_count": 15,
      "outputs": [
        {
          "output_type": "execute_result",
          "data": {
            "application/vnd.google.colaboratory.intrinsic+json": {
              "type": "string"
            },
            "text/plain": [
              "'try:\\n    tpu = tf.distribute.cluster_resolver.TPUClusterResolver()\\n    tf.config.experimental_connect_to_cluster(tpu)\\n    tf.tpu.experimental.initialize_tpu_system(tpu)\\n    strategy = tf.distribute.experimental.TPUStrategy(tpu)\\n    print(\\'Running on TPU \\', tpu.master())\\nexcept ValueError:\\n    strategy = tf.distribute.get_strategy()\\n\\nprint(\"REPLICAS: \", strategy.num_replicas_in_sync)'"
            ]
          },
          "metadata": {
            "tags": []
          },
          "execution_count": 15
        }
      ]
    },
    {
      "cell_type": "markdown",
      "metadata": {
        "editable": false,
        "id": "5RF3WXvXw4Tv"
      },
      "source": [
        "Ограничение вывода числа знаков после запятой до трех в таблицах, наших и просмотр фаайлов в каталоге\n"
      ]
    },
    {
      "cell_type": "code",
      "metadata": {
        "editable": false,
        "trusted": true,
        "id": "IQSF9KwMw4Tv"
      },
      "source": [
        "#pd.set_option('display.float_format', lambda x: '{:.3f}'.format(x))\n",
        "#print(check_output([\"ls\", \"../input/mts-ml-summer-school\"]).decode(\"utf8\"))"
      ],
      "execution_count": 16,
      "outputs": []
    },
    {
      "cell_type": "markdown",
      "metadata": {
        "editable": false,
        "id": "7eW9xTW-w4Tw"
      },
      "source": [
        "Загрузка данных"
      ]
    },
    {
      "cell_type": "code",
      "metadata": {
        "editable": false,
        "trusted": true,
        "id": "GDjo85Tqw4Tw"
      },
      "source": [
        "submission = pd.read_csv('/content/drive/MyDriv/MTS_summer_school/sample_submission.csv')\n",
        "users = pd.read_csv('/conteent/drive/MyDrive/MTS_summer_school/users.csv')\n",
        "items = pd.read_csv('/content/drive/MyDrive/MTS_summer_school/items.csv')\n",
        "interactions = pd.read_csv('/content/drive/MyDrive/MTS_summer_school/interactions.csv')"
      ],
      "execution_count": 17,
      "outputs": []
    },
    {
      "cell_type": "markdown",
      "metadata": {
        "editable": false,
        "id": "tKenZw5nw4Tw"
      },
      "source": [
        "Функция проверки отсутствующих пользователей из целевого списка в будущем обучающем датафрейме. Проверил и с другими таблицами, о двух пользователях выведенных в целевой список нет вообще никакакой информации, но их важно добавить, иначе сеть выдаст ошибку когда примет их в прогнозирование, т.к. их ид не найдется место в эмбединге"
      ]
    },
    {
      "cell_type": "code",
      "metadata": {
        "editable": false,
        "trusted": true,
        "colab": {
          "base_uri": "https://localhost:8080/"
        },
        "id": "RJpHrdNjw4Tw",
        "outputId": "554f946d-cd35-4236-8a69-1556f63707b7"
      },
      "source": [
        "def miss_user(table):\n",
        "    return len(list(set(submission.Id.unique()) - set(table.user_id.unique())))\n",
        "miss_user(interactions)"
      ],
      "execution_count": 18,
      "outputs": [
        {
          "output_type": "execute_result",
          "data": {
            "text/plain": [
              "2"
            ]
          },
          "metadata": {
            "tags": []
          },
          "execution_count": 18
        }
      ]
    },
    {
      "cell_type": "markdown",
      "metadata": {
        "editable": false,
        "id": "Cj4rvFGzw4Tw"
      },
      "source": [
        "Вывод размерности таблиц данных и выведем информацию о таблице пользователей, с него и начнем."
      ]
    },
    {
      "cell_type": "code",
      "metadata": {
        "editable": false,
        "trusted": true,
        "colab": {
          "base_uri": "https://localhost:8080/"
        },
        "id": "kjhW-IM5w4Tx",
        "outputId": "7491b44a-ef98-47b0-fdc8-4231baf90cdc"
      },
      "source": [
        "# Вывод размерности таблиц данных\n",
        "print('users shape - ', users.shape, '\\nitems shape - ', items.shape, '\\ninteractions shape - ', interactions.shape)\n",
        "# Просмотр уникальных значений возраста таблицы пользователей\n",
        "print('We have {} unique values in {} column in users age: {}'.format(len(users['age'].unique()), 'age', users['age'].unique()))\n",
        "# Вывод информации о пользователях\n",
        "users.info()"
      ],
      "execution_count": 19,
      "outputs": [
        {
          "output_type": "stream",
          "text": [
            "users shape -  (137254, 3) \n",
            "items shape -  (63758, 5) \n",
            "interactions shape -  (1562617, 5)\n",
            "We have 7 unique values in age column in users age: ['45_54' '25_34' '65_inf' '18_24' '35_44' '55_64' nan]\n",
            "<class 'pandas.core.frame.DataFrame'>\n",
            "RangeIndex: 137254 entries, 0 to 137253\n",
            "Data columns (total 3 columns):\n",
            " #   Column   Non-Null Count   Dtype  \n",
            "---  ------   --------------   -----  \n",
            " 0   user_id  137254 non-null  int64  \n",
            " 1   age      137244 non-null  object \n",
            " 2   sex      135640 non-null  float64\n",
            "dtypes: float64(1), int64(1), object(1)\n",
            "memory usage: 3.1+ MB\n"
          ],
          "name": "stdout"
        }
      ]
    },
    {
      "cell_type": "markdown",
      "metadata": {
        "editable": false,
        "id": "s3D4ucZ1w4Tx"
      },
      "source": [
        "Смотрим распределение признака возраста"
      ]
    },
    {
      "cell_type": "code",
      "metadata": {
        "editable": false,
        "trusted": true,
        "colab": {
          "base_uri": "https://localhost:8080/",
          "height": 617
        },
        "id": "cAE955tDw4Tx",
        "outputId": "697d4861-b2b9-4903-9368-7e00ead4ffb3"
      },
      "source": [
        "group_age_m = users.loc[users['sex'] == 1].groupby('age').count()  \n",
        "group_age_f = users.loc[users['sex'] == 0].groupby('age').count()\n",
        "fig = go.Figure(data = [go.Bar(x = group_age_m.index.values, y = group_age_m['user_id'], text = 'men', textposition = 'outside', textfont_color = \"red\"), \n",
        "                        go.Bar(x = group_age_f.index.values, y = group_age_f['user_id'], text = 'women', textposition = 'outside', textfont_color = \"red\")])\n",
        "\n",
        "fig.update_traces(marker_color='rgb(158,202,225)', marker_line_color='rgb(8,48,107)',\n",
        "                  marker_line_width=1.5, opacity=0.6, name = '')\n",
        "fig.update_layout(title_text='Распределение признака возвраста', width = 1000, height = 600)\n",
        "fig.show()"
      ],
      "execution_count": 20,
      "outputs": [
        {
          "output_type": "display_data",
          "data": {
            "text/html": [
              "<html>\n",
              "<head><meta charset=\"utf-8\" /></head>\n",
              "<body>\n",
              "    <div>\n",
              "            <script src=\"https://cdnjs.cloudflare.com/ajax/libs/mathjax/2.7.5/MathJax.js?config=TeX-AMS-MML_SVG\"></script><script type=\"text/javascript\">if (window.MathJax) {MathJax.Hub.Config({SVG: {font: \"STIX-Web\"}});}</script>\n",
              "                <script type=\"text/javascript\">window.PlotlyConfig = {MathJaxConfig: 'local'};</script>\n",
              "        <script src=\"https://cdn.plot.ly/plotly-latest.min.js\"></script>    \n",
              "            <div id=\"27d8d7d8-6a7e-488c-a95a-845ea61f07e7\" class=\"plotly-graph-div\" style=\"height:600px; width:1000px;\"></div>\n",
              "            <script type=\"text/javascript\">\n",
              "                \n",
              "                    window.PLOTLYENV=window.PLOTLYENV || {};\n",
              "                    \n",
              "                if (document.getElementById(\"27d8d7d8-6a7e-488c-a95a-845ea61f07e7\")) {\n",
              "                    Plotly.newPlot(\n",
              "                        '27d8d7d8-6a7e-488c-a95a-845ea61f07e7',\n",
              "                        [{\"marker\": {\"color\": \"rgb(158,202,225)\", \"line\": {\"color\": \"rgb(8,48,107)\", \"width\": 1.5}}, \"name\": \"\", \"opacity\": 0.6, \"text\": \"men\", \"textfont\": {\"color\": \"red\"}, \"textposition\": \"outside\", \"type\": \"bar\", \"x\": [\"18_24\", \"25_34\", \"35_44\", \"45_54\", \"55_64\", \"65_inf\"], \"y\": [6085, 8896, 8812, 6885, 3728, 1838]}, {\"marker\": {\"color\": \"rgb(158,202,225)\", \"line\": {\"color\": \"rgb(8,48,107)\", \"width\": 1.5}}, \"name\": \"\", \"opacity\": 0.6, \"text\": \"women\", \"textfont\": {\"color\": \"red\"}, \"textposition\": \"outside\", \"type\": \"bar\", \"x\": [\"18_24\", \"25_34\", \"35_44\", \"45_54\", \"55_64\", \"65_inf\"], \"y\": [22012, 27553, 22373, 15408, 7760, 4280]}],\n",
              "                        {\"height\": 600, \"template\": {\"data\": {\"bar\": [{\"error_x\": {\"color\": \"#2a3f5f\"}, \"error_y\": {\"color\": \"#2a3f5f\"}, \"marker\": {\"line\": {\"color\": \"#E5ECF6\", \"width\": 0.5}}, \"type\": \"bar\"}], \"barpolar\": [{\"marker\": {\"line\": {\"color\": \"#E5ECF6\", \"width\": 0.5}}, \"type\": \"barpolar\"}], \"carpet\": [{\"aaxis\": {\"endlinecolor\": \"#2a3f5f\", \"gridcolor\": \"white\", \"linecolor\": \"white\", \"minorgridcolor\": \"white\", \"startlinecolor\": \"#2a3f5f\"}, \"baxis\": {\"endlinecolor\": \"#2a3f5f\", \"gridcolor\": \"white\", \"linecolor\": \"white\", \"minorgridcolor\": \"white\", \"startlinecolor\": \"#2a3f5f\"}, \"type\": \"carpet\"}], \"choropleth\": [{\"colorbar\": {\"outlinewidth\": 0, \"ticks\": \"\"}, \"type\": \"choropleth\"}], \"contour\": [{\"colorbar\": {\"outlinewidth\": 0, \"ticks\": \"\"}, \"colorscale\": [[0.0, \"#0d0887\"], [0.1111111111111111, \"#46039f\"], [0.2222222222222222, \"#7201a8\"], [0.3333333333333333, \"#9c179e\"], [0.4444444444444444, \"#bd3786\"], [0.5555555555555556, \"#d8576b\"], [0.6666666666666666, \"#ed7953\"], [0.7777777777777778, \"#fb9f3a\"], [0.8888888888888888, \"#fdca26\"], [1.0, \"#f0f921\"]], \"type\": \"contour\"}], \"contourcarpet\": [{\"colorbar\": {\"outlinewidth\": 0, \"ticks\": \"\"}, \"type\": \"contourcarpet\"}], \"heatmap\": [{\"colorbar\": {\"outlinewidth\": 0, \"ticks\": \"\"}, \"colorscale\": [[0.0, \"#0d0887\"], [0.1111111111111111, \"#46039f\"], [0.2222222222222222, \"#7201a8\"], [0.3333333333333333, \"#9c179e\"], [0.4444444444444444, \"#bd3786\"], [0.5555555555555556, \"#d8576b\"], [0.6666666666666666, \"#ed7953\"], [0.7777777777777778, \"#fb9f3a\"], [0.8888888888888888, \"#fdca26\"], [1.0, \"#f0f921\"]], \"type\": \"heatmap\"}], \"heatmapgl\": [{\"colorbar\": {\"outlinewidth\": 0, \"ticks\": \"\"}, \"colorscale\": [[0.0, \"#0d0887\"], [0.1111111111111111, \"#46039f\"], [0.2222222222222222, \"#7201a8\"], [0.3333333333333333, \"#9c179e\"], [0.4444444444444444, \"#bd3786\"], [0.5555555555555556, \"#d8576b\"], [0.6666666666666666, \"#ed7953\"], [0.7777777777777778, \"#fb9f3a\"], [0.8888888888888888, \"#fdca26\"], [1.0, \"#f0f921\"]], \"type\": \"heatmapgl\"}], \"histogram\": [{\"marker\": {\"colorbar\": {\"outlinewidth\": 0, \"ticks\": \"\"}}, \"type\": \"histogram\"}], \"histogram2d\": [{\"colorbar\": {\"outlinewidth\": 0, \"ticks\": \"\"}, \"colorscale\": [[0.0, \"#0d0887\"], [0.1111111111111111, \"#46039f\"], [0.2222222222222222, \"#7201a8\"], [0.3333333333333333, \"#9c179e\"], [0.4444444444444444, \"#bd3786\"], [0.5555555555555556, \"#d8576b\"], [0.6666666666666666, \"#ed7953\"], [0.7777777777777778, \"#fb9f3a\"], [0.8888888888888888, \"#fdca26\"], [1.0, \"#f0f921\"]], \"type\": \"histogram2d\"}], \"histogram2dcontour\": [{\"colorbar\": {\"outlinewidth\": 0, \"ticks\": \"\"}, \"colorscale\": [[0.0, \"#0d0887\"], [0.1111111111111111, \"#46039f\"], [0.2222222222222222, \"#7201a8\"], [0.3333333333333333, \"#9c179e\"], [0.4444444444444444, \"#bd3786\"], [0.5555555555555556, \"#d8576b\"], [0.6666666666666666, \"#ed7953\"], [0.7777777777777778, \"#fb9f3a\"], [0.8888888888888888, \"#fdca26\"], [1.0, \"#f0f921\"]], \"type\": \"histogram2dcontour\"}], \"mesh3d\": [{\"colorbar\": {\"outlinewidth\": 0, \"ticks\": \"\"}, \"type\": \"mesh3d\"}], \"parcoords\": [{\"line\": {\"colorbar\": {\"outlinewidth\": 0, \"ticks\": \"\"}}, \"type\": \"parcoords\"}], \"pie\": [{\"automargin\": true, \"type\": \"pie\"}], \"scatter\": [{\"marker\": {\"colorbar\": {\"outlinewidth\": 0, \"ticks\": \"\"}}, \"type\": \"scatter\"}], \"scatter3d\": [{\"line\": {\"colorbar\": {\"outlinewidth\": 0, \"ticks\": \"\"}}, \"marker\": {\"colorbar\": {\"outlinewidth\": 0, \"ticks\": \"\"}}, \"type\": \"scatter3d\"}], \"scattercarpet\": [{\"marker\": {\"colorbar\": {\"outlinewidth\": 0, \"ticks\": \"\"}}, \"type\": \"scattercarpet\"}], \"scattergeo\": [{\"marker\": {\"colorbar\": {\"outlinewidth\": 0, \"ticks\": \"\"}}, \"type\": \"scattergeo\"}], \"scattergl\": [{\"marker\": {\"colorbar\": {\"outlinewidth\": 0, \"ticks\": \"\"}}, \"type\": \"scattergl\"}], \"scattermapbox\": [{\"marker\": {\"colorbar\": {\"outlinewidth\": 0, \"ticks\": \"\"}}, \"type\": \"scattermapbox\"}], \"scatterpolar\": [{\"marker\": {\"colorbar\": {\"outlinewidth\": 0, \"ticks\": \"\"}}, \"type\": \"scatterpolar\"}], \"scatterpolargl\": [{\"marker\": {\"colorbar\": {\"outlinewidth\": 0, \"ticks\": \"\"}}, \"type\": \"scatterpolargl\"}], \"scatterternary\": [{\"marker\": {\"colorbar\": {\"outlinewidth\": 0, \"ticks\": \"\"}}, \"type\": \"scatterternary\"}], \"surface\": [{\"colorbar\": {\"outlinewidth\": 0, \"ticks\": \"\"}, \"colorscale\": [[0.0, \"#0d0887\"], [0.1111111111111111, \"#46039f\"], [0.2222222222222222, \"#7201a8\"], [0.3333333333333333, \"#9c179e\"], [0.4444444444444444, \"#bd3786\"], [0.5555555555555556, \"#d8576b\"], [0.6666666666666666, \"#ed7953\"], [0.7777777777777778, \"#fb9f3a\"], [0.8888888888888888, \"#fdca26\"], [1.0, \"#f0f921\"]], \"type\": \"surface\"}], \"table\": [{\"cells\": {\"fill\": {\"color\": \"#EBF0F8\"}, \"line\": {\"color\": \"white\"}}, \"header\": {\"fill\": {\"color\": \"#C8D4E3\"}, \"line\": {\"color\": \"white\"}}, \"type\": \"table\"}]}, \"layout\": {\"annotationdefaults\": {\"arrowcolor\": \"#2a3f5f\", \"arrowhead\": 0, \"arrowwidth\": 1}, \"coloraxis\": {\"colorbar\": {\"outlinewidth\": 0, \"ticks\": \"\"}}, \"colorscale\": {\"diverging\": [[0, \"#8e0152\"], [0.1, \"#c51b7d\"], [0.2, \"#de77ae\"], [0.3, \"#f1b6da\"], [0.4, \"#fde0ef\"], [0.5, \"#f7f7f7\"], [0.6, \"#e6f5d0\"], [0.7, \"#b8e186\"], [0.8, \"#7fbc41\"], [0.9, \"#4d9221\"], [1, \"#276419\"]], \"sequential\": [[0.0, \"#0d0887\"], [0.1111111111111111, \"#46039f\"], [0.2222222222222222, \"#7201a8\"], [0.3333333333333333, \"#9c179e\"], [0.4444444444444444, \"#bd3786\"], [0.5555555555555556, \"#d8576b\"], [0.6666666666666666, \"#ed7953\"], [0.7777777777777778, \"#fb9f3a\"], [0.8888888888888888, \"#fdca26\"], [1.0, \"#f0f921\"]], \"sequentialminus\": [[0.0, \"#0d0887\"], [0.1111111111111111, \"#46039f\"], [0.2222222222222222, \"#7201a8\"], [0.3333333333333333, \"#9c179e\"], [0.4444444444444444, \"#bd3786\"], [0.5555555555555556, \"#d8576b\"], [0.6666666666666666, \"#ed7953\"], [0.7777777777777778, \"#fb9f3a\"], [0.8888888888888888, \"#fdca26\"], [1.0, \"#f0f921\"]]}, \"colorway\": [\"#636efa\", \"#EF553B\", \"#00cc96\", \"#ab63fa\", \"#FFA15A\", \"#19d3f3\", \"#FF6692\", \"#B6E880\", \"#FF97FF\", \"#FECB52\"], \"font\": {\"color\": \"#2a3f5f\"}, \"geo\": {\"bgcolor\": \"white\", \"lakecolor\": \"white\", \"landcolor\": \"#E5ECF6\", \"showlakes\": true, \"showland\": true, \"subunitcolor\": \"white\"}, \"hoverlabel\": {\"align\": \"left\"}, \"hovermode\": \"closest\", \"mapbox\": {\"style\": \"light\"}, \"paper_bgcolor\": \"white\", \"plot_bgcolor\": \"#E5ECF6\", \"polar\": {\"angularaxis\": {\"gridcolor\": \"white\", \"linecolor\": \"white\", \"ticks\": \"\"}, \"bgcolor\": \"#E5ECF6\", \"radialaxis\": {\"gridcolor\": \"white\", \"linecolor\": \"white\", \"ticks\": \"\"}}, \"scene\": {\"xaxis\": {\"backgroundcolor\": \"#E5ECF6\", \"gridcolor\": \"white\", \"gridwidth\": 2, \"linecolor\": \"white\", \"showbackground\": true, \"ticks\": \"\", \"zerolinecolor\": \"white\"}, \"yaxis\": {\"backgroundcolor\": \"#E5ECF6\", \"gridcolor\": \"white\", \"gridwidth\": 2, \"linecolor\": \"white\", \"showbackground\": true, \"ticks\": \"\", \"zerolinecolor\": \"white\"}, \"zaxis\": {\"backgroundcolor\": \"#E5ECF6\", \"gridcolor\": \"white\", \"gridwidth\": 2, \"linecolor\": \"white\", \"showbackground\": true, \"ticks\": \"\", \"zerolinecolor\": \"white\"}}, \"shapedefaults\": {\"line\": {\"color\": \"#2a3f5f\"}}, \"ternary\": {\"aaxis\": {\"gridcolor\": \"white\", \"linecolor\": \"white\", \"ticks\": \"\"}, \"baxis\": {\"gridcolor\": \"white\", \"linecolor\": \"white\", \"ticks\": \"\"}, \"bgcolor\": \"#E5ECF6\", \"caxis\": {\"gridcolor\": \"white\", \"linecolor\": \"white\", \"ticks\": \"\"}}, \"title\": {\"x\": 0.05}, \"xaxis\": {\"automargin\": true, \"gridcolor\": \"white\", \"linecolor\": \"white\", \"ticks\": \"\", \"title\": {\"standoff\": 15}, \"zerolinecolor\": \"white\", \"zerolinewidth\": 2}, \"yaxis\": {\"automargin\": true, \"gridcolor\": \"white\", \"linecolor\": \"white\", \"ticks\": \"\", \"title\": {\"standoff\": 15}, \"zerolinecolor\": \"white\", \"zerolinewidth\": 2}}}, \"title\": {\"text\": \"\\u0420\\u0430\\u0441\\u043f\\u0440\\u0435\\u0434\\u0435\\u043b\\u0435\\u043d\\u0438\\u0435 \\u043f\\u0440\\u0438\\u0437\\u043d\\u0430\\u043a\\u0430 \\u0432\\u043e\\u0437\\u0432\\u0440\\u0430\\u0441\\u0442\\u0430\"}, \"width\": 1000},\n",
              "                        {\"responsive\": true}\n",
              "                    ).then(function(){\n",
              "                            \n",
              "var gd = document.getElementById('27d8d7d8-6a7e-488c-a95a-845ea61f07e7');\n",
              "var x = new MutationObserver(function (mutations, observer) {{\n",
              "        var display = window.getComputedStyle(gd).display;\n",
              "        if (!display || display === 'none') {{\n",
              "            console.log([gd, 'removed!']);\n",
              "            Plotly.purge(gd);\n",
              "            observer.disconnect();\n",
              "        }}\n",
              "}});\n",
              "\n",
              "// Listen for the removal of the full notebook cells\n",
              "var notebookContainer = gd.closest('#notebook-container');\n",
              "if (notebookContainer) {{\n",
              "    x.observe(notebookContainer, {childList: true});\n",
              "}}\n",
              "\n",
              "// Listen for the clearing of the current output cell\n",
              "var outputEl = gd.closest('.output');\n",
              "if (outputEl) {{\n",
              "    x.observe(outputEl, {childList: true});\n",
              "}}\n",
              "\n",
              "                        })\n",
              "                };\n",
              "                \n",
              "            </script>\n",
              "        </div>\n",
              "</body>\n",
              "</html>"
            ]
          },
          "metadata": {
            "tags": []
          }
        }
      ]
    },
    {
      "cell_type": "markdown",
      "metadata": {
        "editable": false,
        "id": "SFsH9BoEw4Tx"
      },
      "source": [
        "Функция просмотра пустых значений признаков в процентах"
      ]
    },
    {
      "cell_type": "code",
      "metadata": {
        "editable": false,
        "trusted": true,
        "colab": {
          "base_uri": "https://localhost:8080/",
          "height": 112
        },
        "id": "NLJ62hcOw4Ty",
        "outputId": "42b84762-cb26-4ddc-9712-673bfcd34bbf"
      },
      "source": [
        "def miss(data):\n",
        "    miss_data = data.copy(deep = True)\n",
        "    miss_data_na = (miss_data.isnull().sum() / len(miss_data)) * 100\n",
        "    miss_data_na = miss_data_na.drop(miss_data_na[miss_data_na == 0].index).sort_values(ascending = False)[:30]\n",
        "    missing_data = pd.DataFrame({'Missing Ratio' :miss_data_na})\n",
        "    missing_data\n",
        "    return(missing_data)\n",
        "\n",
        "miss(users).head(5)"
      ],
      "execution_count": 21,
      "outputs": [
        {
          "output_type": "execute_result",
          "data": {
            "text/html": [
              "<div>\n",
              "<style scoped>\n",
              "    .dataframe tbody tr th:only-of-type {\n",
              "        vertical-align: middle;\n",
              "    }\n",
              "\n",
              "    .dataframe tbody tr th {\n",
              "        vertical-align: top;\n",
              "    }\n",
              "\n",
              "    .dataframe thead th {\n",
              "        text-align: right;\n",
              "    }\n",
              "</style>\n",
              "<table border=\"1\" class=\"dataframe\">\n",
              "  <thead>\n",
              "    <tr style=\"text-align: right;\">\n",
              "      <th></th>\n",
              "      <th>Missing Ratio</th>\n",
              "    </tr>\n",
              "  </thead>\n",
              "  <tbody>\n",
              "    <tr>\n",
              "      <th>sex</th>\n",
              "      <td>1.175922</td>\n",
              "    </tr>\n",
              "    <tr>\n",
              "      <th>age</th>\n",
              "      <td>0.007286</td>\n",
              "    </tr>\n",
              "  </tbody>\n",
              "</table>\n",
              "</div>"
            ],
            "text/plain": [
              "     Missing Ratio\n",
              "sex       1.175922\n",
              "age       0.007286"
            ]
          },
          "metadata": {
            "tags": []
          },
          "execution_count": 21
        }
      ]
    },
    {
      "cell_type": "markdown",
      "metadata": {
        "editable": false,
        "id": "F3O37rDUw4Ty"
      },
      "source": [
        "Смотрим распределение отсутвующих значений"
      ]
    },
    {
      "cell_type": "code",
      "metadata": {
        "editable": false,
        "trusted": true,
        "colab": {
          "base_uri": "https://localhost:8080/",
          "height": 206
        },
        "id": "LR_TOOyBw4Ty",
        "outputId": "cc5198c1-7770-4f44-c204-ddd47890257d"
      },
      "source": [
        "# Смотрим распределение отсутвующих значений\n",
        "def miss_dist(data, group, feature):\n",
        "    data = data.copy(deep = True)\n",
        "    data['null'] = data[feature].isnull()\n",
        "    data.loc[data['null'] == True].groupby(group).count()\n",
        "    return data\n",
        "\n",
        "miss_dist(users, 'age', 'sex').head(5)"
      ],
      "execution_count": 22,
      "outputs": [
        {
          "output_type": "execute_result",
          "data": {
            "text/html": [
              "<div>\n",
              "<style scoped>\n",
              "    .dataframe tbody tr th:only-of-type {\n",
              "        vertical-align: middle;\n",
              "    }\n",
              "\n",
              "    .dataframe tbody tr th {\n",
              "        vertical-align: top;\n",
              "    }\n",
              "\n",
              "    .dataframe thead th {\n",
              "        text-align: right;\n",
              "    }\n",
              "</style>\n",
              "<table border=\"1\" class=\"dataframe\">\n",
              "  <thead>\n",
              "    <tr style=\"text-align: right;\">\n",
              "      <th></th>\n",
              "      <th>user_id</th>\n",
              "      <th>age</th>\n",
              "      <th>sex</th>\n",
              "      <th>null</th>\n",
              "    </tr>\n",
              "  </thead>\n",
              "  <tbody>\n",
              "    <tr>\n",
              "      <th>0</th>\n",
              "      <td>0</td>\n",
              "      <td>45_54</td>\n",
              "      <td>1.0</td>\n",
              "      <td>False</td>\n",
              "    </tr>\n",
              "    <tr>\n",
              "      <th>1</th>\n",
              "      <td>1</td>\n",
              "      <td>25_34</td>\n",
              "      <td>0.0</td>\n",
              "      <td>False</td>\n",
              "    </tr>\n",
              "    <tr>\n",
              "      <th>2</th>\n",
              "      <td>2</td>\n",
              "      <td>45_54</td>\n",
              "      <td>0.0</td>\n",
              "      <td>False</td>\n",
              "    </tr>\n",
              "    <tr>\n",
              "      <th>3</th>\n",
              "      <td>3</td>\n",
              "      <td>65_inf</td>\n",
              "      <td>0.0</td>\n",
              "      <td>False</td>\n",
              "    </tr>\n",
              "    <tr>\n",
              "      <th>4</th>\n",
              "      <td>4</td>\n",
              "      <td>18_24</td>\n",
              "      <td>0.0</td>\n",
              "      <td>False</td>\n",
              "    </tr>\n",
              "  </tbody>\n",
              "</table>\n",
              "</div>"
            ],
            "text/plain": [
              "   user_id     age  sex   null\n",
              "0        0   45_54  1.0  False\n",
              "1        1   25_34  0.0  False\n",
              "2        2   45_54  0.0  False\n",
              "3        3  65_inf  0.0  False\n",
              "4        4   18_24  0.0  False"
            ]
          },
          "metadata": {
            "tags": []
          },
          "execution_count": 22
        }
      ]
    },
    {
      "cell_type": "markdown",
      "metadata": {
        "editable": false,
        "id": "bpMgT9Dww4Tz"
      },
      "source": [
        "Удаляем отсутствующие значения"
      ]
    },
    {
      "cell_type": "code",
      "metadata": {
        "editable": false,
        "trusted": true,
        "colab": {
          "base_uri": "https://localhost:8080/"
        },
        "id": "lWzUXKpuw4Tz",
        "outputId": "a30a1e64-2bf8-40b9-b0cb-5a25d4dc27aa"
      },
      "source": [
        "users_mod = users.dropna(inplace = False)\n",
        "print(users.shape, '  /  ', users_mod.shape)"
      ],
      "execution_count": 23,
      "outputs": [
        {
          "output_type": "stream",
          "text": [
            "(137254, 3)   /   (135630, 3)\n"
          ],
          "name": "stdout"
        }
      ]
    },
    {
      "cell_type": "markdown",
      "metadata": {
        "editable": false,
        "id": "mdQMBJfjw4T0"
      },
      "source": [
        "Выведем следующую таблицу"
      ]
    },
    {
      "cell_type": "code",
      "metadata": {
        "editable": false,
        "trusted": true,
        "colab": {
          "base_uri": "https://localhost:8080/",
          "height": 467
        },
        "id": "_pKG-M8Vw4T0",
        "outputId": "f97191ca-ef62-42d5-f1c4-9d5e4608e20f"
      },
      "source": [
        "print(items.info())\n",
        "# Просмотр уникальных значений возраста\n",
        "print('We have {} unique values in {} column in users authors: {}'.format(len(items['authors'].unique()), 'authors', items['authors'].unique()))\n",
        "items.head(5)"
      ],
      "execution_count": 24,
      "outputs": [
        {
          "output_type": "stream",
          "text": [
            "<class 'pandas.core.frame.DataFrame'>\n",
            "RangeIndex: 63758 entries, 0 to 63757\n",
            "Data columns (total 5 columns):\n",
            " #   Column   Non-Null Count  Dtype \n",
            "---  ------   --------------  ----- \n",
            " 0   id       63758 non-null  int64 \n",
            " 1   title    63758 non-null  object\n",
            " 2   genres   63753 non-null  object\n",
            " 3   authors  56700 non-null  object\n",
            " 4   year     49508 non-null  object\n",
            "dtypes: int64(1), object(4)\n",
            "memory usage: 2.4+ MB\n",
            "None\n",
            "We have 17025 unique values in authors column in users authors: ['Михаил Салтыков-Щедрин' 'Антон Чехов' 'Михаил Лермонтов' ...\n",
            " 'Евлампий Бесподобный' 'Екатерина Балобанова' 'Микаель Ниеми']\n"
          ],
          "name": "stdout"
        },
        {
          "output_type": "execute_result",
          "data": {
            "text/html": [
              "<div>\n",
              "<style scoped>\n",
              "    .dataframe tbody tr th:only-of-type {\n",
              "        vertical-align: middle;\n",
              "    }\n",
              "\n",
              "    .dataframe tbody tr th {\n",
              "        vertical-align: top;\n",
              "    }\n",
              "\n",
              "    .dataframe thead th {\n",
              "        text-align: right;\n",
              "    }\n",
              "</style>\n",
              "<table border=\"1\" class=\"dataframe\">\n",
              "  <thead>\n",
              "    <tr style=\"text-align: right;\">\n",
              "      <th></th>\n",
              "      <th>id</th>\n",
              "      <th>title</th>\n",
              "      <th>genres</th>\n",
              "      <th>authors</th>\n",
              "      <th>year</th>\n",
              "    </tr>\n",
              "  </thead>\n",
              "  <tbody>\n",
              "    <tr>\n",
              "      <th>0</th>\n",
              "      <td>248031</td>\n",
              "      <td>Ворон-челобитчик</td>\n",
              "      <td>Зарубежные детские книги,Сказки,Зарубежная кла...</td>\n",
              "      <td>Михаил Салтыков-Щедрин</td>\n",
              "      <td>1886</td>\n",
              "    </tr>\n",
              "    <tr>\n",
              "      <th>1</th>\n",
              "      <td>256084</td>\n",
              "      <td>Скрипка Ротшильда</td>\n",
              "      <td>Классическая проза,Литература 19 века,Русская ...</td>\n",
              "      <td>Антон Чехов</td>\n",
              "      <td>1894</td>\n",
              "    </tr>\n",
              "    <tr>\n",
              "      <th>2</th>\n",
              "      <td>134166</td>\n",
              "      <td>Испорченные дети</td>\n",
              "      <td>Зарубежная классика,Классическая проза,Литерат...</td>\n",
              "      <td>Михаил Салтыков-Щедрин</td>\n",
              "      <td>1869</td>\n",
              "    </tr>\n",
              "    <tr>\n",
              "      <th>3</th>\n",
              "      <td>281311</td>\n",
              "      <td>Странный человек</td>\n",
              "      <td>Пьесы и драматургия,Литература 19 века</td>\n",
              "      <td>Михаил Лермонтов</td>\n",
              "      <td>1831</td>\n",
              "    </tr>\n",
              "    <tr>\n",
              "      <th>4</th>\n",
              "      <td>213473</td>\n",
              "      <td>Господа ташкентцы</td>\n",
              "      <td>Зарубежная классика,Классическая проза,Литерат...</td>\n",
              "      <td>Михаил Салтыков-Щедрин</td>\n",
              "      <td>1873</td>\n",
              "    </tr>\n",
              "  </tbody>\n",
              "</table>\n",
              "</div>"
            ],
            "text/plain": [
              "       id              title  ...                 authors  year\n",
              "0  248031   Ворон-челобитчик  ...  Михаил Салтыков-Щедрин  1886\n",
              "1  256084  Скрипка Ротшильда  ...             Антон Чехов  1894\n",
              "2  134166   Испорченные дети  ...  Михаил Салтыков-Щедрин  1869\n",
              "3  281311   Странный человек  ...        Михаил Лермонтов  1831\n",
              "4  213473  Господа ташкентцы  ...  Михаил Салтыков-Щедрин  1873\n",
              "\n",
              "[5 rows x 5 columns]"
            ]
          },
          "metadata": {
            "tags": []
          },
          "execution_count": 24
        }
      ]
    },
    {
      "cell_type": "markdown",
      "metadata": {
        "editable": false,
        "id": "XAV-U1aUw4T0"
      },
      "source": [
        "Сказать я удилен это как промолчать, более 11т. жанров))) потом глянем)) страшно сразу об этом думать и исследовать. На этом этапе я и решил делать эмбединги. Выведем пока пустые значения признаков в процентах"
      ]
    },
    {
      "cell_type": "code",
      "metadata": {
        "editable": false,
        "trusted": true,
        "colab": {
          "base_uri": "https://localhost:8080/",
          "height": 143
        },
        "id": "Vs9BE_bJw4T0",
        "outputId": "74bd81c2-9674-4772-9649-3e9f4824e1bb"
      },
      "source": [
        "miss(items).head(5)"
      ],
      "execution_count": 25,
      "outputs": [
        {
          "output_type": "execute_result",
          "data": {
            "text/html": [
              "<div>\n",
              "<style scoped>\n",
              "    .dataframe tbody tr th:only-of-type {\n",
              "        vertical-align: middle;\n",
              "    }\n",
              "\n",
              "    .dataframe tbody tr th {\n",
              "        vertical-align: top;\n",
              "    }\n",
              "\n",
              "    .dataframe thead th {\n",
              "        text-align: right;\n",
              "    }\n",
              "</style>\n",
              "<table border=\"1\" class=\"dataframe\">\n",
              "  <thead>\n",
              "    <tr style=\"text-align: right;\">\n",
              "      <th></th>\n",
              "      <th>Missing Ratio</th>\n",
              "    </tr>\n",
              "  </thead>\n",
              "  <tbody>\n",
              "    <tr>\n",
              "      <th>year</th>\n",
              "      <td>22.350136</td>\n",
              "    </tr>\n",
              "    <tr>\n",
              "      <th>authors</th>\n",
              "      <td>11.069983</td>\n",
              "    </tr>\n",
              "    <tr>\n",
              "      <th>genres</th>\n",
              "      <td>0.007842</td>\n",
              "    </tr>\n",
              "  </tbody>\n",
              "</table>\n",
              "</div>"
            ],
            "text/plain": [
              "         Missing Ratio\n",
              "year         22.350136\n",
              "authors      11.069983\n",
              "genres        0.007842"
            ]
          },
          "metadata": {
            "tags": []
          },
          "execution_count": 25
        }
      ]
    },
    {
      "cell_type": "markdown",
      "metadata": {
        "editable": false,
        "id": "3cMbZLYhw4T0"
      },
      "source": [
        "Здесь поинтереснее)) Попробуем найти дубликаты по названию и автору чтобы восстановить часть данных по годам. Дубликаты удалять не будем из за связи с другими таблицами, можно их потом в конечном датасете конечно склеить, но здесь не так важно, их слишком мало по сравнению со всей таблицей, был бы высокий процент дубликатов это возможно повлияло бы на переобучение, ну позже глянем и дизбаланс классов"
      ]
    },
    {
      "cell_type": "code",
      "metadata": {
        "editable": false,
        "trusted": true,
        "colab": {
          "base_uri": "https://localhost:8080/",
          "height": 282
        },
        "id": "QrvUL6HFw4T1",
        "outputId": "8f47f1da-bedd-4396-8e35-82c80382df1c"
      },
      "source": [
        "items_dubl = items.copy(deep = True)\n",
        "items_dubl = items_dubl[items_dubl.duplicated(subset = ['title', 'authors'])]\n",
        "items_dubl['null'] = items_dubl['year'].isnull()\n",
        "print('Количество дубликатов записей с разными id  -  ', items_dubl.shape[0])\n",
        "print(items[items.duplicated(subset = ['title', 'authors'])].loc[items['title'] == 'Невеста'])\n",
        "items_dubl.head(3)"
      ],
      "execution_count": 26,
      "outputs": [
        {
          "output_type": "stream",
          "text": [
            "Количество дубликатов записей с разными id  -   3922\n",
            "           id    title  ...      authors  year\n",
            "632    129327  Невеста  ...  Антон Чехов  1903\n",
            "40780  113597  Невеста  ...  Антон Чехов  1903\n",
            "40781  199636  Невеста  ...  Антон Чехов  1903\n",
            "50363  104536  Невеста  ...  Антон Чехов   NaN\n",
            "\n",
            "[4 rows x 5 columns]\n"
          ],
          "name": "stdout"
        },
        {
          "output_type": "execute_result",
          "data": {
            "text/html": [
              "<div>\n",
              "<style scoped>\n",
              "    .dataframe tbody tr th:only-of-type {\n",
              "        vertical-align: middle;\n",
              "    }\n",
              "\n",
              "    .dataframe tbody tr th {\n",
              "        vertical-align: top;\n",
              "    }\n",
              "\n",
              "    .dataframe thead th {\n",
              "        text-align: right;\n",
              "    }\n",
              "</style>\n",
              "<table border=\"1\" class=\"dataframe\">\n",
              "  <thead>\n",
              "    <tr style=\"text-align: right;\">\n",
              "      <th></th>\n",
              "      <th>id</th>\n",
              "      <th>title</th>\n",
              "      <th>genres</th>\n",
              "      <th>authors</th>\n",
              "      <th>year</th>\n",
              "      <th>null</th>\n",
              "    </tr>\n",
              "  </thead>\n",
              "  <tbody>\n",
              "    <tr>\n",
              "      <th>82</th>\n",
              "      <td>258306</td>\n",
              "      <td>Басни</td>\n",
              "      <td>Стихи и поэзия,Литература 19 века,Русская клас...</td>\n",
              "      <td>Иван Крылов</td>\n",
              "      <td>NaN</td>\n",
              "      <td>True</td>\n",
              "    </tr>\n",
              "    <tr>\n",
              "      <th>152</th>\n",
              "      <td>300964</td>\n",
              "      <td>Басни</td>\n",
              "      <td>Стихи и поэзия,Литература 19 века,Русская клас...</td>\n",
              "      <td>Иван Крылов</td>\n",
              "      <td>NaN</td>\n",
              "      <td>True</td>\n",
              "    </tr>\n",
              "    <tr>\n",
              "      <th>632</th>\n",
              "      <td>129327</td>\n",
              "      <td>Невеста</td>\n",
              "      <td>Классическая проза,Русская классика</td>\n",
              "      <td>Антон Чехов</td>\n",
              "      <td>1903</td>\n",
              "      <td>False</td>\n",
              "    </tr>\n",
              "  </tbody>\n",
              "</table>\n",
              "</div>"
            ],
            "text/plain": [
              "         id    title  ...  year   null\n",
              "82   258306    Басни  ...   NaN   True\n",
              "152  300964    Басни  ...   NaN   True\n",
              "632  129327  Невеста  ...  1903  False\n",
              "\n",
              "[3 rows x 6 columns]"
            ]
          },
          "metadata": {
            "tags": []
          },
          "execution_count": 26
        }
      ]
    },
    {
      "cell_type": "markdown",
      "metadata": {
        "editable": false,
        "id": "AxbQxH1Dw4T1"
      },
      "source": [
        "Ищем в двух столбцах одновременно пропущенные признаки"
      ]
    },
    {
      "cell_type": "code",
      "metadata": {
        "editable": false,
        "trusted": true,
        "colab": {
          "base_uri": "https://localhost:8080/",
          "height": 161
        },
        "id": "0tLiJ69Ew4T1",
        "outputId": "98daba66-d424-44ed-fd50-aec1dba05c2a"
      },
      "source": [
        "items_dubl_none = items_dubl.loc[items_dubl['null'] == True]\n",
        "items_dubl_nonone = items_dubl.loc[items_dubl['null'] == False]\n",
        "print('Количество дубликатов записей с разными id  -  ', items_dubl_none.shape[0])\n",
        "items_dubl_nonone.head(3)"
      ],
      "execution_count": 27,
      "outputs": [
        {
          "output_type": "stream",
          "text": [
            "Количество дубликатов записей с разными id  -   979\n"
          ],
          "name": "stdout"
        },
        {
          "output_type": "execute_result",
          "data": {
            "text/html": [
              "<div>\n",
              "<style scoped>\n",
              "    .dataframe tbody tr th:only-of-type {\n",
              "        vertical-align: middle;\n",
              "    }\n",
              "\n",
              "    .dataframe tbody tr th {\n",
              "        vertical-align: top;\n",
              "    }\n",
              "\n",
              "    .dataframe thead th {\n",
              "        text-align: right;\n",
              "    }\n",
              "</style>\n",
              "<table border=\"1\" class=\"dataframe\">\n",
              "  <thead>\n",
              "    <tr style=\"text-align: right;\">\n",
              "      <th></th>\n",
              "      <th>id</th>\n",
              "      <th>title</th>\n",
              "      <th>genres</th>\n",
              "      <th>authors</th>\n",
              "      <th>year</th>\n",
              "      <th>null</th>\n",
              "    </tr>\n",
              "  </thead>\n",
              "  <tbody>\n",
              "    <tr>\n",
              "      <th>632</th>\n",
              "      <td>129327</td>\n",
              "      <td>Невеста</td>\n",
              "      <td>Классическая проза,Русская классика</td>\n",
              "      <td>Антон Чехов</td>\n",
              "      <td>1903</td>\n",
              "      <td>False</td>\n",
              "    </tr>\n",
              "    <tr>\n",
              "      <th>1659</th>\n",
              "      <td>188635</td>\n",
              "      <td>Белолобый</td>\n",
              "      <td>Зарубежная классика,Литература 19 века,Русская...</td>\n",
              "      <td>Антон Чехов</td>\n",
              "      <td>1895</td>\n",
              "      <td>False</td>\n",
              "    </tr>\n",
              "    <tr>\n",
              "      <th>1956</th>\n",
              "      <td>95545</td>\n",
              "      <td>Сказка о рыбаке и рыбке</td>\n",
              "      <td>Детские стихи,Сказки</td>\n",
              "      <td>Александр Пушкин</td>\n",
              "      <td>1833</td>\n",
              "      <td>False</td>\n",
              "    </tr>\n",
              "  </tbody>\n",
              "</table>\n",
              "</div>"
            ],
            "text/plain": [
              "          id                    title  ...  year   null\n",
              "632   129327                  Невеста  ...  1903  False\n",
              "1659  188635                Белолобый  ...  1895  False\n",
              "1956   95545  Сказка о рыбаке и рыбке  ...  1833  False\n",
              "\n",
              "[3 rows x 6 columns]"
            ]
          },
          "metadata": {
            "tags": []
          },
          "execution_count": 27
        }
      ]
    },
    {
      "cell_type": "markdown",
      "metadata": {
        "editable": false,
        "id": "PcORW3fIw4T1"
      },
      "source": [
        "Уже не так интересно)) скоро получится что это все ради исправления одной десятой процента данных))) Ну продолжим раз начали"
      ]
    },
    {
      "cell_type": "code",
      "metadata": {
        "editable": false,
        "trusted": true,
        "colab": {
          "base_uri": "https://localhost:8080/",
          "height": 161
        },
        "id": "WGWSjOIVw4T1",
        "outputId": "2e29c1df-f25a-415a-a3b1-4f577529e811"
      },
      "source": [
        "items_dubl_join = items_dubl_nonone.merge(items_dubl_none, on = ['title', 'authors']).drop_duplicates('id_y')\n",
        "items_dubl_join = items_dubl_join[['id_y', 'year_x']]\n",
        "items_dubl_join.rename({'id_y': 'id'}, axis = 1, inplace=True)\n",
        "items_dubl_join['id'] = items_dubl_join['id'].astype('int64')\n",
        "items_re = items.copy(deep = True)\n",
        "items_re = items_re.merge(items_dubl_join, how = 'left')\n",
        "items_re['null'] = items_re['year'].isnull()\n",
        "items_re.loc[items_re['null'] == True, 'year'] = items_re.loc[items_re['null'] == True, 'year_x']\n",
        "items_re = items_re.drop(['year_x', 'null'], axis=1)\n",
        "print('Количество востановленных данных  -  ', items_dubl_join.shape[0])\n",
        "items_re.head(3)"
      ],
      "execution_count": 28,
      "outputs": [
        {
          "output_type": "stream",
          "text": [
            "Количество востановленных данных  -   104\n"
          ],
          "name": "stdout"
        },
        {
          "output_type": "execute_result",
          "data": {
            "text/html": [
              "<div>\n",
              "<style scoped>\n",
              "    .dataframe tbody tr th:only-of-type {\n",
              "        vertical-align: middle;\n",
              "    }\n",
              "\n",
              "    .dataframe tbody tr th {\n",
              "        vertical-align: top;\n",
              "    }\n",
              "\n",
              "    .dataframe thead th {\n",
              "        text-align: right;\n",
              "    }\n",
              "</style>\n",
              "<table border=\"1\" class=\"dataframe\">\n",
              "  <thead>\n",
              "    <tr style=\"text-align: right;\">\n",
              "      <th></th>\n",
              "      <th>id</th>\n",
              "      <th>title</th>\n",
              "      <th>genres</th>\n",
              "      <th>authors</th>\n",
              "      <th>year</th>\n",
              "    </tr>\n",
              "  </thead>\n",
              "  <tbody>\n",
              "    <tr>\n",
              "      <th>0</th>\n",
              "      <td>248031</td>\n",
              "      <td>Ворон-челобитчик</td>\n",
              "      <td>Зарубежные детские книги,Сказки,Зарубежная кла...</td>\n",
              "      <td>Михаил Салтыков-Щедрин</td>\n",
              "      <td>1886</td>\n",
              "    </tr>\n",
              "    <tr>\n",
              "      <th>1</th>\n",
              "      <td>256084</td>\n",
              "      <td>Скрипка Ротшильда</td>\n",
              "      <td>Классическая проза,Литература 19 века,Русская ...</td>\n",
              "      <td>Антон Чехов</td>\n",
              "      <td>1894</td>\n",
              "    </tr>\n",
              "    <tr>\n",
              "      <th>2</th>\n",
              "      <td>134166</td>\n",
              "      <td>Испорченные дети</td>\n",
              "      <td>Зарубежная классика,Классическая проза,Литерат...</td>\n",
              "      <td>Михаил Салтыков-Щедрин</td>\n",
              "      <td>1869</td>\n",
              "    </tr>\n",
              "  </tbody>\n",
              "</table>\n",
              "</div>"
            ],
            "text/plain": [
              "       id              title  ...                 authors  year\n",
              "0  248031   Ворон-челобитчик  ...  Михаил Салтыков-Щедрин  1886\n",
              "1  256084  Скрипка Ротшильда  ...             Антон Чехов  1894\n",
              "2  134166   Испорченные дети  ...  Михаил Салтыков-Щедрин  1869\n",
              "\n",
              "[3 rows x 5 columns]"
            ]
          },
          "metadata": {
            "tags": []
          },
          "execution_count": 28
        }
      ]
    },
    {
      "cell_type": "markdown",
      "metadata": {
        "editable": false,
        "id": "R_6irFU0w4T2"
      },
      "source": [
        "Ищем пропущенные года с известными авторами"
      ]
    },
    {
      "cell_type": "code",
      "metadata": {
        "editable": false,
        "trusted": true,
        "colab": {
          "base_uri": "https://localhost:8080/"
        },
        "id": "EzQDbX5hw4T2",
        "outputId": "ae190ac2-e74e-4526-8791-93d6966fecb6"
      },
      "source": [
        "items_null = items_re.copy(deep = True)\n",
        "items_null = items_null[items_null['year'].isnull() & items_null['authors'].notnull()]\n",
        "print('Количество пропущенных годов с указаными авторами  -  ', items_null.shape[0])"
      ],
      "execution_count": 29,
      "outputs": [
        {
          "output_type": "stream",
          "text": [
            "Количество пропущенных годов с указаными авторами  -   13474\n"
          ],
          "name": "stdout"
        }
      ]
    },
    {
      "cell_type": "markdown",
      "metadata": {
        "editable": false,
        "id": "wrjXSy6kw4T2"
      },
      "source": [
        "Уже лучше)) почти все года можно восстановить, потом на модели потестим помогло ли нам это все))\n",
        "\n",
        "Просмотр уникальных значений авторов в строках с пропущенными годами"
      ]
    },
    {
      "cell_type": "code",
      "metadata": {
        "editable": false,
        "trusted": true,
        "colab": {
          "base_uri": "https://localhost:8080/"
        },
        "id": "c9s2tL69w4T2",
        "outputId": "f0aedb17-154b-44d4-cd32-35c1ff4b2e34"
      },
      "source": [
        "print('We have {} unique values in {} column in users authors: {}'.format(len(items_null['authors'].unique()), 'authors', items_null['authors'].unique()))"
      ],
      "execution_count": 30,
      "outputs": [
        {
          "output_type": "stream",
          "text": [
            "We have 5871 unique values in authors column in users authors: ['Михаил Салтыков-Щедрин' 'Ги де Мопассан' 'Николай Гоголь' ...\n",
            " 'Радмила Хакова' 'Лана Мейер' 'Сергей Фонвизин']\n"
          ],
          "name": "stdout"
        }
      ]
    },
    {
      "cell_type": "markdown",
      "metadata": {
        "editable": false,
        "id": "BhF-NHZEw4T3"
      },
      "source": [
        "\n",
        "Ого))) ничего интересного)) ну мб это все окупится парой процентов хоть улучшения модели. продолжим, не торопимся ведь пока. Вынесем пока их в список"
      ]
    },
    {
      "cell_type": "code",
      "metadata": {
        "editable": false,
        "trusted": true,
        "colab": {
          "base_uri": "https://localhost:8080/"
        },
        "id": "XXx5xSiMw4T3",
        "outputId": "685b4ad3-9a16-4719-8caf-ffd37bf22900"
      },
      "source": [
        "authors_null_year = items_null['authors'].unique().tolist()\n",
        "authors_null_year[:3]"
      ],
      "execution_count": 31,
      "outputs": [
        {
          "output_type": "execute_result",
          "data": {
            "text/plain": [
              "['Михаил Салтыков-Щедрин', 'Ги де Мопассан', 'Николай Гоголь']"
            ]
          },
          "metadata": {
            "tags": []
          },
          "execution_count": 31
        }
      ]
    },
    {
      "cell_type": "markdown",
      "metadata": {
        "editable": false,
        "id": "tBIlUnB9w4T3"
      },
      "source": [
        "Приводим даты к общему типу замменяя текст на числа, парсим форматы отличные от %Y на части, берем первые 4 цифры, последние 4 выносим в отдельную колонку\n",
        "\n",
        "Потом заменяем обрезанные форматы, числа меньше 70ты указал убрать месяца, заменяем на значения другой колонки где число года (они то там то там))"
      ]
    },
    {
      "cell_type": "code",
      "metadata": {
        "editable": false,
        "trusted": true,
        "id": "8uwENeUtw4T3"
      },
      "source": [
        "items_re_year = items_re.copy(deep = True)\n",
        "items_re_year['year2'] = items_re_year['year'].astype(str).str[-4:]\n",
        "items_re_year['year'] = items_re_year['year'].astype(str).str[:4]\n",
        "list1 = ['-', '–', ',', ' ', '.', '_', ':']\n",
        "list2 = ['Октя', 'Нояб', 'до', 'окол', 'ок', 'перв', '. э.', '', 'алим', 'н', 'dtrf', 'век', '019й']\n",
        "dict1 = {'XII в.': 1150, 'IX.': 850,'II в. н. э.': 150,'II': 150,'I': 50,'III': 250,'425 до н. э.': -425,\n",
        "        '407 до н. э.': -407, '420 до н. э.': -420,'XII ': 1150,'III—': 300,'IV': 350,'XII': 650, 'IX': 850,\n",
        "        'XII': 650, 'IX': 850,'I': 150}\n",
        "\n",
        "def year_mod(data, feature, list1, list2, dict1):\n",
        "    for i in list1:\n",
        "        data = data.assign(year = data.year.str.split(i).str[0])\n",
        "        data = data.assign(year2 = data.year2.str.split(i).str[0])\n",
        "    for i in list2:\n",
        "        data.loc[:,feature] = data.loc[:,feature].replace(i,np.NaN)\n",
        "    for i in dict1:\n",
        "        data.loc[data.loc[data[feature] == i][feature].index, feature] = dict1[i]\n",
        "    return data\n",
        "\n",
        "items_re_year = year_mod(items_re_year, 'year', list1, list2, dict1)\n",
        "items_re_year = year_mod(items_re_year, 'year2', list1, list2, dict1)\n",
        "items_re_year.loc[items_re_year.loc[items_re_year.loc[:,'year'] == 'nan']['year'].index, 'year'] = '5000'\n",
        "items_re_year.loc[items_re_year.loc[items_re_year.loc[:,'year2'] == 'nan']['year2'].index, 'year2'] = '5000'\n",
        "items_re_year.loc[:,'year'] = items_re_year.loc[:,'year'].fillna(5000)\n",
        "items_re_year.loc[:,'year'] = items_re_year.loc[:,'year'].values.astype(int)\n",
        "items_re_year.loc[:,'year2'] = items_re_year.loc[:,'year2'].fillna(5000)\n",
        "items_re_year.loc[:,'year2'] = items_re_year.loc[:,'year2'].values.astype(int)\n",
        "items_re_year.year[(items_re_year.year == 5000) & (items_re_year.year2 > 70)] = items_re_year.year2[(items_re_year.year == 5000) & (items_re_year.year2 > 70)]\n",
        "items_re_year.year2[(items_re_year.year2 == 5000) & (items_re_year.year > 70)] = items_re_year.year[(items_re_year.year2 == 5000) & (items_re_year.year > 70)]\n",
        "items_re_year.year[(items_re_year.year < 70) & ((items_re_year.year2 < 5000) & (items_re_year.year2 > 70))] = items_re_year.year2[\n",
        "                                    (items_re_year.year < 70) & ((items_re_year.year2 < 5000) & (items_re_year.year2 > 70))]\n",
        "items_re_year.year2[(items_re_year.year2 < 70) & ((items_re_year.year < 5000) & (items_re_year.year > 70))] = items_re_year.year[\n",
        "                                    (items_re_year.year2 < 70) & ((items_re_year.year < 5000) & (items_re_year.year > 70))]"
      ],
      "execution_count": 32,
      "outputs": []
    },
    {
      "cell_type": "markdown",
      "metadata": {
        "editable": false,
        "id": "AteUMDbMw4T4"
      },
      "source": [
        "Выносим id строк которые неправильно возможно обрезались, чтоб посмотреть их значения в начальном датафрейме"
      ]
    },
    {
      "cell_type": "code",
      "metadata": {
        "editable": false,
        "trusted": true,
        "colab": {
          "base_uri": "https://localhost:8080/",
          "height": 161
        },
        "id": "XUP_V6r7w4T4",
        "outputId": "0ea128de-1610-4dee-f075-a2225cec7d84"
      },
      "source": [
        "break_data = pd.merge(items_re[['id','year']], items_re_year[(items_re_year.year < 70) | (items_re_year.year2 < 70)][['id']], on = ['id', 'id'])\n",
        "print('Количество испорченных дат  -  ', break_data.shape[0])\n",
        "break_data.head(3)"
      ],
      "execution_count": 33,
      "outputs": [
        {
          "output_type": "stream",
          "text": [
            "Количество испорченных дат  -   26\n"
          ],
          "name": "stdout"
        },
        {
          "output_type": "execute_result",
          "data": {
            "text/html": [
              "<div>\n",
              "<style scoped>\n",
              "    .dataframe tbody tr th:only-of-type {\n",
              "        vertical-align: middle;\n",
              "    }\n",
              "\n",
              "    .dataframe tbody tr th {\n",
              "        vertical-align: top;\n",
              "    }\n",
              "\n",
              "    .dataframe thead th {\n",
              "        text-align: right;\n",
              "    }\n",
              "</style>\n",
              "<table border=\"1\" class=\"dataframe\">\n",
              "  <thead>\n",
              "    <tr style=\"text-align: right;\">\n",
              "      <th></th>\n",
              "      <th>id</th>\n",
              "      <th>year</th>\n",
              "    </tr>\n",
              "  </thead>\n",
              "  <tbody>\n",
              "    <tr>\n",
              "      <th>0</th>\n",
              "      <td>9508</td>\n",
              "      <td>58-50 гг. до н. э.</td>\n",
              "    </tr>\n",
              "    <tr>\n",
              "      <th>1</th>\n",
              "      <td>23030</td>\n",
              "      <td>Октябрь 2000 – апрель 2001 г.</td>\n",
              "    </tr>\n",
              "    <tr>\n",
              "      <th>2</th>\n",
              "      <td>23065</td>\n",
              "      <td>до 1885 г.</td>\n",
              "    </tr>\n",
              "  </tbody>\n",
              "</table>\n",
              "</div>"
            ],
            "text/plain": [
              "      id                           year\n",
              "0   9508             58-50 гг. до н. э.\n",
              "1  23030  Октябрь 2000 – апрель 2001 г.\n",
              "2  23065                     до 1885 г."
            ]
          },
          "metadata": {
            "tags": []
          },
          "execution_count": 33
        }
      ]
    },
    {
      "cell_type": "markdown",
      "metadata": {
        "editable": false,
        "id": "S2C14Cc4w4T4"
      },
      "source": [
        "Некоторые даты совсем в необычном формате, исправим их уже вручную"
      ]
    },
    {
      "cell_type": "code",
      "metadata": {
        "editable": false,
        "trusted": true,
        "colab": {
          "base_uri": "https://localhost:8080/",
          "height": 213
        },
        "id": "PjU6wcWtw4T4",
        "outputId": "9dbda010-6533-4587-ce21-ede6fe5c4b63"
      },
      "source": [
        "dict2 = {9508: -50, 23030: 2001, 23065: 1885, 331107: 1755, 301204: 1837, 195963: 1832, 206005: 1900, 232479: 1849, 201027: 1900, \n",
        "        190958: 1870, 93468: 1900, 54667: 1968, 145079: 1878, 141866: 1849, 350748: 1937, 92583: 1972, 327040: 1932,\n",
        "        96045: 1940, 345023: 2018, 135516: -50, 289045: 1836, 139843: 1972, 341987: 1935, 286331: 1930, 233918: 1942, 72151: 1850}\n",
        "for i in dict2:\n",
        "    items_re_year.loc[items_re_year.loc[items_re_year['id'] == i]['id'].index, 'year'] = dict2[i]\n",
        "    items_re_year.loc[items_re_year.loc[items_re_year['id'] == i]['id'].index, 'year2'] = dict2[i]\n",
        "items_re_year.year = ((items_re_year.year + items_re_year.year2) / 2)\n",
        "items_re_year[30:50]\n",
        "items_re_year = items_re_year.drop(['year2'], axis = 1)\n",
        "items_re_year.year = items_re_year.year.astype(int)\n",
        "print(items_re_year.loc[(items_re_year.year > 2030) & (items_re_year.year < 5000)])\n",
        "items_re_year = items_re_year.loc[items_re_year.id != 372466]\n",
        "items_re_year.head(3)"
      ],
      "execution_count": 34,
      "outputs": [
        {
          "output_type": "stream",
          "text": [
            "           id                 title  ...        authors  year\n",
            "49129  372466  Заманчивое наказание  ...  Кэтти Уильямс  2917\n",
            "\n",
            "[1 rows x 5 columns]\n"
          ],
          "name": "stdout"
        },
        {
          "output_type": "execute_result",
          "data": {
            "text/html": [
              "<div>\n",
              "<style scoped>\n",
              "    .dataframe tbody tr th:only-of-type {\n",
              "        vertical-align: middle;\n",
              "    }\n",
              "\n",
              "    .dataframe tbody tr th {\n",
              "        vertical-align: top;\n",
              "    }\n",
              "\n",
              "    .dataframe thead th {\n",
              "        text-align: right;\n",
              "    }\n",
              "</style>\n",
              "<table border=\"1\" class=\"dataframe\">\n",
              "  <thead>\n",
              "    <tr style=\"text-align: right;\">\n",
              "      <th></th>\n",
              "      <th>id</th>\n",
              "      <th>title</th>\n",
              "      <th>genres</th>\n",
              "      <th>authors</th>\n",
              "      <th>year</th>\n",
              "    </tr>\n",
              "  </thead>\n",
              "  <tbody>\n",
              "    <tr>\n",
              "      <th>0</th>\n",
              "      <td>248031</td>\n",
              "      <td>Ворон-челобитчик</td>\n",
              "      <td>Зарубежные детские книги,Сказки,Зарубежная кла...</td>\n",
              "      <td>Михаил Салтыков-Щедрин</td>\n",
              "      <td>1886</td>\n",
              "    </tr>\n",
              "    <tr>\n",
              "      <th>1</th>\n",
              "      <td>256084</td>\n",
              "      <td>Скрипка Ротшильда</td>\n",
              "      <td>Классическая проза,Литература 19 века,Русская ...</td>\n",
              "      <td>Антон Чехов</td>\n",
              "      <td>1894</td>\n",
              "    </tr>\n",
              "    <tr>\n",
              "      <th>2</th>\n",
              "      <td>134166</td>\n",
              "      <td>Испорченные дети</td>\n",
              "      <td>Зарубежная классика,Классическая проза,Литерат...</td>\n",
              "      <td>Михаил Салтыков-Щедрин</td>\n",
              "      <td>1869</td>\n",
              "    </tr>\n",
              "  </tbody>\n",
              "</table>\n",
              "</div>"
            ],
            "text/plain": [
              "       id              title  ...                 authors  year\n",
              "0  248031   Ворон-челобитчик  ...  Михаил Салтыков-Щедрин  1886\n",
              "1  256084  Скрипка Ротшильда  ...             Антон Чехов  1894\n",
              "2  134166   Испорченные дети  ...  Михаил Салтыков-Щедрин  1869\n",
              "\n",
              "[3 rows x 5 columns]"
            ]
          },
          "metadata": {
            "tags": []
          },
          "execution_count": 34
        }
      ]
    },
    {
      "cell_type": "markdown",
      "metadata": {
        "editable": false,
        "id": "19aAsVxPw4T4"
      },
      "source": [
        "Теперь можно немного поплакать, прежду чем продолжить))) и попробуем восстановить еще пропущенные значения заполняя года средними значениями из списка книг авторов\n",
        "\n",
        "Создаем таблицу авторов и периода активности))) не забываем что пропущенные значения закодированны большим значением, временно"
      ]
    },
    {
      "cell_type": "code",
      "metadata": {
        "editable": false,
        "trusted": true,
        "colab": {
          "base_uri": "https://localhost:8080/",
          "height": 143
        },
        "id": "JSPbXr36w4T5",
        "outputId": "d7f0b439-cbb0-43ac-82a8-2dfa67534d03"
      },
      "source": [
        "items_year_recover = items_re_year.copy(deep = True)\n",
        "authors_list = items_re_year.loc[items_re_year.year != 5000].groupby('authors').mean()\n",
        "authors_list['authors'] = authors_list.index\n",
        "authors_list = authors_list.drop(['id'], axis = 1).reset_index(drop = True)\n",
        "authors_list.head(3)"
      ],
      "execution_count": 35,
      "outputs": [
        {
          "output_type": "execute_result",
          "data": {
            "text/html": [
              "<div>\n",
              "<style scoped>\n",
              "    .dataframe tbody tr th:only-of-type {\n",
              "        vertical-align: middle;\n",
              "    }\n",
              "\n",
              "    .dataframe tbody tr th {\n",
              "        vertical-align: top;\n",
              "    }\n",
              "\n",
              "    .dataframe thead th {\n",
              "        text-align: right;\n",
              "    }\n",
              "</style>\n",
              "<table border=\"1\" class=\"dataframe\">\n",
              "  <thead>\n",
              "    <tr style=\"text-align: right;\">\n",
              "      <th></th>\n",
              "      <th>year</th>\n",
              "      <th>authors</th>\n",
              "    </tr>\n",
              "  </thead>\n",
              "  <tbody>\n",
              "    <tr>\n",
              "      <th>0</th>\n",
              "      <td>2017.250000</td>\n",
              "      <td>Редакция журнала National Geographic</td>\n",
              "    </tr>\n",
              "    <tr>\n",
              "      <th>1</th>\n",
              "      <td>2018.666667</td>\n",
              "      <td>Редакция журнала Publish / Паблиш</td>\n",
              "    </tr>\n",
              "    <tr>\n",
              "      <th>2</th>\n",
              "      <td>2017.128205</td>\n",
              "      <td>Редакция журнала Сабрина</td>\n",
              "    </tr>\n",
              "  </tbody>\n",
              "</table>\n",
              "</div>"
            ],
            "text/plain": [
              "          year                                authors\n",
              "0  2017.250000   Редакция журнала National Geographic\n",
              "1  2018.666667      Редакция журнала Publish / Паблиш\n",
              "2  2017.128205               Редакция журнала Сабрина"
            ]
          },
          "metadata": {
            "tags": []
          },
          "execution_count": 35
        }
      ]
    },
    {
      "cell_type": "markdown",
      "metadata": {
        "editable": false,
        "id": "YC43X_wvw4T5"
      },
      "source": [
        "Заменяем пустые значения годов с подписанными авторами"
      ]
    },
    {
      "cell_type": "code",
      "metadata": {
        "editable": false,
        "trusted": true,
        "colab": {
          "base_uri": "https://localhost:8080/",
          "height": 161
        },
        "id": "DLXgPBmQw4T5",
        "outputId": "18b6a7d8-f438-468c-c2c4-abde7f63d6bd"
      },
      "source": [
        "items_year_recover['year_rec'] = items_year_recover.merge(authors_list, how = 'left', on='authors')['year_y']\n",
        "items_year_recover.loc[items_year_recover.year == 5000, 'year'] = items_year_recover.loc[items_year_recover.year == 5000, 'year_rec']\n",
        "items_year_recover.year = items_year_recover.year.fillna(5000).astype(int)\n",
        "items_year_recover = items_year_recover.drop(['year_rec'], axis = 1)\n",
        "print('Количество оставшихся пустых значений  -  ', items_year_recover.loc[items_year_recover.year == 5000].shape[0])\n",
        "items_year_recover = items_year_recover.rename({'id': 'item_id'}, axis=1)\n",
        "items_year_recover.head(3)"
      ],
      "execution_count": 36,
      "outputs": [
        {
          "output_type": "stream",
          "text": [
            "Количество оставшихся пустых значений  -   7831\n"
          ],
          "name": "stdout"
        },
        {
          "output_type": "execute_result",
          "data": {
            "text/html": [
              "<div>\n",
              "<style scoped>\n",
              "    .dataframe tbody tr th:only-of-type {\n",
              "        vertical-align: middle;\n",
              "    }\n",
              "\n",
              "    .dataframe tbody tr th {\n",
              "        vertical-align: top;\n",
              "    }\n",
              "\n",
              "    .dataframe thead th {\n",
              "        text-align: right;\n",
              "    }\n",
              "</style>\n",
              "<table border=\"1\" class=\"dataframe\">\n",
              "  <thead>\n",
              "    <tr style=\"text-align: right;\">\n",
              "      <th></th>\n",
              "      <th>item_id</th>\n",
              "      <th>title</th>\n",
              "      <th>genres</th>\n",
              "      <th>authors</th>\n",
              "      <th>year</th>\n",
              "    </tr>\n",
              "  </thead>\n",
              "  <tbody>\n",
              "    <tr>\n",
              "      <th>0</th>\n",
              "      <td>248031</td>\n",
              "      <td>Ворон-челобитчик</td>\n",
              "      <td>Зарубежные детские книги,Сказки,Зарубежная кла...</td>\n",
              "      <td>Михаил Салтыков-Щедрин</td>\n",
              "      <td>1886</td>\n",
              "    </tr>\n",
              "    <tr>\n",
              "      <th>1</th>\n",
              "      <td>256084</td>\n",
              "      <td>Скрипка Ротшильда</td>\n",
              "      <td>Классическая проза,Литература 19 века,Русская ...</td>\n",
              "      <td>Антон Чехов</td>\n",
              "      <td>1894</td>\n",
              "    </tr>\n",
              "    <tr>\n",
              "      <th>2</th>\n",
              "      <td>134166</td>\n",
              "      <td>Испорченные дети</td>\n",
              "      <td>Зарубежная классика,Классическая проза,Литерат...</td>\n",
              "      <td>Михаил Салтыков-Щедрин</td>\n",
              "      <td>1869</td>\n",
              "    </tr>\n",
              "  </tbody>\n",
              "</table>\n",
              "</div>"
            ],
            "text/plain": [
              "   item_id              title  ...                 authors  year\n",
              "0   248031   Ворон-челобитчик  ...  Михаил Салтыков-Щедрин  1886\n",
              "1   256084  Скрипка Ротшильда  ...             Антон Чехов  1894\n",
              "2   134166   Испорченные дети  ...  Михаил Салтыков-Щедрин  1869\n",
              "\n",
              "[3 rows x 5 columns]"
            ]
          },
          "metadata": {
            "tags": []
          },
          "execution_count": 36
        }
      ]
    },
    {
      "cell_type": "markdown",
      "metadata": {
        "editable": false,
        "id": "r1dqsZLRw4T5"
      },
      "source": [
        "Смотрим пустыe значения в новом датафрейме"
      ]
    },
    {
      "cell_type": "code",
      "metadata": {
        "editable": false,
        "trusted": true,
        "colab": {
          "base_uri": "https://localhost:8080/",
          "height": 143
        },
        "id": "u36lEoD0w4T6",
        "outputId": "06efa87a-3940-4e21-a4f0-afda5a2e9358"
      },
      "source": [
        "items_year_recover['year'] = items_year_recover['year'].replace(5000, np.NaN)\n",
        "miss(items_year_recover).head(3)"
      ],
      "execution_count": 37,
      "outputs": [
        {
          "output_type": "execute_result",
          "data": {
            "text/html": [
              "<div>\n",
              "<style scoped>\n",
              "    .dataframe tbody tr th:only-of-type {\n",
              "        vertical-align: middle;\n",
              "    }\n",
              "\n",
              "    .dataframe tbody tr th {\n",
              "        vertical-align: top;\n",
              "    }\n",
              "\n",
              "    .dataframe thead th {\n",
              "        text-align: right;\n",
              "    }\n",
              "</style>\n",
              "<table border=\"1\" class=\"dataframe\">\n",
              "  <thead>\n",
              "    <tr style=\"text-align: right;\">\n",
              "      <th></th>\n",
              "      <th>Missing Ratio</th>\n",
              "    </tr>\n",
              "  </thead>\n",
              "  <tbody>\n",
              "    <tr>\n",
              "      <th>year</th>\n",
              "      <td>12.282573</td>\n",
              "    </tr>\n",
              "    <tr>\n",
              "      <th>authors</th>\n",
              "      <td>11.070157</td>\n",
              "    </tr>\n",
              "    <tr>\n",
              "      <th>genres</th>\n",
              "      <td>0.007842</td>\n",
              "    </tr>\n",
              "  </tbody>\n",
              "</table>\n",
              "</div>"
            ],
            "text/plain": [
              "         Missing Ratio\n",
              "year         12.282573\n",
              "authors      11.070157\n",
              "genres        0.007842"
            ]
          },
          "metadata": {
            "tags": []
          },
          "execution_count": 37
        }
      ]
    },
    {
      "cell_type": "markdown",
      "metadata": {
        "editable": false,
        "id": "LDBJraGfw4T6"
      },
      "source": [
        "Удалим данные без описания жанра и смотрим наличие различных книг с одинаковыми именами"
      ]
    },
    {
      "cell_type": "code",
      "metadata": {
        "editable": false,
        "trusted": true,
        "colab": {
          "base_uri": "https://localhost:8080/"
        },
        "id": "8vFMgBBuw4T6",
        "outputId": "4138e7f9-5258-4fcd-a7f0-f87cdbe73388"
      },
      "source": [
        "items_year_recover.dropna(subset = ['genres'], inplace=True)\n",
        "title_count = items_year_recover.groupby('title')['item_id'].agg(list)\n",
        "title_count = title_count.map(len)\n",
        "print(title_count.value_counts())\n",
        "title_count[title_count > 9].head(5)"
      ],
      "execution_count": 38,
      "outputs": [
        {
          "output_type": "stream",
          "text": [
            "1     53767\n",
            "2      3580\n",
            "3       480\n",
            "4       143\n",
            "5        57\n",
            "6        25\n",
            "7        15\n",
            "8         9\n",
            "9         4\n",
            "18        1\n",
            "10        1\n",
            "11        1\n",
            "12        1\n",
            "35        1\n",
            "13        1\n",
            "15        1\n",
            "51        1\n",
            "Name: item_id, dtype: int64\n"
          ],
          "name": "stdout"
        },
        {
          "output_type": "execute_result",
          "data": {
            "text/plain": [
              "title\n",
              "Возвращение                      18\n",
              "Исповедь                         10\n",
              "Полное собрание стихотворений    13\n",
              "Противостояние                   11\n",
              "Рассказы                         15\n",
              "Name: item_id, dtype: int64"
            ]
          },
          "metadata": {
            "tags": []
          },
          "execution_count": 38
        }
      ]
    },
    {
      "cell_type": "markdown",
      "metadata": {
        "editable": false,
        "id": "xdIZsL1Dw4T6"
      },
      "source": [
        "Глянем пример"
      ]
    },
    {
      "cell_type": "code",
      "metadata": {
        "editable": false,
        "trusted": true,
        "colab": {
          "base_uri": "https://localhost:8080/",
          "height": 206
        },
        "id": "la8slRtgw4T7",
        "outputId": "fd312772-a4ce-4b85-b4cc-cb93d65b3955"
      },
      "source": [
        "items_year_recover.loc[items_year_recover.title == 'Возвращение'].head(5)"
      ],
      "execution_count": 39,
      "outputs": [
        {
          "output_type": "execute_result",
          "data": {
            "text/html": [
              "<div>\n",
              "<style scoped>\n",
              "    .dataframe tbody tr th:only-of-type {\n",
              "        vertical-align: middle;\n",
              "    }\n",
              "\n",
              "    .dataframe tbody tr th {\n",
              "        vertical-align: top;\n",
              "    }\n",
              "\n",
              "    .dataframe thead th {\n",
              "        text-align: right;\n",
              "    }\n",
              "</style>\n",
              "<table border=\"1\" class=\"dataframe\">\n",
              "  <thead>\n",
              "    <tr style=\"text-align: right;\">\n",
              "      <th></th>\n",
              "      <th>item_id</th>\n",
              "      <th>title</th>\n",
              "      <th>genres</th>\n",
              "      <th>authors</th>\n",
              "      <th>year</th>\n",
              "    </tr>\n",
              "  </thead>\n",
              "  <tbody>\n",
              "    <tr>\n",
              "      <th>4260</th>\n",
              "      <td>98549</td>\n",
              "      <td>Возвращение</td>\n",
              "      <td>Литература 20 века,Русская классика</td>\n",
              "      <td>Андрей Платонов</td>\n",
              "      <td>1946.0</td>\n",
              "    </tr>\n",
              "    <tr>\n",
              "      <th>12004</th>\n",
              "      <td>79870</td>\n",
              "      <td>Возвращение</td>\n",
              "      <td>Героическое фэнтези,Русское фэнтези</td>\n",
              "      <td>Александр Прозоров</td>\n",
              "      <td>2007.0</td>\n",
              "    </tr>\n",
              "    <tr>\n",
              "      <th>12735</th>\n",
              "      <td>34953</td>\n",
              "      <td>Возвращение</td>\n",
              "      <td>Героическое фэнтези,Попаданцы,Юмористическое ф...</td>\n",
              "      <td>Юлия Фирсанова</td>\n",
              "      <td>2011.0</td>\n",
              "    </tr>\n",
              "    <tr>\n",
              "      <th>17430</th>\n",
              "      <td>157205</td>\n",
              "      <td>Возвращение</td>\n",
              "      <td>Попаданцы,Боевое фэнтези</td>\n",
              "      <td>Юрий Иванович</td>\n",
              "      <td>2014.0</td>\n",
              "    </tr>\n",
              "    <tr>\n",
              "      <th>19587</th>\n",
              "      <td>147753</td>\n",
              "      <td>Возвращение</td>\n",
              "      <td>Героическая фантастика,Боевое фэнтези</td>\n",
              "      <td>Николай Басов</td>\n",
              "      <td>2000.0</td>\n",
              "    </tr>\n",
              "  </tbody>\n",
              "</table>\n",
              "</div>"
            ],
            "text/plain": [
              "       item_id        title  ...             authors    year\n",
              "4260     98549  Возвращение  ...     Андрей Платонов  1946.0\n",
              "12004    79870  Возвращение  ...  Александр Прозоров  2007.0\n",
              "12735    34953  Возвращение  ...      Юлия Фирсанова  2011.0\n",
              "17430   157205  Возвращение  ...       Юрий Иванович  2014.0\n",
              "19587   147753  Возвращение  ...       Николай Басов  2000.0\n",
              "\n",
              "[5 rows x 5 columns]"
            ]
          },
          "metadata": {
            "tags": []
          },
          "execution_count": 39
        }
      ]
    },
    {
      "cell_type": "markdown",
      "metadata": {
        "editable": false,
        "id": "uTfEwUG8w4T7"
      },
      "source": [
        "Теперь откроем таблицу взаимодействий глянем инфу и пустые значения"
      ]
    },
    {
      "cell_type": "code",
      "metadata": {
        "editable": false,
        "trusted": true,
        "colab": {
          "base_uri": "https://localhost:8080/",
          "height": 421
        },
        "id": "GOZ5Ozf7w4T7",
        "outputId": "63078cca-6174-47c6-f574-ce3209174e69"
      },
      "source": [
        "print(interactions.info())\n",
        "print(interactions.shape)\n",
        "print(miss(interactions).head(5))\n",
        "interactions.head(3)"
      ],
      "execution_count": 40,
      "outputs": [
        {
          "output_type": "stream",
          "text": [
            "<class 'pandas.core.frame.DataFrame'>\n",
            "RangeIndex: 1562617 entries, 0 to 1562616\n",
            "Data columns (total 5 columns):\n",
            " #   Column      Non-Null Count    Dtype  \n",
            "---  ------      --------------    -----  \n",
            " 0   user_id     1562617 non-null  int64  \n",
            " 1   item_id     1562617 non-null  int64  \n",
            " 2   progress    1562617 non-null  int64  \n",
            " 3   rating      323571 non-null   float64\n",
            " 4   start_date  1562617 non-null  object \n",
            "dtypes: float64(1), int64(3), object(1)\n",
            "memory usage: 59.6+ MB\n",
            "None\n",
            "(1562617, 5)\n",
            "        Missing Ratio\n",
            "rating      79.293007\n"
          ],
          "name": "stdout"
        },
        {
          "output_type": "execute_result",
          "data": {
            "text/html": [
              "<div>\n",
              "<style scoped>\n",
              "    .dataframe tbody tr th:only-of-type {\n",
              "        vertical-align: middle;\n",
              "    }\n",
              "\n",
              "    .dataframe tbody tr th {\n",
              "        vertical-align: top;\n",
              "    }\n",
              "\n",
              "    .dataframe thead th {\n",
              "        text-align: right;\n",
              "    }\n",
              "</style>\n",
              "<table border=\"1\" class=\"dataframe\">\n",
              "  <thead>\n",
              "    <tr style=\"text-align: right;\">\n",
              "      <th></th>\n",
              "      <th>user_id</th>\n",
              "      <th>item_id</th>\n",
              "      <th>progress</th>\n",
              "      <th>rating</th>\n",
              "      <th>start_date</th>\n",
              "    </tr>\n",
              "  </thead>\n",
              "  <tbody>\n",
              "    <tr>\n",
              "      <th>0</th>\n",
              "      <td>90133</td>\n",
              "      <td>82910</td>\n",
              "      <td>100</td>\n",
              "      <td>NaN</td>\n",
              "      <td>2018-01-01</td>\n",
              "    </tr>\n",
              "    <tr>\n",
              "      <th>1</th>\n",
              "      <td>159130</td>\n",
              "      <td>331068</td>\n",
              "      <td>70</td>\n",
              "      <td>NaN</td>\n",
              "      <td>2018-01-01</td>\n",
              "    </tr>\n",
              "    <tr>\n",
              "      <th>2</th>\n",
              "      <td>80061</td>\n",
              "      <td>26540</td>\n",
              "      <td>69</td>\n",
              "      <td>4.0</td>\n",
              "      <td>2018-01-01</td>\n",
              "    </tr>\n",
              "  </tbody>\n",
              "</table>\n",
              "</div>"
            ],
            "text/plain": [
              "   user_id  item_id  progress  rating  start_date\n",
              "0    90133    82910       100     NaN  2018-01-01\n",
              "1   159130   331068        70     NaN  2018-01-01\n",
              "2    80061    26540        69     4.0  2018-01-01"
            ]
          },
          "metadata": {
            "tags": []
          },
          "execution_count": 40
        }
      ]
    },
    {
      "cell_type": "markdown",
      "metadata": {
        "editable": false,
        "id": "K-Fffyyhw4T7"
      },
      "source": [
        "Построим распределение признака прогресса"
      ]
    },
    {
      "cell_type": "code",
      "metadata": {
        "editable": false,
        "trusted": true,
        "colab": {
          "base_uri": "https://localhost:8080/",
          "height": 617
        },
        "id": "9xAB6yGOw4T7",
        "outputId": "ffc710df-a753-4b34-c960-422891001d90"
      },
      "source": [
        "bar_progress = interactions.groupby('progress').count() \n",
        "fig = go.Figure(data = [go.Bar(x = bar_progress.index.values, y = bar_progress['user_id'])])\n",
        "\n",
        "fig.update_traces(marker_color = 'rgb(158,202,225)', marker_line_color='rgb(8,48,107)',\n",
        "                  marker_line_width=1.5, opacity=0.6, name = '')\n",
        "fig.update_layout(title_text = 'Распределение признака возвраста', width = 1000, height = 600)\n",
        "fig.show()"
      ],
      "execution_count": 41,
      "outputs": [
        {
          "output_type": "display_data",
          "data": {
            "text/html": [
              "<html>\n",
              "<head><meta charset=\"utf-8\" /></head>\n",
              "<body>\n",
              "    <div>\n",
              "            <script src=\"https://cdnjs.cloudflare.com/ajax/libs/mathjax/2.7.5/MathJax.js?config=TeX-AMS-MML_SVG\"></script><script type=\"text/javascript\">if (window.MathJax) {MathJax.Hub.Config({SVG: {font: \"STIX-Web\"}});}</script>\n",
              "                <script type=\"text/javascript\">window.PlotlyConfig = {MathJaxConfig: 'local'};</script>\n",
              "        <script src=\"https://cdn.plot.ly/plotly-latest.min.js\"></script>    \n",
              "            <div id=\"ce217abb-00b2-45e7-8fff-622bf449e2ed\" class=\"plotly-graph-div\" style=\"height:600px; width:1000px;\"></div>\n",
              "            <script type=\"text/javascript\">\n",
              "                \n",
              "                    window.PLOTLYENV=window.PLOTLYENV || {};\n",
              "                    \n",
              "                if (document.getElementById(\"ce217abb-00b2-45e7-8fff-622bf449e2ed\")) {\n",
              "                    Plotly.newPlot(\n",
              "                        'ce217abb-00b2-45e7-8fff-622bf449e2ed',\n",
              "                        [{\"marker\": {\"color\": \"rgb(158,202,225)\", \"line\": {\"color\": \"rgb(8,48,107)\", \"width\": 1.5}}, \"name\": \"\", \"opacity\": 0.6, \"type\": \"bar\", \"x\": [0, 1, 2, 3, 4, 5, 6, 7, 8, 9, 10, 11, 12, 13, 14, 15, 16, 17, 18, 19, 20, 21, 22, 23, 24, 25, 26, 27, 28, 29, 30, 31, 32, 33, 34, 35, 36, 37, 38, 39, 40, 41, 42, 43, 44, 45, 46, 47, 48, 49, 50, 51, 52, 53, 54, 55, 56, 57, 58, 59, 60, 61, 62, 63, 64, 65, 66, 67, 68, 69, 70, 71, 72, 73, 74, 75, 76, 77, 78, 79, 80, 81, 82, 83, 84, 85, 86, 87, 88, 89, 90, 91, 92, 93, 94, 95, 96, 97, 98, 99, 100, 105], \"y\": [203043, 49440, 34549, 26631, 22725, 19948, 17819, 16264, 15347, 14797, 13667, 12885, 12624, 12174, 11743, 11729, 11335, 11427, 11234, 11052, 11070, 10847, 10720, 10694, 10056, 10250, 10017, 9922, 10229, 9143, 9481, 9621, 9487, 9336, 9356, 9262, 9231, 9171, 9231, 9122, 9039, 9091, 9010, 8952, 9006, 8892, 8826, 8910, 8920, 8829, 9037, 8838, 8964, 8648, 8748, 8667, 8880, 8693, 8501, 8683, 8493, 8697, 8774, 8622, 8785, 8581, 9923, 8631, 8665, 8622, 8629, 8566, 8759, 8668, 8692, 8688, 8729, 8804, 8705, 8684, 8855, 8723, 8725, 10088, 8777, 8933, 8715, 9094, 8844, 8861, 9002, 9445, 9277, 9577, 9838, 10063, 10825, 11560, 14058, 56506, 234320, 1]}],\n",
              "                        {\"height\": 600, \"template\": {\"data\": {\"bar\": [{\"error_x\": {\"color\": \"#2a3f5f\"}, \"error_y\": {\"color\": \"#2a3f5f\"}, \"marker\": {\"line\": {\"color\": \"#E5ECF6\", \"width\": 0.5}}, \"type\": \"bar\"}], \"barpolar\": [{\"marker\": {\"line\": {\"color\": \"#E5ECF6\", \"width\": 0.5}}, \"type\": \"barpolar\"}], \"carpet\": [{\"aaxis\": {\"endlinecolor\": \"#2a3f5f\", \"gridcolor\": \"white\", \"linecolor\": \"white\", \"minorgridcolor\": \"white\", \"startlinecolor\": \"#2a3f5f\"}, \"baxis\": {\"endlinecolor\": \"#2a3f5f\", \"gridcolor\": \"white\", \"linecolor\": \"white\", \"minorgridcolor\": \"white\", \"startlinecolor\": \"#2a3f5f\"}, \"type\": \"carpet\"}], \"choropleth\": [{\"colorbar\": {\"outlinewidth\": 0, \"ticks\": \"\"}, \"type\": \"choropleth\"}], \"contour\": [{\"colorbar\": {\"outlinewidth\": 0, \"ticks\": \"\"}, \"colorscale\": [[0.0, \"#0d0887\"], [0.1111111111111111, \"#46039f\"], [0.2222222222222222, \"#7201a8\"], [0.3333333333333333, \"#9c179e\"], [0.4444444444444444, \"#bd3786\"], [0.5555555555555556, \"#d8576b\"], [0.6666666666666666, \"#ed7953\"], [0.7777777777777778, \"#fb9f3a\"], [0.8888888888888888, \"#fdca26\"], [1.0, \"#f0f921\"]], \"type\": \"contour\"}], \"contourcarpet\": [{\"colorbar\": {\"outlinewidth\": 0, \"ticks\": \"\"}, \"type\": \"contourcarpet\"}], \"heatmap\": [{\"colorbar\": {\"outlinewidth\": 0, \"ticks\": \"\"}, \"colorscale\": [[0.0, \"#0d0887\"], [0.1111111111111111, \"#46039f\"], [0.2222222222222222, \"#7201a8\"], [0.3333333333333333, \"#9c179e\"], [0.4444444444444444, \"#bd3786\"], [0.5555555555555556, \"#d8576b\"], [0.6666666666666666, \"#ed7953\"], [0.7777777777777778, \"#fb9f3a\"], [0.8888888888888888, \"#fdca26\"], [1.0, \"#f0f921\"]], \"type\": \"heatmap\"}], \"heatmapgl\": [{\"colorbar\": {\"outlinewidth\": 0, \"ticks\": \"\"}, \"colorscale\": [[0.0, \"#0d0887\"], [0.1111111111111111, \"#46039f\"], [0.2222222222222222, \"#7201a8\"], [0.3333333333333333, \"#9c179e\"], [0.4444444444444444, \"#bd3786\"], [0.5555555555555556, \"#d8576b\"], [0.6666666666666666, \"#ed7953\"], [0.7777777777777778, \"#fb9f3a\"], [0.8888888888888888, \"#fdca26\"], [1.0, \"#f0f921\"]], \"type\": \"heatmapgl\"}], \"histogram\": [{\"marker\": {\"colorbar\": {\"outlinewidth\": 0, \"ticks\": \"\"}}, \"type\": \"histogram\"}], \"histogram2d\": [{\"colorbar\": {\"outlinewidth\": 0, \"ticks\": \"\"}, \"colorscale\": [[0.0, \"#0d0887\"], [0.1111111111111111, \"#46039f\"], [0.2222222222222222, \"#7201a8\"], [0.3333333333333333, \"#9c179e\"], [0.4444444444444444, \"#bd3786\"], [0.5555555555555556, \"#d8576b\"], [0.6666666666666666, \"#ed7953\"], [0.7777777777777778, \"#fb9f3a\"], [0.8888888888888888, \"#fdca26\"], [1.0, \"#f0f921\"]], \"type\": \"histogram2d\"}], \"histogram2dcontour\": [{\"colorbar\": {\"outlinewidth\": 0, \"ticks\": \"\"}, \"colorscale\": [[0.0, \"#0d0887\"], [0.1111111111111111, \"#46039f\"], [0.2222222222222222, \"#7201a8\"], [0.3333333333333333, \"#9c179e\"], [0.4444444444444444, \"#bd3786\"], [0.5555555555555556, \"#d8576b\"], [0.6666666666666666, \"#ed7953\"], [0.7777777777777778, \"#fb9f3a\"], [0.8888888888888888, \"#fdca26\"], [1.0, \"#f0f921\"]], \"type\": \"histogram2dcontour\"}], \"mesh3d\": [{\"colorbar\": {\"outlinewidth\": 0, \"ticks\": \"\"}, \"type\": \"mesh3d\"}], \"parcoords\": [{\"line\": {\"colorbar\": {\"outlinewidth\": 0, \"ticks\": \"\"}}, \"type\": \"parcoords\"}], \"pie\": [{\"automargin\": true, \"type\": \"pie\"}], \"scatter\": [{\"marker\": {\"colorbar\": {\"outlinewidth\": 0, \"ticks\": \"\"}}, \"type\": \"scatter\"}], \"scatter3d\": [{\"line\": {\"colorbar\": {\"outlinewidth\": 0, \"ticks\": \"\"}}, \"marker\": {\"colorbar\": {\"outlinewidth\": 0, \"ticks\": \"\"}}, \"type\": \"scatter3d\"}], \"scattercarpet\": [{\"marker\": {\"colorbar\": {\"outlinewidth\": 0, \"ticks\": \"\"}}, \"type\": \"scattercarpet\"}], \"scattergeo\": [{\"marker\": {\"colorbar\": {\"outlinewidth\": 0, \"ticks\": \"\"}}, \"type\": \"scattergeo\"}], \"scattergl\": [{\"marker\": {\"colorbar\": {\"outlinewidth\": 0, \"ticks\": \"\"}}, \"type\": \"scattergl\"}], \"scattermapbox\": [{\"marker\": {\"colorbar\": {\"outlinewidth\": 0, \"ticks\": \"\"}}, \"type\": \"scattermapbox\"}], \"scatterpolar\": [{\"marker\": {\"colorbar\": {\"outlinewidth\": 0, \"ticks\": \"\"}}, \"type\": \"scatterpolar\"}], \"scatterpolargl\": [{\"marker\": {\"colorbar\": {\"outlinewidth\": 0, \"ticks\": \"\"}}, \"type\": \"scatterpolargl\"}], \"scatterternary\": [{\"marker\": {\"colorbar\": {\"outlinewidth\": 0, \"ticks\": \"\"}}, \"type\": \"scatterternary\"}], \"surface\": [{\"colorbar\": {\"outlinewidth\": 0, \"ticks\": \"\"}, \"colorscale\": [[0.0, \"#0d0887\"], [0.1111111111111111, \"#46039f\"], [0.2222222222222222, \"#7201a8\"], [0.3333333333333333, \"#9c179e\"], [0.4444444444444444, \"#bd3786\"], [0.5555555555555556, \"#d8576b\"], [0.6666666666666666, \"#ed7953\"], [0.7777777777777778, \"#fb9f3a\"], [0.8888888888888888, \"#fdca26\"], [1.0, \"#f0f921\"]], \"type\": \"surface\"}], \"table\": [{\"cells\": {\"fill\": {\"color\": \"#EBF0F8\"}, \"line\": {\"color\": \"white\"}}, \"header\": {\"fill\": {\"color\": \"#C8D4E3\"}, \"line\": {\"color\": \"white\"}}, \"type\": \"table\"}]}, \"layout\": {\"annotationdefaults\": {\"arrowcolor\": \"#2a3f5f\", \"arrowhead\": 0, \"arrowwidth\": 1}, \"coloraxis\": {\"colorbar\": {\"outlinewidth\": 0, \"ticks\": \"\"}}, \"colorscale\": {\"diverging\": [[0, \"#8e0152\"], [0.1, \"#c51b7d\"], [0.2, \"#de77ae\"], [0.3, \"#f1b6da\"], [0.4, \"#fde0ef\"], [0.5, \"#f7f7f7\"], [0.6, \"#e6f5d0\"], [0.7, \"#b8e186\"], [0.8, \"#7fbc41\"], [0.9, \"#4d9221\"], [1, \"#276419\"]], \"sequential\": [[0.0, \"#0d0887\"], [0.1111111111111111, \"#46039f\"], [0.2222222222222222, \"#7201a8\"], [0.3333333333333333, \"#9c179e\"], [0.4444444444444444, \"#bd3786\"], [0.5555555555555556, \"#d8576b\"], [0.6666666666666666, \"#ed7953\"], [0.7777777777777778, \"#fb9f3a\"], [0.8888888888888888, \"#fdca26\"], [1.0, \"#f0f921\"]], \"sequentialminus\": [[0.0, \"#0d0887\"], [0.1111111111111111, \"#46039f\"], [0.2222222222222222, \"#7201a8\"], [0.3333333333333333, \"#9c179e\"], [0.4444444444444444, \"#bd3786\"], [0.5555555555555556, \"#d8576b\"], [0.6666666666666666, \"#ed7953\"], [0.7777777777777778, \"#fb9f3a\"], [0.8888888888888888, \"#fdca26\"], [1.0, \"#f0f921\"]]}, \"colorway\": [\"#636efa\", \"#EF553B\", \"#00cc96\", \"#ab63fa\", \"#FFA15A\", \"#19d3f3\", \"#FF6692\", \"#B6E880\", \"#FF97FF\", \"#FECB52\"], \"font\": {\"color\": \"#2a3f5f\"}, \"geo\": {\"bgcolor\": \"white\", \"lakecolor\": \"white\", \"landcolor\": \"#E5ECF6\", \"showlakes\": true, \"showland\": true, \"subunitcolor\": \"white\"}, \"hoverlabel\": {\"align\": \"left\"}, \"hovermode\": \"closest\", \"mapbox\": {\"style\": \"light\"}, \"paper_bgcolor\": \"white\", \"plot_bgcolor\": \"#E5ECF6\", \"polar\": {\"angularaxis\": {\"gridcolor\": \"white\", \"linecolor\": \"white\", \"ticks\": \"\"}, \"bgcolor\": \"#E5ECF6\", \"radialaxis\": {\"gridcolor\": \"white\", \"linecolor\": \"white\", \"ticks\": \"\"}}, \"scene\": {\"xaxis\": {\"backgroundcolor\": \"#E5ECF6\", \"gridcolor\": \"white\", \"gridwidth\": 2, \"linecolor\": \"white\", \"showbackground\": true, \"ticks\": \"\", \"zerolinecolor\": \"white\"}, \"yaxis\": {\"backgroundcolor\": \"#E5ECF6\", \"gridcolor\": \"white\", \"gridwidth\": 2, \"linecolor\": \"white\", \"showbackground\": true, \"ticks\": \"\", \"zerolinecolor\": \"white\"}, \"zaxis\": {\"backgroundcolor\": \"#E5ECF6\", \"gridcolor\": \"white\", \"gridwidth\": 2, \"linecolor\": \"white\", \"showbackground\": true, \"ticks\": \"\", \"zerolinecolor\": \"white\"}}, \"shapedefaults\": {\"line\": {\"color\": \"#2a3f5f\"}}, \"ternary\": {\"aaxis\": {\"gridcolor\": \"white\", \"linecolor\": \"white\", \"ticks\": \"\"}, \"baxis\": {\"gridcolor\": \"white\", \"linecolor\": \"white\", \"ticks\": \"\"}, \"bgcolor\": \"#E5ECF6\", \"caxis\": {\"gridcolor\": \"white\", \"linecolor\": \"white\", \"ticks\": \"\"}}, \"title\": {\"x\": 0.05}, \"xaxis\": {\"automargin\": true, \"gridcolor\": \"white\", \"linecolor\": \"white\", \"ticks\": \"\", \"title\": {\"standoff\": 15}, \"zerolinecolor\": \"white\", \"zerolinewidth\": 2}, \"yaxis\": {\"automargin\": true, \"gridcolor\": \"white\", \"linecolor\": \"white\", \"ticks\": \"\", \"title\": {\"standoff\": 15}, \"zerolinecolor\": \"white\", \"zerolinewidth\": 2}}}, \"title\": {\"text\": \"\\u0420\\u0430\\u0441\\u043f\\u0440\\u0435\\u0434\\u0435\\u043b\\u0435\\u043d\\u0438\\u0435 \\u043f\\u0440\\u0438\\u0437\\u043d\\u0430\\u043a\\u0430 \\u0432\\u043e\\u0437\\u0432\\u0440\\u0430\\u0441\\u0442\\u0430\"}, \"width\": 1000},\n",
              "                        {\"responsive\": true}\n",
              "                    ).then(function(){\n",
              "                            \n",
              "var gd = document.getElementById('ce217abb-00b2-45e7-8fff-622bf449e2ed');\n",
              "var x = new MutationObserver(function (mutations, observer) {{\n",
              "        var display = window.getComputedStyle(gd).display;\n",
              "        if (!display || display === 'none') {{\n",
              "            console.log([gd, 'removed!']);\n",
              "            Plotly.purge(gd);\n",
              "            observer.disconnect();\n",
              "        }}\n",
              "}});\n",
              "\n",
              "// Listen for the removal of the full notebook cells\n",
              "var notebookContainer = gd.closest('#notebook-container');\n",
              "if (notebookContainer) {{\n",
              "    x.observe(notebookContainer, {childList: true});\n",
              "}}\n",
              "\n",
              "// Listen for the clearing of the current output cell\n",
              "var outputEl = gd.closest('.output');\n",
              "if (outputEl) {{\n",
              "    x.observe(outputEl, {childList: true});\n",
              "}}\n",
              "\n",
              "                        })\n",
              "                };\n",
              "                \n",
              "            </script>\n",
              "        </div>\n",
              "</body>\n",
              "</html>"
            ]
          },
          "metadata": {
            "tags": []
          }
        }
      ]
    },
    {
      "cell_type": "markdown",
      "metadata": {
        "editable": false,
        "id": "0_R0dRWjw4T8"
      },
      "source": [
        "Удалим одно наблюдение выходящее за пределы логики даже)))"
      ]
    },
    {
      "cell_type": "code",
      "metadata": {
        "editable": false,
        "trusted": true,
        "id": "DpRpwf5Xw4T8"
      },
      "source": [
        "interactions_mod = interactions.copy(deep = True)\n",
        "interactions_mod = interactions_mod.loc[interactions_mod.progress <= 100]"
      ],
      "execution_count": 42,
      "outputs": []
    },
    {
      "cell_type": "markdown",
      "metadata": {
        "editable": false,
        "id": "i7Ce1lPpw4T8"
      },
      "source": [
        "Собираем общий датафрейм"
      ]
    },
    {
      "cell_type": "code",
      "metadata": {
        "editable": false,
        "trusted": true,
        "colab": {
          "base_uri": "https://localhost:8080/",
          "height": 143
        },
        "id": "1Pa93tyMw4T8",
        "outputId": "26b15cad-c676-4a05-8e1e-fcfdcbf4e153"
      },
      "source": [
        "all_data = interactions_mod.copy(deep = True)\n",
        "all_data = all_data.merge(users_mod, how='left')\n",
        "all_data = all_data.merge(items_year_recover, how='left')\n",
        "all_data.head(3)"
      ],
      "execution_count": 43,
      "outputs": [
        {
          "output_type": "execute_result",
          "data": {
            "text/html": [
              "<div>\n",
              "<style scoped>\n",
              "    .dataframe tbody tr th:only-of-type {\n",
              "        vertical-align: middle;\n",
              "    }\n",
              "\n",
              "    .dataframe tbody tr th {\n",
              "        vertical-align: top;\n",
              "    }\n",
              "\n",
              "    .dataframe thead th {\n",
              "        text-align: right;\n",
              "    }\n",
              "</style>\n",
              "<table border=\"1\" class=\"dataframe\">\n",
              "  <thead>\n",
              "    <tr style=\"text-align: right;\">\n",
              "      <th></th>\n",
              "      <th>user_id</th>\n",
              "      <th>item_id</th>\n",
              "      <th>progress</th>\n",
              "      <th>rating</th>\n",
              "      <th>start_date</th>\n",
              "      <th>age</th>\n",
              "      <th>sex</th>\n",
              "      <th>title</th>\n",
              "      <th>genres</th>\n",
              "      <th>authors</th>\n",
              "      <th>year</th>\n",
              "    </tr>\n",
              "  </thead>\n",
              "  <tbody>\n",
              "    <tr>\n",
              "      <th>0</th>\n",
              "      <td>90133</td>\n",
              "      <td>82910</td>\n",
              "      <td>100</td>\n",
              "      <td>NaN</td>\n",
              "      <td>2018-01-01</td>\n",
              "      <td>55_64</td>\n",
              "      <td>0.0</td>\n",
              "      <td>Ведьма отмщения</td>\n",
              "      <td>Современные детективы</td>\n",
              "      <td>Галина Романова</td>\n",
              "      <td>2013.0</td>\n",
              "    </tr>\n",
              "    <tr>\n",
              "      <th>1</th>\n",
              "      <td>159130</td>\n",
              "      <td>331068</td>\n",
              "      <td>70</td>\n",
              "      <td>NaN</td>\n",
              "      <td>2018-01-01</td>\n",
              "      <td>35_44</td>\n",
              "      <td>0.0</td>\n",
              "      <td>Проклятый горн</td>\n",
              "      <td>Героическое фэнтези,Боевое фэнтези</td>\n",
              "      <td>Алексей Пехов</td>\n",
              "      <td>2014.0</td>\n",
              "    </tr>\n",
              "    <tr>\n",
              "      <th>2</th>\n",
              "      <td>80061</td>\n",
              "      <td>26540</td>\n",
              "      <td>69</td>\n",
              "      <td>4.0</td>\n",
              "      <td>2018-01-01</td>\n",
              "      <td>25_34</td>\n",
              "      <td>0.0</td>\n",
              "      <td>Время – убийца</td>\n",
              "      <td>Зарубежные детективы,Современные детективы</td>\n",
              "      <td>Мишель Бюсси</td>\n",
              "      <td>2016.0</td>\n",
              "    </tr>\n",
              "  </tbody>\n",
              "</table>\n",
              "</div>"
            ],
            "text/plain": [
              "   user_id  item_id  ...          authors    year\n",
              "0    90133    82910  ...  Галина Романова  2013.0\n",
              "1   159130   331068  ...    Алексей Пехов  2014.0\n",
              "2    80061    26540  ...     Мишель Бюсси  2016.0\n",
              "\n",
              "[3 rows x 11 columns]"
            ]
          },
          "metadata": {
            "tags": []
          },
          "execution_count": 43
        }
      ]
    },
    {
      "cell_type": "markdown",
      "metadata": {
        "editable": false,
        "id": "jKOjGJMow4T8"
      },
      "source": [
        "Смотрим пропущенные значения и количество отсутствующих пользователей из целевого признака"
      ]
    },
    {
      "cell_type": "code",
      "metadata": {
        "editable": false,
        "trusted": true,
        "colab": {
          "base_uri": "https://localhost:8080/",
          "height": 224
        },
        "id": "cMwJC9Qnw4T8",
        "outputId": "e1e62409-daf4-45e9-b76f-96c3376e1c5f"
      },
      "source": [
        "print(list(set(submission.Id.unique()) - set(all_data.user_id.unique())))\n",
        "miss(all_data).head(5)"
      ],
      "execution_count": 44,
      "outputs": [
        {
          "output_type": "stream",
          "text": [
            "[156235, 10309]\n"
          ],
          "name": "stdout"
        },
        {
          "output_type": "execute_result",
          "data": {
            "text/html": [
              "<div>\n",
              "<style scoped>\n",
              "    .dataframe tbody tr th:only-of-type {\n",
              "        vertical-align: middle;\n",
              "    }\n",
              "\n",
              "    .dataframe tbody tr th {\n",
              "        vertical-align: top;\n",
              "    }\n",
              "\n",
              "    .dataframe thead th {\n",
              "        text-align: right;\n",
              "    }\n",
              "</style>\n",
              "<table border=\"1\" class=\"dataframe\">\n",
              "  <thead>\n",
              "    <tr style=\"text-align: right;\">\n",
              "      <th></th>\n",
              "      <th>Missing Ratio</th>\n",
              "    </tr>\n",
              "  </thead>\n",
              "  <tbody>\n",
              "    <tr>\n",
              "      <th>rating</th>\n",
              "      <td>79.293057</td>\n",
              "    </tr>\n",
              "    <tr>\n",
              "      <th>sex</th>\n",
              "      <td>15.865510</td>\n",
              "    </tr>\n",
              "    <tr>\n",
              "      <th>age</th>\n",
              "      <td>15.865510</td>\n",
              "    </tr>\n",
              "    <tr>\n",
              "      <th>year</th>\n",
              "      <td>7.666631</td>\n",
              "    </tr>\n",
              "    <tr>\n",
              "      <th>authors</th>\n",
              "      <td>6.680144</td>\n",
              "    </tr>\n",
              "  </tbody>\n",
              "</table>\n",
              "</div>"
            ],
            "text/plain": [
              "         Missing Ratio\n",
              "rating       79.293057\n",
              "sex          15.865510\n",
              "age          15.865510\n",
              "year          7.666631\n",
              "authors       6.680144"
            ]
          },
          "metadata": {
            "tags": []
          },
          "execution_count": 44
        }
      ]
    },
    {
      "cell_type": "markdown",
      "metadata": {
        "editable": false,
        "id": "3TrFFz4Sw4T8"
      },
      "source": [
        "Добовим их и выведем отношение пропущенных рейтиногов без авторов к тем что с авторами))"
      ]
    },
    {
      "cell_type": "code",
      "metadata": {
        "editable": false,
        "trusted": true,
        "colab": {
          "base_uri": "https://localhost:8080/"
        },
        "id": "6RC1Dgmbw4T9",
        "outputId": "7c56d46f-803a-4c43-bf94-7cc7c4d0aa09"
      },
      "source": [
        "all_data = pd.concat([all_data, users.loc[(users.user_id == 10309) | (users.user_id == 156235)]], join = \"outer\")\n",
        "print(all_data.loc[all_data.authors.isnull() & all_data.rating.notnull()].shape[0] / all_data.loc[all_data.authors.notnull() & all_data.rating.notnull()].shape[0])\n",
        "all_data.shape"
      ],
      "execution_count": 45,
      "outputs": [
        {
          "output_type": "stream",
          "text": [
            "0.06208313638989549\n"
          ],
          "name": "stdout"
        },
        {
          "output_type": "execute_result",
          "data": {
            "text/plain": [
              "(1562618, 11)"
            ]
          },
          "metadata": {
            "tags": []
          },
          "execution_count": 45
        }
      ]
    },
    {
      "cell_type": "markdown",
      "metadata": {
        "editable": false,
        "id": "qlizQYrhw4T9"
      },
      "source": [
        "Процент конечно не большой, но попробуем сохранить данные указав что нет автора и закодировав в отдельный столбец"
      ]
    },
    {
      "cell_type": "code",
      "metadata": {
        "editable": false,
        "trusted": true,
        "colab": {
          "base_uri": "https://localhost:8080/",
          "height": 161
        },
        "id": "acDx_4Jgw4T9",
        "outputId": "f60bca2e-dabb-41f8-953b-203678238ebe"
      },
      "source": [
        "all_data.authors = all_data.authors.fillna('noauthors')\n",
        "all_data['authors_code'] = all_data.authors\n",
        "all_data.loc[(all_data['authors_code'] != 'noauthors'), 'authors_code'] = 1\n",
        "all_data.loc[(all_data['authors_code'] == 'noauthors'), 'authors_code'] = 0\n",
        "print(all_data.shape)\n",
        "all_data.head(3)"
      ],
      "execution_count": 46,
      "outputs": [
        {
          "output_type": "stream",
          "text": [
            "(1562618, 12)\n"
          ],
          "name": "stdout"
        },
        {
          "output_type": "execute_result",
          "data": {
            "text/html": [
              "<div>\n",
              "<style scoped>\n",
              "    .dataframe tbody tr th:only-of-type {\n",
              "        vertical-align: middle;\n",
              "    }\n",
              "\n",
              "    .dataframe tbody tr th {\n",
              "        vertical-align: top;\n",
              "    }\n",
              "\n",
              "    .dataframe thead th {\n",
              "        text-align: right;\n",
              "    }\n",
              "</style>\n",
              "<table border=\"1\" class=\"dataframe\">\n",
              "  <thead>\n",
              "    <tr style=\"text-align: right;\">\n",
              "      <th></th>\n",
              "      <th>user_id</th>\n",
              "      <th>item_id</th>\n",
              "      <th>progress</th>\n",
              "      <th>rating</th>\n",
              "      <th>start_date</th>\n",
              "      <th>age</th>\n",
              "      <th>sex</th>\n",
              "      <th>title</th>\n",
              "      <th>genres</th>\n",
              "      <th>authors</th>\n",
              "      <th>year</th>\n",
              "      <th>authors_code</th>\n",
              "    </tr>\n",
              "  </thead>\n",
              "  <tbody>\n",
              "    <tr>\n",
              "      <th>0</th>\n",
              "      <td>90133</td>\n",
              "      <td>82910.0</td>\n",
              "      <td>100.0</td>\n",
              "      <td>NaN</td>\n",
              "      <td>2018-01-01</td>\n",
              "      <td>55_64</td>\n",
              "      <td>0.0</td>\n",
              "      <td>Ведьма отмщения</td>\n",
              "      <td>Современные детективы</td>\n",
              "      <td>Галина Романова</td>\n",
              "      <td>2013.0</td>\n",
              "      <td>1</td>\n",
              "    </tr>\n",
              "    <tr>\n",
              "      <th>1</th>\n",
              "      <td>159130</td>\n",
              "      <td>331068.0</td>\n",
              "      <td>70.0</td>\n",
              "      <td>NaN</td>\n",
              "      <td>2018-01-01</td>\n",
              "      <td>35_44</td>\n",
              "      <td>0.0</td>\n",
              "      <td>Проклятый горн</td>\n",
              "      <td>Героическое фэнтези,Боевое фэнтези</td>\n",
              "      <td>Алексей Пехов</td>\n",
              "      <td>2014.0</td>\n",
              "      <td>1</td>\n",
              "    </tr>\n",
              "    <tr>\n",
              "      <th>2</th>\n",
              "      <td>80061</td>\n",
              "      <td>26540.0</td>\n",
              "      <td>69.0</td>\n",
              "      <td>4.0</td>\n",
              "      <td>2018-01-01</td>\n",
              "      <td>25_34</td>\n",
              "      <td>0.0</td>\n",
              "      <td>Время – убийца</td>\n",
              "      <td>Зарубежные детективы,Современные детективы</td>\n",
              "      <td>Мишель Бюсси</td>\n",
              "      <td>2016.0</td>\n",
              "      <td>1</td>\n",
              "    </tr>\n",
              "  </tbody>\n",
              "</table>\n",
              "</div>"
            ],
            "text/plain": [
              "   user_id   item_id  progress  ...          authors    year authors_code\n",
              "0    90133   82910.0     100.0  ...  Галина Романова  2013.0            1\n",
              "1   159130  331068.0      70.0  ...    Алексей Пехов  2014.0            1\n",
              "2    80061   26540.0      69.0  ...     Мишель Бюсси  2016.0            1\n",
              "\n",
              "[3 rows x 12 columns]"
            ]
          },
          "metadata": {
            "tags": []
          },
          "execution_count": 46
        }
      ]
    },
    {
      "cell_type": "markdown",
      "metadata": {
        "editable": false,
        "id": "9CZQlpoFw4T9"
      },
      "source": [
        "Сделаем наверно то же самое и с возрастом и полом там то процент выше))) ну почти тоже самое, это ведь совсем категориальные признаки"
      ]
    },
    {
      "cell_type": "code",
      "metadata": {
        "editable": false,
        "trusted": true,
        "colab": {
          "base_uri": "https://localhost:8080/",
          "height": 161
        },
        "id": "mArRROJ6w4T9",
        "outputId": "a3b797d4-a3dd-4199-cb21-ca60b9a438b5"
      },
      "source": [
        "all_data.age = all_data.age.fillna('hz')\n",
        "all_data.sex = all_data.sex.fillna('lesgey')\n",
        "print(all_data.shape)\n",
        "all_data.head(3)"
      ],
      "execution_count": 47,
      "outputs": [
        {
          "output_type": "stream",
          "text": [
            "(1562618, 12)\n"
          ],
          "name": "stdout"
        },
        {
          "output_type": "execute_result",
          "data": {
            "text/html": [
              "<div>\n",
              "<style scoped>\n",
              "    .dataframe tbody tr th:only-of-type {\n",
              "        vertical-align: middle;\n",
              "    }\n",
              "\n",
              "    .dataframe tbody tr th {\n",
              "        vertical-align: top;\n",
              "    }\n",
              "\n",
              "    .dataframe thead th {\n",
              "        text-align: right;\n",
              "    }\n",
              "</style>\n",
              "<table border=\"1\" class=\"dataframe\">\n",
              "  <thead>\n",
              "    <tr style=\"text-align: right;\">\n",
              "      <th></th>\n",
              "      <th>user_id</th>\n",
              "      <th>item_id</th>\n",
              "      <th>progress</th>\n",
              "      <th>rating</th>\n",
              "      <th>start_date</th>\n",
              "      <th>age</th>\n",
              "      <th>sex</th>\n",
              "      <th>title</th>\n",
              "      <th>genres</th>\n",
              "      <th>authors</th>\n",
              "      <th>year</th>\n",
              "      <th>authors_code</th>\n",
              "    </tr>\n",
              "  </thead>\n",
              "  <tbody>\n",
              "    <tr>\n",
              "      <th>0</th>\n",
              "      <td>90133</td>\n",
              "      <td>82910.0</td>\n",
              "      <td>100.0</td>\n",
              "      <td>NaN</td>\n",
              "      <td>2018-01-01</td>\n",
              "      <td>55_64</td>\n",
              "      <td>0</td>\n",
              "      <td>Ведьма отмщения</td>\n",
              "      <td>Современные детективы</td>\n",
              "      <td>Галина Романова</td>\n",
              "      <td>2013.0</td>\n",
              "      <td>1</td>\n",
              "    </tr>\n",
              "    <tr>\n",
              "      <th>1</th>\n",
              "      <td>159130</td>\n",
              "      <td>331068.0</td>\n",
              "      <td>70.0</td>\n",
              "      <td>NaN</td>\n",
              "      <td>2018-01-01</td>\n",
              "      <td>35_44</td>\n",
              "      <td>0</td>\n",
              "      <td>Проклятый горн</td>\n",
              "      <td>Героическое фэнтези,Боевое фэнтези</td>\n",
              "      <td>Алексей Пехов</td>\n",
              "      <td>2014.0</td>\n",
              "      <td>1</td>\n",
              "    </tr>\n",
              "    <tr>\n",
              "      <th>2</th>\n",
              "      <td>80061</td>\n",
              "      <td>26540.0</td>\n",
              "      <td>69.0</td>\n",
              "      <td>4.0</td>\n",
              "      <td>2018-01-01</td>\n",
              "      <td>25_34</td>\n",
              "      <td>0</td>\n",
              "      <td>Время – убийца</td>\n",
              "      <td>Зарубежные детективы,Современные детективы</td>\n",
              "      <td>Мишель Бюсси</td>\n",
              "      <td>2016.0</td>\n",
              "      <td>1</td>\n",
              "    </tr>\n",
              "  </tbody>\n",
              "</table>\n",
              "</div>"
            ],
            "text/plain": [
              "   user_id   item_id  progress  ...          authors    year authors_code\n",
              "0    90133   82910.0     100.0  ...  Галина Романова  2013.0            1\n",
              "1   159130  331068.0      70.0  ...    Алексей Пехов  2014.0            1\n",
              "2    80061   26540.0      69.0  ...     Мишель Бюсси  2016.0            1\n",
              "\n",
              "[3 rows x 12 columns]"
            ]
          },
          "metadata": {
            "tags": []
          },
          "execution_count": 47
        }
      ]
    },
    {
      "cell_type": "markdown",
      "metadata": {
        "editable": false,
        "id": "Enn8OhWXw4T9"
      },
      "source": [
        "Давай закодируем года тоже по периодам под One hot encoding"
      ]
    },
    {
      "cell_type": "code",
      "metadata": {
        "editable": false,
        "trusted": true,
        "colab": {
          "base_uri": "https://localhost:8080/",
          "height": 161
        },
        "id": "JTc7163ew4T-",
        "outputId": "d246d21d-0bcf-4fd4-fc95-0a7c3becec77"
      },
      "source": [
        "all_data.year = all_data.year.fillna(5000).astype(int)\n",
        "all_data.loc[(all_data['year'] < 2015) & (all_data['year'] >= 2012), 'year'] = 2015\n",
        "all_data.loc[(all_data['year'] < 2012) & (all_data['year'] >= 2009), 'year'] = 2012\n",
        "all_data.loc[(all_data['year'] < 2009) & (all_data['year'] >= 2005), 'year'] = 2012\n",
        "all_data.loc[(all_data['year'] < 2005) & (all_data['year'] >= 2000), 'year'] = 2005\n",
        "all_data.loc[(all_data['year'] < 2000) & (all_data['year'] >= 1995), 'year'] = 2000\n",
        "all_data.loc[(all_data['year'] < 1995) & (all_data['year'] >= 1990), 'year'] = 1995\n",
        "all_data.loc[(all_data['year'] < 1990) & (all_data['year'] >= 1980), 'year'] = 1990\n",
        "all_data.loc[(all_data['year'] < 1980) & (all_data['year'] >= 1970), 'year'] = 1980\n",
        "all_data.loc[(all_data['year'] < 1970) & (all_data['year'] >= 1965), 'year'] = 1970\n",
        "all_data.loc[(all_data['year'] < 1965) & (all_data['year'] >= 1950), 'year'] = 1965\n",
        "all_data.loc[(all_data['year'] < 1950) & (all_data['year'] >= 1930), 'year'] = 1950\n",
        "all_data.loc[(all_data['year'] < 1930) & (all_data['year'] >= 1900), 'year'] = 1930\n",
        "all_data.loc[(all_data['year'] < 1900) & (all_data['year'] >= 1850), 'year'] = 1900\n",
        "all_data.loc[(all_data['year'] < 1850) & (all_data['year'] >= 1800), 'year'] = 1850\n",
        "all_data.loc[(all_data['year'] < 1800) & (all_data['year'] >= 1700), 'year'] = 1800\n",
        "all_data.loc[(all_data['year'] < 1700) & (all_data['year'] >= 1500), 'year'] = 1700\n",
        "all_data.loc[(all_data['year'] < 1500) & (all_data['year'] >= 1200), 'year'] = 1500\n",
        "all_data.loc[(all_data['year'] < 1200) & (all_data['year'] >= 700), 'year'] = 1200\n",
        "all_data.loc[(all_data['year'] < 700), 'year'] = 700\n",
        "all_data.year = all_data.year.astype(str)\n",
        "print(all_data.shape)\n",
        "all_data.head(3)"
      ],
      "execution_count": 48,
      "outputs": [
        {
          "output_type": "stream",
          "text": [
            "(1562618, 12)\n"
          ],
          "name": "stdout"
        },
        {
          "output_type": "execute_result",
          "data": {
            "text/html": [
              "<div>\n",
              "<style scoped>\n",
              "    .dataframe tbody tr th:only-of-type {\n",
              "        vertical-align: middle;\n",
              "    }\n",
              "\n",
              "    .dataframe tbody tr th {\n",
              "        vertical-align: top;\n",
              "    }\n",
              "\n",
              "    .dataframe thead th {\n",
              "        text-align: right;\n",
              "    }\n",
              "</style>\n",
              "<table border=\"1\" class=\"dataframe\">\n",
              "  <thead>\n",
              "    <tr style=\"text-align: right;\">\n",
              "      <th></th>\n",
              "      <th>user_id</th>\n",
              "      <th>item_id</th>\n",
              "      <th>progress</th>\n",
              "      <th>rating</th>\n",
              "      <th>start_date</th>\n",
              "      <th>age</th>\n",
              "      <th>sex</th>\n",
              "      <th>title</th>\n",
              "      <th>genres</th>\n",
              "      <th>authors</th>\n",
              "      <th>year</th>\n",
              "      <th>authors_code</th>\n",
              "    </tr>\n",
              "  </thead>\n",
              "  <tbody>\n",
              "    <tr>\n",
              "      <th>0</th>\n",
              "      <td>90133</td>\n",
              "      <td>82910.0</td>\n",
              "      <td>100.0</td>\n",
              "      <td>NaN</td>\n",
              "      <td>2018-01-01</td>\n",
              "      <td>55_64</td>\n",
              "      <td>0</td>\n",
              "      <td>Ведьма отмщения</td>\n",
              "      <td>Современные детективы</td>\n",
              "      <td>Галина Романова</td>\n",
              "      <td>2015</td>\n",
              "      <td>1</td>\n",
              "    </tr>\n",
              "    <tr>\n",
              "      <th>1</th>\n",
              "      <td>159130</td>\n",
              "      <td>331068.0</td>\n",
              "      <td>70.0</td>\n",
              "      <td>NaN</td>\n",
              "      <td>2018-01-01</td>\n",
              "      <td>35_44</td>\n",
              "      <td>0</td>\n",
              "      <td>Проклятый горн</td>\n",
              "      <td>Героическое фэнтези,Боевое фэнтези</td>\n",
              "      <td>Алексей Пехов</td>\n",
              "      <td>2015</td>\n",
              "      <td>1</td>\n",
              "    </tr>\n",
              "    <tr>\n",
              "      <th>2</th>\n",
              "      <td>80061</td>\n",
              "      <td>26540.0</td>\n",
              "      <td>69.0</td>\n",
              "      <td>4.0</td>\n",
              "      <td>2018-01-01</td>\n",
              "      <td>25_34</td>\n",
              "      <td>0</td>\n",
              "      <td>Время – убийца</td>\n",
              "      <td>Зарубежные детективы,Современные детективы</td>\n",
              "      <td>Мишель Бюсси</td>\n",
              "      <td>2016</td>\n",
              "      <td>1</td>\n",
              "    </tr>\n",
              "  </tbody>\n",
              "</table>\n",
              "</div>"
            ],
            "text/plain": [
              "   user_id   item_id  progress  ...          authors  year authors_code\n",
              "0    90133   82910.0     100.0  ...  Галина Романова  2015            1\n",
              "1   159130  331068.0      70.0  ...    Алексей Пехов  2015            1\n",
              "2    80061   26540.0      69.0  ...     Мишель Бюсси  2016            1\n",
              "\n",
              "[3 rows x 12 columns]"
            ]
          },
          "metadata": {
            "tags": []
          },
          "execution_count": 48
        }
      ]
    },
    {
      "cell_type": "markdown",
      "metadata": {
        "editable": false,
        "id": "qKNap2NJw4T-"
      },
      "source": [
        "Названия книг уберем)) они повторяются и нелогичны и их слишком много для кассификации и больше будут запутывтаь наши модели думаю. И преобразуем формат даты"
      ]
    },
    {
      "cell_type": "code",
      "metadata": {
        "editable": false,
        "trusted": true,
        "colab": {
          "base_uri": "https://localhost:8080/",
          "height": 161
        },
        "id": "-yiPXObtw4T-",
        "outputId": "1ab493a1-fdd5-4419-861d-0f249cfc32b4"
      },
      "source": [
        "all_data['start_date'] = pd.to_datetime(all_data['start_date'], format = '%Y-%m-%d')\n",
        "print(all_data.shape)\n",
        "all_data.head(3)"
      ],
      "execution_count": 49,
      "outputs": [
        {
          "output_type": "stream",
          "text": [
            "(1562618, 12)\n"
          ],
          "name": "stdout"
        },
        {
          "output_type": "execute_result",
          "data": {
            "text/html": [
              "<div>\n",
              "<style scoped>\n",
              "    .dataframe tbody tr th:only-of-type {\n",
              "        vertical-align: middle;\n",
              "    }\n",
              "\n",
              "    .dataframe tbody tr th {\n",
              "        vertical-align: top;\n",
              "    }\n",
              "\n",
              "    .dataframe thead th {\n",
              "        text-align: right;\n",
              "    }\n",
              "</style>\n",
              "<table border=\"1\" class=\"dataframe\">\n",
              "  <thead>\n",
              "    <tr style=\"text-align: right;\">\n",
              "      <th></th>\n",
              "      <th>user_id</th>\n",
              "      <th>item_id</th>\n",
              "      <th>progress</th>\n",
              "      <th>rating</th>\n",
              "      <th>start_date</th>\n",
              "      <th>age</th>\n",
              "      <th>sex</th>\n",
              "      <th>title</th>\n",
              "      <th>genres</th>\n",
              "      <th>authors</th>\n",
              "      <th>year</th>\n",
              "      <th>authors_code</th>\n",
              "    </tr>\n",
              "  </thead>\n",
              "  <tbody>\n",
              "    <tr>\n",
              "      <th>0</th>\n",
              "      <td>90133</td>\n",
              "      <td>82910.0</td>\n",
              "      <td>100.0</td>\n",
              "      <td>NaN</td>\n",
              "      <td>2018-01-01</td>\n",
              "      <td>55_64</td>\n",
              "      <td>0</td>\n",
              "      <td>Ведьма отмщения</td>\n",
              "      <td>Современные детективы</td>\n",
              "      <td>Галина Романова</td>\n",
              "      <td>2015</td>\n",
              "      <td>1</td>\n",
              "    </tr>\n",
              "    <tr>\n",
              "      <th>1</th>\n",
              "      <td>159130</td>\n",
              "      <td>331068.0</td>\n",
              "      <td>70.0</td>\n",
              "      <td>NaN</td>\n",
              "      <td>2018-01-01</td>\n",
              "      <td>35_44</td>\n",
              "      <td>0</td>\n",
              "      <td>Проклятый горн</td>\n",
              "      <td>Героическое фэнтези,Боевое фэнтези</td>\n",
              "      <td>Алексей Пехов</td>\n",
              "      <td>2015</td>\n",
              "      <td>1</td>\n",
              "    </tr>\n",
              "    <tr>\n",
              "      <th>2</th>\n",
              "      <td>80061</td>\n",
              "      <td>26540.0</td>\n",
              "      <td>69.0</td>\n",
              "      <td>4.0</td>\n",
              "      <td>2018-01-01</td>\n",
              "      <td>25_34</td>\n",
              "      <td>0</td>\n",
              "      <td>Время – убийца</td>\n",
              "      <td>Зарубежные детективы,Современные детективы</td>\n",
              "      <td>Мишель Бюсси</td>\n",
              "      <td>2016</td>\n",
              "      <td>1</td>\n",
              "    </tr>\n",
              "  </tbody>\n",
              "</table>\n",
              "</div>"
            ],
            "text/plain": [
              "   user_id   item_id  progress  ...          authors  year authors_code\n",
              "0    90133   82910.0     100.0  ...  Галина Романова  2015            1\n",
              "1   159130  331068.0      70.0  ...    Алексей Пехов  2015            1\n",
              "2    80061   26540.0      69.0  ...     Мишель Бюсси  2016            1\n",
              "\n",
              "[3 rows x 12 columns]"
            ]
          },
          "metadata": {
            "tags": []
          },
          "execution_count": 49
        }
      ]
    },
    {
      "cell_type": "markdown",
      "metadata": {
        "editable": false,
        "id": "Mv9F83Ejw4T-"
      },
      "source": [
        "Ну и на десерт остается у нас парсинг и объеденение жанра с автором, под эмбединг пойдет. и с названии автара уберем пробелы."
      ]
    },
    {
      "cell_type": "code",
      "metadata": {
        "editable": false,
        "trusted": true,
        "colab": {
          "base_uri": "https://localhost:8080/",
          "height": 161
        },
        "id": "XYMrinj7w4T_",
        "outputId": "9b8e1275-2ca4-4e7f-f6ce-9c54d67309e6"
      },
      "source": [
        "all_data['authors'] = all_data['authors'].replace(r'\\s+','',regex = True)\n",
        "print(all_data.shape)\n",
        "all_data.head(3)"
      ],
      "execution_count": 50,
      "outputs": [
        {
          "output_type": "stream",
          "text": [
            "(1562618, 12)\n"
          ],
          "name": "stdout"
        },
        {
          "output_type": "execute_result",
          "data": {
            "text/html": [
              "<div>\n",
              "<style scoped>\n",
              "    .dataframe tbody tr th:only-of-type {\n",
              "        vertical-align: middle;\n",
              "    }\n",
              "\n",
              "    .dataframe tbody tr th {\n",
              "        vertical-align: top;\n",
              "    }\n",
              "\n",
              "    .dataframe thead th {\n",
              "        text-align: right;\n",
              "    }\n",
              "</style>\n",
              "<table border=\"1\" class=\"dataframe\">\n",
              "  <thead>\n",
              "    <tr style=\"text-align: right;\">\n",
              "      <th></th>\n",
              "      <th>user_id</th>\n",
              "      <th>item_id</th>\n",
              "      <th>progress</th>\n",
              "      <th>rating</th>\n",
              "      <th>start_date</th>\n",
              "      <th>age</th>\n",
              "      <th>sex</th>\n",
              "      <th>title</th>\n",
              "      <th>genres</th>\n",
              "      <th>authors</th>\n",
              "      <th>year</th>\n",
              "      <th>authors_code</th>\n",
              "    </tr>\n",
              "  </thead>\n",
              "  <tbody>\n",
              "    <tr>\n",
              "      <th>0</th>\n",
              "      <td>90133</td>\n",
              "      <td>82910.0</td>\n",
              "      <td>100.0</td>\n",
              "      <td>NaN</td>\n",
              "      <td>2018-01-01</td>\n",
              "      <td>55_64</td>\n",
              "      <td>0</td>\n",
              "      <td>Ведьма отмщения</td>\n",
              "      <td>Современные детективы</td>\n",
              "      <td>ГалинаРоманова</td>\n",
              "      <td>2015</td>\n",
              "      <td>1</td>\n",
              "    </tr>\n",
              "    <tr>\n",
              "      <th>1</th>\n",
              "      <td>159130</td>\n",
              "      <td>331068.0</td>\n",
              "      <td>70.0</td>\n",
              "      <td>NaN</td>\n",
              "      <td>2018-01-01</td>\n",
              "      <td>35_44</td>\n",
              "      <td>0</td>\n",
              "      <td>Проклятый горн</td>\n",
              "      <td>Героическое фэнтези,Боевое фэнтези</td>\n",
              "      <td>АлексейПехов</td>\n",
              "      <td>2015</td>\n",
              "      <td>1</td>\n",
              "    </tr>\n",
              "    <tr>\n",
              "      <th>2</th>\n",
              "      <td>80061</td>\n",
              "      <td>26540.0</td>\n",
              "      <td>69.0</td>\n",
              "      <td>4.0</td>\n",
              "      <td>2018-01-01</td>\n",
              "      <td>25_34</td>\n",
              "      <td>0</td>\n",
              "      <td>Время – убийца</td>\n",
              "      <td>Зарубежные детективы,Современные детективы</td>\n",
              "      <td>МишельБюсси</td>\n",
              "      <td>2016</td>\n",
              "      <td>1</td>\n",
              "    </tr>\n",
              "  </tbody>\n",
              "</table>\n",
              "</div>"
            ],
            "text/plain": [
              "   user_id   item_id  progress  ...         authors  year authors_code\n",
              "0    90133   82910.0     100.0  ...  ГалинаРоманова  2015            1\n",
              "1   159130  331068.0      70.0  ...    АлексейПехов  2015            1\n",
              "2    80061   26540.0      69.0  ...     МишельБюсси  2016            1\n",
              "\n",
              "[3 rows x 12 columns]"
            ]
          },
          "metadata": {
            "tags": []
          },
          "execution_count": 50
        }
      ]
    },
    {
      "cell_type": "markdown",
      "metadata": {
        "editable": false,
        "id": "LfEx_oOww4T_"
      },
      "source": [
        "Займемся объединением и чисткой текста) Определим пока функции"
      ]
    },
    {
      "cell_type": "code",
      "metadata": {
        "editable": false,
        "trusted": true,
        "colab": {
          "base_uri": "https://localhost:8080/"
        },
        "id": "lIets68Aw4T_",
        "outputId": "0bf3d41f-5e20-4a25-e39d-cdf14b3107fc"
      },
      "source": [
        "nltk.download('punkt')\n",
        "nltk.download('wordnet')\n",
        "def black_txt(token):\n",
        "    return  token not in stop_words_ and token not in list(string.punctuation)  and len(token) > 2 \n",
        "def clean_txt(text):\n",
        "    clean_text = []\n",
        "    clean_text2 = []\n",
        "    text = re.sub(\"'\", \"\",text)\n",
        "    text=re.sub(\"(\\\\d|\\\\W)+\",\" \",text) \n",
        "    text = text.replace(\"nbsp\", \"\")\n",
        "    clean_text = [ wn.lemmatize(word, pos = \"v\") for word in word_tokenize(text.lower()) if black_txt(word)]\n",
        "    clean_text2 = [word for word in clean_text if black_txt(word)]\n",
        "    return \" \".join(clean_text2)\n",
        "#all_data[\"auhurs_genres\"] = all_data[\"genres\"].map(str) + \"  \" + all_data[\"authors\"]\n",
        "#all_data = all_data.drop(['genres', 'authors'], axis = 1)\n",
        "all_data['genres'] = all_data['genres'].astype(str)\n",
        "all_data['authors'] = all_data['authors'].astype(str)\n",
        "all_data['title'] = all_data['title'].astype(str)\n",
        "all_data['genres'] = all_data['genres'].apply(clean_txt)\n",
        "all_data['authors'] = all_data['authors'].apply(clean_txt)\n",
        "all_data['title'] = all_data['title'].apply(clean_txt)\n",
        "print(all_data.shape)\n",
        "all_data.head(3)"
      ],
      "execution_count": null,
      "outputs": [
        {
          "output_type": "stream",
          "text": [
            "[nltk_data] Downloading package punkt to /root/nltk_data...\n",
            "[nltk_data]   Package punkt is already up-to-date!\n",
            "[nltk_data] Downloading package wordnet to /root/nltk_data...\n",
            "[nltk_data]   Unzipping corpora/wordnet.zip.\n"
          ],
          "name": "stdout"
        }
      ]
    },
    {
      "cell_type": "code",
      "metadata": {
        "editable": false,
        "trusted": true,
        "id": "Exd1Gu4cw4T_"
      },
      "source": [
        "'''with open('all_data', 'wb') as f:\n",
        "    pickle.dump(all_data, f)'''"
      ],
      "execution_count": null,
      "outputs": []
    },
    {
      "cell_type": "markdown",
      "metadata": {
        "editable": false,
        "id": "JxoyzmJuw4T_"
      },
      "source": [
        "Заменим пропущенный рейтинг невозможное значение"
      ]
    },
    {
      "cell_type": "code",
      "metadata": {
        "editable": false,
        "trusted": true,
        "id": "_yoylNZUw4UA"
      },
      "source": [
        "all_d = all_data.copy(deep = True)\n",
        "all_d['rating'] = all_d['rating'].fillna(-1)\n",
        "print(all_d.shape)\n",
        "all_d.tail(5)"
      ],
      "execution_count": null,
      "outputs": []
    },
    {
      "cell_type": "markdown",
      "metadata": {
        "editable": false,
        "id": "jp28kd3Ow4UA"
      },
      "source": [
        "Тааак) пока не поздно выведем давай что будем оценивать. Функции оценки назовем и добавим этот признак. Добавим популярность книг в отдельный столбец. И думаю попробуем коэфицент для каждой последующей книги увеличивать для пользователя начнем с этого. Так же с нашей функцие те кто читают чаще получают больший коэфицент на последние книги прочитанные"
      ]
    },
    {
      "cell_type": "code",
      "metadata": {
        "editable": false,
        "trusted": true,
        "id": "HYDShxv6w4UA"
      },
      "source": [
        "# Оценим книги от одного до двух каждым пользователем где каждая последующая книга с которой было взаимодействие оценивается больше предыдущего. \n",
        "# Даты у нас последовательно выстроены, поэтому не смотрим сортировку\n",
        "list_id = all_d.user_id.unique().tolist()\n",
        "next_book = {}\n",
        "for i in list_id:\n",
        "    time_list = all_d.loc[all_d.user_id == i]['start_date'].index\n",
        "    ind = 0\n",
        "    for j in time_list:\n",
        "        next_book[j] = 1 + (ind/(len(time_list)))  \n",
        "        ind += 1\n",
        "all_d = all_d.join(pd.DataFrame(pd.Series(next_book)))\n",
        "all_d = all_d.rename({0: 'book_rat'}, axis = 1)\n",
        "\n",
        "# Ну и перестроим таблицу дат по количеству дней оставшихся до конечной десяти дней после последней записи нашей, ну по количеству прогнозируемых книг\n",
        "all_d['days'] = (datetime.datetime(2020, 1, 10) - all_d['start_date']).dt.days\n",
        "all_d['days'] = all_d['days'].fillna(-1)\n",
        "\n",
        "\n",
        "# Добавим каждому пользователю количество прочитанных ими книг\n",
        "user_book = pd.DataFrame(all_d.groupby('user_id').count()['item_id']).rename({'item_id': 'user_book'}, axis = 1).reset_index()\n",
        "all_d = all_d.merge(user_book, how = 'left')\n",
        "\n",
        "# Добавим количество взаимодействий с каждой книгой всеми пользователями\n",
        "count_book = pd.DataFrame(all_d.groupby('item_id').count()['user_id']).rename({'user_id': 'count_book'}, axis = 1).reset_index()\n",
        "all_d = all_d.merge(count_book, how = 'left')\n",
        "all_d['count_book'] = all_d['count_book'].fillna(0)\n",
        "all_d['count_book'] = all_d['count_book'].astype('int16')\n",
        "\n",
        "print(all_d.shape)        \n",
        "all_d.tail(5)"
      ],
      "execution_count": null,
      "outputs": []
    },
    {
      "cell_type": "markdown",
      "metadata": {
        "editable": false,
        "id": "8vow-nJVw4UA"
      },
      "source": [
        "Приступим к кодированию категориальных признаков и исправим формат кодирования авторов"
      ]
    },
    {
      "cell_type": "code",
      "metadata": {
        "editable": false,
        "trusted": true,
        "id": "xK6P0is9w4UA"
      },
      "source": [
        "all_data_code = all_d.copy(deep = True)\n",
        "encod_age = LabelEncoder()\n",
        "all_data_code.age = encod_age.fit_transform(all_data_code.age)\n",
        "\n",
        "encod_sex = LabelEncoder()\n",
        "all_data_code.sex.replace(0, 'f', inplace = True)\n",
        "all_data_code.sex.replace(1, 'm', inplace = True)\n",
        "all_data_code.sex = encod_sex.fit_transform(all_data_code.sex)\n",
        "\n",
        "encod_year = LabelEncoder()\n",
        "all_data_code.year = encod_year.fit_transform(all_data_code.year)\n",
        "\n",
        "print(all_data_code.shape)\n",
        "all_data_code.tail(3)"
      ],
      "execution_count": null,
      "outputs": []
    },
    {
      "cell_type": "markdown",
      "metadata": {
        "editable": false,
        "id": "NgZlpMemw4UA"
      },
      "source": [
        "Ну теперь используем итеративную замену пропущенных значений на оставшихся данных и вернем текстовый столбец"
      ]
    },
    {
      "cell_type": "code",
      "metadata": {
        "editable": false,
        "trusted": true,
        "id": "5pvwSc2Tw4UA"
      },
      "source": [
        "temp = all_data_code[['title', 'genres', 'authors', 'start_date']]\n",
        "all_data_code = all_data_code.drop(['title', 'genres', 'authors', 'start_date'], axis = 1)\n",
        "imp_mean = IterativeImputer(random_state = 0)\n",
        "imp_mean.fit(all_data_code)\n",
        "all_data_code = imp_mean.transform(all_data_code)\n",
        "all_data_code = pd.DataFrame(all_data_code)\n",
        "all_data_code.columns = all_d.drop(['title', 'genres', 'authors', 'start_date'], axis = 1).columns\n",
        "all_data_code[['title', 'genres', 'authors', 'start_date']] = temp\n",
        "print(all_data_code.shape)\n",
        "all_data_code.tail(3)"
      ],
      "execution_count": null,
      "outputs": []
    },
    {
      "cell_type": "code",
      "metadata": {
        "editable": false,
        "trusted": true,
        "id": "LWYqCPMRw4UB"
      },
      "source": [
        "all_data_code.genres = all_data_code.genres.fillna('nogenres')\n",
        "all_data_code.title = all_data_code.title.fillna('notitle')\n",
        "all_data_code = all_data_code.drop(['authors_code'], axis = 1)\n",
        "print(all_data_code.shape)\n",
        "all_data_code.tail(3)"
      ],
      "execution_count": null,
      "outputs": []
    },
    {
      "cell_type": "markdown",
      "metadata": {
        "editable": false,
        "id": "7ozyBz04w4UB"
      },
      "source": [
        "Теперь изменим целевой признак составив одну функцию из рейтинга прогресса и выведенных нами функций"
      ]
    },
    {
      "cell_type": "code",
      "metadata": {
        "editable": false,
        "trusted": true,
        "id": "ZGzatANdw4UB"
      },
      "source": [
        "all_data_code['metric'] = (all_data_code['rating'] + 1).multiply(((all_data_code['progress'] / 100) + 1), axis = 'rows')\n",
        "print(all_data_code.shape)\n",
        "all_data_code.tail(5)"
      ],
      "execution_count": null,
      "outputs": []
    },
    {
      "cell_type": "markdown",
      "metadata": {
        "editable": false,
        "id": "cz654qbYw4UB"
      },
      "source": [
        "Перераспределим столбцы для удобства. чтоб потом легче было брать признаки книг отдельно и признаки пользователей, не добавляя 20ый и 21 года. их давно надо было убрать)) таблица взаимодействий их не включает) Решил упорядочить так: индексы, данные взаимодействий, данные пользователей, данные по книгам"
      ]
    },
    {
      "cell_type": "code",
      "metadata": {
        "editable": false,
        "trusted": true,
        "id": "U6eHAqE2w4UB"
      },
      "source": [
        "all_data_code = all_data_code[['user_id', 'item_id', 'rating', 'progress', 'days', 'age', 'sex', 'user_book',\n",
        "       'year', 'count_book', 'title', 'genres', 'authors', 'start_date']]\n",
        "all_data_code.user_id = all_data_code.user_id.astype(int)\n",
        "all_data_code.item_id = all_data_code.item_id.astype(int)\n",
        "all_data_code.tail(5)"
      ],
      "execution_count": null,
      "outputs": []
    },
    {
      "cell_type": "markdown",
      "metadata": {
        "editable": false,
        "id": "CLm_LzH8w4UB"
      },
      "source": [
        "**Контрольная точка** как в играх))) база воскрешения. Сохраню себе обработанную базу"
      ]
    },
    {
      "cell_type": "code",
      "metadata": {
        "editable": false,
        "trusted": true,
        "id": "G-3Gp0m0w4UC"
      },
      "source": [
        "'''with open('all_data_mts', 'wb') as f:\n",
        "    pickle.dump(all_data_code, f)'''\n",
        "with open('/content/drive/MyDriv/MTS_summer_school/all_data_mts', 'rb') as f:\n",
        "    all_data_code = pickle.load(f)\n",
        "submission = pd.read_csv('/content/drive/MyDriv/MTS_summer_school/sample_submission.csv')"
      ],
      "execution_count": null,
      "outputs": []
    },
    {
      "cell_type": "markdown",
      "metadata": {
        "editable": false,
        "id": "hcTBXxY5w4UC"
      },
      "source": [
        "Начнем готвить данные сети нашей)"
      ]
    },
    {
      "cell_type": "code",
      "metadata": {
        "editable": false,
        "trusted": true,
        "id": "5WsATXz_w4UD"
      },
      "source": [
        "df_all = all_data_code.sample(frac = 1).reset_index(drop = True)\n",
        "print(df_all.shape)\n",
        "df_all.tail(5)"
      ],
      "execution_count": null,
      "outputs": []
    },
    {
      "cell_type": "markdown",
      "metadata": {
        "editable": false,
        "id": "nCZX442zw4UD"
      },
      "source": [
        "Уберем часть данных касающиеся непопулярных книг и повторим чистку уже более глубокую после обучения но сохранив пользователей которые находятся в целевой группе. Ну и включим  в просчет записи которые на год старше прогнозируемой даты"
      ]
    },
    {
      "cell_type": "code",
      "metadata": {
        "editable": false,
        "trusted": true,
        "id": "TvCfwiNEw4UE"
      },
      "source": [
        "#temp = df_all.loc[(df_all.days > 720) & (df_all.days < 755)]\n",
        "temp2 = df_all.loc[(df_all.days > 372) & (df_all.days < 382)]\n",
        "temp3 = df_all.loc[(df_all.days < 100)]\n",
        "df_all = pd.concat([temp2,temp3])\n",
        "df_all = df_all.drop_duplicates(subset = ['item_id', 'user_id'])\n",
        "print(df_all.shape)\n",
        "df_all.tail(5)"
      ],
      "execution_count": null,
      "outputs": []
    },
    {
      "cell_type": "code",
      "metadata": {
        "editable": false,
        "trusted": true,
        "id": "cFe_HSTJw4UE"
      },
      "source": [
        "# Добавляем снова убранных пользователей входящих целевой список\n",
        "list_temp = set(submission.Id) - set(df_all.user_id)\n",
        "for i in list_temp:\n",
        "    df_all = pd.concat([df_all, all_data_code.loc[all_data_code.user_id == i]])\n",
        "    \n",
        "print(df_all.item_id.shape)\n",
        "set(submission.Id) - set(df_all.user_id)"
      ],
      "execution_count": null,
      "outputs": []
    },
    {
      "cell_type": "markdown",
      "metadata": {
        "editable": false,
        "id": "_UNT5lP4w4UE"
      },
      "source": [
        "Разбиваем данные для упаковки подчи в сеть"
      ]
    },
    {
      "cell_type": "code",
      "metadata": {
        "editable": false,
        "trusted": true,
        "id": "FMEgMIWTw4UE"
      },
      "source": [
        "df_all['item_next'] = df_all['item_id']\n",
        "print(df_all.shape)"
      ],
      "execution_count": null,
      "outputs": []
    },
    {
      "cell_type": "code",
      "metadata": {
        "editable": false,
        "trusted": true,
        "id": "RdccyId4w4UE"
      },
      "source": [
        "list_user = df_all.drop_duplicates(subset = ['user_id'])['user_id'].values\n",
        "len(list_user)"
      ],
      "execution_count": null,
      "outputs": []
    },
    {
      "cell_type": "markdown",
      "metadata": {
        "editable": false,
        "id": "WBgr6IrVw4UE"
      },
      "source": [
        "Сделаем колонку id книг со смещением в покупку для пользователя, чтоб заставить сеть предсказывыть id с эмбединга, ну и уберем данные без целевых данных"
      ]
    },
    {
      "cell_type": "code",
      "metadata": {
        "editable": false,
        "trusted": true,
        "id": "e9KD-aqBw4UE"
      },
      "source": [
        "for i in range(len(list_user)):\n",
        "    df_all.loc[df_all.user_id == list_user[i], 'item_next'] = df_all.loc[df_all.user_id == list_user[i], 'item_next'].astype(int).shift(periods = -1)\n",
        "    if i % 1000 == 0:\n",
        "        print(i, end = \"  -  \")\n",
        "print(df_all.shape)\n",
        "df_all.tail(5)"
      ],
      "execution_count": null,
      "outputs": []
    },
    {
      "cell_type": "code",
      "metadata": {
        "editable": false,
        "trusted": true,
        "id": "ugZWF5tvw4UF"
      },
      "source": [
        "print(df_all.shape)\n",
        "#print(miss(df_all).head(5))\n",
        "print('кол-во пользователей в датасете и количество пользователей которые остануться после удаления нулей', \n",
        "      df_all.drop_duplicates(subset = ['user_id']).shape[0], ' - ', df_all.dropna(inplace = False).drop_duplicates(subset = ['user_id']).shape[0])\n",
        "print(df_all.shape)\n",
        "df_all.tail(3)"
      ],
      "execution_count": null,
      "outputs": []
    },
    {
      "cell_type": "markdown",
      "metadata": {
        "editable": false,
        "id": "toj1i6GXw4UF"
      },
      "source": [
        "**Контрольная точка** вторая))) база воскрешения. Сохраню себе обработанную базу"
      ]
    },
    {
      "cell_type": "code",
      "metadata": {
        "editable": false,
        "trusted": true,
        "id": "u4-AAFRFw4UF"
      },
      "source": [
        "with open('df_all', 'wb') as f:\n",
        "    pickle.dump(df_all, f)\n",
        "'''with open('./df_all', 'rb') as f:\n",
        "    df_all = pickle.load(f)\n",
        "submission = pd.read_csv('/content/drive/MyDriv/MTS_summer_school/sample_submission.csv')'''"
      ],
      "execution_count": null,
      "outputs": []
    },
    {
      "cell_type": "markdown",
      "metadata": {
        "editable": false,
        "id": "ZfBGgvAow4UF"
      },
      "source": [
        "Векторизируем)) кодируем данные. авторов к примеру горячим кодированием как текст ссмысла нет, а вот жанры в вектора"
      ]
    },
    {
      "cell_type": "code",
      "metadata": {
        "editable": false,
        "trusted": true,
        "id": "xVrOEtsqw4UF"
      },
      "source": [
        "max_len = 500\n",
        "vectorizer_t = TfidfVectorizer(max_features = max_len)\n",
        "vectorizer_g = TfidfVectorizer(max_features = max_len)\n",
        "\n",
        "vectorizer_t.fit(df_all['title'])\n",
        "vectorizer_g.fit(df_all['genres'])\n",
        "\n",
        "encod_user_id = LabelEncoder()\n",
        "encod_item_id = LabelEncoder()\n",
        "encod_authors = LabelEncoder()\n",
        "\n",
        "encod_user_id.fit(df_all.user_id)\n",
        "encod_item_id.fit(np.hstack((df_all.item_id.values, df_all.item_next.values)))\n",
        "encod_authors.fit(df_all.authors)"
      ],
      "execution_count": null,
      "outputs": []
    },
    {
      "cell_type": "code",
      "metadata": {
        "editable": false,
        "trusted": true,
        "id": "hkscXx49w4UF"
      },
      "source": [
        "data_shift = df_all.copy(deep = True)\n",
        "print(data_shift.item_id.shape)\n",
        "data_shift.dropna(inplace = True)\n",
        "print(data_shift.item_id.shape)"
      ],
      "execution_count": null,
      "outputs": []
    },
    {
      "cell_type": "markdown",
      "metadata": {
        "editable": false,
        "id": "Zn-CYI48w4UF"
      },
      "source": [
        "Назначим отсутствующим значениям нелогичный индекс"
      ]
    },
    {
      "cell_type": "code",
      "metadata": {
        "editable": false,
        "trusted": true,
        "id": "u_ZRhVd5w4UG"
      },
      "source": [
        "data_shift.item_next = data_shift.item_next.fillna(-1)\n",
        "data_shift.item_next = data_shift.item_next.astype(int)\n",
        "print(data_shift.shape)\n",
        "data_shift.tail(3)"
      ],
      "execution_count": null,
      "outputs": []
    },
    {
      "cell_type": "markdown",
      "metadata": {
        "editable": false,
        "id": "m9GTCTKCw4UG"
      },
      "source": [
        "Глянем распределение прогресса"
      ]
    },
    {
      "cell_type": "code",
      "metadata": {
        "editable": false,
        "trusted": true,
        "id": "YLO-k8uYw4UG"
      },
      "source": [
        "group_labels = ['progress']\n",
        "hist_data = [data_shift.progress.values.tolist()]\n",
        "size = (max(data_shift.progress)-min(data_shift.progress))/30\n",
        "color = ['#FF9988']\n",
        "fig = ff.create_distplot(hist_data, group_labels,  histnorm = 'probability density', show_rug = False, bin_size = size, colors = color)\n",
        "fig.show()"
      ],
      "execution_count": null,
      "outputs": []
    },
    {
      "cell_type": "markdown",
      "metadata": {
        "editable": false,
        "id": "BH24FK3pw4UG"
      },
      "source": [
        "Применяем нормирование признаков BoxCox и посмотрим еще раз)"
      ]
    },
    {
      "cell_type": "code",
      "metadata": {
        "editable": false,
        "trusted": true,
        "id": "5IzVa5E0w4UG"
      },
      "source": [
        "'''boxcox_feature = df_all.metric\n",
        "boxcox_feature, _ = stats.boxcox(boxcox_feature)\n",
        "group_labels = ['metric']\n",
        "hist_data = [boxcox_feature]\n",
        "size = (max(boxcox_feature)-min(boxcox_feature))/30\n",
        "color = ['#FF9988']\n",
        "fig = ff.create_distplot(hist_data, group_labels,  histnorm = 'probability density', show_rug = False, bin_size = size, colors = color)\n",
        "fig.show()\n",
        "df_all.metric = boxcox_feature'''"
      ],
      "execution_count": null,
      "outputs": []
    },
    {
      "cell_type": "markdown",
      "metadata": {
        "editable": false,
        "id": "hWKIVMg-w4UG"
      },
      "source": [
        "Создание словарей сопоставления идентификаторов пользователей и книг для ограничения эмбединга количеством имеющимся. Не забыть главное после, вурнеть"
      ]
    },
    {
      "cell_type": "code",
      "metadata": {
        "editable": false,
        "trusted": true,
        "id": "4JXYVAbQw4UG"
      },
      "source": [
        "data_encode = data_shift.copy(deep = True)\n",
        "data_encode = data_encode.reset_index().drop(['index'], axis = 1)\n",
        "data_encode.user_id = encod_user_id.transform(data_encode.user_id)\n",
        "data_encode.item_id = encod_item_id.transform(data_encode.item_id)\n",
        "data_encode.item_next = encod_item_id.transform(data_encode.item_next)\n",
        "\n",
        "data_encode.authors = encod_authors.transform(data_encode.authors)\n",
        "data_encode.loc[data_encode.user_id == data_encode.iloc[0,1]]"
      ],
      "execution_count": null,
      "outputs": []
    },
    {
      "cell_type": "markdown",
      "metadata": {
        "editable": false,
        "id": "2DT8XfMLw4UG"
      },
      "source": [
        "Подготовим параметры под стандартизацию. Нужно стандартизировать параметры чтобы параметры с маленькими цифрами не игнорировались сетью. С нормированием Box Cox сеть отработала лучше"
      ]
    },
    {
      "cell_type": "code",
      "metadata": {
        "editable": false,
        "trusted": true,
        "id": "gM85FLZnw4UH"
      },
      "source": [
        "'''scaler = StandardScaler()\n",
        "scaler.fit(data_encode[['rating', 'progress', 'count_book', 'user_book', 'year', 'days']])'''"
      ],
      "execution_count": null,
      "outputs": []
    },
    {
      "cell_type": "code",
      "metadata": {
        "editable": false,
        "trusted": true,
        "id": "Yp5gkebRw4UH"
      },
      "source": [
        "data_encode.rating, _ = stats.boxcox(data_encode.rating + 1.1)\n",
        "data_encode.progress, _ = stats.boxcox(data_encode.progress + 0.1)\n",
        "#data_encode.days, _ = stats.boxcox(data_encode.days)\n",
        "data_encode.count_book, _ = stats.boxcox(data_encode.count_book)\n",
        "data_encode.user_book, _ = stats.boxcox(data_encode.user_book)\n",
        "data_encode.year, _ = stats.boxcox(data_encode.year + 0.1)\n",
        "print(data_encode.shape)\n",
        "data_encode.tail(3)"
      ],
      "execution_count": null,
      "outputs": []
    },
    {
      "cell_type": "markdown",
      "metadata": {
        "editable": false,
        "id": "2z3pgadOw4UH"
      },
      "source": [
        "Разобъем данные для проверки выделив последние два дня из имеющего набора"
      ]
    },
    {
      "cell_type": "code",
      "metadata": {
        "editable": false,
        "trusted": true,
        "id": "qtMflbNdw4UH"
      },
      "source": [
        "all_train = data_encode.loc[data_encode.days >= 12]\n",
        "all_test = data_encode.loc[data_encode.days < 12]\n",
        "all_train.shape, all_test.shape"
      ],
      "execution_count": null,
      "outputs": []
    },
    {
      "cell_type": "markdown",
      "metadata": {
        "editable": false,
        "id": "7Nc1Yclow4UI"
      },
      "source": [
        "Токенизируем векторизируем отделяем))"
      ]
    },
    {
      "cell_type": "code",
      "metadata": {
        "editable": false,
        "trusted": true,
        "id": "djEe2gjMw4UI"
      },
      "source": [
        "vec_title_train = vectorizer_t.transform(all_train['title']).toarray()\n",
        "vec_genres_train = vectorizer_g.transform(all_train['genres']).toarray()\n",
        "all_train = all_train.drop(['title', 'genres'], axis = 1)\n",
        "\n",
        "vec_title_test = vectorizer_t.transform(all_test['title']).toarray()\n",
        "vec_genres_test = vectorizer_g.transform(all_test['genres']).toarray()\n",
        "all_test = all_test.drop(['title', 'genres'], axis = 1)\n",
        "\n",
        "print(len(vec_title_train), len(vec_title_test))\n",
        "all_train.tail(3)"
      ],
      "execution_count": null,
      "outputs": []
    },
    {
      "cell_type": "markdown",
      "metadata": {
        "editable": false,
        "id": "PhoFv8k_w4UI"
      },
      "source": [
        "Разбиваем файлы на группы для подачи в сеть предварительно применив стандартизацию"
      ]
    },
    {
      "cell_type": "code",
      "metadata": {
        "editable": false,
        "trusted": true,
        "id": "Jpd5R1fuw4UI"
      },
      "source": [
        "#all_train[['rating', 'progress', 'count_book', 'user_book', 'year', 'days']] = scaler.transform(all_train[['rating', 'progress', 'count_book', 'user_book', 'year', 'days']])\n",
        "df_user_train = all_train['user_id']\n",
        "df_item_train = all_train['item_id']\n",
        "df_next_train = all_train['item_next']\n",
        "df_vec_title_train = vec_title_train\n",
        "df_vec_genres_train = vec_genres_train\n",
        "df_feature_train = all_train.drop(['user_id', 'item_id', 'start_date', 'item_next'], axis = 1)\n",
        "print(df_user_train.shape, df_item_train.shape, df_next_train.shape, df_vec_title_train.shape, df_vec_genres_train.shape, df_feature_train.shape)\n",
        "df_feature_train.head(3)"
      ],
      "execution_count": null,
      "outputs": []
    },
    {
      "cell_type": "code",
      "metadata": {
        "editable": false,
        "trusted": true,
        "id": "d_NVk7aPw4UI"
      },
      "source": [
        "#all_test[['rating', 'progress', 'count_book', 'user_book', 'year', 'days']] = scaler.transform(all_test[['rating', 'progress', 'count_book', 'user_book', 'year', 'days']])\n",
        "df_user_test = all_test['user_id']\n",
        "df_item_test = all_test['item_id']\n",
        "df_next_test = all_test['item_next']\n",
        "df_vec_title_test = vec_title_test\n",
        "df_vec_genres_test = vec_genres_test\n",
        "df_feature_test = all_test.drop(['user_id', 'item_id', 'start_date', 'item_next'], axis = 1)\n",
        "print(df_user_test.shape, df_item_test.shape, df_next_test.shape, df_vec_title_test.shape, df_vec_genres_test.shape, df_feature_test.shape)\n",
        "df_feature_test.head(3)"
      ],
      "execution_count": null,
      "outputs": []
    },
    {
      "cell_type": "markdown",
      "metadata": {
        "editable": false,
        "id": "gfX-UJ-_w4UJ"
      },
      "source": [
        "Пришло время разбить данные на тренировочные и тестовы и валидационные. почти все данные в тренировочных потому что я наэксперементировался уже)) и тут не такой большой риск переоучения думаю, ведь данные одни и те же и новые данные не поступают в сеть, только те на которых он обучится, только комбинируя две части(книги и пользователи)"
      ]
    },
    {
      "cell_type": "code",
      "metadata": {
        "editable": false,
        "trusted": true,
        "id": "GBX2p1XCw4UJ"
      },
      "source": [
        "split = int(df_user_train.shape[0]*.85)\n",
        "\n",
        "user_train = df_user_train[:split]\n",
        "item_train = df_item_train[:split]\n",
        "next_train = df_next_train[:split]\n",
        "feature_train = df_feature_train[:split]\n",
        "title_train = df_vec_title_train[:split]\n",
        "genres_train = df_vec_genres_train[:split]\n",
        "\n",
        "user_val = df_user_train[split:]\n",
        "item_val = df_item_train[split:]\n",
        "next_val = df_next_train[split:]\n",
        "feature_val = df_feature_train[split:]\n",
        "title_val = df_vec_title_train[split:]\n",
        "genres_val = df_vec_genres_train[split:]"
      ],
      "execution_count": null,
      "outputs": []
    },
    {
      "cell_type": "markdown",
      "metadata": {
        "editable": false,
        "id": "vsmVTgJrw4UJ"
      },
      "source": [
        "Определяем количество уникальных пользователей и книг"
      ]
    },
    {
      "cell_type": "code",
      "metadata": {
        "editable": false,
        "trusted": true,
        "id": "UBGyQBrmw4UJ"
      },
      "source": [
        "user_count = len(encod_user_id.classes_)\n",
        "item_count = len(encod_item_id.classes_)\n",
        "print(user_count)\n",
        "print(item_count)"
      ],
      "execution_count": null,
      "outputs": []
    },
    {
      "cell_type": "markdown",
      "metadata": {
        "editable": false,
        "id": "MVV4Xotqw4UJ"
      },
      "source": [
        "Ну чтожжжж) запустим генераторы TensorFlow для подачи данных под TPU с ними мнооого проблем было у меня, информации мало, ограничений много в форматах и т.д. свежая часть библиотеки (ну ладно, сырая)))"
      ]
    },
    {
      "cell_type": "code",
      "metadata": {
        "editable": false,
        "trusted": true,
        "id": "kXiQ2Hdxw4UJ"
      },
      "source": [
        "batch_size = 256 * strategy.num_replicas_in_sync\n",
        "auto = tf.data.experimental.AUTOTUNE\n",
        "\n",
        "tf_train = (\n",
        "    tf.data.Dataset\n",
        "    .from_tensor_slices(({\"user\": user_train, \"item\": item_train, \"feature\": feature_train, \"title\": title_train, \"genres\": genres_train}, next_train))\n",
        "    .batch(batch_size).prefetch(auto)\n",
        ")\n",
        "\n",
        "tf_val = (\n",
        "    tf.data.Dataset\n",
        "    .from_tensor_slices(({\"user\": user_val, \"item\": item_val, \"feature\": feature_val, \"title\": title_val, \"genres\": genres_val}, next_val))\n",
        "    .batch(batch_size).prefetch(auto)\n",
        ")\n",
        "\n",
        "tf_test = (\n",
        "    tf.data.Dataset\n",
        "    .from_tensor_slices(({\"user\": df_user_test, \"item\": df_item_test, \"feature\": df_feature_test, \"title\": df_vec_title_test, \"genres\": df_vec_genres_test}, df_next_test))\n",
        "    .batch(batch_size).prefetch(auto)\n",
        ")"
      ],
      "execution_count": null,
      "outputs": []
    },
    {
      "cell_type": "markdown",
      "metadata": {
        "editable": false,
        "id": "-kMp-Xsqw4UJ"
      },
      "source": [
        "Напишем лосс функцию для нашей задачки с маской в случае поподания нулевого значения"
      ]
    },
    {
      "cell_type": "code",
      "metadata": {
        "editable": false,
        "trusted": true,
        "id": "iEWrk1Mew4UK"
      },
      "source": [
        "def loss_function(real, pred):\n",
        "\n",
        "    mask = tf.math.logical_not(tf.math.equal(real, 0))\n",
        "    loss_object_ = tf.keras.losses.SparseCategoricalCrossentropy(from_logits = True,\n",
        "                                                                 reduction = 'none')\n",
        "    loss_ = loss_object_(real, pred)\n",
        "    mask = tf.cast(mask, dtype=loss_.dtype)\n",
        "    loss_ *= mask\n",
        "\n",
        "    return tf.reduce_mean(loss_)"
      ],
      "execution_count": null,
      "outputs": []
    },
    {
      "cell_type": "markdown",
      "metadata": {
        "editable": false,
        "id": "CXaxyd7cw4UK"
      },
      "source": [
        "Так же нам надо определить в эту странную функцию саму модель) будем выносить вычисления в тензоры все дела))) Когда эта штука взлетает, настроение взлетает тоже. кстати могли жанрам проставить индексы и ввести так же как через эмбединг слой"
      ]
    },
    {
      "cell_type": "code",
      "metadata": {
        "editable": false,
        "trusted": true,
        "id": "jikDO_aGw4UK"
      },
      "source": [
        "with strategy.scope():\n",
        "    \n",
        "    embedding_dimension  =  100\n",
        "\n",
        "    layer_u_inp = Input(shape = [1], name = 'user')\n",
        "    layer_i_inp = Input(shape = [1], name = 'item')\n",
        "    layer_f_inp = Input(shape = [df_feature_train.shape[1]], name = 'feature')\n",
        "    layer_g_inp = Input(shape = [genres_train.shape[1]], name = 'genres', sparse = True)\n",
        "    layer_t_inp = Input(shape = [title_train.shape[1]], name = 'title', sparse = True)\n",
        "\n",
        "    # Создаем вложение эмбедингов для пользователей и книг\n",
        "    layer_u_emb = Embedding(output_dim = embedding_dimension,\n",
        "                              input_dim = user_count,\n",
        "                              input_length = 1,\n",
        "                              name = 'user_embedding')(layer_u_inp)\n",
        "\n",
        "    layer_i_emb = Embedding(output_dim = embedding_dimension,\n",
        "                                input_dim = item_count,\n",
        "                                input_length = 1,\n",
        "                                name = 'item_embedding')(layer_i_inp) #, mask_zero=True\n",
        "\n",
        "   \n",
        "    layer_f_emb = Dense(512, activation = 'relu')(layer_f_inp)\n",
        "    layer_f_emb = BatchNormalization()(layer_f_emb)\n",
        "    layer_f_emb = Dense(512, activation = 'relu')(layer_f_emb)\n",
        "    \n",
        "    # Уменьшаем размерность метаданных\n",
        "    layer_t_emb = Dense(512, activation = 'relu')(layer_t_inp)\n",
        "    layer_t_emb = BatchNormalization()(layer_t_emb)\n",
        "    layer_t_emb = Dense(512, activation = 'relu')(layer_t_emb)\n",
        "    \n",
        "    # Уменьшаем размерность метаданных\n",
        "    layer_g_emb = Dense(512, activation = 'relu')(layer_g_inp)\n",
        "    layer_g_emb = BatchNormalization()(layer_g_emb)\n",
        "    layer_g_emb = Dense(512, activation = 'relu')(layer_g_emb)\n",
        "\n",
        "    # Изменение формы встраиваемых слоев\n",
        "    layer_u_reshape = Reshape([embedding_dimension])(layer_u_emb)\n",
        "    layer_i_reshape = Reshape([embedding_dimension])(layer_i_emb)\n",
        "\n",
        "    # Объеденяем слои\n",
        "    layer_concate = Concatenate()([layer_u_reshape, layer_i_reshape, layer_f_emb, layer_t_emb, layer_g_emb])\n",
        "\n",
        "\n",
        "    # Добавляем слои сети\n",
        "    \n",
        "    dense = Dense(2048, activation = 'relu')(layer_concate) #kernel_regularizer = regularizers.l2(0.0001)\n",
        "    dense = BatchNormalization()(dense)\n",
        "    dense = Dense(2048, activation = 'relu')(dense)\n",
        "    dense = Dropout(0.4)(dense)\n",
        "    dense = Dense(2048, activation = 'relu')(dense)\n",
        "    dense = Dropout(0.4)(dense)\n",
        "\n",
        "    output = Dense(item_count, activation = 'relu', name = 'output')(dense)\n",
        "    \n",
        "    opt = Adam(learning_rate = 0.00001)\n",
        "    \n",
        "    loss =  loss_function\n",
        "    \n",
        "    \n",
        "    # Компиляция модели\n",
        "    model = Model(inputs = [layer_u_inp, layer_i_inp, layer_f_inp, layer_t_inp, layer_g_inp], outputs = output)\n",
        "    model.compile(loss = loss, optimizer = opt, metrics = ['sparse_categorical_accuracy'])\n",
        "\n",
        "model.summary()"
      ],
      "execution_count": null,
      "outputs": []
    },
    {
      "cell_type": "markdown",
      "metadata": {
        "editable": false,
        "id": "AMtWHW2Fw4UK"
      },
      "source": [
        "Пора обучать нашу модель))) Я ей горжусь) эпох много для такого задания, данных много, бачи большие и установлю стоп обучения если 10 итераций подряд не будет повышаться на валидации ошибка, оптимизатор думаю хорошо для этого подобран и скорость его обучения)) ползет как черепаха, не застревает и спускается к нужной точке медленно, выйти из ямы минимума не успеет из за функции остановки. я им доволен"
      ]
    },
    {
      "cell_type": "code",
      "metadata": {
        "editable": false,
        "trusted": true,
        "id": "-7uU2kdQw4UK"
      },
      "source": [
        "n_epochs = 5 # 5 / 15 / \n",
        "\n",
        "early_stop = EarlyStopping(monitor = 'val_sparse_categorical_accuracy', mode = 'max', verbose = 1, patience = 100)\n",
        "history = model.fit(tf_train,\n",
        "          batch_size = batch_size,\n",
        "          epochs = n_epochs,\n",
        "          validation_data = tf_val,\n",
        "          verbose = 1, callbacks = [early_stop])"
      ],
      "execution_count": null,
      "outputs": []
    },
    {
      "cell_type": "markdown",
      "metadata": {
        "editable": false,
        "id": "kK5Imwg1w4UL"
      },
      "source": [
        "Запустим тестовые прогнозы) Что интересно нам скажет модель. Думале еще кросс валидацию написать, но на нашей задаче и это не так важно из за того что мы не так сильно боимся переобучиться. Кстати я долго копался, функция validation_split не работает пока в TPU. Данные надо подовать через спец генераторы. и в нашей задаче чтоб сделать кросс валидацию, надо писать функцию самим. Ну думаю это не сложно будет тому кому надо будет сделать"
      ]
    },
    {
      "cell_type": "code",
      "metadata": {
        "editable": false,
        "trusted": true,
        "id": "oxmoGkVAw4UL"
      },
      "source": [
        "y_pred = model.predict(tf_test)\n",
        "y_true = df_next_test.values\n",
        "\n",
        "predict = pd.DataFrame(y_pred * 10000)\n",
        "predict['True'] = pd.DataFrame(y_true)\n",
        "predict = predict.rename({0: 'Predict'}, axis=1)\n",
        "predict.head(5)"
      ],
      "execution_count": null,
      "outputs": []
    },
    {
      "cell_type": "markdown",
      "metadata": {
        "editable": false,
        "id": "tts00Tsgw4UL"
      },
      "source": [
        "глянем индексы с максимальными значениями"
      ]
    },
    {
      "cell_type": "code",
      "metadata": {
        "editable": false,
        "trusted": true,
        "id": "2983cM8mw4UL"
      },
      "source": [
        "np.argsort(y_pred[0])[-10:]"
      ],
      "execution_count": null,
      "outputs": []
    },
    {
      "cell_type": "markdown",
      "metadata": {
        "editable": false,
        "id": "OfIORT8ow4UL"
      },
      "source": [
        "Подготовим данные под оценку метрики"
      ]
    },
    {
      "cell_type": "code",
      "metadata": {
        "editable": false,
        "trusted": true,
        "id": "dfqmTS2Pw4UM"
      },
      "source": [
        "test_id_metric = []\n",
        "for i in y_true:\n",
        "    test_id_metric.append([i])\n",
        "pred_id_metric = []\n",
        "test_metric = []\n",
        "for i in range(len(y_true)):    \n",
        "    pred_id_metric.append(np.argsort(y_pred[i])[-50:])\n",
        "    test_metric.append(np.argsort(y_pred[i])[-10:])"
      ],
      "execution_count": null,
      "outputs": []
    },
    {
      "cell_type": "code",
      "metadata": {
        "editable": false,
        "trusted": true,
        "id": "W7f-26PKw4UM"
      },
      "source": [
        "ml_metrics.mapk(test_id_metric, test_metric, 10)"
      ],
      "execution_count": null,
      "outputs": []
    },
    {
      "cell_type": "markdown",
      "metadata": {
        "editable": false,
        "id": "c8xRAq7uw4UM"
      },
      "source": [
        "Обработаем предскаания, вместо десяти берем больше чтоб от них еще отобрать более популярные. Хотя моя сеть эти данные и так получает"
      ]
    },
    {
      "cell_type": "code",
      "metadata": {
        "editable": false,
        "trusted": true,
        "id": "4DWl7i6xw4UM"
      },
      "source": [
        "data = df_all.loc[(df_all.days < 50)]\n",
        "test_data = all_data_code.loc[all_data_code.days >= 12]\n",
        "predict_list = []\n",
        "for i in range(len(pred_id_metric)):\n",
        "    list_buy = test_data.loc[test_data.user_id ==  encod_user_id.inverse_transform(df_user_test.values)[i]]['item_id'].values\n",
        "    dict_pred = {}\n",
        "    list_pred = encod_item_id.inverse_transform(pred_id_metric[i]).astype(int)\n",
        "    list_pred = list(set(list_pred) - set(list_buy))\n",
        "    for j in list_pred:\n",
        "        dict_pred[j] = data.loc[data.item_id == j].shape[0]\n",
        "    dict_pred = {k: v for k, v in sorted(dict_pred.items(), key=lambda item: item[1], reverse=True)}\n",
        "    list_pred = list(dict_pred.keys())\n",
        "    predict_list.append(list_pred[:10])\n",
        "\n",
        "true_list = []\n",
        "id_true = encod_item_id.inverse_transform(y_true).astype(int)\n",
        "for i in id_true:\n",
        "    true_list.append([i])\n",
        "true_list\n",
        "len(predict_list), len(true_list)"
      ],
      "execution_count": null,
      "outputs": []
    },
    {
      "cell_type": "code",
      "metadata": {
        "editable": false,
        "trusted": true,
        "id": "rmHgE-Dpw4UN"
      },
      "source": [
        "print(predict_list[0])\n",
        "print(predict_list[1])\n",
        "print(predict_list[2])\n",
        "print(predict_list[3])\n",
        "print(predict_list[4])"
      ],
      "execution_count": null,
      "outputs": []
    },
    {
      "cell_type": "code",
      "metadata": {
        "editable": false,
        "trusted": true,
        "id": "4231vwAAw4UN"
      },
      "source": [
        "ml_metrics.mapk(true_list, predict_list, 10)"
      ],
      "execution_count": null,
      "outputs": []
    },
    {
      "cell_type": "markdown",
      "metadata": {
        "editable": false,
        "id": "ZzYZNCxdw4UN"
      },
      "source": [
        "тесты закончили, выведем предсказания уже на выборке для прогнозирования "
      ]
    },
    {
      "cell_type": "code",
      "metadata": {
        "editable": false,
        "trusted": true,
        "id": "TMc96Akmw4UN"
      },
      "source": [
        "pred_data_target = df_all.sort_values(by = 'days').drop_duplicates(subset = ['user_id'])\n",
        "pred_data_target = pred_data_target.loc[pred_data_target.user_id.isin(submission.Id.values.tolist())]\n",
        "pred_data_target.user_id = encod_user_id.transform(pred_data_target.user_id)\n",
        "pred_data_target.item_id = encod_item_id.transform(pred_data_target.item_id)\n",
        "print(pred_data_target.shape)\n",
        "pred_data_target.head(3)"
      ],
      "execution_count": null,
      "outputs": []
    },
    {
      "cell_type": "code",
      "metadata": {
        "editable": false,
        "trusted": true,
        "id": "aP3AVfv4w4UN"
      },
      "source": [
        "temp = submission.copy(deep = True)\n",
        "temp.Id = encod_user_id.transform(temp.Id)\n",
        "temp = temp.rename({'Id': 'user_id'}, axis = 1)\n",
        "pred_data_target = temp.drop(['Predicted'], axis = 1).merge(pred_data_target, how = 'left')\n",
        "pred_data_target.authors = encod_authors.transform(pred_data_target.authors)\n",
        "print(pred_data_target.shape)\n",
        "pred_data_target.head(3)"
      ],
      "execution_count": null,
      "outputs": []
    },
    {
      "cell_type": "code",
      "metadata": {
        "editable": false,
        "trusted": true,
        "id": "pyWkUzqbw4UN"
      },
      "source": [
        "pred_data_target.rating, _ = stats.boxcox(pred_data_target.rating + 1.1)\n",
        "pred_data_target.progress, _ = stats.boxcox(pred_data_target.progress + 0.1)\n",
        "#data_encode.days, _ = stats.boxcox(data_encode.days)\n",
        "pred_data_target.count_book, _ = stats.boxcox(pred_data_target.count_book + 0.1)\n",
        "pred_data_target.user_book, _ = stats.boxcox(pred_data_target.user_book + 0.1)\n",
        "pred_data_target.year, _ = stats.boxcox(pred_data_target.year + 0.1)"
      ],
      "execution_count": null,
      "outputs": []
    },
    {
      "cell_type": "code",
      "metadata": {
        "editable": false,
        "trusted": true,
        "id": "AUxT8HhEw4UN"
      },
      "source": [
        "pred_vec_title = vectorizer_t.transform(pred_data_target['title']).toarray()\n",
        "pred_vec_genres = vectorizer_g.transform(pred_data_target['genres']).toarray()\n",
        "pred_df_user = pred_data_target['user_id']\n",
        "pred_df_item = pred_data_target['item_id']\n",
        "pred_df_feature = pred_data_target.drop(['user_id', 'item_id', 'title', 'genres', 'item_next', 'start_date'], axis = 1)\n",
        "print(pred_df_user.shape, pred_df_item.shape, pred_vec_title.shape, pred_vec_genres.shape, pred_df_feature.shape)"
      ],
      "execution_count": null,
      "outputs": []
    },
    {
      "cell_type": "code",
      "metadata": {
        "editable": false,
        "trusted": true,
        "id": "TeaNaKUlw4UO"
      },
      "source": [
        "tf_pred = (\n",
        "    tf.data.Dataset\n",
        "    .from_tensor_slices(({\"user\": pred_df_user, \"item\": pred_df_item, \"feature\": pred_df_feature, \"title\": pred_vec_title, \"genres\": pred_vec_genres}))\n",
        "    .batch(batch_size)\n",
        ")"
      ],
      "execution_count": null,
      "outputs": []
    },
    {
      "cell_type": "code",
      "metadata": {
        "editable": false,
        "trusted": true,
        "id": "WCUvFK_Iw4UO"
      },
      "source": [
        "predictions = model.predict(tf_pred)"
      ],
      "execution_count": null,
      "outputs": []
    },
    {
      "cell_type": "code",
      "metadata": {
        "editable": false,
        "trusted": true,
        "id": "LfAvuZ4Ew4UO"
      },
      "source": [
        "pred_id = []\n",
        "for i in range(len(predictions)):    \n",
        "    pred_id.append(np.argsort(predictions[i])[-50:])\n",
        "pred_id[:2]"
      ],
      "execution_count": null,
      "outputs": []
    },
    {
      "cell_type": "code",
      "metadata": {
        "editable": false,
        "trusted": true,
        "id": "eZWOLg6xw4UO"
      },
      "source": [
        "data = df_all.loc[(df_all.days < 30)]\n",
        "\n",
        "predict_list = []\n",
        "for i in range(len(pred_id)):\n",
        "    dict_pred = {}\n",
        "    list_pred = encod_item_id.inverse_transform(pred_id[i]).astype(int)\n",
        "    for j in list_pred:\n",
        "        dict_pred[j] = data.loc[data.item_id == j].shape[0]\n",
        "    dict_pred = {k: v for k, v in sorted(dict_pred.items(), key=lambda item: item[1], reverse=True)}\n",
        "    list_pred = list(dict_pred.keys())\n",
        "    predict_list.append(list_pred[:10])\n"
      ],
      "execution_count": null,
      "outputs": []
    },
    {
      "cell_type": "code",
      "metadata": {
        "editable": false,
        "trusted": true,
        "id": "XNCurDHcw4UO"
      },
      "source": [
        "predict_list[0]"
      ],
      "execution_count": null,
      "outputs": []
    },
    {
      "cell_type": "code",
      "metadata": {
        "editable": false,
        "trusted": true,
        "id": "eZHW4hv8w4UO"
      },
      "source": [
        "for i in range(len(predict_list)):\n",
        "    submission.Predicted[i] = ' '.join(str(e) for e in predict_list[i])"
      ],
      "execution_count": null,
      "outputs": []
    },
    {
      "cell_type": "markdown",
      "metadata": {
        "editable": false,
        "id": "8MxdINsRw4UO"
      },
      "source": [
        "Урааа)) готовы отправлять результаты)"
      ]
    },
    {
      "cell_type": "code",
      "metadata": {
        "editable": false,
        "trusted": true,
        "id": "idNwpLiFw4UO"
      },
      "source": [
        "submission"
      ],
      "execution_count": null,
      "outputs": []
    },
    {
      "cell_type": "code",
      "metadata": {
        "editable": false,
        "trusted": true,
        "id": "n9NDmE_Mw4UP"
      },
      "source": [
        "submission.to_csv('submission.csv', index = False)"
      ],
      "execution_count": null,
      "outputs": []
    },
    {
      "cell_type": "code",
      "metadata": {
        "editable": false,
        "id": "fluyTNdFw4UP"
      },
      "source": [
        ""
      ],
      "execution_count": null,
      "outputs": []
    },
    {
      "cell_type": "code",
      "metadata": {
        "editable": false,
        "id": "-RhaodTdw4UP"
      },
      "source": [
        ""
      ],
      "execution_count": null,
      "outputs": []
    },
    {
      "cell_type": "code",
      "metadata": {
        "editable": false,
        "id": "dTcotIrAw4UP"
      },
      "source": [
        ""
      ],
      "execution_count": null,
      "outputs": []
    }
  ]
}
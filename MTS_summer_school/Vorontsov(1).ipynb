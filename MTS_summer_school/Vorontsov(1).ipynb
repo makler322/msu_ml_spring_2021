{
 "cells": [
  {
   "cell_type": "code",
   "execution_count": null,
   "metadata": {
    "colab": {
     "base_uri": "https://localhost:8080/"
    },
    "executionInfo": {
     "elapsed": 4906,
     "status": "ok",
     "timestamp": 1606828380842,
     "user": {
      "displayName": "Makler",
      "photoUrl": "https://lh3.googleusercontent.com/a-/AOh14GjlNhxO9UB9KqrXVK5G9qFtE8Z71S9KbFP6ExZH=s64",
      "userId": "01180499373924962012"
     },
     "user_tz": -180
    },
    "id": "caGiw6iIMrSj",
    "outputId": "56da2b77-560a-4b18-9059-c6f00821047e"
   },
   "outputs": [
    {
     "name": "stdout",
     "output_type": "stream",
     "text": [
      "Requirement already satisfied: lightfm in /usr/local/lib/python3.6/dist-packages (1.16)\n",
      "Requirement already satisfied: requests in /usr/local/lib/python3.6/dist-packages (from lightfm) (2.23.0)\n",
      "Requirement already satisfied: scipy>=0.17.0 in /usr/local/lib/python3.6/dist-packages (from lightfm) (1.4.1)\n",
      "Requirement already satisfied: numpy in /usr/local/lib/python3.6/dist-packages (from lightfm) (1.18.5)\n",
      "Requirement already satisfied: scikit-learn in /usr/local/lib/python3.6/dist-packages (from lightfm) (0.22.2.post1)\n",
      "Requirement already satisfied: urllib3!=1.25.0,!=1.25.1,<1.26,>=1.21.1 in /usr/local/lib/python3.6/dist-packages (from requests->lightfm) (1.24.3)\n",
      "Requirement already satisfied: idna<3,>=2.5 in /usr/local/lib/python3.6/dist-packages (from requests->lightfm) (2.10)\n",
      "Requirement already satisfied: certifi>=2017.4.17 in /usr/local/lib/python3.6/dist-packages (from requests->lightfm) (2020.11.8)\n",
      "Requirement already satisfied: chardet<4,>=3.0.2 in /usr/local/lib/python3.6/dist-packages (from requests->lightfm) (3.0.4)\n",
      "Requirement already satisfied: joblib>=0.11 in /usr/local/lib/python3.6/dist-packages (from scikit-learn->lightfm) (0.17.0)\n"
     ]
    }
   ],
   "source": [
    "!pip install lightfm\n",
    "import numpy as np\n",
    "import pandas as pd\n",
    "import tqdm\n",
    "import re\n",
    "from lightfm import LightFM\n",
    "from io import BytesIO\n",
    "import requests\n",
    "import matplotlib.pyplot as plt\n",
    "import seaborn as sns\n",
    "from sklearn.metrics.pairwise import cosine_similarity\n",
    "import gensim\n",
    "from scipy.sparse import coo_matrix, csr_matrix\n",
    "from scipy.sparse.linalg import svds"
   ]
  },
  {
   "cell_type": "code",
   "execution_count": null,
   "metadata": {
    "colab": {
     "base_uri": "https://localhost:8080/"
    },
    "executionInfo": {
     "elapsed": 1757,
     "status": "ok",
     "timestamp": 1606828380843,
     "user": {
      "displayName": "Makler",
      "photoUrl": "https://lh3.googleusercontent.com/a-/AOh14GjlNhxO9UB9KqrXVK5G9qFtE8Z71S9KbFP6ExZH=s64",
      "userId": "01180499373924962012"
     },
     "user_tz": -180
    },
    "id": "WEDA97ihNBZk",
    "outputId": "6c0df527-f118-4035-9f68-6ca8c4998409"
   },
   "outputs": [
    {
     "name": "stdout",
     "output_type": "stream",
     "text": [
      "Drive already mounted at /content/drive; to attempt to forcibly remount, call drive.mount(\"/content/drive\", force_remount=True).\n"
     ]
    }
   ],
   "source": [
    "from google.colab import drive\n",
    "drive.mount('/content/drive')"
   ]
  },
  {
   "cell_type": "code",
   "execution_count": null,
   "metadata": {
    "colab": {
     "base_uri": "https://localhost:8080/"
    },
    "executionInfo": {
     "elapsed": 4518,
     "status": "ok",
     "timestamp": 1606828385154,
     "user": {
      "displayName": "Makler",
      "photoUrl": "https://lh3.googleusercontent.com/a-/AOh14GjlNhxO9UB9KqrXVK5G9qFtE8Z71S9KbFP6ExZH=s64",
      "userId": "01180499373924962012"
     },
     "user_tz": -180
    },
    "id": "clG0_ntLMrSm",
    "outputId": "84a22d76-dbd3-4235-9da2-c26f75da020a"
   },
   "outputs": [
    {
     "name": "stderr",
     "output_type": "stream",
     "text": [
      "/usr/local/lib/python3.6/dist-packages/IPython/core/interactiveshell.py:2718: DtypeWarning: Columns (3) have mixed types.Specify dtype option on import or set low_memory=False.\n",
      "  interactivity=interactivity, compiler=compiler, result=result)\n"
     ]
    }
   ],
   "source": [
    "\n",
    "books_ratings = pd.read_csv('/content/drive/MyDrive/data8/BX-Book-Ratings.csv', encoding = \"ISO-8859-1\" ,sep=';')\n",
    "books = pd.read_csv('/content/drive/MyDrive/data8/BX-Books.csv', encoding = \"ISO-8859-1\" , sep=',')\n",
    "users = pd.read_csv('/content/drive/MyDrive/data8/BX-Users.csv', encoding = \"ISO-8859-1\" ,sep=';')"
   ]
  },
  {
   "cell_type": "code",
   "execution_count": null,
   "metadata": {
    "colab": {
     "base_uri": "https://localhost:8080/",
     "height": 206
    },
    "executionInfo": {
     "elapsed": 684,
     "status": "ok",
     "timestamp": 1606770350707,
     "user": {
      "displayName": "Makler",
      "photoUrl": "https://lh3.googleusercontent.com/a-/AOh14GjlNhxO9UB9KqrXVK5G9qFtE8Z71S9KbFP6ExZH=s64",
      "userId": "01180499373924962012"
     },
     "user_tz": -180
    },
    "id": "wc0-85ELMrSo",
    "outputId": "9d710eee-95b7-4984-c4d6-d1c6f5a2f16a"
   },
   "outputs": [
    {
     "data": {
      "text/html": [
       "<div>\n",
       "<style scoped>\n",
       "    .dataframe tbody tr th:only-of-type {\n",
       "        vertical-align: middle;\n",
       "    }\n",
       "\n",
       "    .dataframe tbody tr th {\n",
       "        vertical-align: top;\n",
       "    }\n",
       "\n",
       "    .dataframe thead th {\n",
       "        text-align: right;\n",
       "    }\n",
       "</style>\n",
       "<table border=\"1\" class=\"dataframe\">\n",
       "  <thead>\n",
       "    <tr style=\"text-align: right;\">\n",
       "      <th></th>\n",
       "      <th>User-ID</th>\n",
       "      <th>Location</th>\n",
       "      <th>Age</th>\n",
       "    </tr>\n",
       "  </thead>\n",
       "  <tbody>\n",
       "    <tr>\n",
       "      <th>0</th>\n",
       "      <td>1</td>\n",
       "      <td>nyc, new york, usa</td>\n",
       "      <td>NaN</td>\n",
       "    </tr>\n",
       "    <tr>\n",
       "      <th>1</th>\n",
       "      <td>2</td>\n",
       "      <td>stockton, california, usa</td>\n",
       "      <td>18.0</td>\n",
       "    </tr>\n",
       "    <tr>\n",
       "      <th>2</th>\n",
       "      <td>3</td>\n",
       "      <td>moscow, yukon territory, russia</td>\n",
       "      <td>NaN</td>\n",
       "    </tr>\n",
       "    <tr>\n",
       "      <th>3</th>\n",
       "      <td>4</td>\n",
       "      <td>porto, v.n.gaia, portugal</td>\n",
       "      <td>17.0</td>\n",
       "    </tr>\n",
       "    <tr>\n",
       "      <th>4</th>\n",
       "      <td>5</td>\n",
       "      <td>farnborough, hants, united kingdom</td>\n",
       "      <td>NaN</td>\n",
       "    </tr>\n",
       "  </tbody>\n",
       "</table>\n",
       "</div>"
      ],
      "text/plain": [
       "   User-ID                            Location   Age\n",
       "0        1                  nyc, new york, usa   NaN\n",
       "1        2           stockton, california, usa  18.0\n",
       "2        3     moscow, yukon territory, russia   NaN\n",
       "3        4           porto, v.n.gaia, portugal  17.0\n",
       "4        5  farnborough, hants, united kingdom   NaN"
      ]
     },
     "execution_count": 4,
     "metadata": {
      "tags": []
     },
     "output_type": "execute_result"
    }
   ],
   "source": [
    "#books_ratings.head()\n",
    "users.head()"
   ]
  },
  {
   "cell_type": "code",
   "execution_count": null,
   "metadata": {
    "colab": {
     "base_uri": "https://localhost:8080/"
    },
    "executionInfo": {
     "elapsed": 438,
     "status": "ok",
     "timestamp": 1606770351019,
     "user": {
      "displayName": "Makler",
      "photoUrl": "https://lh3.googleusercontent.com/a-/AOh14GjlNhxO9UB9KqrXVK5G9qFtE8Z71S9KbFP6ExZH=s64",
      "userId": "01180499373924962012"
     },
     "user_tz": -180
    },
    "id": "icmgPd1YMrSp",
    "outputId": "7de97be5-e63f-4271-bafb-db2248668582"
   },
   "outputs": [
    {
     "data": {
      "text/plain": [
       "(278858, 3)"
      ]
     },
     "execution_count": 5,
     "metadata": {
      "tags": []
     },
     "output_type": "execute_result"
    }
   ],
   "source": [
    "users.shape"
   ]
  },
  {
   "cell_type": "code",
   "execution_count": null,
   "metadata": {
    "colab": {
     "base_uri": "https://localhost:8080/",
     "height": 206
    },
    "executionInfo": {
     "elapsed": 1101,
     "status": "ok",
     "timestamp": 1606770352447,
     "user": {
      "displayName": "Makler",
      "photoUrl": "https://lh3.googleusercontent.com/a-/AOh14GjlNhxO9UB9KqrXVK5G9qFtE8Z71S9KbFP6ExZH=s64",
      "userId": "01180499373924962012"
     },
     "user_tz": -180
    },
    "id": "reHS6uCDMrSq",
    "outputId": "aee5a494-2286-4b9e-96ad-d3f198da47df"
   },
   "outputs": [
    {
     "data": {
      "text/html": [
       "<div>\n",
       "<style scoped>\n",
       "    .dataframe tbody tr th:only-of-type {\n",
       "        vertical-align: middle;\n",
       "    }\n",
       "\n",
       "    .dataframe tbody tr th {\n",
       "        vertical-align: top;\n",
       "    }\n",
       "\n",
       "    .dataframe thead th {\n",
       "        text-align: right;\n",
       "    }\n",
       "</style>\n",
       "<table border=\"1\" class=\"dataframe\">\n",
       "  <thead>\n",
       "    <tr style=\"text-align: right;\">\n",
       "      <th></th>\n",
       "      <th>User-ID</th>\n",
       "      <th>ISBN</th>\n",
       "      <th>Book-Rating</th>\n",
       "    </tr>\n",
       "  </thead>\n",
       "  <tbody>\n",
       "    <tr>\n",
       "      <th>0</th>\n",
       "      <td>276725</td>\n",
       "      <td>034545104X</td>\n",
       "      <td>0</td>\n",
       "    </tr>\n",
       "    <tr>\n",
       "      <th>1</th>\n",
       "      <td>276726</td>\n",
       "      <td>0155061224</td>\n",
       "      <td>5</td>\n",
       "    </tr>\n",
       "    <tr>\n",
       "      <th>2</th>\n",
       "      <td>276727</td>\n",
       "      <td>0446520802</td>\n",
       "      <td>0</td>\n",
       "    </tr>\n",
       "    <tr>\n",
       "      <th>3</th>\n",
       "      <td>276729</td>\n",
       "      <td>052165615X</td>\n",
       "      <td>3</td>\n",
       "    </tr>\n",
       "    <tr>\n",
       "      <th>4</th>\n",
       "      <td>276729</td>\n",
       "      <td>0521795028</td>\n",
       "      <td>6</td>\n",
       "    </tr>\n",
       "  </tbody>\n",
       "</table>\n",
       "</div>"
      ],
      "text/plain": [
       "   User-ID        ISBN  Book-Rating\n",
       "0   276725  034545104X            0\n",
       "1   276726  0155061224            5\n",
       "2   276727  0446520802            0\n",
       "3   276729  052165615X            3\n",
       "4   276729  0521795028            6"
      ]
     },
     "execution_count": 6,
     "metadata": {
      "tags": []
     },
     "output_type": "execute_result"
    }
   ],
   "source": [
    "books_ratings.head()"
   ]
  },
  {
   "cell_type": "code",
   "execution_count": null,
   "metadata": {
    "colab": {
     "base_uri": "https://localhost:8080/"
    },
    "executionInfo": {
     "elapsed": 820,
     "status": "ok",
     "timestamp": 1606770352711,
     "user": {
      "displayName": "Makler",
      "photoUrl": "https://lh3.googleusercontent.com/a-/AOh14GjlNhxO9UB9KqrXVK5G9qFtE8Z71S9KbFP6ExZH=s64",
      "userId": "01180499373924962012"
     },
     "user_tz": -180
    },
    "id": "mrkcQofaMrSq",
    "outputId": "20528dba-7e2c-485d-c902-da11a8b3f880"
   },
   "outputs": [
    {
     "data": {
      "text/plain": [
       "(1149780, 3)"
      ]
     },
     "execution_count": 7,
     "metadata": {
      "tags": []
     },
     "output_type": "execute_result"
    }
   ],
   "source": [
    "books_ratings.shape"
   ]
  },
  {
   "cell_type": "code",
   "execution_count": null,
   "metadata": {
    "colab": {
     "base_uri": "https://localhost:8080/",
     "height": 345
    },
    "executionInfo": {
     "elapsed": 746,
     "status": "ok",
     "timestamp": 1606770353025,
     "user": {
      "displayName": "Makler",
      "photoUrl": "https://lh3.googleusercontent.com/a-/AOh14GjlNhxO9UB9KqrXVK5G9qFtE8Z71S9KbFP6ExZH=s64",
      "userId": "01180499373924962012"
     },
     "user_tz": -180
    },
    "id": "XQbI1fo9MrSq",
    "outputId": "d38078fe-4255-4129-8221-970809ba9d57"
   },
   "outputs": [
    {
     "data": {
      "text/html": [
       "<div>\n",
       "<style scoped>\n",
       "    .dataframe tbody tr th:only-of-type {\n",
       "        vertical-align: middle;\n",
       "    }\n",
       "\n",
       "    .dataframe tbody tr th {\n",
       "        vertical-align: top;\n",
       "    }\n",
       "\n",
       "    .dataframe thead th {\n",
       "        text-align: right;\n",
       "    }\n",
       "</style>\n",
       "<table border=\"1\" class=\"dataframe\">\n",
       "  <thead>\n",
       "    <tr style=\"text-align: right;\">\n",
       "      <th></th>\n",
       "      <th>ISBN</th>\n",
       "      <th>Book-Title</th>\n",
       "      <th>Book-Author</th>\n",
       "      <th>Year-Of-Publication</th>\n",
       "      <th>Publisher</th>\n",
       "      <th>Image-URL-S</th>\n",
       "      <th>Image-URL-M</th>\n",
       "      <th>Image-URL-L</th>\n",
       "    </tr>\n",
       "  </thead>\n",
       "  <tbody>\n",
       "    <tr>\n",
       "      <th>0</th>\n",
       "      <td>0195153448</td>\n",
       "      <td>Classical Mythology</td>\n",
       "      <td>Mark P. O. Morford</td>\n",
       "      <td>2002</td>\n",
       "      <td>Oxford University Press</td>\n",
       "      <td>http://images.amazon.com/images/P/0195153448.0...</td>\n",
       "      <td>http://images.amazon.com/images/P/0195153448.0...</td>\n",
       "      <td>http://images.amazon.com/images/P/0195153448.0...</td>\n",
       "    </tr>\n",
       "    <tr>\n",
       "      <th>1</th>\n",
       "      <td>0002005018</td>\n",
       "      <td>Clara Callan</td>\n",
       "      <td>Richard Bruce Wright</td>\n",
       "      <td>2001</td>\n",
       "      <td>HarperFlamingo Canada</td>\n",
       "      <td>http://images.amazon.com/images/P/0002005018.0...</td>\n",
       "      <td>http://images.amazon.com/images/P/0002005018.0...</td>\n",
       "      <td>http://images.amazon.com/images/P/0002005018.0...</td>\n",
       "    </tr>\n",
       "    <tr>\n",
       "      <th>2</th>\n",
       "      <td>0060973129</td>\n",
       "      <td>Decision in Normandy</td>\n",
       "      <td>Carlo D'Este</td>\n",
       "      <td>1991</td>\n",
       "      <td>HarperPerennial</td>\n",
       "      <td>http://images.amazon.com/images/P/0060973129.0...</td>\n",
       "      <td>http://images.amazon.com/images/P/0060973129.0...</td>\n",
       "      <td>http://images.amazon.com/images/P/0060973129.0...</td>\n",
       "    </tr>\n",
       "    <tr>\n",
       "      <th>3</th>\n",
       "      <td>0374157065</td>\n",
       "      <td>Flu: The Story of the Great Influenza Pandemic...</td>\n",
       "      <td>Gina Bari Kolata</td>\n",
       "      <td>1999</td>\n",
       "      <td>Farrar Straus Giroux</td>\n",
       "      <td>http://images.amazon.com/images/P/0374157065.0...</td>\n",
       "      <td>http://images.amazon.com/images/P/0374157065.0...</td>\n",
       "      <td>http://images.amazon.com/images/P/0374157065.0...</td>\n",
       "    </tr>\n",
       "    <tr>\n",
       "      <th>4</th>\n",
       "      <td>0393045218</td>\n",
       "      <td>The Mummies of Urumchi</td>\n",
       "      <td>E. J. W. Barber</td>\n",
       "      <td>1999</td>\n",
       "      <td>W. W. Norton &amp;amp; Company</td>\n",
       "      <td>http://images.amazon.com/images/P/0393045218.0...</td>\n",
       "      <td>http://images.amazon.com/images/P/0393045218.0...</td>\n",
       "      <td>http://images.amazon.com/images/P/0393045218.0...</td>\n",
       "    </tr>\n",
       "  </tbody>\n",
       "</table>\n",
       "</div>"
      ],
      "text/plain": [
       "         ISBN  ...                                        Image-URL-L\n",
       "0  0195153448  ...  http://images.amazon.com/images/P/0195153448.0...\n",
       "1  0002005018  ...  http://images.amazon.com/images/P/0002005018.0...\n",
       "2  0060973129  ...  http://images.amazon.com/images/P/0060973129.0...\n",
       "3  0374157065  ...  http://images.amazon.com/images/P/0374157065.0...\n",
       "4  0393045218  ...  http://images.amazon.com/images/P/0393045218.0...\n",
       "\n",
       "[5 rows x 8 columns]"
      ]
     },
     "execution_count": 8,
     "metadata": {
      "tags": []
     },
     "output_type": "execute_result"
    }
   ],
   "source": [
    "books.head()"
   ]
  },
  {
   "cell_type": "code",
   "execution_count": null,
   "metadata": {
    "id": "OoZYyfLHvLwM"
   },
   "outputs": [],
   "source": []
  },
  {
   "cell_type": "markdown",
   "metadata": {
    "id": "yZrWZTkAGbiY"
   },
   "source": [
    "## Персональный топ\n",
    "\n"
   ]
  },
  {
   "cell_type": "markdown",
   "metadata": {
    "id": "lxBRVOjVGlgi"
   },
   "source": [
    "### Будем учитывать только страну и возраст +- 5 лет\n",
    "### На основе этого выводить наши предложения"
   ]
  },
  {
   "cell_type": "code",
   "execution_count": null,
   "metadata": {
    "id": "7TnSF6grMrSr"
   },
   "outputs": [],
   "source": [
    "\n",
    "class Top():\n",
    "    def __init__(self, users, books_ratings, books):\n",
    "        self.books_ISBN_to_url = {}\n",
    "        for i in books[[\"ISBN\", \"Image-URL-L\"]].drop_duplicates().values:\n",
    "            self.books_ISBN_to_url[i[0]] = i[1]\n",
    "        gg = users.merge(books_ratings[[\"User-ID\", \"ISBN\", \"Book-Rating\"]].drop_duplicates(), on=[\"User-ID\"])\n",
    "        ff = gg.merge(books[[\"ISBN\", \"Book-Title\"]].drop_duplicates(), on=[\"ISBN\"])\n",
    "        \n",
    "        ff[\"Location\"] = ff.Location.str.split(',').apply(lambda x: x[-1][1:])\n",
    "\n",
    "        self.interactions = ff\n",
    "        #print(self.interactions[\"Location\"])\n",
    "\n",
    "    def top_books(self, age, location):\n",
    "        #books = self.interactions[age-5 <= self.interactions[\"Age\"]][self.interactions[\"Age\"] <= age+5][self.interactions[\"Location\"] == \" usa\"]\n",
    "        #print(books)\n",
    "        books = self.interactions[age-5 <= self.interactions[\"Age\"]][self.interactions[\"Age\"] <= age+5][self.interactions[\"Location\"] == location]\\\n",
    "        .groupby([\"ISBN\", \"Book-Title\"])[\"Book-Rating\"].mean().reset_index().sort_values(\"Book-Rating\", ascending=False)[:5]\n",
    "        #print(books)\n",
    "        #rec_imaging(books[\"ISBN\"].values, self.books_ISBN_to_url, books[\"Book-Rating\"].values)\n",
    "        for i in str(books[\"Book-Title\"]).split('\\n'):\n",
    "            print(' '.join(i.split()[1:]))"
   ]
  },
  {
   "cell_type": "code",
   "execution_count": null,
   "metadata": {
    "id": "0F-nVfZyeHXt"
   },
   "outputs": [],
   "source": [
    "T = Top(users, books_ratings, books)"
   ]
  },
  {
   "cell_type": "code",
   "execution_count": null,
   "metadata": {
    "colab": {
     "base_uri": "https://localhost:8080/"
    },
    "executionInfo": {
     "elapsed": 4732,
     "status": "ok",
     "timestamp": 1606822639926,
     "user": {
      "displayName": "Makler",
      "photoUrl": "https://lh3.googleusercontent.com/a-/AOh14GjlNhxO9UB9KqrXVK5G9qFtE8Z71S9KbFP6ExZH=s64",
      "userId": "01180499373924962012"
     },
     "user_tz": -180
    },
    "id": "wkJvEpUjeMcN",
    "outputId": "8dcb09c2-b5de-4690-a412-522a2a85be8f"
   },
   "outputs": [
    {
     "name": "stderr",
     "output_type": "stream",
     "text": [
      "/usr/local/lib/python3.6/dist-packages/ipykernel_launcher.py:18: UserWarning: Boolean Series key will be reindexed to match DataFrame index.\n"
     ]
    },
    {
     "name": "stdout",
     "output_type": "stream",
     "text": [
      "Dune Messiah\n",
      "The Dictionary of Cultural Literacy\n",
      "Simply Handmade: 365 Easy Gifts &amp; Decorati...\n",
      "Unbuilding\n",
      "Portable Dorothy Parker (Viking Portable Library)\n",
      "Book-Title, dtype: object\n"
     ]
    }
   ],
   "source": [
    "T.top_books(20, 'usa')"
   ]
  },
  {
   "cell_type": "markdown",
   "metadata": {
    "id": "izF3tEFFHFV0"
   },
   "source": [
    "## Рекомендации на основе похожих пользователей "
   ]
  },
  {
   "cell_type": "markdown",
   "metadata": {
    "id": "deNQKQsIMRaN"
   },
   "source": [
    "### Сначала отберём пользователей, которые оставили хотя бы 2 отзыва"
   ]
  },
  {
   "cell_type": "code",
   "execution_count": null,
   "metadata": {
    "id": "kmo1Ind7eMlL"
   },
   "outputs": [],
   "source": [
    "users_dict = {}\n",
    "norm_users = {}\n",
    "books_ratings['my_data'] = books_ratings[['User-ID', 'ISBN']].apply(tuple, axis=1)\n",
    "for i in books_ratings[\"my_data\"]:\n",
    "    if i[0] in users_dict: \n",
    "        if i[0] in norm_users:\n",
    "            norm_users[i[0]].append(i[1])\n",
    "        else:\n",
    "            norm_users[i[0]] = [users_dict[i[0]], i[1]]\n",
    "    else:\n",
    "        users_dict[i[0]] = i[1]\n"
   ]
  },
  {
   "cell_type": "markdown",
   "metadata": {
    "id": "DVgPzvsOMibt"
   },
   "source": [
    "### Посмотрим их распределение"
   ]
  },
  {
   "cell_type": "code",
   "execution_count": null,
   "metadata": {
    "colab": {
     "base_uri": "https://localhost:8080/",
     "height": 265
    },
    "executionInfo": {
     "elapsed": 774,
     "status": "ok",
     "timestamp": 1606773952100,
     "user": {
      "displayName": "Makler",
      "photoUrl": "https://lh3.googleusercontent.com/a-/AOh14GjlNhxO9UB9KqrXVK5G9qFtE8Z71S9KbFP6ExZH=s64",
      "userId": "01180499373924962012"
     },
     "user_tz": -180
    },
    "id": "keJL5P1ECfVO",
    "outputId": "a20ab59e-1bba-4fdf-99a0-ec0d80aec5ec"
   },
   "outputs": [
    {
     "data": {
      "image/png": "[encoded data removed]",
      "text/plain": [
       "<Figure size 432x288 with 1 Axes>"
      ]
     },
     "metadata": {
      "needs_background": "light",
      "tags": []
     },
     "output_type": "display_data"
    }
   ],
   "source": [
    "B = []\n",
    "d = 50\n",
    "for i in range(d):\n",
    "    B.append(i)\n",
    "A = [0]*d\n",
    "#print(len(A))\n",
    "\n",
    "for i in norm_users.items():\n",
    "    if len(i[1]) < d:\n",
    "        A[len(i[1])] += 1\n",
    "\n",
    "#plt.subplot(132)\n",
    "plt.bar(B, A)\n",
    "plt.show()"
   ]
  },
  {
   "cell_type": "markdown",
   "metadata": {
    "id": "qwBSQSpnM5Qy"
   },
   "source": [
    "### Поймём, что нам не интересны пользователи, у которых 10+ отзывов или всего 2\n",
    "### Будем добавлять в один класс книги всех авторов, у которых пересекаются хотя бы 3 отзыва"
   ]
  },
  {
   "cell_type": "code",
   "execution_count": null,
   "metadata": {
    "id": "1bbGiMH7eMnt"
   },
   "outputs": [],
   "source": [
    "from tqdm.notebook import tqdm as tq\n",
    "class_by_users = {}\n",
    "B = []\n",
    "\n",
    "for i in tq(norm_users.items()):\n",
    "    A = i[1]\n",
    "    qq = len(A)\n",
    "    if len(A) > 10 or len(A) == 2:\n",
    "        continue\n",
    "    for j in norm_users.items():\n",
    "        if len(j[1]) > 10 or len(j[1]) == 2:\n",
    "            continue\n",
    "        if i != j:\n",
    "            o = 0\n",
    "            for k in j[1]:\n",
    "                if k in A:\n",
    "                    o += 1\n",
    "                    if o == 3:\n",
    "                        for p in j[1]:\n",
    "                            A.append(p)\n",
    "                        break\n",
    "        \n",
    "    #A.sort()\n",
    "    if len(A) > qq:\n",
    "        print(1)\n",
    "        B.append(A)    "
   ]
  },
  {
   "cell_type": "markdown",
   "metadata": {
    "id": "cyT-PlsHiDxj"
   },
   "source": [
    "### Далее в каждом классе, каждой книге выдадим среднее на основе всех оценок из общей таблицы"
   ]
  },
  {
   "cell_type": "code",
   "execution_count": null,
   "metadata": {
    "colab": {
     "base_uri": "https://localhost:8080/",
     "height": 66,
     "referenced_widgets": [
      "dd3658a2003647e2ac52d1106eac6fc4",
      "c56456fb234a416cade4722c674b123e",
      "cfc99bb94fbf4c9e9b8dd79b003b91ec",
      "0a7dc4a6dd9942c4b72e7984c6f95ed6",
      "29bebc793c6d4695b9cf7ff0e364afb8",
      "217cecb877c746ef85110ddbdbc10798",
      "db800d84e9df47a7b7fb7bd6ed7388f2",
      "57c1cca8b38e4523882b721978ea294b"
     ]
    },
    "executionInfo": {
     "elapsed": 10632,
     "status": "ok",
     "timestamp": 1606780890527,
     "user": {
      "displayName": "Makler",
      "photoUrl": "https://lh3.googleusercontent.com/a-/AOh14GjlNhxO9UB9KqrXVK5G9qFtE8Z71S9KbFP6ExZH=s64",
      "userId": "01180499373924962012"
     },
     "user_tz": -180
    },
    "id": "mn5sdDnKZCHu",
    "outputId": "93295df6-9ec2-481f-a43d-a5aa76046702"
   },
   "outputs": [
    {
     "name": "stdout",
     "output_type": "stream",
     "text": [
      "460\n"
     ]
    },
    {
     "data": {
      "application/vnd.jupyter.widget-view+json": {
       "model_id": "dd3658a2003647e2ac52d1106eac6fc4",
       "version_major": 2,
       "version_minor": 0
      },
      "text/plain": [
       "HBox(children=(FloatProgress(value=0.0, max=460.0), HTML(value='')))"
      ]
     },
     "metadata": {
      "tags": []
     },
     "output_type": "display_data"
    }
   ],
   "source": [
    "print(len(B)) ## Количество классов, которые я выделил\n",
    "G = []\n",
    "count = 0\n",
    "for i in tq(B):\n",
    "    po = []\n",
    "    for j in i:\n",
    "        \n",
    "        srednee = books_ratings[books_ratings[\"ISBN\"] == j][\"Book-Rating\"].mean()\n",
    "        h = [j, srednee]\n",
    "        \n",
    "        po.append(h)\n",
    "    G.append(po)\n",
    "    count += 1\n",
    "    if count == 10:\n",
    "        pass\n",
    "        #break\n"
   ]
  },
  {
   "cell_type": "markdown",
   "metadata": {
    "id": "qayMpkxjiWru"
   },
   "source": [
    "### После чего отсортируем и выведем топ-10 книг из класса"
   ]
  },
  {
   "cell_type": "code",
   "execution_count": null,
   "metadata": {
    "id": "qpNXNSfOhkFV"
   },
   "outputs": [],
   "source": [
    "def top(num):\n",
    "    if num >= len(G):\n",
    "        return -1\n",
    "    i = G[num]\n",
    "    #print(i)\n",
    "    i = (sorted(i, key=lambda x : x[1], reverse=True))\n",
    "    kk = []\n",
    "    for l in i:\n",
    "        if l not in kk:\n",
    "            kk.append(l)\n",
    "    #print(kk)\n",
    "    for j in range(min(10, len(kk))):\n",
    "        #print(books[books[\"ISBN\"] == kk[j][0]][\"Book-Title\"], kk[j][1])\n",
    "        print(' '.join(str(books[books[\"ISBN\"] == kk[j][0]][\"Book-Title\"]).split('Name: Book-Title, dtype: object')[0].split()[1:]), kk[j][1])"
   ]
  },
  {
   "cell_type": "code",
   "execution_count": null,
   "metadata": {
    "colab": {
     "base_uri": "https://localhost:8080/"
    },
    "executionInfo": {
     "elapsed": 723,
     "status": "ok",
     "timestamp": 1606781820740,
     "user": {
      "displayName": "Makler",
      "photoUrl": "https://lh3.googleusercontent.com/a-/AOh14GjlNhxO9UB9KqrXVK5G9qFtE8Z71S9KbFP6ExZH=s64",
      "userId": "01180499373924962012"
     },
     "user_tz": -180
    },
    "id": "jpQ-BH6Xh7r-",
    "outputId": "9a38a772-3b81-48b7-850f-5369e53b8018"
   },
   "outputs": [
    {
     "name": "stdout",
     "output_type": "stream",
     "text": [
      "Reflections: Life After the White House 8.0\n",
      "Kushiel's Chosen (Kushiel's Legacy) 7.285714285714286\n",
      "Kushiel's Avatar (Kushiel's Legacy) 6.142857142857143\n",
      "Daughter of the Blood (Black Jewels Trilogy) 5.470588235294118\n",
      "Queen of the Darkness (Black Jewels Trilogy) 4.947368421052632\n",
      "Kushiel's Dart 3.6166666666666667\n",
      "The Claiming of Sleeping Beauty (Sleeping Beauty) 3.6\n",
      "Heir to the Shadows (The Black Jewels Trilogy,... 3.2777777777777777\n",
      "Beauty's Release 1.7045454545454546\n",
      "He Sees You When You're Sleeping : A Novel 1.676056338028169\n",
      "None\n"
     ]
    }
   ],
   "source": [
    "print(top(2)) # 0..419 "
   ]
  },
  {
   "cell_type": "markdown",
   "metadata": {
    "id": "Lv6PuxzKHsJ2"
   },
   "source": [
    "## Совстречаемость\n"
   ]
  },
  {
   "cell_type": "markdown",
   "metadata": {
    "id": "qUR0y11SH-Jy"
   },
   "source": [
    "### Уберём всё лишнее и выведу для каждой книги похожие произведения"
   ]
  },
  {
   "cell_type": "code",
   "execution_count": 83,
   "metadata": {
    "executionInfo": {
     "elapsed": 1029,
     "status": "ok",
     "timestamp": 1606833068827,
     "user": {
      "displayName": "Makler",
      "photoUrl": "https://lh3.googleusercontent.com/a-/AOh14GjlNhxO9UB9KqrXVK5G9qFtE8Z71S9KbFP6ExZH=s64",
      "userId": "01180499373924962012"
     },
     "user_tz": -180
    },
    "id": "FcAoXpQfMrSr"
   },
   "outputs": [],
   "source": [
    "from tqdm.notebook import tqdm as tq\n",
    "class Recomendations():\n",
    "    def __init__(self, users, books_ratings, books):\n",
    "        self.books_ISBN_to_url = {}\n",
    "        for i in books[[\"ISBN\", \"Image-URL-L\"]].drop_duplicates().values:\n",
    "            self.books_ISBN_to_url[i[0]] = i[1]\n",
    "        self.books_ISBN_to_title = {}\n",
    "        for i in books[[\"ISBN\", \"Book-Title\"]].drop_duplicates().values:\n",
    "            self.books_ISBN_to_title[i[0]] = i[1]\n",
    "        gg = users.merge(books_ratings[[\"User-ID\", \"ISBN\", \"Book-Rating\"]], on=[\"User-ID\"])\n",
    "        ff = gg.merge(books[[\"ISBN\", \"Book-Title\"]].drop_duplicates(), on=[\"ISBN\"])\n",
    "\n",
    "        self.interactions = ff\n",
    "        \n",
    "    def coocurrency_count(self):\n",
    "        rating = self.interactions[[\"User-ID\", \"ISBN\"]]\n",
    "        user_ratings = rating.groupby([\"User-ID\"])[\"ISBN\"].apply(list).reset_index()\n",
    "        \n",
    "        rating_num = [len(i) for i in user_ratings[\"ISBN\"]]\n",
    "        user_ratings[\"rating_num\"] = rating_num\n",
    "        user_ratings = user_ratings[user_ratings[\"rating_num\"] > 1][user_ratings[\"rating_num\"] < 12]\n",
    "        #print(\"I'm here\")\n",
    "        cooc = {}\n",
    "        print(len(user_ratings.values))\n",
    "        for i in tq(user_ratings.values):\n",
    "            for j in range(len(i[1])):\n",
    "                for k in range(len(i[1])):\n",
    "                    if j != k:\n",
    "                        try:\n",
    "                            cooc[str(i[1][j]) + \"_\" + str(i[1][k])] += 1\n",
    "                        except:\n",
    "                            cooc[str(i[1][j]) + \"_\" + str(i[1][k])] = 1\n",
    "        cooc_list = []\n",
    "        for i, j in cooc.items():\n",
    "            if j != 1:\n",
    "                cooc_list.append(i.split(\"_\") + [j])\n",
    "        self.cooc_rec = pd.DataFrame(cooc_list, columns=[\"book1\", \"book2\", \"measure\"])\n",
    "    \n",
    "    def get_rec(self, u):\n",
    "\n",
    "        books_id_to_ISBN = {}\n",
    "        fff = books[[\"ISBN\"]].drop_duplicates().values\n",
    "        #print(fff)\n",
    "        for i in range(len(fff)):\n",
    "            books_id_to_ISBN[i] = fff[i]\n",
    "        i = books_id_to_ISBN[u][0]\n",
    "        #print(self.cooc_rec.head(10))\n",
    "        recs = self.cooc_rec[self.cooc_rec[\"book1\"] == str(i)]\\\n",
    "                            .sort_values(\"measure\", ascending=False)\\\n",
    "                            .head(10)\n",
    "        print(\"Для Книги\")\n",
    "        print(self.books_ISBN_to_title[str(i)])\n",
    "        print(u\"Такие рекомендации\")\n",
    "        \n",
    "        for i in recs[[\"book2\", \"measure\"]].drop_duplicates().values:\n",
    "            print(self.books_ISBN_to_title[str(i[0])], i[1])\n",
    "\n",
    "        "
   ]
  },
  {
   "cell_type": "code",
   "execution_count": 84,
   "metadata": {
    "executionInfo": {
     "elapsed": 2131,
     "status": "ok",
     "timestamp": 1606833071360,
     "user": {
      "displayName": "Makler",
      "photoUrl": "https://lh3.googleusercontent.com/a-/AOh14GjlNhxO9UB9KqrXVK5G9qFtE8Z71S9KbFP6ExZH=s64",
      "userId": "01180499373924962012"
     },
     "user_tz": -180
    },
    "id": "3JbYiNzaMrSs"
   },
   "outputs": [],
   "source": [
    "T = Recomendations(users, books_ratings, books)"
   ]
  },
  {
   "cell_type": "code",
   "execution_count": 85,
   "metadata": {
    "colab": {
     "base_uri": "https://localhost:8080/",
     "height": 101,
     "referenced_widgets": [
      "76533539dd724e4fa97c8cff08c62174",
      "cca1ed1dc5e747e381558f624b876f11",
      "13464c8454ea41ac9f5c45f777174e3e",
      "bdbccbfcf51040c8958383c70c33257c",
      "7013db156e4b4e60a4194195cad56024",
      "61a20f34845c42babf6b3a6f46953f58",
      "e35e28b3f6164b5ab143631d4945f1f7",
      "8b799068a99e4b768b2440c2ebac25b3"
     ]
    },
    "executionInfo": {
     "elapsed": 5139,
     "status": "ok",
     "timestamp": 1606833074859,
     "user": {
      "displayName": "Makler",
      "photoUrl": "https://lh3.googleusercontent.com/a-/AOh14GjlNhxO9UB9KqrXVK5G9qFtE8Z71S9KbFP6ExZH=s64",
      "userId": "01180499373924962012"
     },
     "user_tz": -180
    },
    "id": "vVuajCraMrSs",
    "outputId": "35be5cfa-f8ef-4ad7-91f3-14ca33d346df"
   },
   "outputs": [
    {
     "name": "stdout",
     "output_type": "stream",
     "text": [
      "30745\n"
     ]
    },
    {
     "name": "stderr",
     "output_type": "stream",
     "text": [
      "/usr/local/lib/python3.6/dist-packages/ipykernel_launcher.py:21: UserWarning: Boolean Series key will be reindexed to match DataFrame index.\n"
     ]
    },
    {
     "data": {
      "application/vnd.jupyter.widget-view+json": {
       "model_id": "76533539dd724e4fa97c8cff08c62174",
       "version_major": 2,
       "version_minor": 0
      },
      "text/plain": [
       "HBox(children=(FloatProgress(value=0.0, max=30745.0), HTML(value='')))"
      ]
     },
     "metadata": {
      "tags": []
     },
     "output_type": "display_data"
    },
    {
     "name": "stdout",
     "output_type": "stream",
     "text": [
      "\n"
     ]
    }
   ],
   "source": [
    "T.coocurrency_count()"
   ]
  },
  {
   "cell_type": "code",
   "execution_count": 86,
   "metadata": {
    "colab": {
     "base_uri": "https://localhost:8080/"
    },
    "executionInfo": {
     "elapsed": 4592,
     "status": "ok",
     "timestamp": 1606833074861,
     "user": {
      "displayName": "Makler",
      "photoUrl": "https://lh3.googleusercontent.com/a-/AOh14GjlNhxO9UB9KqrXVK5G9qFtE8Z71S9KbFP6ExZH=s64",
      "userId": "01180499373924962012"
     },
     "user_tz": -180
    },
    "id": "41UDc9JFMrSs",
    "outputId": "afbc6c89-1a6d-48b4-b768-6bbb9ffc46de"
   },
   "outputs": [
    {
     "name": "stdout",
     "output_type": "stream",
     "text": [
      "Для Книги\n",
      "The Street Lawyer\n",
      "Такие рекомендации\n",
      "The Runaway Jury 6\n",
      "The Partner 6\n",
      "The Chamber 5\n",
      "The Brethren 5\n",
      "The Rainmaker 4\n",
      "The Client 3\n",
      "Remember Me 3\n",
      "The Pelican Brief 3\n",
      "The Testament 3\n",
      "A Time to Kill 2\n"
     ]
    }
   ],
   "source": [
    "T.get_rec(52)"
   ]
  },
  {
   "cell_type": "code",
   "execution_count": null,
   "metadata": {
    "id": "ZwK7FhJnX-aX"
   },
   "outputs": [],
   "source": []
  },
  {
   "cell_type": "code",
   "execution_count": null,
   "metadata": {
    "id": "KnPLrTmKX-cr"
   },
   "outputs": [],
   "source": []
  },
  {
   "cell_type": "code",
   "execution_count": null,
   "metadata": {
    "id": "ebaUWya_X-fV"
   },
   "outputs": [],
   "source": []
  }
 ],
 "metadata": {
  "accelerator": "GPU",
  "colab": {
   "collapsed_sections": [
    "yZrWZTkAGbiY",
    "izF3tEFFHFV0"
   ],
   "name": "Untitled.ipynb",
   "provenance": [],
   "toc_visible": true
  },
  "kernelspec": {
   "display_name": "Python 3",
   "language": "python",
   "name": "python3"
  },
  "language_info": {
   "codemirror_mode": {
    "name": "ipython",
    "version": 3
   },
   "file_extension": ".py",
   "mimetype": "text/x-python",
   "name": "python",
   "nbconvert_exporter": "python",
   "pygments_lexer": "ipython3",
   "version": "3.8.5"
  },
  "widgets": {
   "application/vnd.jupyter.widget-state+json": {
    "0a7dc4a6dd9942c4b72e7984c6f95ed6": {
     "model_module": "@jupyter-widgets/controls",
     "model_name": "HTMLModel",
     "state": {
      "_dom_classes": [],
      "_model_module": "@jupyter-widgets/controls",
      "_model_module_version": "1.5.0",
      "_model_name": "HTMLModel",
      "_view_count": null,
      "_view_module": "@jupyter-widgets/controls",
      "_view_module_version": "1.5.0",
      "_view_name": "HTMLView",
      "description": "",
      "description_tooltip": null,
      "layout": "IPY_MODEL_57c1cca8b38e4523882b721978ea294b",
      "placeholder": "​",
      "style": "IPY_MODEL_db800d84e9df47a7b7fb7bd6ed7388f2",
      "value": " 9/460 [00:09&lt;07:01,  1.07it/s]"
     }
    },
    "13464c8454ea41ac9f5c45f777174e3e": {
     "model_module": "@jupyter-widgets/controls",
     "model_name": "FloatProgressModel",
     "state": {
      "_dom_classes": [],
      "_model_module": "@jupyter-widgets/controls",
      "_model_module_version": "1.5.0",
      "_model_name": "FloatProgressModel",
      "_view_count": null,
      "_view_module": "@jupyter-widgets/controls",
      "_view_module_version": "1.5.0",
      "_view_name": "ProgressView",
      "bar_style": "success",
      "description": "100%",
      "description_tooltip": null,
      "layout": "IPY_MODEL_61a20f34845c42babf6b3a6f46953f58",
      "max": 30745,
      "min": 0,
      "orientation": "horizontal",
      "style": "IPY_MODEL_7013db156e4b4e60a4194195cad56024",
      "value": 30745
     }
    },
    "217cecb877c746ef85110ddbdbc10798": {
     "model_module": "@jupyter-widgets/base",
     "model_name": "LayoutModel",
     "state": {
      "_model_module": "@jupyter-widgets/base",
      "_model_module_version": "1.2.0",
      "_model_name": "LayoutModel",
      "_view_count": null,
      "_view_module": "@jupyter-widgets/base",
      "_view_module_version": "1.2.0",
      "_view_name": "LayoutView",
      "align_content": null,
      "align_items": null,
      "align_self": null,
      "border": null,
      "bottom": null,
      "display": null,
      "flex": null,
      "flex_flow": null,
      "grid_area": null,
      "grid_auto_columns": null,
      "grid_auto_flow": null,
      "grid_auto_rows": null,
      "grid_column": null,
      "grid_gap": null,
      "grid_row": null,
      "grid_template_areas": null,
      "grid_template_columns": null,
      "grid_template_rows": null,
      "height": null,
      "justify_content": null,
      "justify_items": null,
      "left": null,
      "margin": null,
      "max_height": null,
      "max_width": null,
      "min_height": null,
      "min_width": null,
      "object_fit": null,
      "object_position": null,
      "order": null,
      "overflow": null,
      "overflow_x": null,
      "overflow_y": null,
      "padding": null,
      "right": null,
      "top": null,
      "visibility": null,
      "width": null
     }
    },
    "29bebc793c6d4695b9cf7ff0e364afb8": {
     "model_module": "@jupyter-widgets/controls",
     "model_name": "ProgressStyleModel",
     "state": {
      "_model_module": "@jupyter-widgets/controls",
      "_model_module_version": "1.5.0",
      "_model_name": "ProgressStyleModel",
      "_view_count": null,
      "_view_module": "@jupyter-widgets/base",
      "_view_module_version": "1.2.0",
      "_view_name": "StyleView",
      "bar_color": null,
      "description_width": "initial"
     }
    },
    "57c1cca8b38e4523882b721978ea294b": {
     "model_module": "@jupyter-widgets/base",
     "model_name": "LayoutModel",
     "state": {
      "_model_module": "@jupyter-widgets/base",
      "_model_module_version": "1.2.0",
      "_model_name": "LayoutModel",
      "_view_count": null,
      "_view_module": "@jupyter-widgets/base",
      "_view_module_version": "1.2.0",
      "_view_name": "LayoutView",
      "align_content": null,
      "align_items": null,
      "align_self": null,
      "border": null,
      "bottom": null,
      "display": null,
      "flex": null,
      "flex_flow": null,
      "grid_area": null,
      "grid_auto_columns": null,
      "grid_auto_flow": null,
      "grid_auto_rows": null,
      "grid_column": null,
      "grid_gap": null,
      "grid_row": null,
      "grid_template_areas": null,
      "grid_template_columns": null,
      "grid_template_rows": null,
      "height": null,
      "justify_content": null,
      "justify_items": null,
      "left": null,
      "margin": null,
      "max_height": null,
      "max_width": null,
      "min_height": null,
      "min_width": null,
      "object_fit": null,
      "object_position": null,
      "order": null,
      "overflow": null,
      "overflow_x": null,
      "overflow_y": null,
      "padding": null,
      "right": null,
      "top": null,
      "visibility": null,
      "width": null
     }
    },
    "61a20f34845c42babf6b3a6f46953f58": {
     "model_module": "@jupyter-widgets/base",
     "model_name": "LayoutModel",
     "state": {
      "_model_module": "@jupyter-widgets/base",
      "_model_module_version": "1.2.0",
      "_model_name": "LayoutModel",
      "_view_count": null,
      "_view_module": "@jupyter-widgets/base",
      "_view_module_version": "1.2.0",
      "_view_name": "LayoutView",
      "align_content": null,
      "align_items": null,
      "align_self": null,
      "border": null,
      "bottom": null,
      "display": null,
      "flex": null,
      "flex_flow": null,
      "grid_area": null,
      "grid_auto_columns": null,
      "grid_auto_flow": null,
      "grid_auto_rows": null,
      "grid_column": null,
      "grid_gap": null,
      "grid_row": null,
      "grid_template_areas": null,
      "grid_template_columns": null,
      "grid_template_rows": null,
      "height": null,
      "justify_content": null,
      "justify_items": null,
      "left": null,
      "margin": null,
      "max_height": null,
      "max_width": null,
      "min_height": null,
      "min_width": null,
      "object_fit": null,
      "object_position": null,
      "order": null,
      "overflow": null,
      "overflow_x": null,
      "overflow_y": null,
      "padding": null,
      "right": null,
      "top": null,
      "visibility": null,
      "width": null
     }
    },
    "7013db156e4b4e60a4194195cad56024": {
     "model_module": "@jupyter-widgets/controls",
     "model_name": "ProgressStyleModel",
     "state": {
      "_model_module": "@jupyter-widgets/controls",
      "_model_module_version": "1.5.0",
      "_model_name": "ProgressStyleModel",
      "_view_count": null,
      "_view_module": "@jupyter-widgets/base",
      "_view_module_version": "1.2.0",
      "_view_name": "StyleView",
      "bar_color": null,
      "description_width": "initial"
     }
    },
    "76533539dd724e4fa97c8cff08c62174": {
     "model_module": "@jupyter-widgets/controls",
     "model_name": "HBoxModel",
     "state": {
      "_dom_classes": [],
      "_model_module": "@jupyter-widgets/controls",
      "_model_module_version": "1.5.0",
      "_model_name": "HBoxModel",
      "_view_count": null,
      "_view_module": "@jupyter-widgets/controls",
      "_view_module_version": "1.5.0",
      "_view_name": "HBoxView",
      "box_style": "",
      "children": [
       "IPY_MODEL_13464c8454ea41ac9f5c45f777174e3e",
       "IPY_MODEL_bdbccbfcf51040c8958383c70c33257c"
      ],
      "layout": "IPY_MODEL_cca1ed1dc5e747e381558f624b876f11"
     }
    },
    "8b799068a99e4b768b2440c2ebac25b3": {
     "model_module": "@jupyter-widgets/base",
     "model_name": "LayoutModel",
     "state": {
      "_model_module": "@jupyter-widgets/base",
      "_model_module_version": "1.2.0",
      "_model_name": "LayoutModel",
      "_view_count": null,
      "_view_module": "@jupyter-widgets/base",
      "_view_module_version": "1.2.0",
      "_view_name": "LayoutView",
      "align_content": null,
      "align_items": null,
      "align_self": null,
      "border": null,
      "bottom": null,
      "display": null,
      "flex": null,
      "flex_flow": null,
      "grid_area": null,
      "grid_auto_columns": null,
      "grid_auto_flow": null,
      "grid_auto_rows": null,
      "grid_column": null,
      "grid_gap": null,
      "grid_row": null,
      "grid_template_areas": null,
      "grid_template_columns": null,
      "grid_template_rows": null,
      "height": null,
      "justify_content": null,
      "justify_items": null,
      "left": null,
      "margin": null,
      "max_height": null,
      "max_width": null,
      "min_height": null,
      "min_width": null,
      "object_fit": null,
      "object_position": null,
      "order": null,
      "overflow": null,
      "overflow_x": null,
      "overflow_y": null,
      "padding": null,
      "right": null,
      "top": null,
      "visibility": null,
      "width": null
     }
    },
    "bdbccbfcf51040c8958383c70c33257c": {
     "model_module": "@jupyter-widgets/controls",
     "model_name": "HTMLModel",
     "state": {
      "_dom_classes": [],
      "_model_module": "@jupyter-widgets/controls",
      "_model_module_version": "1.5.0",
      "_model_name": "HTMLModel",
      "_view_count": null,
      "_view_module": "@jupyter-widgets/controls",
      "_view_module_version": "1.5.0",
      "_view_name": "HTMLView",
      "description": "",
      "description_tooltip": null,
      "layout": "IPY_MODEL_8b799068a99e4b768b2440c2ebac25b3",
      "placeholder": "​",
      "style": "IPY_MODEL_e35e28b3f6164b5ab143631d4945f1f7",
      "value": " 30745/30745 [00:01&lt;00:00, 30684.21it/s]"
     }
    },
    "c56456fb234a416cade4722c674b123e": {
     "model_module": "@jupyter-widgets/base",
     "model_name": "LayoutModel",
     "state": {
      "_model_module": "@jupyter-widgets/base",
      "_model_module_version": "1.2.0",
      "_model_name": "LayoutModel",
      "_view_count": null,
      "_view_module": "@jupyter-widgets/base",
      "_view_module_version": "1.2.0",
      "_view_name": "LayoutView",
      "align_content": null,
      "align_items": null,
      "align_self": null,
      "border": null,
      "bottom": null,
      "display": null,
      "flex": null,
      "flex_flow": null,
      "grid_area": null,
      "grid_auto_columns": null,
      "grid_auto_flow": null,
      "grid_auto_rows": null,
      "grid_column": null,
      "grid_gap": null,
      "grid_row": null,
      "grid_template_areas": null,
      "grid_template_columns": null,
      "grid_template_rows": null,
      "height": null,
      "justify_content": null,
      "justify_items": null,
      "left": null,
      "margin": null,
      "max_height": null,
      "max_width": null,
      "min_height": null,
      "min_width": null,
      "object_fit": null,
      "object_position": null,
      "order": null,
      "overflow": null,
      "overflow_x": null,
      "overflow_y": null,
      "padding": null,
      "right": null,
      "top": null,
      "visibility": null,
      "width": null
     }
    },
    "cca1ed1dc5e747e381558f624b876f11": {
     "model_module": "@jupyter-widgets/base",
     "model_name": "LayoutModel",
     "state": {
      "_model_module": "@jupyter-widgets/base",
      "_model_module_version": "1.2.0",
      "_model_name": "LayoutModel",
      "_view_count": null,
      "_view_module": "@jupyter-widgets/base",
      "_view_module_version": "1.2.0",
      "_view_name": "LayoutView",
      "align_content": null,
      "align_items": null,
      "align_self": null,
      "border": null,
      "bottom": null,
      "display": null,
      "flex": null,
      "flex_flow": null,
      "grid_area": null,
      "grid_auto_columns": null,
      "grid_auto_flow": null,
      "grid_auto_rows": null,
      "grid_column": null,
      "grid_gap": null,
      "grid_row": null,
      "grid_template_areas": null,
      "grid_template_columns": null,
      "grid_template_rows": null,
      "height": null,
      "justify_content": null,
      "justify_items": null,
      "left": null,
      "margin": null,
      "max_height": null,
      "max_width": null,
      "min_height": null,
      "min_width": null,
      "object_fit": null,
      "object_position": null,
      "order": null,
      "overflow": null,
      "overflow_x": null,
      "overflow_y": null,
      "padding": null,
      "right": null,
      "top": null,
      "visibility": null,
      "width": null
     }
    },
    "cfc99bb94fbf4c9e9b8dd79b003b91ec": {
     "model_module": "@jupyter-widgets/controls",
     "model_name": "FloatProgressModel",
     "state": {
      "_dom_classes": [],
      "_model_module": "@jupyter-widgets/controls",
      "_model_module_version": "1.5.0",
      "_model_name": "FloatProgressModel",
      "_view_count": null,
      "_view_module": "@jupyter-widgets/controls",
      "_view_module_version": "1.5.0",
      "_view_name": "ProgressView",
      "bar_style": "danger",
      "description": "  2%",
      "description_tooltip": null,
      "layout": "IPY_MODEL_217cecb877c746ef85110ddbdbc10798",
      "max": 460,
      "min": 0,
      "orientation": "horizontal",
      "style": "IPY_MODEL_29bebc793c6d4695b9cf7ff0e364afb8",
      "value": 9
     }
    },
    "db800d84e9df47a7b7fb7bd6ed7388f2": {
     "model_module": "@jupyter-widgets/controls",
     "model_name": "DescriptionStyleModel",
     "state": {
      "_model_module": "@jupyter-widgets/controls",
      "_model_module_version": "1.5.0",
      "_model_name": "DescriptionStyleModel",
      "_view_count": null,
      "_view_module": "@jupyter-widgets/base",
      "_view_module_version": "1.2.0",
      "_view_name": "StyleView",
      "description_width": ""
     }
    },
    "dd3658a2003647e2ac52d1106eac6fc4": {
     "model_module": "@jupyter-widgets/controls",
     "model_name": "HBoxModel",
     "state": {
      "_dom_classes": [],
      "_model_module": "@jupyter-widgets/controls",
      "_model_module_version": "1.5.0",
      "_model_name": "HBoxModel",
      "_view_count": null,
      "_view_module": "@jupyter-widgets/controls",
      "_view_module_version": "1.5.0",
      "_view_name": "HBoxView",
      "box_style": "",
      "children": [
       "IPY_MODEL_cfc99bb94fbf4c9e9b8dd79b003b91ec",
       "IPY_MODEL_0a7dc4a6dd9942c4b72e7984c6f95ed6"
      ],
      "layout": "IPY_MODEL_c56456fb234a416cade4722c674b123e"
     }
    },
    "e35e28b3f6164b5ab143631d4945f1f7": {
     "model_module": "@jupyter-widgets/controls",
     "model_name": "DescriptionStyleModel",
     "state": {
      "_model_module": "@jupyter-widgets/controls",
      "_model_module_version": "1.5.0",
      "_model_name": "DescriptionStyleModel",
      "_view_count": null,
      "_view_module": "@jupyter-widgets/base",
      "_view_module_version": "1.2.0",
      "_view_name": "StyleView",
      "description_width": ""
     }
    }
   }
  }
 },
 "nbformat": 4,
 "nbformat_minor": 4
}

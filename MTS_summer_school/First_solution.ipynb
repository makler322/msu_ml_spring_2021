{
  "nbformat": 4,
  "nbformat_minor": 5,
  "metadata": {
    "colab": {
      "name": "simple_baseline.ipynb",
      "provenance": []
    },
    "language_info": {
      "name": "python"
    },
    "kernelspec": {
      "name": "python3",
      "display_name": "Python 3"
    }
  },
  "cells": [
    {
      "cell_type": "code",
      "metadata": {
        "colab": {
          "base_uri": "https://localhost:8080/"
        },
        "id": "9ihau_RwW1LX",
        "outputId": "dbfd788a-d82c-4cf3-c10f-665e74e1b542"
      },
      "source": [
        "from google.colab import drive\n",
        "drive.mount('/content/drive')"
      ],
      "id": "9ihau_RwW1LX",
      "execution_count": 3,
      "outputs": [
        {
          "output_type": "stream",
          "text": [
            "Mounted at /content/drive\n"
          ],
          "name": "stdout"
        }
      ]
    },
    {
      "cell_type": "code",
      "metadata": {
        "id": "_lCVgE8tWzb4"
      },
      "source": [
        "import pandas as pd\n",
        "import matplotlib.pyplot as plt\n",
        "import numpy as np\n",
        "plt.style.use('ggplot')\n",
        "from tqdm import tqdm\n",
        "from sklearn.model_selection import train_test_split\n",
        "from sklearn.preprocessing  import LabelEncoder\n",
        "from sklearn.feature_extraction.text import TfidfVectorizer,CountVectorizer\n",
        "from sklearn.linear_model import SGDClassifier\n",
        "from sklearn.pipeline import Pipeline\n",
        "from sklearn.metrics import balanced_accuracy_score, accuracy_score\n",
        "from collections import Counter\n",
        "import re\n",
        "import nltk\n",
        "#import pymorphy2\n",
        "from ast import literal_eval\n",
        "import gensim"
      ],
      "id": "_lCVgE8tWzb4",
      "execution_count": 4,
      "outputs": []
    },
    {
      "cell_type": "markdown",
      "metadata": {
        "id": "wbPEhsH0Yy4L"
      },
      "source": [
        "## Давайте посмотрим на наши данные\n"
      ],
      "id": "wbPEhsH0Yy4L"
    },
    {
      "cell_type": "code",
      "metadata": {
        "colab": {
          "base_uri": "https://localhost:8080/",
          "height": 206
        },
        "id": "bPl6z5qvWzgy",
        "outputId": "b7d76646-268f-4da5-c772-8ebe26f9008b"
      },
      "source": [
        "users = pd.read_csv(\"/content/drive/MyDrive/MTS_summer_school/users.csv\")\n",
        "users.head()"
      ],
      "id": "bPl6z5qvWzgy",
      "execution_count": 5,
      "outputs": [
        {
          "output_type": "execute_result",
          "data": {
            "text/html": [
              "<div>\n",
              "<style scoped>\n",
              "    .dataframe tbody tr th:only-of-type {\n",
              "        vertical-align: middle;\n",
              "    }\n",
              "\n",
              "    .dataframe tbody tr th {\n",
              "        vertical-align: top;\n",
              "    }\n",
              "\n",
              "    .dataframe thead th {\n",
              "        text-align: right;\n",
              "    }\n",
              "</style>\n",
              "<table border=\"1\" class=\"dataframe\">\n",
              "  <thead>\n",
              "    <tr style=\"text-align: right;\">\n",
              "      <th></th>\n",
              "      <th>user_id</th>\n",
              "      <th>age</th>\n",
              "      <th>sex</th>\n",
              "    </tr>\n",
              "  </thead>\n",
              "  <tbody>\n",
              "    <tr>\n",
              "      <th>0</th>\n",
              "      <td>0</td>\n",
              "      <td>45_54</td>\n",
              "      <td>1.0</td>\n",
              "    </tr>\n",
              "    <tr>\n",
              "      <th>1</th>\n",
              "      <td>1</td>\n",
              "      <td>25_34</td>\n",
              "      <td>0.0</td>\n",
              "    </tr>\n",
              "    <tr>\n",
              "      <th>2</th>\n",
              "      <td>2</td>\n",
              "      <td>45_54</td>\n",
              "      <td>0.0</td>\n",
              "    </tr>\n",
              "    <tr>\n",
              "      <th>3</th>\n",
              "      <td>3</td>\n",
              "      <td>65_inf</td>\n",
              "      <td>0.0</td>\n",
              "    </tr>\n",
              "    <tr>\n",
              "      <th>4</th>\n",
              "      <td>4</td>\n",
              "      <td>18_24</td>\n",
              "      <td>0.0</td>\n",
              "    </tr>\n",
              "  </tbody>\n",
              "</table>\n",
              "</div>"
            ],
            "text/plain": [
              "   user_id     age  sex\n",
              "0        0   45_54  1.0\n",
              "1        1   25_34  0.0\n",
              "2        2   45_54  0.0\n",
              "3        3  65_inf  0.0\n",
              "4        4   18_24  0.0"
            ]
          },
          "metadata": {
            "tags": []
          },
          "execution_count": 5
        }
      ]
    },
    {
      "cell_type": "code",
      "metadata": {
        "colab": {
          "base_uri": "https://localhost:8080/",
          "height": 206
        },
        "id": "A2KgkXbuWzjZ",
        "outputId": "81d201e9-14a8-471c-e54f-e19498d5a553"
      },
      "source": [
        "items = pd.read_csv(\"/content/drive/MyDrive/MTS_summer_school/items.csv\")\n",
        "items.head()"
      ],
      "id": "A2KgkXbuWzjZ",
      "execution_count": 6,
      "outputs": [
        {
          "output_type": "execute_result",
          "data": {
            "text/html": [
              "<div>\n",
              "<style scoped>\n",
              "    .dataframe tbody tr th:only-of-type {\n",
              "        vertical-align: middle;\n",
              "    }\n",
              "\n",
              "    .dataframe tbody tr th {\n",
              "        vertical-align: top;\n",
              "    }\n",
              "\n",
              "    .dataframe thead th {\n",
              "        text-align: right;\n",
              "    }\n",
              "</style>\n",
              "<table border=\"1\" class=\"dataframe\">\n",
              "  <thead>\n",
              "    <tr style=\"text-align: right;\">\n",
              "      <th></th>\n",
              "      <th>id</th>\n",
              "      <th>title</th>\n",
              "      <th>genres</th>\n",
              "      <th>authors</th>\n",
              "      <th>year</th>\n",
              "    </tr>\n",
              "  </thead>\n",
              "  <tbody>\n",
              "    <tr>\n",
              "      <th>0</th>\n",
              "      <td>248031</td>\n",
              "      <td>Ворон-челобитчик</td>\n",
              "      <td>Зарубежные детские книги,Сказки,Зарубежная кла...</td>\n",
              "      <td>Михаил Салтыков-Щедрин</td>\n",
              "      <td>1886</td>\n",
              "    </tr>\n",
              "    <tr>\n",
              "      <th>1</th>\n",
              "      <td>256084</td>\n",
              "      <td>Скрипка Ротшильда</td>\n",
              "      <td>Классическая проза,Литература 19 века,Русская ...</td>\n",
              "      <td>Антон Чехов</td>\n",
              "      <td>1894</td>\n",
              "    </tr>\n",
              "    <tr>\n",
              "      <th>2</th>\n",
              "      <td>134166</td>\n",
              "      <td>Испорченные дети</td>\n",
              "      <td>Зарубежная классика,Классическая проза,Литерат...</td>\n",
              "      <td>Михаил Салтыков-Щедрин</td>\n",
              "      <td>1869</td>\n",
              "    </tr>\n",
              "    <tr>\n",
              "      <th>3</th>\n",
              "      <td>281311</td>\n",
              "      <td>Странный человек</td>\n",
              "      <td>Пьесы и драматургия,Литература 19 века</td>\n",
              "      <td>Михаил Лермонтов</td>\n",
              "      <td>1831</td>\n",
              "    </tr>\n",
              "    <tr>\n",
              "      <th>4</th>\n",
              "      <td>213473</td>\n",
              "      <td>Господа ташкентцы</td>\n",
              "      <td>Зарубежная классика,Классическая проза,Литерат...</td>\n",
              "      <td>Михаил Салтыков-Щедрин</td>\n",
              "      <td>1873</td>\n",
              "    </tr>\n",
              "  </tbody>\n",
              "</table>\n",
              "</div>"
            ],
            "text/plain": [
              "       id              title  ...                 authors  year\n",
              "0  248031   Ворон-челобитчик  ...  Михаил Салтыков-Щедрин  1886\n",
              "1  256084  Скрипка Ротшильда  ...             Антон Чехов  1894\n",
              "2  134166   Испорченные дети  ...  Михаил Салтыков-Щедрин  1869\n",
              "3  281311   Странный человек  ...        Михаил Лермонтов  1831\n",
              "4  213473  Господа ташкентцы  ...  Михаил Салтыков-Щедрин  1873\n",
              "\n",
              "[5 rows x 5 columns]"
            ]
          },
          "metadata": {
            "tags": []
          },
          "execution_count": 6
        }
      ]
    },
    {
      "cell_type": "code",
      "metadata": {
        "colab": {
          "base_uri": "https://localhost:8080/",
          "height": 206
        },
        "id": "xVy7ZPQ4WzmU",
        "outputId": "370354f3-d130-4cae-8596-b8cc0bb01ea4"
      },
      "source": [
        "interactions = pd.read_csv(\"/content/drive/MyDrive/MTS_summer_school/interactions.csv\")\n",
        "interactions.head()"
      ],
      "id": "xVy7ZPQ4WzmU",
      "execution_count": 7,
      "outputs": [
        {
          "output_type": "execute_result",
          "data": {
            "text/html": [
              "<div>\n",
              "<style scoped>\n",
              "    .dataframe tbody tr th:only-of-type {\n",
              "        vertical-align: middle;\n",
              "    }\n",
              "\n",
              "    .dataframe tbody tr th {\n",
              "        vertical-align: top;\n",
              "    }\n",
              "\n",
              "    .dataframe thead th {\n",
              "        text-align: right;\n",
              "    }\n",
              "</style>\n",
              "<table border=\"1\" class=\"dataframe\">\n",
              "  <thead>\n",
              "    <tr style=\"text-align: right;\">\n",
              "      <th></th>\n",
              "      <th>user_id</th>\n",
              "      <th>item_id</th>\n",
              "      <th>progress</th>\n",
              "      <th>rating</th>\n",
              "      <th>start_date</th>\n",
              "    </tr>\n",
              "  </thead>\n",
              "  <tbody>\n",
              "    <tr>\n",
              "      <th>0</th>\n",
              "      <td>90133</td>\n",
              "      <td>82910</td>\n",
              "      <td>100</td>\n",
              "      <td>NaN</td>\n",
              "      <td>2018-01-01</td>\n",
              "    </tr>\n",
              "    <tr>\n",
              "      <th>1</th>\n",
              "      <td>159130</td>\n",
              "      <td>331068</td>\n",
              "      <td>70</td>\n",
              "      <td>NaN</td>\n",
              "      <td>2018-01-01</td>\n",
              "    </tr>\n",
              "    <tr>\n",
              "      <th>2</th>\n",
              "      <td>80061</td>\n",
              "      <td>26540</td>\n",
              "      <td>69</td>\n",
              "      <td>4.0</td>\n",
              "      <td>2018-01-01</td>\n",
              "    </tr>\n",
              "    <tr>\n",
              "      <th>3</th>\n",
              "      <td>12811</td>\n",
              "      <td>301895</td>\n",
              "      <td>16</td>\n",
              "      <td>NaN</td>\n",
              "      <td>2018-01-01</td>\n",
              "    </tr>\n",
              "    <tr>\n",
              "      <th>4</th>\n",
              "      <td>5778</td>\n",
              "      <td>127872</td>\n",
              "      <td>100</td>\n",
              "      <td>NaN</td>\n",
              "      <td>2018-01-01</td>\n",
              "    </tr>\n",
              "  </tbody>\n",
              "</table>\n",
              "</div>"
            ],
            "text/plain": [
              "   user_id  item_id  progress  rating  start_date\n",
              "0    90133    82910       100     NaN  2018-01-01\n",
              "1   159130   331068        70     NaN  2018-01-01\n",
              "2    80061    26540        69     4.0  2018-01-01\n",
              "3    12811   301895        16     NaN  2018-01-01\n",
              "4     5778   127872       100     NaN  2018-01-01"
            ]
          },
          "metadata": {
            "tags": []
          },
          "execution_count": 7
        }
      ]
    },
    {
      "cell_type": "markdown",
      "metadata": {
        "id": "DF_eo8rjfJce"
      },
      "source": [
        "### Замечаем два лютых выброса. Оно и логично, конечно, но скорее всего их придётся выбросить или крутить для них коэффициенты. \n"
      ],
      "id": "DF_eo8rjfJce"
    },
    {
      "cell_type": "code",
      "metadata": {
        "colab": {
          "base_uri": "https://localhost:8080/",
          "height": 265
        },
        "id": "D567js5AWzpH",
        "outputId": "68487858-da22-44ad-b885-2aede16e6995"
      },
      "source": [
        "interactions.progress.hist(bins=200);"
      ],
      "id": "D567js5AWzpH",
      "execution_count": 8,
      "outputs": [
        {
          "output_type": "display_data",
          "data": {
            "image/png": "[encoded data removed]",
            "text/plain": [
              "<Figure size 432x288 with 1 Axes>"
            ]
          },
          "metadata": {
            "tags": []
          }
        }
      ]
    },
    {
      "cell_type": "code",
      "metadata": {
        "id": "vJu6PYrRdwsN"
      },
      "source": [
        ""
      ],
      "id": "vJu6PYrRdwsN",
      "execution_count": 8,
      "outputs": []
    },
    {
      "cell_type": "markdown",
      "metadata": {
        "id": "fiw8b-mtdzGn"
      },
      "source": [
        "## Холодный старт"
      ],
      "id": "fiw8b-mtdzGn"
    },
    {
      "cell_type": "markdown",
      "metadata": {
        "id": "e_pCGGB-d34C"
      },
      "source": [
        "### В первую очередь поймём, что в рекомендательных системах есть проблема холодного старта. Что если пользователь новый? Что же ему посоветовать?\n"
      ],
      "id": "e_pCGGB-d34C"
    },
    {
      "cell_type": "markdown",
      "metadata": {
        "id": "nFc_PbToeLeN"
      },
      "source": [
        "### Моя идея - для каждого типа людей выводить свой топ. Например, если ты девушка 27 лет, то тебе рекомендовать топовые книги среди девушек от 25 до 34.\n",
        "### Nan по sex или age будем рассматривать как отдельный класс, то есть как третий пол :)\n"
      ],
      "id": "nFc_PbToeLeN"
    },
    {
      "cell_type": "code",
      "metadata": {
        "id": "scyoH8clWzr4"
      },
      "source": [
        "class Top():\n",
        "    def __init__(self, users, interactions, items):\n",
        "        # my_big_array = []\n",
        "        self.my_big_dict = {}\n",
        "        self.my_big_rating_dict = {}\n",
        "        self.my_final_rating_dict = {}\n",
        "        self.max_len = 0\n",
        "        self.answer = {}\n",
        "        self.my_big_users_dict = {}\n",
        "\n",
        "        for i in users[[\"user_id\", \"age\", \"sex\"]].values:\n",
        "            self.my_big_users_dict[i[0]] = str(i[1]) + str(i[2])\n",
        "            self.my_big_rating_dict[str(i[1]) + str(i[2])] = {}\n",
        "            \n",
        "        #GG = 5000\n",
        "        for i in tqdm(interactions[[\"user_id\", \"item_id\", \"progress\", \"rating\"]].values):  # Прекрасно понимаю, что не супер оптимальный алгоритм, но исправлю как-нибудь потом :) \n",
        "            '''\n",
        "            GG -= 1\n",
        "            if GG == 0:\n",
        "                break\n",
        "            '''\n",
        "            self.max_len += 1\n",
        "            #self.my_big_users_dict[i[0]]\n",
        "            if i[0] in self.my_big_users_dict:\n",
        "                my_current_agesex = self.my_big_users_dict[i[0]]\n",
        "                if i[1] in self.my_big_rating_dict[my_current_agesex]:\n",
        "                    if str(i[3]) != \"nan\" and str(i[2]) != \"nan\":\n",
        "                        self.my_big_rating_dict[my_current_agesex][i[1]].append(int(i[2]) * int(i[3]))\n",
        "                    elif str(i[2]) != \"nan\":\n",
        "                        self.my_big_rating_dict[my_current_agesex][i[1]].append(int(i[2]) * 3.5)\n",
        "                else:\n",
        "                    if str(i[3]) != \"nan\" and str(i[2]) != \"nan\":\n",
        "                        self.my_big_rating_dict[my_current_agesex][i[1]] = [int(i[2]) * int(i[3])]\n",
        "                    elif str(i[2]) != \"nan\":\n",
        "                        self.my_big_rating_dict[my_current_agesex][i[1]] = [int(i[2]) * 3.5]\n",
        "                \n",
        "        #print(self.my_big_rating_dict)\n",
        "        for i in self.my_big_rating_dict.items():\n",
        "            self.my_final_rating_dict[i[0]] = {}\n",
        "            for j in i[1]:\n",
        "                # print(i, j)\n",
        "                self.my_final_rating_dict[i[0]][j] = (sum(self.my_big_rating_dict[i[0]][j]) / self.max_len) # (sum(self.my_big_rating_dict[i][j]) / len(self.my_big_rating_dict[i][j])) * (len(self.my_big_rating_dict[i][j]) / self.max_len)\n",
        "            #print(self.my_final_rating_dict[i[0]].items())\n",
        "            d = sorted(self.my_final_rating_dict[i[0]].items(), key=lambda x: x[1], reverse=True)\n",
        "            #print(d)\n",
        "            k = 0\n",
        "            for j in d:\n",
        "                if k == 0:\n",
        "                    self.answer[i[0]] = [int(j[0])]\n",
        "                else:\n",
        "                    self.answer[i[0]].append(int(j[0]))\n",
        "                k += 1\n",
        "                if k == 10:\n",
        "                    break\n",
        "        # print(self.answer)\n",
        "    def give_me_some_info(self, id):\n",
        "        if id not in self.my_big_users_dict:\n",
        "            return self.my_big_users_dict[0]\n",
        "        else:\n",
        "            return self.my_big_users_dict[id]\n",
        "\n",
        "    def top_books(self, some_info):\n",
        "        return self.answer[some_info]\n",
        "        "
      ],
      "id": "scyoH8clWzr4",
      "execution_count": 78,
      "outputs": []
    },
    {
      "cell_type": "code",
      "metadata": {
        "colab": {
          "base_uri": "https://localhost:8080/"
        },
        "id": "pnkOvWcFuq4P",
        "outputId": "e8e85a94-178a-4c47-e754-febbfc1f7fea"
      },
      "source": [
        "T = Top(users, interactions, items)\n"
      ],
      "id": "pnkOvWcFuq4P",
      "execution_count": 79,
      "outputs": [
        {
          "output_type": "stream",
          "text": [
            "100%|██████████| 1562617/1562617 [00:09<00:00, 165426.17it/s]\n"
          ],
          "name": "stderr"
        }
      ]
    },
    {
      "cell_type": "code",
      "metadata": {
        "id": "XqLmhZ9nuq6v"
      },
      "source": [
        ""
      ],
      "id": "XqLmhZ9nuq6v",
      "execution_count": 79,
      "outputs": []
    },
    {
      "cell_type": "markdown",
      "metadata": {
        "id": "Yb0TCL7mpZY6"
      },
      "source": [
        "## Создаём табличку для отправки на Kaggle"
      ],
      "id": "Yb0TCL7mpZY6"
    },
    {
      "cell_type": "code",
      "metadata": {
        "id": "YwrdPGG3uq9l"
      },
      "source": [
        "Result_table = pd.read_csv(\"/content/drive/MyDrive/MTS_summer_school/sample_submission.csv\")"
      ],
      "id": "YwrdPGG3uq9l",
      "execution_count": 80,
      "outputs": []
    },
    {
      "cell_type": "code",
      "metadata": {
        "colab": {
          "base_uri": "https://localhost:8080/"
        },
        "id": "8mvzDT64urGR",
        "outputId": "91dc77f9-faa1-4d9d-ff92-3e4161757cc3"
      },
      "source": [
        "\n",
        "\n",
        "result = []\n",
        "for i in Result_table[['Id']].values:\n",
        "    if i != 'Id':\n",
        "        result.append(' '.join(map(str, T.top_books(T.give_me_some_info(int(i))))))\n",
        "#print(result)\n",
        "ser = pd.Series(result)\n",
        "#print(ser)\n",
        "Result_table['Predicted'] = ser\n",
        "Result_table[[\"Id\", \"Predicted\"]].to_csv(\"FINAL.csv\", index=False)"
      ],
      "id": "8mvzDT64urGR",
      "execution_count": 90,
      "outputs": [
        {
          "output_type": "stream",
          "text": [
            "/usr/local/lib/python3.7/dist-packages/ipykernel_launcher.py:5: FutureWarning: elementwise comparison failed; returning scalar instead, but in the future will perform elementwise comparison\n",
            "  \"\"\"\n"
          ],
          "name": "stderr"
        }
      ]
    },
    {
      "cell_type": "code",
      "metadata": {
        "id": "8Eo3D5b6qwJO"
      },
      "source": [
        ""
      ],
      "id": "8Eo3D5b6qwJO",
      "execution_count": 90,
      "outputs": []
    }
  ]
}
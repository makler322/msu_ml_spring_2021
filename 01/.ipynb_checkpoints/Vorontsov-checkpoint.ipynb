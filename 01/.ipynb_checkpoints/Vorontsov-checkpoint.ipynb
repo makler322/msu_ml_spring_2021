{
  "nbformat": 4,
  "nbformat_minor": 0,
  "metadata": {
    "kernelspec": {
      "display_name": "Python [anaconda]",
      "language": "python",
      "name": "Python [anaconda]"
    },
    "language_info": {
      "codemirror_mode": {
        "name": "ipython",
        "version": 3
      },
      "file_extension": ".py",
      "mimetype": "text/x-python",
      "name": "python",
      "nbconvert_exporter": "python",
      "pygments_lexer": "ipython3",
      "version": "3.5.4"
    },
    "colab": {
      "name": "hw1.ipynb",
      "provenance": [],
      "collapsed_sections": []
    }
  },
  "cells": [
    {
      "cell_type": "markdown",
      "metadata": {
        "id": "EP3E3z0t8p9t"
      },
      "source": [
        "**Общая информация**\n",
        "\n",
        "**Срок сдачи:** 29 марта 2021, 08:30 \n",
        "\n",
        "**Штраф за опоздание:** по 1 баллу за 24 часа задержки. Через 5 дней домашнее задание сгорает.\n",
        "\n",
        "При отправлении ДЗ указывайте фамилию в названии файла\n",
        "Присылать ДЗ необходимо в виде ссылки на свой github репозиторий на почту ml1.sphere@mail.ru с указанием темы в следующем формате:\n",
        "\n",
        "[ML0220, Задание 1] Фамилия Имя.\n",
        "\n",
        "Используйте данный Ipython Notebook при оформлении домашнего задания."
      ]
    },
    {
      "cell_type": "markdown",
      "metadata": {
        "id": "BQkkpfTE8p90"
      },
      "source": [
        "\n",
        "**Штрафные баллы:**\n",
        "\n",
        "1. Отсутствие фамилии в имени скрипта (скрипт должен называться по аналогии со stroykova_hw1.ipynb) -0.5 баллов\n",
        "2. Все строчки должны быть выполнены. Нужно, чтобы output команды можно было увидеть уже в git'е. В противном случае -0.5 баллов\n"
      ]
    },
    {
      "cell_type": "code",
      "metadata": {
        "collapsed": true,
        "id": "D2Bo4p468p91"
      },
      "source": [
        "import numpy as np\n",
        "import matplotlib.pyplot as plt\n",
        "\n",
        "\n",
        "import seaborn as sns\n",
        "from sklearn import datasets\n",
        "from sklearn.base import BaseEstimator\n",
        "#!pip install sklearn.datasets.fetch_mldata\n",
        "from sklearn.utils.validation import check_X_y, check_array, check_is_fitted\n",
        "from sklearn.utils.multiclass import unique_labels\n",
        "from sklearn.metrics import euclidean_distances\n",
        "from sklearn.neighbors import KDTree\n",
        "from sklearn.datasets import fetch_openml, fetch_20newsgroups\n",
        "\n",
        "from sklearn.model_selection import train_test_split\n",
        "from sklearn.neighbors import KNeighborsClassifier\n",
        "from sklearn.metrics import accuracy_score\n",
        "from sklearn.metrics.pairwise import cosine_similarity\n",
        "\n",
        "import operator"
      ],
      "execution_count": 1,
      "outputs": []
    },
    {
      "cell_type": "markdown",
      "metadata": {
        "id": "ocPgo2oQ8p92"
      },
      "source": [
        "##### Задание 1 (1 балл)\n",
        "Реализовать KNN в классе MyKNeighborsClassifier (обязательное условие: точность не ниже sklearn реализации)\n",
        "Разберитесь самостоятельно, какая мера расстояния используется в KNeighborsClassifier дефолтно и реализуйте свой алгоритм именно с этой мерой. \n",
        "Для подсчета расстояний можно использовать функции [отсюда](https://docs.scipy.org/doc/scipy/reference/spatial.distance.html)"
      ]
    },
    {
      "cell_type": "code",
      "metadata": {
        "collapsed": true,
        "id": "wi3ZrdE18p93"
      },
      "source": [
        "class MyKNeighborsClassifier(BaseEstimator):\n",
        "    \n",
        "    def __init__(self, n_neighbors = 2, algorithm=\"brute\", metric = \"euclidean\"):\n",
        "        self.metric = metric\n",
        "        self.n_neighbors = n_neighbors\n",
        "        self.algorithm_bool = False\n",
        "        self.algorithm = algorithm\n",
        "        self.my_X = []\n",
        "        self.my_Y = []\n",
        "\n",
        "        if algorithm == \"kd_tree\":\n",
        "            self.algorithm_bool = True\n",
        "\n",
        "    def fit(self, X, y):\n",
        "        #X, y = check_X_y(X, y)\n",
        "        self.my_X = X\n",
        "        self.my_Y = y\n",
        "\n",
        "    \n",
        "    def predict(self, X):\n",
        "        #check_is_fitted(self)\n",
        "        X = check_array(X)\n",
        "\n",
        "        if self.algorithm_bool:\n",
        "            kdt = KDTree(self.my_X, metric=\"euclidean\")\n",
        "            B, A = kdt.query(X, self.n_neighbors)\n",
        "\n",
        "        elif self.metric == \"euclidean\":\n",
        "            A = np.argsort(euclidean_distances(X, self.my_X), axis=1)[:,:self.n_neighbors]\n",
        "            B = np.sort(euclidean_distances(X, self.my_X), axis=1)[:,:self.n_neighbors]\n",
        "        else:\n",
        "            A = np.argsort(1-cosine_similarity(X, self.my_X), axis=1)[:,:self.n_neighbors]\n",
        "            B = np.sort(1-cosine_similarity(X, self.my_X), axis=1)[:,:self.n_neighbors]\n",
        "\n",
        "        C = []\n",
        "        for j in range(A.shape[0]):\n",
        "            D = {}\n",
        "            for i in range(self.n_neighbors):\n",
        "                if A[j, i] in D:\n",
        "                    D[A[j, i]] += B[j, i]\n",
        "                else:\n",
        "                    D[A[j, i]] = B[j, i]\n",
        "            C.append(max(D.items(), key=operator.itemgetter(1))[0])\n",
        "\n",
        "        return self.my_Y[C]\n",
        "    "
      ],
      "execution_count": 2,
      "outputs": []
    },
    {
      "cell_type": "markdown",
      "metadata": {
        "id": "JnIBQeRW8p93"
      },
      "source": [
        "**IRIS**\n",
        "\n",
        "В библиотеке scikit-learn есть несколько датасетов из коробки. Один из них [Ирисы Фишера](https://ru.wikipedia.org/wiki/%D0%98%D1%80%D0%B8%D1%81%D1%8B_%D0%A4%D0%B8%D1%88%D0%B5%D1%80%D0%B0)"
      ]
    },
    {
      "cell_type": "code",
      "metadata": {
        "collapsed": true,
        "id": "7V_vFIDe8p93"
      },
      "source": [
        "iris = datasets.load_iris()"
      ],
      "execution_count": 3,
      "outputs": []
    },
    {
      "cell_type": "code",
      "metadata": {
        "collapsed": true,
        "id": "z2haU1WB8p94"
      },
      "source": [
        "X_train, X_test, y_train, y_test = train_test_split(iris.data, iris.target, test_size=0.25, stratify=iris.target)"
      ],
      "execution_count": 4,
      "outputs": []
    },
    {
      "cell_type": "code",
      "metadata": {
        "collapsed": true,
        "id": "wDfAhzXk8p95"
      },
      "source": [
        "clf = KNeighborsClassifier(n_neighbors=2, algorithm='brute')\n",
        "my_clf = MyKNeighborsClassifier()"
      ],
      "execution_count": 5,
      "outputs": []
    },
    {
      "cell_type": "code",
      "metadata": {
        "collapsed": true,
        "id": "jCeRpV6R8p95"
      },
      "source": [
        "clf.fit(X_train, y_train)\n",
        "my_clf.fit(X_train, y_train)"
      ],
      "execution_count": 6,
      "outputs": []
    },
    {
      "cell_type": "code",
      "metadata": {
        "collapsed": true,
        "colab": {
          "base_uri": "https://localhost:8080/"
        },
        "id": "PLHKu8ZA8p95",
        "outputId": "80aba717-e720-47bf-8d1f-aec8b59541fc"
      },
      "source": [
        "sklearn_pred = clf.predict(X_test)\n",
        "my_clf_pred = my_clf.predict(X_test)\n",
        "print(accuracy_score(y_test, my_clf_pred), accuracy_score(y_test, sklearn_pred))\n",
        "assert abs( accuracy_score(y_test, my_clf_pred) -  accuracy_score(y_test, sklearn_pred ) )<0.05, \"Score must be simillar\""
      ],
      "execution_count": 7,
      "outputs": [
        {
          "output_type": "stream",
          "text": [
            "0.9736842105263158 0.9736842105263158\n"
          ],
          "name": "stdout"
        }
      ]
    },
    {
      "cell_type": "markdown",
      "metadata": {
        "id": "G6sXJOA38p97"
      },
      "source": [
        "**Задание 2 (0.5 балла)**\n",
        "\n",
        "Давайте попробуем добиться скорости работы на fit, predict сравнимой со sklearn для iris. Допускается замедление не более чем в 2 раза. \n",
        "Для этого используем numpy. "
      ]
    },
    {
      "cell_type": "code",
      "metadata": {
        "collapsed": true,
        "colab": {
          "base_uri": "https://localhost:8080/"
        },
        "id": "zknKvIPG8p97",
        "outputId": "a95e7495-3384-43df-9c3d-f761b3c1289e"
      },
      "source": [
        "%time clf.fit(X_train, y_train)"
      ],
      "execution_count": 8,
      "outputs": [
        {
          "output_type": "stream",
          "text": [
            "CPU times: user 398 µs, sys: 111 µs, total: 509 µs\n",
            "Wall time: 536 µs\n"
          ],
          "name": "stdout"
        },
        {
          "output_type": "execute_result",
          "data": {
            "text/plain": [
              "KNeighborsClassifier(algorithm='brute', leaf_size=30, metric='minkowski',\n",
              "                     metric_params=None, n_jobs=None, n_neighbors=2, p=2,\n",
              "                     weights='uniform')"
            ]
          },
          "metadata": {
            "tags": []
          },
          "execution_count": 8
        }
      ]
    },
    {
      "cell_type": "code",
      "metadata": {
        "collapsed": true,
        "colab": {
          "base_uri": "https://localhost:8080/"
        },
        "id": "p6WZsIHm8p98",
        "outputId": "196723da-d144-40af-9790-c8e3c7c1424c"
      },
      "source": [
        "%time my_clf.fit(X_train, y_train)"
      ],
      "execution_count": 9,
      "outputs": [
        {
          "output_type": "stream",
          "text": [
            "CPU times: user 6 µs, sys: 1e+03 ns, total: 7 µs\n",
            "Wall time: 10.5 µs\n"
          ],
          "name": "stdout"
        }
      ]
    },
    {
      "cell_type": "code",
      "metadata": {
        "collapsed": true,
        "colab": {
          "base_uri": "https://localhost:8080/"
        },
        "id": "rJr1UzSh8p98",
        "outputId": "428fdb18-ba30-48b8-d199-50da68674c5e"
      },
      "source": [
        "%time clf.predict(X_test)"
      ],
      "execution_count": 10,
      "outputs": [
        {
          "output_type": "stream",
          "text": [
            "CPU times: user 3.63 ms, sys: 0 ns, total: 3.63 ms\n",
            "Wall time: 4.7 ms\n"
          ],
          "name": "stdout"
        },
        {
          "output_type": "execute_result",
          "data": {
            "text/plain": [
              "array([2, 1, 2, 1, 2, 0, 2, 1, 0, 0, 0, 1, 1, 0, 2, 2, 0, 2, 1, 2, 0, 0,\n",
              "       1, 1, 1, 0, 2, 2, 1, 1, 0, 1, 2, 0, 0, 2, 1, 1])"
            ]
          },
          "metadata": {
            "tags": []
          },
          "execution_count": 10
        }
      ]
    },
    {
      "cell_type": "code",
      "metadata": {
        "collapsed": true,
        "id": "mmwPW7ZI8p98",
        "colab": {
          "base_uri": "https://localhost:8080/"
        },
        "outputId": "921768ab-cd0a-4cc5-de77-5be23e9be10f"
      },
      "source": [
        "%time my_clf.predict(X_test)"
      ],
      "execution_count": 11,
      "outputs": [
        {
          "output_type": "stream",
          "text": [
            "CPU times: user 1.56 ms, sys: 0 ns, total: 1.56 ms\n",
            "Wall time: 1.65 ms\n"
          ],
          "name": "stdout"
        },
        {
          "output_type": "execute_result",
          "data": {
            "text/plain": [
              "array([2, 1, 2, 1, 2, 0, 2, 1, 0, 0, 0, 1, 1, 0, 2, 2, 0, 2, 1, 2, 0, 0,\n",
              "       1, 1, 1, 0, 2, 2, 1, 1, 0, 1, 2, 0, 0, 2, 1, 1])"
            ]
          },
          "metadata": {
            "tags": []
          },
          "execution_count": 11
        }
      ]
    },
    {
      "cell_type": "markdown",
      "metadata": {
        "id": "lmp5WyD18p98"
      },
      "source": [
        "###### Задание 3 (1 балл)\n",
        "Добавьте algorithm='kd_tree' в реализацию KNN (использовать KDTree из sklearn.neighbors). Необходимо добиться скорости работы на fit,  predict сравнимой со sklearn для iris. Допускается замедление не более чем в 2 раза. \n",
        "Для этого используем numpy. Точность не должна уступать значению KNN из sklearn. "
      ]
    },
    {
      "cell_type": "code",
      "metadata": {
        "collapsed": true,
        "id": "hrWMeiyL8p98"
      },
      "source": [
        "clf = KNeighborsClassifier(n_neighbors=2, algorithm='kd_tree')\n",
        "my_clf = MyKNeighborsClassifier(n_neighbors=2, algorithm='kd_tree')"
      ],
      "execution_count": 12,
      "outputs": []
    },
    {
      "cell_type": "code",
      "metadata": {
        "collapsed": true,
        "id": "DaV70ztE8p99"
      },
      "source": [
        "X_train, X_test, y_train, y_test = train_test_split(iris.data, iris.target, test_size=0.1, stratify=iris.target)"
      ],
      "execution_count": 13,
      "outputs": []
    },
    {
      "cell_type": "code",
      "metadata": {
        "collapsed": true,
        "id": "iyapAz6N8p99",
        "colab": {
          "base_uri": "https://localhost:8080/"
        },
        "outputId": "46671a2a-b209-4be6-e7dc-ecb12954c266"
      },
      "source": [
        "%time clf.fit(X_train, y_train)"
      ],
      "execution_count": 14,
      "outputs": [
        {
          "output_type": "stream",
          "text": [
            "CPU times: user 1.33 ms, sys: 0 ns, total: 1.33 ms\n",
            "Wall time: 1.48 ms\n"
          ],
          "name": "stdout"
        },
        {
          "output_type": "execute_result",
          "data": {
            "text/plain": [
              "KNeighborsClassifier(algorithm='kd_tree', leaf_size=30, metric='minkowski',\n",
              "                     metric_params=None, n_jobs=None, n_neighbors=2, p=2,\n",
              "                     weights='uniform')"
            ]
          },
          "metadata": {
            "tags": []
          },
          "execution_count": 14
        }
      ]
    },
    {
      "cell_type": "code",
      "metadata": {
        "collapsed": true,
        "id": "o4CVbFaN8p99",
        "colab": {
          "base_uri": "https://localhost:8080/"
        },
        "outputId": "030a8c02-d56e-4f04-d5ef-c7c113de5463"
      },
      "source": [
        "%time my_clf.fit(X_train, y_train)"
      ],
      "execution_count": 15,
      "outputs": [
        {
          "output_type": "stream",
          "text": [
            "CPU times: user 6 µs, sys: 1e+03 ns, total: 7 µs\n",
            "Wall time: 10.5 µs\n"
          ],
          "name": "stdout"
        }
      ]
    },
    {
      "cell_type": "code",
      "metadata": {
        "collapsed": true,
        "id": "YqlTkyjw8p9-",
        "colab": {
          "base_uri": "https://localhost:8080/"
        },
        "outputId": "ecc8e1af-158b-4727-f792-75c21f5a8200"
      },
      "source": [
        "%time clf.predict(X_test)"
      ],
      "execution_count": 16,
      "outputs": [
        {
          "output_type": "stream",
          "text": [
            "CPU times: user 2.67 ms, sys: 0 ns, total: 2.67 ms\n",
            "Wall time: 3.32 ms\n"
          ],
          "name": "stdout"
        },
        {
          "output_type": "execute_result",
          "data": {
            "text/plain": [
              "array([0, 0, 1, 1, 0, 2, 2, 0, 1, 0, 2, 1, 1, 2, 1])"
            ]
          },
          "metadata": {
            "tags": []
          },
          "execution_count": 16
        }
      ]
    },
    {
      "cell_type": "code",
      "metadata": {
        "collapsed": true,
        "id": "j4g1bg-N8p9-",
        "colab": {
          "base_uri": "https://localhost:8080/"
        },
        "outputId": "45ec3dff-240a-4a2c-9322-5ac7a8e6035b"
      },
      "source": [
        "%time my_clf.predict(X_test)"
      ],
      "execution_count": 17,
      "outputs": [
        {
          "output_type": "stream",
          "text": [
            "CPU times: user 718 µs, sys: 0 ns, total: 718 µs\n",
            "Wall time: 940 µs\n"
          ],
          "name": "stdout"
        },
        {
          "output_type": "execute_result",
          "data": {
            "text/plain": [
              "array([0, 0, 1, 1, 0, 2, 2, 0, 1, 0, 2, 1, 1, 2, 1])"
            ]
          },
          "metadata": {
            "tags": []
          },
          "execution_count": 17
        }
      ]
    },
    {
      "cell_type": "code",
      "metadata": {
        "collapsed": true,
        "id": "-caXSiEg8p9-",
        "colab": {
          "base_uri": "https://localhost:8080/"
        },
        "outputId": "be28e5e2-30f7-4429-fc0f-cb3fe4d0f857"
      },
      "source": [
        "sklearn_pred = clf.predict(X_test)\n",
        "my_clf_pred = my_clf.predict(X_test)\n",
        "print(accuracy_score(y_test, my_clf_pred), accuracy_score(y_test, sklearn_pred))\n",
        "assert abs( accuracy_score(y_test, my_clf_pred) -  accuracy_score(y_test, sklearn_pred ) )<0.005, \"Score must be simillar\""
      ],
      "execution_count": 18,
      "outputs": [
        {
          "output_type": "stream",
          "text": [
            "0.9333333333333333 0.9333333333333333\n"
          ],
          "name": "stdout"
        }
      ]
    },
    {
      "cell_type": "markdown",
      "metadata": {
        "id": "gO5L6o7X8p9-"
      },
      "source": [
        "**Задание 4 (2.5 балла)**\n",
        "\n",
        "Рассмотрим новый датасет 20 newsgroups"
      ]
    },
    {
      "cell_type": "code",
      "metadata": {
        "collapsed": true,
        "id": "RoQ9pIyS8p9-"
      },
      "source": [
        "newsgroups = fetch_20newsgroups(subset='train',remove=['headers','footers', 'quotes'])"
      ],
      "execution_count": 19,
      "outputs": []
    },
    {
      "cell_type": "code",
      "metadata": {
        "collapsed": true,
        "id": "Ke_zqOhJ8p9-"
      },
      "source": [
        "data = newsgroups['data']\n",
        "target = newsgroups['target']"
      ],
      "execution_count": 20,
      "outputs": []
    },
    {
      "cell_type": "code",
      "metadata": {
        "id": "Sa4En2FkB0EH"
      },
      "source": [
        "import matplotlib.pyplot as plt\n",
        "\n",
        "n_neighbors_max = 10\n",
        "features = 250 # Я ограничу число парамтеров до 250, это повлияет на точность, но зато будет быстрее. Для анализа это не важно.\n",
        "A_plt = []\n",
        "B_plt = []"
      ],
      "execution_count": 21,
      "outputs": []
    },
    {
      "cell_type": "markdown",
      "metadata": {
        "id": "UXoFMWWf8p9-"
      },
      "source": [
        "Преобразуйте текстовые данные из data с помощью [CountVectorizer](https://scikit-learn.org/stable/modules/generated/sklearn.feature_extraction.text.CountVectorizer.html). Словарь можно ограничить по частотности."
      ]
    },
    {
      "cell_type": "code",
      "metadata": {
        "collapsed": true,
        "id": "3TrK_B7e8p9_"
      },
      "source": [
        "from sklearn.feature_extraction.text import CountVectorizer\n",
        "\n",
        "vectorizer = CountVectorizer(stop_words='english', min_df=3, max_df=10, max_features = features)\n",
        "my_X = vectorizer.fit_transform(data).toarray()\n",
        "my_y = target"
      ],
      "execution_count": 22,
      "outputs": []
    },
    {
      "cell_type": "markdown",
      "metadata": {
        "id": "lgsUHZRR8p9_"
      },
      "source": [
        "*Так мы получили векторное представление наших текстов. Значит можно приступать к задаче обучения модели*"
      ]
    },
    {
      "cell_type": "markdown",
      "metadata": {
        "id": "KDid6sux8p9_"
      },
      "source": [
        "Реализуйте разбиение выборки для кросс-валидации на 3 фолдах. Разрешено использовать sklearn.cross_validation"
      ]
    },
    {
      "cell_type": "code",
      "metadata": {
        "collapsed": true,
        "id": "pPiW_Ggz8p9_",
        "colab": {
          "base_uri": "https://localhost:8080/"
        },
        "outputId": "09fa4c31-e43f-4c40-f7bc-070ccf5a3c3b"
      },
      "source": [
        "from sklearn.model_selection import cross_validate\n",
        "clf = MyKNeighborsClassifier()\n",
        "x3 = cross_validate(estimator=clf, X=my_X, y=my_y, cv=3, scoring=\"accuracy\")\n",
        "x3"
      ],
      "execution_count": 23,
      "outputs": [
        {
          "output_type": "execute_result",
          "data": {
            "text/plain": [
              "{'fit_time': array([0.01430631, 0.00658417, 0.00805497]),\n",
              " 'score_time': array([3.04065514, 2.46555471, 2.48038435]),\n",
              " 'test_score': array([0.06124072, 0.06152214, 0.07053832])}"
            ]
          },
          "metadata": {
            "tags": []
          },
          "execution_count": 23
        }
      ]
    },
    {
      "cell_type": "markdown",
      "metadata": {
        "id": "mB4DUfhD8p9_"
      },
      "source": [
        "Напишите метод, позволяющий найти оптимальное количество ближайших соседей(дающее максимальную точность в среднем на валидации на 3 фолдах).\n",
        "Постройте график зависимости средней точности от количества соседей. Можно рассмотреть число соседей от 1 до 10."
      ]
    },
    {
      "cell_type": "code",
      "metadata": {
        "collapsed": true,
        "id": "KNZNtMcO8p-B",
        "colab": {
          "base_uri": "https://localhost:8080/",
          "height": 295
        },
        "outputId": "a0efcedf-04c2-43a4-caf5-fe88bb7f5ce9"
      },
      "source": [
        "\n",
        "A, B = [], []\n",
        "\n",
        "for i in range(1, n_neighbors_max+1):\n",
        "    #print(i)\n",
        "    clf = MyKNeighborsClassifier(n_neighbors=i, algorithm=\"brute\")\n",
        "    my_dict = cross_validate(estimator=clf, X=my_X, y=my_y, cv=3, scoring=\"accuracy\")\n",
        "    A.append(i)\n",
        "    B.append(my_dict['test_score'].mean())\n",
        "\n",
        "plt.plot(A, B)\n",
        "plt.xlabel('Number of neighbors')\n",
        "plt.ylabel('Score')\n",
        "plt.title('Dependence of the average accuracy on the number of neighbors ')\n",
        "plt.show()\n",
        "A_plt.append(A)\n",
        "B_plt.append(B)"
      ],
      "execution_count": 24,
      "outputs": [
        {
          "output_type": "display_data",
          "data": {
            "image/png": "[encoded data removed]",
            "text/plain": [
              "<Figure size 432x288 with 1 Axes>"
            ]
          },
          "metadata": {
            "tags": [],
            "needs_background": "light"
          }
        }
      ]
    },
    {
      "cell_type": "markdown",
      "metadata": {
        "id": "y5vOopbC8p-B"
      },
      "source": [
        "Как изменится качество на валидации, если:\n",
        "\n",
        "1. Используется косинусная метрика вместо евклидовой.\n",
        "2. К текстам применяется TfIdf векторизацию( sklearn.feature_extraction.text.TfidfVectorizer)\n",
        "\n",
        "Сравните модели, выберите лучшую."
      ]
    },
    {
      "cell_type": "code",
      "metadata": {
        "colab": {
          "base_uri": "https://localhost:8080/",
          "height": 295
        },
        "id": "yHQQBO4OK9ZH",
        "outputId": "ecee58e6-7733-4584-bbdf-2b819a8f9081"
      },
      "source": [
        "A, B = [], []\n",
        "\n",
        "for i in range(1, n_neighbors_max+1):\n",
        "    clf = MyKNeighborsClassifier(n_neighbors=i, metric=\"cosine_similarity\")\n",
        "    my_dict = cross_validate(estimator=clf, X=my_X, y=my_y, cv=3, scoring=\"accuracy\")\n",
        "    A.append(i)\n",
        "    B.append(my_dict['test_score'].mean())\n",
        "\n",
        "plt.plot(A, B)\n",
        "plt.xlabel('Number of neighbors')\n",
        "plt.ylabel('Score')\n",
        "plt.title('Dependence of the average accuracy on the number of neighbors ')\n",
        "plt.show()\n",
        "A_plt.append(A)\n",
        "B_plt.append(B)"
      ],
      "execution_count": 25,
      "outputs": [
        {
          "output_type": "display_data",
          "data": {
            "image/png": "[encoded data removed]",
            "text/plain": [
              "<Figure size 432x288 with 1 Axes>"
            ]
          },
          "metadata": {
            "tags": [],
            "needs_background": "light"
          }
        }
      ]
    },
    {
      "cell_type": "code",
      "metadata": {
        "id": "Xhz3DjDvAJij"
      },
      "source": [
        "from sklearn.feature_extraction.text import TfidfVectorizer\n",
        "\n",
        "vectorizer = TfidfVectorizer(stop_words='english', min_df=3, max_df=10, max_features = features)\n",
        "my_X = vectorizer.fit_transform(data).toarray()\n",
        "my_y = target"
      ],
      "execution_count": 26,
      "outputs": []
    },
    {
      "cell_type": "code",
      "metadata": {
        "colab": {
          "base_uri": "https://localhost:8080/",
          "height": 295
        },
        "id": "2e-fNOlyAJlR",
        "outputId": "aa04cd15-91c7-4c19-b40f-f3d7bf4054fe"
      },
      "source": [
        "A, B = [], []\n",
        "\n",
        "for i in range(1, n_neighbors_max+1):\n",
        "    clf = MyKNeighborsClassifier(n_neighbors=i, algorithm=\"brute\")\n",
        "    my_dict = cross_validate(estimator=clf, X=my_X, y=my_y, cv=3, scoring=\"accuracy\")\n",
        "    A.append(i)\n",
        "    B.append(my_dict['test_score'].mean())\n",
        "\n",
        "plt.plot(A, B)\n",
        "plt.xlabel('Number of neighbors')\n",
        "plt.ylabel('Score')\n",
        "plt.title('Dependence of the average accuracy on the number of neighbors ')\n",
        "plt.show()\n",
        "A_plt.append(A)\n",
        "B_plt.append(B)"
      ],
      "execution_count": 27,
      "outputs": [
        {
          "output_type": "display_data",
          "data": {
            "image/png": "[encoded data removed]",
            "text/plain": [
              "<Figure size 432x288 with 1 Axes>"
            ]
          },
          "metadata": {
            "tags": [],
            "needs_background": "light"
          }
        }
      ]
    },
    {
      "cell_type": "code",
      "metadata": {
        "colab": {
          "base_uri": "https://localhost:8080/",
          "height": 295
        },
        "id": "QSU9-ccJB-Ls",
        "outputId": "3687ffb9-e49b-4020-99ae-f8b59ce4fe62"
      },
      "source": [
        "A, B = [], []\n",
        "\n",
        "for i in range(1, n_neighbors_max+1):\n",
        "    clf = MyKNeighborsClassifier(n_neighbors=i, metric=\"cosine_similarity\")\n",
        "    my_dict = cross_validate(estimator=clf, X=my_X, y=my_y, cv=3, scoring=\"accuracy\")\n",
        "    A.append(i)\n",
        "    B.append(my_dict['test_score'].mean())\n",
        "\n",
        "plt.plot(A, B)\n",
        "plt.xlabel('Number of neighbors')\n",
        "plt.ylabel('Score')\n",
        "plt.title('Dependence of the average accuracy on the number of neighbors ')\n",
        "plt.show()\n",
        "A_plt.append(A)\n",
        "B_plt.append(B)"
      ],
      "execution_count": 28,
      "outputs": [
        {
          "output_type": "display_data",
          "data": {
            "image/png": "[encoded data removed]",
            "text/plain": [
              "<Figure size 432x288 with 1 Axes>"
            ]
          },
          "metadata": {
            "tags": [],
            "needs_background": "light"
          }
        }
      ]
    },
    {
      "cell_type": "markdown",
      "metadata": {
        "id": "VSd6snWiWc85"
      },
      "source": [
        "Изобразим всё на одном графике"
      ]
    },
    {
      "cell_type": "code",
      "metadata": {
        "colab": {
          "base_uri": "https://localhost:8080/",
          "height": 334
        },
        "id": "56VraQglB-SG",
        "outputId": "07c6a22d-f347-44aa-fe32-c0d7e9c4c271"
      },
      "source": [
        "plt.plot(A_plt[0], B_plt[0], '-', A_plt[1], B_plt[1], '--', A_plt[2], B_plt[2], '-.', A_plt[3], B_plt[3], ':')"
      ],
      "execution_count": 29,
      "outputs": [
        {
          "output_type": "execute_result",
          "data": {
            "text/plain": [
              "[<matplotlib.lines.Line2D at 0x7f9a675fad90>,\n",
              " <matplotlib.lines.Line2D at 0x7f9a675fa250>,\n",
              " <matplotlib.lines.Line2D at 0x7f9a675fa910>,\n",
              " <matplotlib.lines.Line2D at 0x7f9a6759b210>]"
            ]
          },
          "metadata": {
            "tags": []
          },
          "execution_count": 29
        },
        {
          "output_type": "display_data",
          "data": {
            "image/png": "[encoded data removed]",
            "text/plain": [
              "<Figure size 432x288 with 1 Axes>"
            ]
          },
          "metadata": {
            "tags": [],
            "needs_background": "light"
          }
        }
      ]
    },
    {
      "cell_type": "markdown",
      "metadata": {
        "id": "ZR31J5q3W83x"
      },
      "source": [
        "Как видно, лучше всего использовать 1 соседа, TfidfVectorizer и косинусную меру"
      ]
    },
    {
      "cell_type": "markdown",
      "metadata": {
        "id": "eMYqHzZl8p-B"
      },
      "source": [
        "Загрузим  теперь test  часть нашей выборки и преобразуем её аналогично с train частью. Не забудьте, что наборы слов в train и test части могут отличаться."
      ]
    },
    {
      "cell_type": "code",
      "metadata": {
        "collapsed": true,
        "id": "OB5-3vQA8p-B"
      },
      "source": [
        "newsgroups = fetch_20newsgroups(subset='test',remove=['headers','footers', 'quotes'])"
      ],
      "execution_count": 30,
      "outputs": []
    },
    {
      "cell_type": "markdown",
      "metadata": {
        "id": "PNTQ4gm_8p-B"
      },
      "source": [
        "Оценим точность вашей лучшей модели на test части датасета. Отличается ли оно от кросс-валидации? Попробуйте сделать выводы, почему отличается качество."
      ]
    },
    {
      "cell_type": "code",
      "metadata": {
        "collapsed": true,
        "id": "LgCkZcuA8p-B"
      },
      "source": [
        "data = newsgroups['data']\n",
        "target = newsgroups['target']"
      ],
      "execution_count": 31,
      "outputs": []
    },
    {
      "cell_type": "code",
      "metadata": {
        "id": "nUPOmoZeHIO0"
      },
      "source": [
        "vectorizer = TfidfVectorizer(stop_words='english', min_df=2, max_df=10, max_features = features)"
      ],
      "execution_count": 32,
      "outputs": []
    },
    {
      "cell_type": "code",
      "metadata": {
        "id": "7pjcmqP6HIQ-"
      },
      "source": [
        "clf = MyKNeighborsClassifier(n_neighbors=1, metric=\"cosine_similarity\")\n",
        "clf.fit(my_X, my_y)"
      ],
      "execution_count": 33,
      "outputs": []
    },
    {
      "cell_type": "code",
      "metadata": {
        "id": "KyGgxmAdHIT0"
      },
      "source": [
        "my_clf_pred = clf.predict(vectorizer.fit_transform(data).toarray())"
      ],
      "execution_count": 34,
      "outputs": []
    },
    {
      "cell_type": "code",
      "metadata": {
        "colab": {
          "base_uri": "https://localhost:8080/"
        },
        "id": "oD1hCkUiHIej",
        "outputId": "4d2908fd-47b3-4844-f2db-822b82a3efee"
      },
      "source": [
        "accuracy_score(my_clf_pred,target)"
      ],
      "execution_count": 35,
      "outputs": [
        {
          "output_type": "execute_result",
          "data": {
            "text/plain": [
              "0.05523101433882103"
            ]
          },
          "metadata": {
            "tags": []
          },
          "execution_count": 35
        }
      ]
    },
    {
      "cell_type": "markdown",
      "metadata": {
        "id": "XQvK_rZ2Wpbh"
      },
      "source": [
        "Результаты чуть хуже. Всё-таки валидация нужна. "
      ]
    },
    {
      "cell_type": "code",
      "metadata": {
        "id": "6pzA15-dHIhU"
      },
      "source": [
        ""
      ],
      "execution_count": 35,
      "outputs": []
    }
  ]
}
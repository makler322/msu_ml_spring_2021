{
 "cells": [
  {
   "cell_type": "markdown",
   "metadata": {
    "id": "EP3E3z0t8p9t"
   },
   "source": [
    "**Общая информация**\n",
    "\n",
    "**Срок сдачи:** 29 марта 2021, 08:30 \n",
    "\n",
    "**Штраф за опоздание:** по 1 баллу за 24 часа задержки. Через 5 дней домашнее задание сгорает.\n",
    "\n",
    "При отправлении ДЗ указывайте фамилию в названии файла\n",
    "Присылать ДЗ необходимо в виде ссылки на свой github репозиторий на почту ml1.sphere@mail.ru с указанием темы в следующем формате:\n",
    "\n",
    "[ML0220, Задание 1] Фамилия Имя.\n",
    "\n",
    "Используйте данный Ipython Notebook при оформлении домашнего задания."
   ]
  },
  {
   "cell_type": "markdown",
   "metadata": {
    "id": "BQkkpfTE8p90"
   },
   "source": [
    "\n",
    "**Штрафные баллы:**\n",
    "\n",
    "1. Отсутствие фамилии в имени скрипта (скрипт должен называться по аналогии со stroykova_hw1.ipynb) -0.5 баллов\n",
    "2. Все строчки должны быть выполнены. Нужно, чтобы output команды можно было увидеть уже в git'е. В противном случае -0.5 баллов\n"
   ]
  },
  {
   "cell_type": "code",
   "execution_count": 1,
   "metadata": {
    "id": "D2Bo4p468p91"
   },
   "outputs": [],
   "source": [
    "import numpy as np\n",
    "import matplotlib.pyplot as plt\n",
    "\n",
    "\n",
    "import seaborn as sns\n",
    "from sklearn import datasets\n",
    "from sklearn.base import BaseEstimator\n",
    "#!pip install sklearn.datasets.fetch_mldata\n",
    "from sklearn.utils.validation import check_X_y, check_array, check_is_fitted\n",
    "from sklearn.utils.multiclass import unique_labels\n",
    "from sklearn.metrics import euclidean_distances\n",
    "from sklearn.neighbors import KDTree\n",
    "from sklearn.datasets import fetch_openml, fetch_20newsgroups\n",
    "\n",
    "from sklearn.model_selection import train_test_split\n",
    "from sklearn.neighbors import KNeighborsClassifier\n",
    "from sklearn.metrics import accuracy_score\n",
    "from sklearn.metrics.pairwise import cosine_similarity\n",
    "\n",
    "import operator"
   ]
  },
  {
   "cell_type": "markdown",
   "metadata": {
    "id": "ocPgo2oQ8p92"
   },
   "source": [
    "##### Задание 1 (1 балл)\n",
    "Реализовать KNN в классе MyKNeighborsClassifier (обязательное условие: точность не ниже sklearn реализации)\n",
    "Разберитесь самостоятельно, какая мера расстояния используется в KNeighborsClassifier дефолтно и реализуйте свой алгоритм именно с этой мерой. \n",
    "Для подсчета расстояний можно использовать функции [отсюда](https://docs.scipy.org/doc/scipy/reference/spatial.distance.html)"
   ]
  },
  {
   "cell_type": "code",
   "execution_count": 2,
   "metadata": {
    "id": "wi3ZrdE18p93"
   },
   "outputs": [],
   "source": [
    "class MyKNeighborsClassifier(BaseEstimator):\n",
    "    \n",
    "    def __init__(self, n_neighbors = 2, algorithm=\"brute\", metric = \"euclidean\"):\n",
    "        self.metric = metric\n",
    "        self.n_neighbors = n_neighbors\n",
    "        self.algorithm_bool = False\n",
    "        self.algorithm = algorithm\n",
    "        self.my_X = []\n",
    "        self.my_Y = []\n",
    "\n",
    "        if algorithm == \"kd_tree\":\n",
    "            self.algorithm_bool = True\n",
    "\n",
    "    def fit(self, X, y):\n",
    "        #X, y = check_X_y(X, y)\n",
    "        self.my_X = X\n",
    "        self.my_Y = y\n",
    "\n",
    "    \n",
    "    def predict(self, X):\n",
    "        #check_is_fitted(self)\n",
    "        X = check_array(X)\n",
    "\n",
    "        if self.algorithm_bool:\n",
    "            kdt = KDTree(self.my_X, metric=\"euclidean\")\n",
    "            B, A = kdt.query(X, self.n_neighbors)\n",
    "\n",
    "        elif self.metric == \"euclidean\":\n",
    "            A = np.argsort(euclidean_distances(X, self.my_X), axis=1)[:,:self.n_neighbors]\n",
    "            B = np.sort(euclidean_distances(X, self.my_X), axis=1)[:,:self.n_neighbors]\n",
    "        else:\n",
    "            A = np.argsort(1-cosine_similarity(X, self.my_X), axis=1)[:,:self.n_neighbors]\n",
    "            B = np.sort(1-cosine_similarity(X, self.my_X), axis=1)[:,:self.n_neighbors]\n",
    "\n",
    "        C = []\n",
    "        for j in range(A.shape[0]):\n",
    "            D = {}\n",
    "            for i in range(self.n_neighbors):\n",
    "                if A[j, i] in D:\n",
    "                    D[A[j, i]] += B[j, i]\n",
    "                else:\n",
    "                    D[A[j, i]] = B[j, i]\n",
    "            C.append(max(D.items(), key=operator.itemgetter(1))[0])\n",
    "\n",
    "        return self.my_Y[C]\n",
    "    "
   ]
  },
  {
   "cell_type": "markdown",
   "metadata": {
    "id": "JnIBQeRW8p93"
   },
   "source": [
    "**IRIS**\n",
    "\n",
    "В библиотеке scikit-learn есть несколько датасетов из коробки. Один из них [Ирисы Фишера](https://ru.wikipedia.org/wiki/%D0%98%D1%80%D0%B8%D1%81%D1%8B_%D0%A4%D0%B8%D1%88%D0%B5%D1%80%D0%B0)"
   ]
  },
  {
   "cell_type": "code",
   "execution_count": 3,
   "metadata": {
    "id": "7V_vFIDe8p93"
   },
   "outputs": [],
   "source": [
    "iris = datasets.load_iris()"
   ]
  },
  {
   "cell_type": "code",
   "execution_count": 4,
   "metadata": {
    "id": "z2haU1WB8p94"
   },
   "outputs": [],
   "source": [
    "X_train, X_test, y_train, y_test = train_test_split(iris.data, iris.target, test_size=0.25, stratify=iris.target)"
   ]
  },
  {
   "cell_type": "code",
   "execution_count": 5,
   "metadata": {
    "id": "wDfAhzXk8p95"
   },
   "outputs": [],
   "source": [
    "clf = KNeighborsClassifier(n_neighbors=2, algorithm='brute')\n",
    "my_clf = MyKNeighborsClassifier()"
   ]
  },
  {
   "cell_type": "code",
   "execution_count": 6,
   "metadata": {
    "id": "jCeRpV6R8p95"
   },
   "outputs": [],
   "source": [
    "clf.fit(X_train, y_train)\n",
    "my_clf.fit(X_train, y_train)"
   ]
  },
  {
   "cell_type": "code",
   "execution_count": 7,
   "metadata": {
    "colab": {
     "base_uri": "https://localhost:8080/"
    },
    "id": "PLHKu8ZA8p95",
    "outputId": "80aba717-e720-47bf-8d1f-aec8b59541fc"
   },
   "outputs": [
    {
     "name": "stdout",
     "output_type": "stream",
     "text": [
      "0.9473684210526315 0.9736842105263158\n"
     ]
    }
   ],
   "source": [
    "sklearn_pred = clf.predict(X_test)\n",
    "my_clf_pred = my_clf.predict(X_test)\n",
    "print(accuracy_score(y_test, my_clf_pred), accuracy_score(y_test, sklearn_pred))\n",
    "assert abs( accuracy_score(y_test, my_clf_pred) -  accuracy_score(y_test, sklearn_pred ) )<0.05, \"Score must be simillar\""
   ]
  },
  {
   "cell_type": "markdown",
   "metadata": {
    "id": "G6sXJOA38p97"
   },
   "source": [
    "**Задание 2 (0.5 балла)**\n",
    "\n",
    "Давайте попробуем добиться скорости работы на fit, predict сравнимой со sklearn для iris. Допускается замедление не более чем в 2 раза. \n",
    "Для этого используем numpy. "
   ]
  },
  {
   "cell_type": "code",
   "execution_count": 8,
   "metadata": {
    "colab": {
     "base_uri": "https://localhost:8080/"
    },
    "id": "zknKvIPG8p97",
    "outputId": "a95e7495-3384-43df-9c3d-f761b3c1289e"
   },
   "outputs": [
    {
     "name": "stdout",
     "output_type": "stream",
     "text": [
      "CPU times: user 289 µs, sys: 281 µs, total: 570 µs\n",
      "Wall time: 492 µs\n"
     ]
    },
    {
     "data": {
      "text/plain": [
       "KNeighborsClassifier(algorithm='brute', n_neighbors=2)"
      ]
     },
     "execution_count": 8,
     "metadata": {},
     "output_type": "execute_result"
    }
   ],
   "source": [
    "%time clf.fit(X_train, y_train)"
   ]
  },
  {
   "cell_type": "code",
   "execution_count": 9,
   "metadata": {
    "colab": {
     "base_uri": "https://localhost:8080/"
    },
    "id": "p6WZsIHm8p98",
    "outputId": "196723da-d144-40af-9790-c8e3c7c1424c"
   },
   "outputs": [
    {
     "name": "stdout",
     "output_type": "stream",
     "text": [
      "CPU times: user 3 µs, sys: 0 ns, total: 3 µs\n",
      "Wall time: 5.01 µs\n"
     ]
    }
   ],
   "source": [
    "%time my_clf.fit(X_train, y_train)"
   ]
  },
  {
   "cell_type": "code",
   "execution_count": 10,
   "metadata": {
    "colab": {
     "base_uri": "https://localhost:8080/"
    },
    "id": "rJr1UzSh8p98",
    "outputId": "428fdb18-ba30-48b8-d199-50da68674c5e"
   },
   "outputs": [
    {
     "name": "stdout",
     "output_type": "stream",
     "text": [
      "CPU times: user 3.55 ms, sys: 0 ns, total: 3.55 ms\n",
      "Wall time: 4.21 ms\n"
     ]
    },
    {
     "data": {
      "text/plain": [
       "array([2, 0, 1, 1, 1, 0, 1, 0, 0, 2, 1, 0, 2, 0, 2, 1, 0, 1, 2, 2, 2, 2,\n",
       "       0, 1, 0, 0, 0, 1, 2, 0, 2, 2, 2, 1, 2, 1, 1, 0])"
      ]
     },
     "execution_count": 10,
     "metadata": {},
     "output_type": "execute_result"
    }
   ],
   "source": [
    "%time clf.predict(X_test)"
   ]
  },
  {
   "cell_type": "code",
   "execution_count": 11,
   "metadata": {
    "colab": {
     "base_uri": "https://localhost:8080/"
    },
    "id": "mmwPW7ZI8p98",
    "outputId": "921768ab-cd0a-4cc5-de77-5be23e9be10f"
   },
   "outputs": [
    {
     "name": "stdout",
     "output_type": "stream",
     "text": [
      "CPU times: user 2.05 ms, sys: 0 ns, total: 2.05 ms\n",
      "Wall time: 1.46 ms\n"
     ]
    },
    {
     "data": {
      "text/plain": [
       "array([2, 0, 1, 1, 1, 0, 1, 0, 0, 2, 1, 0, 2, 0, 2, 1, 0, 1, 2, 2, 2, 2,\n",
       "       0, 1, 0, 0, 0, 2, 2, 0, 2, 2, 2, 1, 2, 1, 1, 0])"
      ]
     },
     "execution_count": 11,
     "metadata": {},
     "output_type": "execute_result"
    }
   ],
   "source": [
    "%time my_clf.predict(X_test)"
   ]
  },
  {
   "cell_type": "markdown",
   "metadata": {
    "id": "lmp5WyD18p98"
   },
   "source": [
    "###### Задание 3 (1 балл)\n",
    "Добавьте algorithm='kd_tree' в реализацию KNN (использовать KDTree из sklearn.neighbors). Необходимо добиться скорости работы на fit,  predict сравнимой со sklearn для iris. Допускается замедление не более чем в 2 раза. \n",
    "Для этого используем numpy. Точность не должна уступать значению KNN из sklearn. "
   ]
  },
  {
   "cell_type": "code",
   "execution_count": 12,
   "metadata": {
    "id": "hrWMeiyL8p98"
   },
   "outputs": [],
   "source": [
    "clf = KNeighborsClassifier(n_neighbors=2, algorithm='kd_tree')\n",
    "my_clf = MyKNeighborsClassifier(n_neighbors=2, algorithm='kd_tree')"
   ]
  },
  {
   "cell_type": "code",
   "execution_count": 13,
   "metadata": {
    "id": "DaV70ztE8p99"
   },
   "outputs": [],
   "source": [
    "X_train, X_test, y_train, y_test = train_test_split(iris.data, iris.target, test_size=0.1, stratify=iris.target)"
   ]
  },
  {
   "cell_type": "code",
   "execution_count": 14,
   "metadata": {
    "colab": {
     "base_uri": "https://localhost:8080/"
    },
    "id": "iyapAz6N8p99",
    "outputId": "46671a2a-b209-4be6-e7dc-ecb12954c266"
   },
   "outputs": [
    {
     "name": "stdout",
     "output_type": "stream",
     "text": [
      "CPU times: user 1.08 ms, sys: 0 ns, total: 1.08 ms\n",
      "Wall time: 962 µs\n"
     ]
    },
    {
     "data": {
      "text/plain": [
       "KNeighborsClassifier(algorithm='kd_tree', n_neighbors=2)"
      ]
     },
     "execution_count": 14,
     "metadata": {},
     "output_type": "execute_result"
    }
   ],
   "source": [
    "%time clf.fit(X_train, y_train)"
   ]
  },
  {
   "cell_type": "code",
   "execution_count": 15,
   "metadata": {
    "colab": {
     "base_uri": "https://localhost:8080/"
    },
    "id": "o4CVbFaN8p99",
    "outputId": "030a8c02-d56e-4f04-d5ef-c7c113de5463"
   },
   "outputs": [
    {
     "name": "stdout",
     "output_type": "stream",
     "text": [
      "CPU times: user 3 µs, sys: 2 µs, total: 5 µs\n",
      "Wall time: 7.63 µs\n"
     ]
    }
   ],
   "source": [
    "%time my_clf.fit(X_train, y_train)"
   ]
  },
  {
   "cell_type": "code",
   "execution_count": 16,
   "metadata": {
    "colab": {
     "base_uri": "https://localhost:8080/"
    },
    "id": "YqlTkyjw8p9-",
    "outputId": "ecc8e1af-158b-4727-f792-75c21f5a8200"
   },
   "outputs": [
    {
     "name": "stdout",
     "output_type": "stream",
     "text": [
      "CPU times: user 1.96 ms, sys: 393 µs, total: 2.35 ms\n",
      "Wall time: 2.03 ms\n"
     ]
    },
    {
     "data": {
      "text/plain": [
       "array([1, 0, 1, 2, 0, 2, 0, 1, 2, 0, 2, 1, 0, 1, 2])"
      ]
     },
     "execution_count": 16,
     "metadata": {},
     "output_type": "execute_result"
    }
   ],
   "source": [
    "%time clf.predict(X_test)"
   ]
  },
  {
   "cell_type": "code",
   "execution_count": 17,
   "metadata": {
    "colab": {
     "base_uri": "https://localhost:8080/"
    },
    "id": "j4g1bg-N8p9-",
    "outputId": "45ec3dff-240a-4a2c-9322-5ac7a8e6035b"
   },
   "outputs": [
    {
     "name": "stdout",
     "output_type": "stream",
     "text": [
      "CPU times: user 265 µs, sys: 245 µs, total: 510 µs\n",
      "Wall time: 469 µs\n"
     ]
    },
    {
     "data": {
      "text/plain": [
       "array([1, 0, 1, 2, 0, 2, 0, 1, 2, 0, 2, 1, 0, 1, 2])"
      ]
     },
     "execution_count": 17,
     "metadata": {},
     "output_type": "execute_result"
    }
   ],
   "source": [
    "%time my_clf.predict(X_test)"
   ]
  },
  {
   "cell_type": "code",
   "execution_count": 18,
   "metadata": {
    "colab": {
     "base_uri": "https://localhost:8080/"
    },
    "id": "-caXSiEg8p9-",
    "outputId": "be28e5e2-30f7-4429-fc0f-cb3fe4d0f857"
   },
   "outputs": [
    {
     "name": "stdout",
     "output_type": "stream",
     "text": [
      "1.0 1.0\n"
     ]
    }
   ],
   "source": [
    "sklearn_pred = clf.predict(X_test)\n",
    "my_clf_pred = my_clf.predict(X_test)\n",
    "print(accuracy_score(y_test, my_clf_pred), accuracy_score(y_test, sklearn_pred))\n",
    "assert abs( accuracy_score(y_test, my_clf_pred) -  accuracy_score(y_test, sklearn_pred ) )<0.005, \"Score must be simillar\""
   ]
  },
  {
   "cell_type": "markdown",
   "metadata": {
    "id": "gO5L6o7X8p9-"
   },
   "source": [
    "**Задание 4 (2.5 балла)**\n",
    "\n",
    "Рассмотрим новый датасет 20 newsgroups"
   ]
  },
  {
   "cell_type": "code",
   "execution_count": 19,
   "metadata": {
    "id": "RoQ9pIyS8p9-"
   },
   "outputs": [],
   "source": [
    "newsgroups = fetch_20newsgroups(subset='train',remove=['headers','footers', 'quotes'])"
   ]
  },
  {
   "cell_type": "code",
   "execution_count": 20,
   "metadata": {
    "id": "Ke_zqOhJ8p9-"
   },
   "outputs": [],
   "source": [
    "data = newsgroups['data']\n",
    "target = newsgroups['target']"
   ]
  },
  {
   "cell_type": "code",
   "execution_count": 21,
   "metadata": {
    "id": "Sa4En2FkB0EH"
   },
   "outputs": [],
   "source": [
    "import matplotlib.pyplot as plt\n",
    "\n",
    "n_neighbors_max = 10\n",
    "features = 250 # Я ограничу число парамтеров до 250, это повлияет на точность, но зато будет быстрее. Для анализа это не важно.\n",
    "A_plt = []\n",
    "B_plt = []"
   ]
  },
  {
   "cell_type": "markdown",
   "metadata": {
    "id": "UXoFMWWf8p9-"
   },
   "source": [
    "Преобразуйте текстовые данные из data с помощью [CountVectorizer](https://scikit-learn.org/stable/modules/generated/sklearn.feature_extraction.text.CountVectorizer.html). Словарь можно ограничить по частотности."
   ]
  },
  {
   "cell_type": "code",
   "execution_count": 22,
   "metadata": {
    "id": "3TrK_B7e8p9_"
   },
   "outputs": [],
   "source": [
    "from sklearn.feature_extraction.text import CountVectorizer\n",
    "\n",
    "vectorizer = CountVectorizer(stop_words='english', min_df=3, max_df=10, max_features = features)\n",
    "my_X = vectorizer.fit_transform(data).toarray()\n",
    "my_y = target"
   ]
  },
  {
   "cell_type": "markdown",
   "metadata": {
    "id": "lgsUHZRR8p9_"
   },
   "source": [
    "*Так мы получили векторное представление наших текстов. Значит можно приступать к задаче обучения модели*"
   ]
  },
  {
   "cell_type": "markdown",
   "metadata": {
    "id": "KDid6sux8p9_"
   },
   "source": [
    "Реализуйте разбиение выборки для кросс-валидации на 3 фолдах. Разрешено использовать sklearn.cross_validation"
   ]
  },
  {
   "cell_type": "code",
   "execution_count": 23,
   "metadata": {
    "colab": {
     "base_uri": "https://localhost:8080/"
    },
    "id": "pPiW_Ggz8p9_",
    "outputId": "09fa4c31-e43f-4c40-f7bc-070ccf5a3c3b"
   },
   "outputs": [
    {
     "data": {
      "text/plain": [
       "{'fit_time': array([0.00779891, 0.00344586, 0.00340605]),\n",
       " 'score_time': array([1.63972163, 1.57361317, 1.59846544]),\n",
       " 'test_score': array([0.06124072, 0.06152214, 0.07053832])}"
      ]
     },
     "execution_count": 23,
     "metadata": {},
     "output_type": "execute_result"
    }
   ],
   "source": [
    "from sklearn.model_selection import cross_validate\n",
    "clf = MyKNeighborsClassifier()\n",
    "x3 = cross_validate(estimator=clf, X=my_X, y=my_y, cv=3, scoring=\"accuracy\")\n",
    "x3"
   ]
  },
  {
   "cell_type": "markdown",
   "metadata": {
    "id": "mB4DUfhD8p9_"
   },
   "source": [
    "Напишите метод, позволяющий найти оптимальное количество ближайших соседей(дающее максимальную точность в среднем на валидации на 3 фолдах).\n",
    "Постройте график зависимости средней точности от количества соседей. Можно рассмотреть число соседей от 1 до 10."
   ]
  },
  {
   "cell_type": "code",
   "execution_count": 24,
   "metadata": {
    "colab": {
     "base_uri": "https://localhost:8080/",
     "height": 295
    },
    "id": "KNZNtMcO8p-B",
    "outputId": "a0efcedf-04c2-43a4-caf5-fe88bb7f5ce9"
   },
   "outputs": [
    {
     "data": {
      "image/png": "[encoded data removed]",
      "text/plain": [
       "<Figure size 432x288 with 1 Axes>"
      ]
     },
     "metadata": {
      "needs_background": "light"
     },
     "output_type": "display_data"
    }
   ],
   "source": [
    "\n",
    "A, B = [], []\n",
    "\n",
    "for i in range(1, n_neighbors_max+1):\n",
    "    #print(i)\n",
    "    clf = MyKNeighborsClassifier(n_neighbors=i, algorithm=\"brute\")\n",
    "    my_dict = cross_validate(estimator=clf, X=my_X, y=my_y, cv=3, scoring=\"accuracy\")\n",
    "    A.append(i)\n",
    "    B.append(my_dict['test_score'].mean())\n",
    "\n",
    "plt.plot(A, B)\n",
    "plt.xlabel('Number of neighbors')\n",
    "plt.ylabel('Score')\n",
    "plt.title('Dependence of the average accuracy on the number of neighbors ')\n",
    "plt.show()\n",
    "A_plt.append(A)\n",
    "B_plt.append(B)"
   ]
  },
  {
   "cell_type": "markdown",
   "metadata": {
    "id": "y5vOopbC8p-B"
   },
   "source": [
    "Как изменится качество на валидации, если:\n",
    "\n",
    "1. Используется косинусная метрика вместо евклидовой.\n",
    "2. К текстам применяется TfIdf векторизацию( sklearn.feature_extraction.text.TfidfVectorizer)\n",
    "\n",
    "Сравните модели, выберите лучшую."
   ]
  },
  {
   "cell_type": "code",
   "execution_count": 25,
   "metadata": {
    "colab": {
     "base_uri": "https://localhost:8080/",
     "height": 295
    },
    "id": "yHQQBO4OK9ZH",
    "outputId": "ecee58e6-7733-4584-bbdf-2b819a8f9081"
   },
   "outputs": [
    {
     "data": {
      "image/png": "[encoded data removed]",
      "text/plain": [
       "<Figure size 432x288 with 1 Axes>"
      ]
     },
     "metadata": {
      "needs_background": "light"
     },
     "output_type": "display_data"
    }
   ],
   "source": [
    "A, B = [], []\n",
    "\n",
    "for i in range(1, n_neighbors_max+1):\n",
    "    clf = MyKNeighborsClassifier(n_neighbors=i, metric=\"cosine_similarity\")\n",
    "    my_dict = cross_validate(estimator=clf, X=my_X, y=my_y, cv=3, scoring=\"accuracy\")\n",
    "    A.append(i)\n",
    "    B.append(my_dict['test_score'].mean())\n",
    "\n",
    "plt.plot(A, B)\n",
    "plt.xlabel('Number of neighbors')\n",
    "plt.ylabel('Score')\n",
    "plt.title('Dependence of the average accuracy on the number of neighbors ')\n",
    "plt.show()\n",
    "A_plt.append(A)\n",
    "B_plt.append(B)"
   ]
  },
  {
   "cell_type": "code",
   "execution_count": 26,
   "metadata": {
    "id": "Xhz3DjDvAJij"
   },
   "outputs": [],
   "source": [
    "from sklearn.feature_extraction.text import TfidfVectorizer\n",
    "\n",
    "vectorizer = TfidfVectorizer(stop_words='english', min_df=3, max_df=10, max_features = features)\n",
    "my_X = vectorizer.fit_transform(data).toarray()\n",
    "my_y = target"
   ]
  },
  {
   "cell_type": "code",
   "execution_count": 27,
   "metadata": {
    "colab": {
     "base_uri": "https://localhost:8080/",
     "height": 295
    },
    "id": "2e-fNOlyAJlR",
    "outputId": "aa04cd15-91c7-4c19-b40f-f3d7bf4054fe"
   },
   "outputs": [
    {
     "data": {
      "image/png": "[encoded data removed]",
      "text/plain": [
       "<Figure size 432x288 with 1 Axes>"
      ]
     },
     "metadata": {
      "needs_background": "light"
     },
     "output_type": "display_data"
    }
   ],
   "source": [
    "A, B = [], []\n",
    "\n",
    "for i in range(1, n_neighbors_max+1):\n",
    "    clf = MyKNeighborsClassifier(n_neighbors=i, algorithm=\"brute\")\n",
    "    my_dict = cross_validate(estimator=clf, X=my_X, y=my_y, cv=3, scoring=\"accuracy\")\n",
    "    A.append(i)\n",
    "    B.append(my_dict['test_score'].mean())\n",
    "\n",
    "plt.plot(A, B)\n",
    "plt.xlabel('Number of neighbors')\n",
    "plt.ylabel('Score')\n",
    "plt.title('Dependence of the average accuracy on the number of neighbors ')\n",
    "plt.show()\n",
    "A_plt.append(A)\n",
    "B_plt.append(B)"
   ]
  },
  {
   "cell_type": "code",
   "execution_count": 28,
   "metadata": {
    "colab": {
     "base_uri": "https://localhost:8080/",
     "height": 295
    },
    "id": "QSU9-ccJB-Ls",
    "outputId": "3687ffb9-e49b-4020-99ae-f8b59ce4fe62"
   },
   "outputs": [
    {
     "data": {
      "image/png": "[encoded data removed]",
      "text/plain": [
       "<Figure size 432x288 with 1 Axes>"
      ]
     },
     "metadata": {
      "needs_background": "light"
     },
     "output_type": "display_data"
    }
   ],
   "source": [
    "A, B = [], []\n",
    "\n",
    "for i in range(1, n_neighbors_max+1):\n",
    "    clf = MyKNeighborsClassifier(n_neighbors=i, metric=\"cosine_similarity\")\n",
    "    my_dict = cross_validate(estimator=clf, X=my_X, y=my_y, cv=3, scoring=\"accuracy\")\n",
    "    A.append(i)\n",
    "    B.append(my_dict['test_score'].mean())\n",
    "\n",
    "plt.plot(A, B)\n",
    "plt.xlabel('Number of neighbors')\n",
    "plt.ylabel('Score')\n",
    "plt.title('Dependence of the average accuracy on the number of neighbors ')\n",
    "plt.show()\n",
    "A_plt.append(A)\n",
    "B_plt.append(B)"
   ]
  },
  {
   "cell_type": "markdown",
   "metadata": {
    "id": "VSd6snWiWc85"
   },
   "source": [
    "Изобразим всё на одном графике"
   ]
  },
  {
   "cell_type": "code",
   "execution_count": 29,
   "metadata": {
    "colab": {
     "base_uri": "https://localhost:8080/",
     "height": 334
    },
    "id": "56VraQglB-SG",
    "outputId": "07c6a22d-f347-44aa-fe32-c0d7e9c4c271"
   },
   "outputs": [
    {
     "data": {
      "text/plain": [
       "[<matplotlib.lines.Line2D at 0x7f8d9009fa60>,\n",
       " <matplotlib.lines.Line2D at 0x7f8d9009fac0>,\n",
       " <matplotlib.lines.Line2D at 0x7f8d9009fa00>,\n",
       " <matplotlib.lines.Line2D at 0x7f8d9009fb80>]"
      ]
     },
     "execution_count": 29,
     "metadata": {},
     "output_type": "execute_result"
    },
    {
     "data": {
      "image/png": "[encoded data removed]",
      "text/plain": [
       "<Figure size 432x288 with 1 Axes>"
      ]
     },
     "metadata": {
      "needs_background": "light"
     },
     "output_type": "display_data"
    }
   ],
   "source": [
    "plt.plot(A_plt[0], B_plt[0], '-', A_plt[1], B_plt[1], '--', A_plt[2], B_plt[2], '-.', A_plt[3], B_plt[3], ':')"
   ]
  },
  {
   "cell_type": "markdown",
   "metadata": {
    "id": "ZR31J5q3W83x"
   },
   "source": [
    "Как видно, лучше всего использовать 1 соседа, TfidfVectorizer и косинусную меру"
   ]
  },
  {
   "cell_type": "markdown",
   "metadata": {
    "id": "eMYqHzZl8p-B"
   },
   "source": [
    "Загрузим  теперь test  часть нашей выборки и преобразуем её аналогично с train частью. Не забудьте, что наборы слов в train и test части могут отличаться."
   ]
  },
  {
   "cell_type": "code",
   "execution_count": 30,
   "metadata": {
    "id": "OB5-3vQA8p-B"
   },
   "outputs": [],
   "source": [
    "newsgroups = fetch_20newsgroups(subset='test',remove=['headers','footers', 'quotes'])"
   ]
  },
  {
   "cell_type": "markdown",
   "metadata": {
    "id": "PNTQ4gm_8p-B"
   },
   "source": [
    "Оценим точность вашей лучшей модели на test части датасета. Отличается ли оно от кросс-валидации? Попробуйте сделать выводы, почему отличается качество."
   ]
  },
  {
   "cell_type": "code",
   "execution_count": 31,
   "metadata": {
    "id": "LgCkZcuA8p-B"
   },
   "outputs": [],
   "source": [
    "data = newsgroups['data']\n",
    "target = newsgroups['target']"
   ]
  },
  {
   "cell_type": "code",
   "execution_count": 32,
   "metadata": {
    "id": "nUPOmoZeHIO0"
   },
   "outputs": [],
   "source": [
    "vectorizer = TfidfVectorizer(stop_words='english', min_df=2, max_df=10, max_features = features)"
   ]
  },
  {
   "cell_type": "code",
   "execution_count": 33,
   "metadata": {
    "id": "7pjcmqP6HIQ-"
   },
   "outputs": [],
   "source": [
    "clf = MyKNeighborsClassifier(n_neighbors=1, metric=\"cosine_similarity\")\n",
    "clf.fit(my_X, my_y)"
   ]
  },
  {
   "cell_type": "code",
   "execution_count": 34,
   "metadata": {
    "id": "KyGgxmAdHIT0"
   },
   "outputs": [],
   "source": [
    "my_clf_pred = clf.predict(vectorizer.fit_transform(data).toarray())"
   ]
  },
  {
   "cell_type": "code",
   "execution_count": 35,
   "metadata": {
    "colab": {
     "base_uri": "https://localhost:8080/"
    },
    "id": "oD1hCkUiHIej",
    "outputId": "4d2908fd-47b3-4844-f2db-822b82a3efee"
   },
   "outputs": [
    {
     "data": {
      "text/plain": [
       "0.05523101433882103"
      ]
     },
     "execution_count": 35,
     "metadata": {},
     "output_type": "execute_result"
    }
   ],
   "source": [
    "accuracy_score(my_clf_pred,target)"
   ]
  },
  {
   "cell_type": "markdown",
   "metadata": {
    "id": "XQvK_rZ2Wpbh"
   },
   "source": [
    "Результаты чуть хуже. Всё-таки валидация нужна. "
   ]
  },
  {
   "cell_type": "code",
   "execution_count": null,
   "metadata": {
    "id": "6pzA15-dHIhU"
   },
   "outputs": [],
   "source": []
  }
 ],
 "metadata": {
  "colab": {
   "collapsed_sections": [],
   "name": "hw1.ipynb",
   "provenance": []
  },
  "kernelspec": {
   "display_name": "Python 3",
   "language": "python",
   "name": "python3"
  },
  "language_info": {
   "codemirror_mode": {
    "name": "ipython",
    "version": 3
   },
   "file_extension": ".py",
   "mimetype": "text/x-python",
   "name": "python",
   "nbconvert_exporter": "python",
   "pygments_lexer": "ipython3",
   "version": "3.8.5"
  }
 },
 "nbformat": 4,
 "nbformat_minor": 4
}

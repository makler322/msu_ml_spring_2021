{
  "nbformat": 4,
  "nbformat_minor": 0,
  "metadata": {
    "colab": {
      "name": "Project_baseline.ipynb",
      "provenance": [],
      "mount_file_id": "1sWWtRY_WW7LdNFkdO8bRUwu6b7LuIQC2",
      "authorship_tag": "ABX9TyM8WQAqkIfBXAPXd4D9kne+",
      "include_colab_link": true
    },
    "kernelspec": {
      "name": "python3",
      "display_name": "Python 3"
    },
    "language_info": {
      "name": "python"
    },
    "widgets": {
      "application/vnd.jupyter.widget-state+json": {
        "77efb243dc1944d896dce8968bf96a74": {
          "model_module": "@jupyter-widgets/controls",
          "model_name": "HBoxModel",
          "state": {
            "_view_name": "HBoxView",
            "_dom_classes": [],
            "_model_name": "HBoxModel",
            "_view_module": "@jupyter-widgets/controls",
            "_model_module_version": "1.5.0",
            "_view_count": null,
            "_view_module_version": "1.5.0",
            "box_style": "",
            "layout": "IPY_MODEL_65be74bf3b044cac9aaae367f282f7e8",
            "_model_module": "@jupyter-widgets/controls",
            "children": [
              "IPY_MODEL_cdf55b83d9474e8caa256b9243037215",
              "IPY_MODEL_ac519f38da5c4d3aa9f935eab916a2e3"
            ]
          }
        },
        "65be74bf3b044cac9aaae367f282f7e8": {
          "model_module": "@jupyter-widgets/base",
          "model_name": "LayoutModel",
          "state": {
            "_view_name": "LayoutView",
            "grid_template_rows": null,
            "right": null,
            "justify_content": null,
            "_view_module": "@jupyter-widgets/base",
            "overflow": null,
            "_model_module_version": "1.2.0",
            "_view_count": null,
            "flex_flow": null,
            "width": null,
            "min_width": null,
            "border": null,
            "align_items": null,
            "bottom": null,
            "_model_module": "@jupyter-widgets/base",
            "top": null,
            "grid_column": null,
            "overflow_y": null,
            "overflow_x": null,
            "grid_auto_flow": null,
            "grid_area": null,
            "grid_template_columns": null,
            "flex": null,
            "_model_name": "LayoutModel",
            "justify_items": null,
            "grid_row": null,
            "max_height": null,
            "align_content": null,
            "visibility": null,
            "align_self": null,
            "height": null,
            "min_height": null,
            "padding": null,
            "grid_auto_rows": null,
            "grid_gap": null,
            "max_width": null,
            "order": null,
            "_view_module_version": "1.2.0",
            "grid_template_areas": null,
            "object_position": null,
            "object_fit": null,
            "grid_auto_columns": null,
            "margin": null,
            "display": null,
            "left": null
          }
        },
        "cdf55b83d9474e8caa256b9243037215": {
          "model_module": "@jupyter-widgets/controls",
          "model_name": "FloatProgressModel",
          "state": {
            "_view_name": "ProgressView",
            "style": "IPY_MODEL_23e34d0d703347c4a6243f00e812787f",
            "_dom_classes": [],
            "description": "100%",
            "_model_name": "FloatProgressModel",
            "bar_style": "success",
            "max": 9352,
            "_view_module": "@jupyter-widgets/controls",
            "_model_module_version": "1.5.0",
            "value": 9352,
            "_view_count": null,
            "_view_module_version": "1.5.0",
            "orientation": "horizontal",
            "min": 0,
            "description_tooltip": null,
            "_model_module": "@jupyter-widgets/controls",
            "layout": "IPY_MODEL_ffec1764431d49ceaa631b3f33a397eb"
          }
        },
        "ac519f38da5c4d3aa9f935eab916a2e3": {
          "model_module": "@jupyter-widgets/controls",
          "model_name": "HTMLModel",
          "state": {
            "_view_name": "HTMLView",
            "style": "IPY_MODEL_8d956187d24a48a78ba59bd88907b0e0",
            "_dom_classes": [],
            "description": "",
            "_model_name": "HTMLModel",
            "placeholder": "​",
            "_view_module": "@jupyter-widgets/controls",
            "_model_module_version": "1.5.0",
            "value": " 9352/9352 [00:02&lt;00:00, 3710.88it/s]",
            "_view_count": null,
            "_view_module_version": "1.5.0",
            "description_tooltip": null,
            "_model_module": "@jupyter-widgets/controls",
            "layout": "IPY_MODEL_e727c6cea22c4ac9a7e5a6bc348113bc"
          }
        },
        "23e34d0d703347c4a6243f00e812787f": {
          "model_module": "@jupyter-widgets/controls",
          "model_name": "ProgressStyleModel",
          "state": {
            "_view_name": "StyleView",
            "_model_name": "ProgressStyleModel",
            "description_width": "initial",
            "_view_module": "@jupyter-widgets/base",
            "_model_module_version": "1.5.0",
            "_view_count": null,
            "_view_module_version": "1.2.0",
            "bar_color": null,
            "_model_module": "@jupyter-widgets/controls"
          }
        },
        "ffec1764431d49ceaa631b3f33a397eb": {
          "model_module": "@jupyter-widgets/base",
          "model_name": "LayoutModel",
          "state": {
            "_view_name": "LayoutView",
            "grid_template_rows": null,
            "right": null,
            "justify_content": null,
            "_view_module": "@jupyter-widgets/base",
            "overflow": null,
            "_model_module_version": "1.2.0",
            "_view_count": null,
            "flex_flow": null,
            "width": null,
            "min_width": null,
            "border": null,
            "align_items": null,
            "bottom": null,
            "_model_module": "@jupyter-widgets/base",
            "top": null,
            "grid_column": null,
            "overflow_y": null,
            "overflow_x": null,
            "grid_auto_flow": null,
            "grid_area": null,
            "grid_template_columns": null,
            "flex": null,
            "_model_name": "LayoutModel",
            "justify_items": null,
            "grid_row": null,
            "max_height": null,
            "align_content": null,
            "visibility": null,
            "align_self": null,
            "height": null,
            "min_height": null,
            "padding": null,
            "grid_auto_rows": null,
            "grid_gap": null,
            "max_width": null,
            "order": null,
            "_view_module_version": "1.2.0",
            "grid_template_areas": null,
            "object_position": null,
            "object_fit": null,
            "grid_auto_columns": null,
            "margin": null,
            "display": null,
            "left": null
          }
        },
        "8d956187d24a48a78ba59bd88907b0e0": {
          "model_module": "@jupyter-widgets/controls",
          "model_name": "DescriptionStyleModel",
          "state": {
            "_view_name": "StyleView",
            "_model_name": "DescriptionStyleModel",
            "description_width": "",
            "_view_module": "@jupyter-widgets/base",
            "_model_module_version": "1.5.0",
            "_view_count": null,
            "_view_module_version": "1.2.0",
            "_model_module": "@jupyter-widgets/controls"
          }
        },
        "e727c6cea22c4ac9a7e5a6bc348113bc": {
          "model_module": "@jupyter-widgets/base",
          "model_name": "LayoutModel",
          "state": {
            "_view_name": "LayoutView",
            "grid_template_rows": null,
            "right": null,
            "justify_content": null,
            "_view_module": "@jupyter-widgets/base",
            "overflow": null,
            "_model_module_version": "1.2.0",
            "_view_count": null,
            "flex_flow": null,
            "width": null,
            "min_width": null,
            "border": null,
            "align_items": null,
            "bottom": null,
            "_model_module": "@jupyter-widgets/base",
            "top": null,
            "grid_column": null,
            "overflow_y": null,
            "overflow_x": null,
            "grid_auto_flow": null,
            "grid_area": null,
            "grid_template_columns": null,
            "flex": null,
            "_model_name": "LayoutModel",
            "justify_items": null,
            "grid_row": null,
            "max_height": null,
            "align_content": null,
            "visibility": null,
            "align_self": null,
            "height": null,
            "min_height": null,
            "padding": null,
            "grid_auto_rows": null,
            "grid_gap": null,
            "max_width": null,
            "order": null,
            "_view_module_version": "1.2.0",
            "grid_template_areas": null,
            "object_position": null,
            "object_fit": null,
            "grid_auto_columns": null,
            "margin": null,
            "display": null,
            "left": null
          }
        },
        "2317db7c0d7e4d2083afb7f5e82f3116": {
          "model_module": "@jupyter-widgets/controls",
          "model_name": "HBoxModel",
          "state": {
            "_view_name": "HBoxView",
            "_dom_classes": [],
            "_model_name": "HBoxModel",
            "_view_module": "@jupyter-widgets/controls",
            "_model_module_version": "1.5.0",
            "_view_count": null,
            "_view_module_version": "1.5.0",
            "box_style": "",
            "layout": "IPY_MODEL_fdc1dbf351aa4ac58a2bb1262f1322ed",
            "_model_module": "@jupyter-widgets/controls",
            "children": [
              "IPY_MODEL_38703f7000bd4310893085b086afbf50",
              "IPY_MODEL_7444675a45cb47008b723ad7d550425f"
            ]
          }
        },
        "fdc1dbf351aa4ac58a2bb1262f1322ed": {
          "model_module": "@jupyter-widgets/base",
          "model_name": "LayoutModel",
          "state": {
            "_view_name": "LayoutView",
            "grid_template_rows": null,
            "right": null,
            "justify_content": null,
            "_view_module": "@jupyter-widgets/base",
            "overflow": null,
            "_model_module_version": "1.2.0",
            "_view_count": null,
            "flex_flow": null,
            "width": null,
            "min_width": null,
            "border": null,
            "align_items": null,
            "bottom": null,
            "_model_module": "@jupyter-widgets/base",
            "top": null,
            "grid_column": null,
            "overflow_y": null,
            "overflow_x": null,
            "grid_auto_flow": null,
            "grid_area": null,
            "grid_template_columns": null,
            "flex": null,
            "_model_name": "LayoutModel",
            "justify_items": null,
            "grid_row": null,
            "max_height": null,
            "align_content": null,
            "visibility": null,
            "align_self": null,
            "height": null,
            "min_height": null,
            "padding": null,
            "grid_auto_rows": null,
            "grid_gap": null,
            "max_width": null,
            "order": null,
            "_view_module_version": "1.2.0",
            "grid_template_areas": null,
            "object_position": null,
            "object_fit": null,
            "grid_auto_columns": null,
            "margin": null,
            "display": null,
            "left": null
          }
        },
        "38703f7000bd4310893085b086afbf50": {
          "model_module": "@jupyter-widgets/controls",
          "model_name": "FloatProgressModel",
          "state": {
            "_view_name": "ProgressView",
            "style": "IPY_MODEL_77004a6cff1a482db6dc9912455aac91",
            "_dom_classes": [],
            "description": "100%",
            "_model_name": "FloatProgressModel",
            "bar_style": "success",
            "max": 2338,
            "_view_module": "@jupyter-widgets/controls",
            "_model_module_version": "1.5.0",
            "value": 2338,
            "_view_count": null,
            "_view_module_version": "1.5.0",
            "orientation": "horizontal",
            "min": 0,
            "description_tooltip": null,
            "_model_module": "@jupyter-widgets/controls",
            "layout": "IPY_MODEL_5f8bd811334d4a8d89a5860b6d3fe05f"
          }
        },
        "7444675a45cb47008b723ad7d550425f": {
          "model_module": "@jupyter-widgets/controls",
          "model_name": "HTMLModel",
          "state": {
            "_view_name": "HTMLView",
            "style": "IPY_MODEL_83c65029f8234e50a46ebac5059611dd",
            "_dom_classes": [],
            "description": "",
            "_model_name": "HTMLModel",
            "placeholder": "​",
            "_view_module": "@jupyter-widgets/controls",
            "_model_module_version": "1.5.0",
            "value": " 2338/2338 [00:00&lt;00:00, 3718.39it/s]",
            "_view_count": null,
            "_view_module_version": "1.5.0",
            "description_tooltip": null,
            "_model_module": "@jupyter-widgets/controls",
            "layout": "IPY_MODEL_7db835a64b9140579053085f405e6a5d"
          }
        },
        "77004a6cff1a482db6dc9912455aac91": {
          "model_module": "@jupyter-widgets/controls",
          "model_name": "ProgressStyleModel",
          "state": {
            "_view_name": "StyleView",
            "_model_name": "ProgressStyleModel",
            "description_width": "initial",
            "_view_module": "@jupyter-widgets/base",
            "_model_module_version": "1.5.0",
            "_view_count": null,
            "_view_module_version": "1.2.0",
            "bar_color": null,
            "_model_module": "@jupyter-widgets/controls"
          }
        },
        "5f8bd811334d4a8d89a5860b6d3fe05f": {
          "model_module": "@jupyter-widgets/base",
          "model_name": "LayoutModel",
          "state": {
            "_view_name": "LayoutView",
            "grid_template_rows": null,
            "right": null,
            "justify_content": null,
            "_view_module": "@jupyter-widgets/base",
            "overflow": null,
            "_model_module_version": "1.2.0",
            "_view_count": null,
            "flex_flow": null,
            "width": null,
            "min_width": null,
            "border": null,
            "align_items": null,
            "bottom": null,
            "_model_module": "@jupyter-widgets/base",
            "top": null,
            "grid_column": null,
            "overflow_y": null,
            "overflow_x": null,
            "grid_auto_flow": null,
            "grid_area": null,
            "grid_template_columns": null,
            "flex": null,
            "_model_name": "LayoutModel",
            "justify_items": null,
            "grid_row": null,
            "max_height": null,
            "align_content": null,
            "visibility": null,
            "align_self": null,
            "height": null,
            "min_height": null,
            "padding": null,
            "grid_auto_rows": null,
            "grid_gap": null,
            "max_width": null,
            "order": null,
            "_view_module_version": "1.2.0",
            "grid_template_areas": null,
            "object_position": null,
            "object_fit": null,
            "grid_auto_columns": null,
            "margin": null,
            "display": null,
            "left": null
          }
        },
        "83c65029f8234e50a46ebac5059611dd": {
          "model_module": "@jupyter-widgets/controls",
          "model_name": "DescriptionStyleModel",
          "state": {
            "_view_name": "StyleView",
            "_model_name": "DescriptionStyleModel",
            "description_width": "",
            "_view_module": "@jupyter-widgets/base",
            "_model_module_version": "1.5.0",
            "_view_count": null,
            "_view_module_version": "1.2.0",
            "_model_module": "@jupyter-widgets/controls"
          }
        },
        "7db835a64b9140579053085f405e6a5d": {
          "model_module": "@jupyter-widgets/base",
          "model_name": "LayoutModel",
          "state": {
            "_view_name": "LayoutView",
            "grid_template_rows": null,
            "right": null,
            "justify_content": null,
            "_view_module": "@jupyter-widgets/base",
            "overflow": null,
            "_model_module_version": "1.2.0",
            "_view_count": null,
            "flex_flow": null,
            "width": null,
            "min_width": null,
            "border": null,
            "align_items": null,
            "bottom": null,
            "_model_module": "@jupyter-widgets/base",
            "top": null,
            "grid_column": null,
            "overflow_y": null,
            "overflow_x": null,
            "grid_auto_flow": null,
            "grid_area": null,
            "grid_template_columns": null,
            "flex": null,
            "_model_name": "LayoutModel",
            "justify_items": null,
            "grid_row": null,
            "max_height": null,
            "align_content": null,
            "visibility": null,
            "align_self": null,
            "height": null,
            "min_height": null,
            "padding": null,
            "grid_auto_rows": null,
            "grid_gap": null,
            "max_width": null,
            "order": null,
            "_view_module_version": "1.2.0",
            "grid_template_areas": null,
            "object_position": null,
            "object_fit": null,
            "grid_auto_columns": null,
            "margin": null,
            "display": null,
            "left": null
          }
        },
        "ed8daa74d20d4fd8b5542f45e7927a36": {
          "model_module": "@jupyter-widgets/controls",
          "model_name": "HBoxModel",
          "state": {
            "_view_name": "HBoxView",
            "_dom_classes": [],
            "_model_name": "HBoxModel",
            "_view_module": "@jupyter-widgets/controls",
            "_model_module_version": "1.5.0",
            "_view_count": null,
            "_view_module_version": "1.5.0",
            "box_style": "",
            "layout": "IPY_MODEL_a217fa31c71642bb86d4464d246b76dc",
            "_model_module": "@jupyter-widgets/controls",
            "children": [
              "IPY_MODEL_ecdf60a9588b4afabd24d605596dca18",
              "IPY_MODEL_579c39e031c34f6c946cec3d9e7418f5"
            ]
          }
        },
        "a217fa31c71642bb86d4464d246b76dc": {
          "model_module": "@jupyter-widgets/base",
          "model_name": "LayoutModel",
          "state": {
            "_view_name": "LayoutView",
            "grid_template_rows": null,
            "right": null,
            "justify_content": null,
            "_view_module": "@jupyter-widgets/base",
            "overflow": null,
            "_model_module_version": "1.2.0",
            "_view_count": null,
            "flex_flow": null,
            "width": null,
            "min_width": null,
            "border": null,
            "align_items": null,
            "bottom": null,
            "_model_module": "@jupyter-widgets/base",
            "top": null,
            "grid_column": null,
            "overflow_y": null,
            "overflow_x": null,
            "grid_auto_flow": null,
            "grid_area": null,
            "grid_template_columns": null,
            "flex": null,
            "_model_name": "LayoutModel",
            "justify_items": null,
            "grid_row": null,
            "max_height": null,
            "align_content": null,
            "visibility": null,
            "align_self": null,
            "height": null,
            "min_height": null,
            "padding": null,
            "grid_auto_rows": null,
            "grid_gap": null,
            "max_width": null,
            "order": null,
            "_view_module_version": "1.2.0",
            "grid_template_areas": null,
            "object_position": null,
            "object_fit": null,
            "grid_auto_columns": null,
            "margin": null,
            "display": null,
            "left": null
          }
        },
        "ecdf60a9588b4afabd24d605596dca18": {
          "model_module": "@jupyter-widgets/controls",
          "model_name": "FloatProgressModel",
          "state": {
            "_view_name": "ProgressView",
            "style": "IPY_MODEL_9f7f297ac4d64df58391413dd957e371",
            "_dom_classes": [],
            "description": "100%",
            "_model_name": "FloatProgressModel",
            "bar_style": "success",
            "max": 129,
            "_view_module": "@jupyter-widgets/controls",
            "_model_module_version": "1.5.0",
            "value": 129,
            "_view_count": null,
            "_view_module_version": "1.5.0",
            "orientation": "horizontal",
            "min": 0,
            "description_tooltip": null,
            "_model_module": "@jupyter-widgets/controls",
            "layout": "IPY_MODEL_e41af29912a94708bca5cb811401a236"
          }
        },
        "579c39e031c34f6c946cec3d9e7418f5": {
          "model_module": "@jupyter-widgets/controls",
          "model_name": "HTMLModel",
          "state": {
            "_view_name": "HTMLView",
            "style": "IPY_MODEL_cb103f6a21e54f3d94b0887df6c265c5",
            "_dom_classes": [],
            "description": "",
            "_model_name": "HTMLModel",
            "placeholder": "​",
            "_view_module": "@jupyter-widgets/controls",
            "_model_module_version": "1.5.0",
            "value": " 129/129 [00:02&lt;00:00, 53.90it/s]",
            "_view_count": null,
            "_view_module_version": "1.5.0",
            "description_tooltip": null,
            "_model_module": "@jupyter-widgets/controls",
            "layout": "IPY_MODEL_abdb7608935645bdad6f2b65ab8ce740"
          }
        },
        "9f7f297ac4d64df58391413dd957e371": {
          "model_module": "@jupyter-widgets/controls",
          "model_name": "ProgressStyleModel",
          "state": {
            "_view_name": "StyleView",
            "_model_name": "ProgressStyleModel",
            "description_width": "initial",
            "_view_module": "@jupyter-widgets/base",
            "_model_module_version": "1.5.0",
            "_view_count": null,
            "_view_module_version": "1.2.0",
            "bar_color": null,
            "_model_module": "@jupyter-widgets/controls"
          }
        },
        "e41af29912a94708bca5cb811401a236": {
          "model_module": "@jupyter-widgets/base",
          "model_name": "LayoutModel",
          "state": {
            "_view_name": "LayoutView",
            "grid_template_rows": null,
            "right": null,
            "justify_content": null,
            "_view_module": "@jupyter-widgets/base",
            "overflow": null,
            "_model_module_version": "1.2.0",
            "_view_count": null,
            "flex_flow": null,
            "width": null,
            "min_width": null,
            "border": null,
            "align_items": null,
            "bottom": null,
            "_model_module": "@jupyter-widgets/base",
            "top": null,
            "grid_column": null,
            "overflow_y": null,
            "overflow_x": null,
            "grid_auto_flow": null,
            "grid_area": null,
            "grid_template_columns": null,
            "flex": null,
            "_model_name": "LayoutModel",
            "justify_items": null,
            "grid_row": null,
            "max_height": null,
            "align_content": null,
            "visibility": null,
            "align_self": null,
            "height": null,
            "min_height": null,
            "padding": null,
            "grid_auto_rows": null,
            "grid_gap": null,
            "max_width": null,
            "order": null,
            "_view_module_version": "1.2.0",
            "grid_template_areas": null,
            "object_position": null,
            "object_fit": null,
            "grid_auto_columns": null,
            "margin": null,
            "display": null,
            "left": null
          }
        },
        "cb103f6a21e54f3d94b0887df6c265c5": {
          "model_module": "@jupyter-widgets/controls",
          "model_name": "DescriptionStyleModel",
          "state": {
            "_view_name": "StyleView",
            "_model_name": "DescriptionStyleModel",
            "description_width": "",
            "_view_module": "@jupyter-widgets/base",
            "_model_module_version": "1.5.0",
            "_view_count": null,
            "_view_module_version": "1.2.0",
            "_model_module": "@jupyter-widgets/controls"
          }
        },
        "abdb7608935645bdad6f2b65ab8ce740": {
          "model_module": "@jupyter-widgets/base",
          "model_name": "LayoutModel",
          "state": {
            "_view_name": "LayoutView",
            "grid_template_rows": null,
            "right": null,
            "justify_content": null,
            "_view_module": "@jupyter-widgets/base",
            "overflow": null,
            "_model_module_version": "1.2.0",
            "_view_count": null,
            "flex_flow": null,
            "width": null,
            "min_width": null,
            "border": null,
            "align_items": null,
            "bottom": null,
            "_model_module": "@jupyter-widgets/base",
            "top": null,
            "grid_column": null,
            "overflow_y": null,
            "overflow_x": null,
            "grid_auto_flow": null,
            "grid_area": null,
            "grid_template_columns": null,
            "flex": null,
            "_model_name": "LayoutModel",
            "justify_items": null,
            "grid_row": null,
            "max_height": null,
            "align_content": null,
            "visibility": null,
            "align_self": null,
            "height": null,
            "min_height": null,
            "padding": null,
            "grid_auto_rows": null,
            "grid_gap": null,
            "max_width": null,
            "order": null,
            "_view_module_version": "1.2.0",
            "grid_template_areas": null,
            "object_position": null,
            "object_fit": null,
            "grid_auto_columns": null,
            "margin": null,
            "display": null,
            "left": null
          }
        },
        "4307259b67534fb1b8efa4fdfcb1280e": {
          "model_module": "@jupyter-widgets/controls",
          "model_name": "HBoxModel",
          "state": {
            "_view_name": "HBoxView",
            "_dom_classes": [],
            "_model_name": "HBoxModel",
            "_view_module": "@jupyter-widgets/controls",
            "_model_module_version": "1.5.0",
            "_view_count": null,
            "_view_module_version": "1.5.0",
            "box_style": "",
            "layout": "IPY_MODEL_3600ecf3410d4fe19ab4657d599205b0",
            "_model_module": "@jupyter-widgets/controls",
            "children": [
              "IPY_MODEL_9c395a9de74a4d8e8341b5633031fd92",
              "IPY_MODEL_17011a9e70464557859077d223456c82"
            ]
          }
        },
        "3600ecf3410d4fe19ab4657d599205b0": {
          "model_module": "@jupyter-widgets/base",
          "model_name": "LayoutModel",
          "state": {
            "_view_name": "LayoutView",
            "grid_template_rows": null,
            "right": null,
            "justify_content": null,
            "_view_module": "@jupyter-widgets/base",
            "overflow": null,
            "_model_module_version": "1.2.0",
            "_view_count": null,
            "flex_flow": null,
            "width": null,
            "min_width": null,
            "border": null,
            "align_items": null,
            "bottom": null,
            "_model_module": "@jupyter-widgets/base",
            "top": null,
            "grid_column": null,
            "overflow_y": null,
            "overflow_x": null,
            "grid_auto_flow": null,
            "grid_area": null,
            "grid_template_columns": null,
            "flex": null,
            "_model_name": "LayoutModel",
            "justify_items": null,
            "grid_row": null,
            "max_height": null,
            "align_content": null,
            "visibility": null,
            "align_self": null,
            "height": null,
            "min_height": null,
            "padding": null,
            "grid_auto_rows": null,
            "grid_gap": null,
            "max_width": null,
            "order": null,
            "_view_module_version": "1.2.0",
            "grid_template_areas": null,
            "object_position": null,
            "object_fit": null,
            "grid_auto_columns": null,
            "margin": null,
            "display": null,
            "left": null
          }
        },
        "9c395a9de74a4d8e8341b5633031fd92": {
          "model_module": "@jupyter-widgets/controls",
          "model_name": "FloatProgressModel",
          "state": {
            "_view_name": "ProgressView",
            "style": "IPY_MODEL_98236f5b2e804ba8b5ce5ca6db45d8f2",
            "_dom_classes": [],
            "description": "100%",
            "_model_name": "FloatProgressModel",
            "bar_style": "success",
            "max": 129,
            "_view_module": "@jupyter-widgets/controls",
            "_model_module_version": "1.5.0",
            "value": 129,
            "_view_count": null,
            "_view_module_version": "1.5.0",
            "orientation": "horizontal",
            "min": 0,
            "description_tooltip": null,
            "_model_module": "@jupyter-widgets/controls",
            "layout": "IPY_MODEL_a445925895184ef390f8c2b8309e4c1d"
          }
        },
        "17011a9e70464557859077d223456c82": {
          "model_module": "@jupyter-widgets/controls",
          "model_name": "HTMLModel",
          "state": {
            "_view_name": "HTMLView",
            "style": "IPY_MODEL_a2b484b32e3f4d5fb4f0c031592dcca8",
            "_dom_classes": [],
            "description": "",
            "_model_name": "HTMLModel",
            "placeholder": "​",
            "_view_module": "@jupyter-widgets/controls",
            "_model_module_version": "1.5.0",
            "value": " 129/129 [00:01&lt;00:00, 80.31it/s]",
            "_view_count": null,
            "_view_module_version": "1.5.0",
            "description_tooltip": null,
            "_model_module": "@jupyter-widgets/controls",
            "layout": "IPY_MODEL_f70ba54e1d87473f8a5c1614f085a91c"
          }
        },
        "98236f5b2e804ba8b5ce5ca6db45d8f2": {
          "model_module": "@jupyter-widgets/controls",
          "model_name": "ProgressStyleModel",
          "state": {
            "_view_name": "StyleView",
            "_model_name": "ProgressStyleModel",
            "description_width": "initial",
            "_view_module": "@jupyter-widgets/base",
            "_model_module_version": "1.5.0",
            "_view_count": null,
            "_view_module_version": "1.2.0",
            "bar_color": null,
            "_model_module": "@jupyter-widgets/controls"
          }
        },
        "a445925895184ef390f8c2b8309e4c1d": {
          "model_module": "@jupyter-widgets/base",
          "model_name": "LayoutModel",
          "state": {
            "_view_name": "LayoutView",
            "grid_template_rows": null,
            "right": null,
            "justify_content": null,
            "_view_module": "@jupyter-widgets/base",
            "overflow": null,
            "_model_module_version": "1.2.0",
            "_view_count": null,
            "flex_flow": null,
            "width": null,
            "min_width": null,
            "border": null,
            "align_items": null,
            "bottom": null,
            "_model_module": "@jupyter-widgets/base",
            "top": null,
            "grid_column": null,
            "overflow_y": null,
            "overflow_x": null,
            "grid_auto_flow": null,
            "grid_area": null,
            "grid_template_columns": null,
            "flex": null,
            "_model_name": "LayoutModel",
            "justify_items": null,
            "grid_row": null,
            "max_height": null,
            "align_content": null,
            "visibility": null,
            "align_self": null,
            "height": null,
            "min_height": null,
            "padding": null,
            "grid_auto_rows": null,
            "grid_gap": null,
            "max_width": null,
            "order": null,
            "_view_module_version": "1.2.0",
            "grid_template_areas": null,
            "object_position": null,
            "object_fit": null,
            "grid_auto_columns": null,
            "margin": null,
            "display": null,
            "left": null
          }
        },
        "a2b484b32e3f4d5fb4f0c031592dcca8": {
          "model_module": "@jupyter-widgets/controls",
          "model_name": "DescriptionStyleModel",
          "state": {
            "_view_name": "StyleView",
            "_model_name": "DescriptionStyleModel",
            "description_width": "",
            "_view_module": "@jupyter-widgets/base",
            "_model_module_version": "1.5.0",
            "_view_count": null,
            "_view_module_version": "1.2.0",
            "_model_module": "@jupyter-widgets/controls"
          }
        },
        "f70ba54e1d87473f8a5c1614f085a91c": {
          "model_module": "@jupyter-widgets/base",
          "model_name": "LayoutModel",
          "state": {
            "_view_name": "LayoutView",
            "grid_template_rows": null,
            "right": null,
            "justify_content": null,
            "_view_module": "@jupyter-widgets/base",
            "overflow": null,
            "_model_module_version": "1.2.0",
            "_view_count": null,
            "flex_flow": null,
            "width": null,
            "min_width": null,
            "border": null,
            "align_items": null,
            "bottom": null,
            "_model_module": "@jupyter-widgets/base",
            "top": null,
            "grid_column": null,
            "overflow_y": null,
            "overflow_x": null,
            "grid_auto_flow": null,
            "grid_area": null,
            "grid_template_columns": null,
            "flex": null,
            "_model_name": "LayoutModel",
            "justify_items": null,
            "grid_row": null,
            "max_height": null,
            "align_content": null,
            "visibility": null,
            "align_self": null,
            "height": null,
            "min_height": null,
            "padding": null,
            "grid_auto_rows": null,
            "grid_gap": null,
            "max_width": null,
            "order": null,
            "_view_module_version": "1.2.0",
            "grid_template_areas": null,
            "object_position": null,
            "object_fit": null,
            "grid_auto_columns": null,
            "margin": null,
            "display": null,
            "left": null
          }
        },
        "528b14c2cdca468894e4cc02426a263b": {
          "model_module": "@jupyter-widgets/controls",
          "model_name": "HBoxModel",
          "state": {
            "_view_name": "HBoxView",
            "_dom_classes": [],
            "_model_name": "HBoxModel",
            "_view_module": "@jupyter-widgets/controls",
            "_model_module_version": "1.5.0",
            "_view_count": null,
            "_view_module_version": "1.5.0",
            "box_style": "",
            "layout": "IPY_MODEL_991166de6d2c422c9b14583dc783d431",
            "_model_module": "@jupyter-widgets/controls",
            "children": [
              "IPY_MODEL_1191c67a4c6144d49ad26d905d1d4a29",
              "IPY_MODEL_c9f52d95b7ed4ec581eaa75cc8c2c262"
            ]
          }
        },
        "991166de6d2c422c9b14583dc783d431": {
          "model_module": "@jupyter-widgets/base",
          "model_name": "LayoutModel",
          "state": {
            "_view_name": "LayoutView",
            "grid_template_rows": null,
            "right": null,
            "justify_content": null,
            "_view_module": "@jupyter-widgets/base",
            "overflow": null,
            "_model_module_version": "1.2.0",
            "_view_count": null,
            "flex_flow": null,
            "width": null,
            "min_width": null,
            "border": null,
            "align_items": null,
            "bottom": null,
            "_model_module": "@jupyter-widgets/base",
            "top": null,
            "grid_column": null,
            "overflow_y": null,
            "overflow_x": null,
            "grid_auto_flow": null,
            "grid_area": null,
            "grid_template_columns": null,
            "flex": null,
            "_model_name": "LayoutModel",
            "justify_items": null,
            "grid_row": null,
            "max_height": null,
            "align_content": null,
            "visibility": null,
            "align_self": null,
            "height": null,
            "min_height": null,
            "padding": null,
            "grid_auto_rows": null,
            "grid_gap": null,
            "max_width": null,
            "order": null,
            "_view_module_version": "1.2.0",
            "grid_template_areas": null,
            "object_position": null,
            "object_fit": null,
            "grid_auto_columns": null,
            "margin": null,
            "display": null,
            "left": null
          }
        },
        "1191c67a4c6144d49ad26d905d1d4a29": {
          "model_module": "@jupyter-widgets/controls",
          "model_name": "FloatProgressModel",
          "state": {
            "_view_name": "ProgressView",
            "style": "IPY_MODEL_b1e21d87796a4606bb4a9544aed58d6a",
            "_dom_classes": [],
            "description": "100%",
            "_model_name": "FloatProgressModel",
            "bar_style": "success",
            "max": 16627,
            "_view_module": "@jupyter-widgets/controls",
            "_model_module_version": "1.5.0",
            "value": 16627,
            "_view_count": null,
            "_view_module_version": "1.5.0",
            "orientation": "horizontal",
            "min": 0,
            "description_tooltip": null,
            "_model_module": "@jupyter-widgets/controls",
            "layout": "IPY_MODEL_3b682631bfcc4d488182873478c1e01b"
          }
        },
        "c9f52d95b7ed4ec581eaa75cc8c2c262": {
          "model_module": "@jupyter-widgets/controls",
          "model_name": "HTMLModel",
          "state": {
            "_view_name": "HTMLView",
            "style": "IPY_MODEL_ce3df8f9bf004bc58144394f97826daa",
            "_dom_classes": [],
            "description": "",
            "_model_name": "HTMLModel",
            "placeholder": "​",
            "_view_module": "@jupyter-widgets/controls",
            "_model_module_version": "1.5.0",
            "value": " 16627/16627 [00:02&lt;00:00, 7668.13it/s]",
            "_view_count": null,
            "_view_module_version": "1.5.0",
            "description_tooltip": null,
            "_model_module": "@jupyter-widgets/controls",
            "layout": "IPY_MODEL_7b569fa5c2044657b0e8644cb1b1de9f"
          }
        },
        "b1e21d87796a4606bb4a9544aed58d6a": {
          "model_module": "@jupyter-widgets/controls",
          "model_name": "ProgressStyleModel",
          "state": {
            "_view_name": "StyleView",
            "_model_name": "ProgressStyleModel",
            "description_width": "initial",
            "_view_module": "@jupyter-widgets/base",
            "_model_module_version": "1.5.0",
            "_view_count": null,
            "_view_module_version": "1.2.0",
            "bar_color": null,
            "_model_module": "@jupyter-widgets/controls"
          }
        },
        "3b682631bfcc4d488182873478c1e01b": {
          "model_module": "@jupyter-widgets/base",
          "model_name": "LayoutModel",
          "state": {
            "_view_name": "LayoutView",
            "grid_template_rows": null,
            "right": null,
            "justify_content": null,
            "_view_module": "@jupyter-widgets/base",
            "overflow": null,
            "_model_module_version": "1.2.0",
            "_view_count": null,
            "flex_flow": null,
            "width": null,
            "min_width": null,
            "border": null,
            "align_items": null,
            "bottom": null,
            "_model_module": "@jupyter-widgets/base",
            "top": null,
            "grid_column": null,
            "overflow_y": null,
            "overflow_x": null,
            "grid_auto_flow": null,
            "grid_area": null,
            "grid_template_columns": null,
            "flex": null,
            "_model_name": "LayoutModel",
            "justify_items": null,
            "grid_row": null,
            "max_height": null,
            "align_content": null,
            "visibility": null,
            "align_self": null,
            "height": null,
            "min_height": null,
            "padding": null,
            "grid_auto_rows": null,
            "grid_gap": null,
            "max_width": null,
            "order": null,
            "_view_module_version": "1.2.0",
            "grid_template_areas": null,
            "object_position": null,
            "object_fit": null,
            "grid_auto_columns": null,
            "margin": null,
            "display": null,
            "left": null
          }
        },
        "ce3df8f9bf004bc58144394f97826daa": {
          "model_module": "@jupyter-widgets/controls",
          "model_name": "DescriptionStyleModel",
          "state": {
            "_view_name": "StyleView",
            "_model_name": "DescriptionStyleModel",
            "description_width": "",
            "_view_module": "@jupyter-widgets/base",
            "_model_module_version": "1.5.0",
            "_view_count": null,
            "_view_module_version": "1.2.0",
            "_model_module": "@jupyter-widgets/controls"
          }
        },
        "7b569fa5c2044657b0e8644cb1b1de9f": {
          "model_module": "@jupyter-widgets/base",
          "model_name": "LayoutModel",
          "state": {
            "_view_name": "LayoutView",
            "grid_template_rows": null,
            "right": null,
            "justify_content": null,
            "_view_module": "@jupyter-widgets/base",
            "overflow": null,
            "_model_module_version": "1.2.0",
            "_view_count": null,
            "flex_flow": null,
            "width": null,
            "min_width": null,
            "border": null,
            "align_items": null,
            "bottom": null,
            "_model_module": "@jupyter-widgets/base",
            "top": null,
            "grid_column": null,
            "overflow_y": null,
            "overflow_x": null,
            "grid_auto_flow": null,
            "grid_area": null,
            "grid_template_columns": null,
            "flex": null,
            "_model_name": "LayoutModel",
            "justify_items": null,
            "grid_row": null,
            "max_height": null,
            "align_content": null,
            "visibility": null,
            "align_self": null,
            "height": null,
            "min_height": null,
            "padding": null,
            "grid_auto_rows": null,
            "grid_gap": null,
            "max_width": null,
            "order": null,
            "_view_module_version": "1.2.0",
            "grid_template_areas": null,
            "object_position": null,
            "object_fit": null,
            "grid_auto_columns": null,
            "margin": null,
            "display": null,
            "left": null
          }
        },
        "055fea26f54b4010a070301dd4881471": {
          "model_module": "@jupyter-widgets/controls",
          "model_name": "HBoxModel",
          "state": {
            "_view_name": "HBoxView",
            "_dom_classes": [],
            "_model_name": "HBoxModel",
            "_view_module": "@jupyter-widgets/controls",
            "_model_module_version": "1.5.0",
            "_view_count": null,
            "_view_module_version": "1.5.0",
            "box_style": "",
            "layout": "IPY_MODEL_c47279b30db445f0997ee7c0a15f7ec5",
            "_model_module": "@jupyter-widgets/controls",
            "children": [
              "IPY_MODEL_84557b55d5d641c5be0bc8accbfa377c",
              "IPY_MODEL_2c335a2f1a474a37adeabee2b40f9937"
            ]
          }
        },
        "c47279b30db445f0997ee7c0a15f7ec5": {
          "model_module": "@jupyter-widgets/base",
          "model_name": "LayoutModel",
          "state": {
            "_view_name": "LayoutView",
            "grid_template_rows": null,
            "right": null,
            "justify_content": null,
            "_view_module": "@jupyter-widgets/base",
            "overflow": null,
            "_model_module_version": "1.2.0",
            "_view_count": null,
            "flex_flow": null,
            "width": null,
            "min_width": null,
            "border": null,
            "align_items": null,
            "bottom": null,
            "_model_module": "@jupyter-widgets/base",
            "top": null,
            "grid_column": null,
            "overflow_y": null,
            "overflow_x": null,
            "grid_auto_flow": null,
            "grid_area": null,
            "grid_template_columns": null,
            "flex": null,
            "_model_name": "LayoutModel",
            "justify_items": null,
            "grid_row": null,
            "max_height": null,
            "align_content": null,
            "visibility": null,
            "align_self": null,
            "height": null,
            "min_height": null,
            "padding": null,
            "grid_auto_rows": null,
            "grid_gap": null,
            "max_width": null,
            "order": null,
            "_view_module_version": "1.2.0",
            "grid_template_areas": null,
            "object_position": null,
            "object_fit": null,
            "grid_auto_columns": null,
            "margin": null,
            "display": null,
            "left": null
          }
        },
        "84557b55d5d641c5be0bc8accbfa377c": {
          "model_module": "@jupyter-widgets/controls",
          "model_name": "FloatProgressModel",
          "state": {
            "_view_name": "ProgressView",
            "style": "IPY_MODEL_a8f0f4f422c14f7aa79749371f844cda",
            "_dom_classes": [],
            "description": "100%",
            "_model_name": "FloatProgressModel",
            "bar_style": "success",
            "max": 180,
            "_view_module": "@jupyter-widgets/controls",
            "_model_module_version": "1.5.0",
            "value": 180,
            "_view_count": null,
            "_view_module_version": "1.5.0",
            "orientation": "horizontal",
            "min": 0,
            "description_tooltip": null,
            "_model_module": "@jupyter-widgets/controls",
            "layout": "IPY_MODEL_22e7d9a0d9d046f4ab1d829315e64cf5"
          }
        },
        "2c335a2f1a474a37adeabee2b40f9937": {
          "model_module": "@jupyter-widgets/controls",
          "model_name": "HTMLModel",
          "state": {
            "_view_name": "HTMLView",
            "style": "IPY_MODEL_3c763dab4e3448c19c5eb4fd65f4e294",
            "_dom_classes": [],
            "description": "",
            "_model_name": "HTMLModel",
            "placeholder": "​",
            "_view_module": "@jupyter-widgets/controls",
            "_model_module_version": "1.5.0",
            "value": " 180/180 [00:05&lt;00:00, 33.99it/s]",
            "_view_count": null,
            "_view_module_version": "1.5.0",
            "description_tooltip": null,
            "_model_module": "@jupyter-widgets/controls",
            "layout": "IPY_MODEL_1a7a982127eb4895ad6ac1c28d46c8c7"
          }
        },
        "a8f0f4f422c14f7aa79749371f844cda": {
          "model_module": "@jupyter-widgets/controls",
          "model_name": "ProgressStyleModel",
          "state": {
            "_view_name": "StyleView",
            "_model_name": "ProgressStyleModel",
            "description_width": "initial",
            "_view_module": "@jupyter-widgets/base",
            "_model_module_version": "1.5.0",
            "_view_count": null,
            "_view_module_version": "1.2.0",
            "bar_color": null,
            "_model_module": "@jupyter-widgets/controls"
          }
        },
        "22e7d9a0d9d046f4ab1d829315e64cf5": {
          "model_module": "@jupyter-widgets/base",
          "model_name": "LayoutModel",
          "state": {
            "_view_name": "LayoutView",
            "grid_template_rows": null,
            "right": null,
            "justify_content": null,
            "_view_module": "@jupyter-widgets/base",
            "overflow": null,
            "_model_module_version": "1.2.0",
            "_view_count": null,
            "flex_flow": null,
            "width": null,
            "min_width": null,
            "border": null,
            "align_items": null,
            "bottom": null,
            "_model_module": "@jupyter-widgets/base",
            "top": null,
            "grid_column": null,
            "overflow_y": null,
            "overflow_x": null,
            "grid_auto_flow": null,
            "grid_area": null,
            "grid_template_columns": null,
            "flex": null,
            "_model_name": "LayoutModel",
            "justify_items": null,
            "grid_row": null,
            "max_height": null,
            "align_content": null,
            "visibility": null,
            "align_self": null,
            "height": null,
            "min_height": null,
            "padding": null,
            "grid_auto_rows": null,
            "grid_gap": null,
            "max_width": null,
            "order": null,
            "_view_module_version": "1.2.0",
            "grid_template_areas": null,
            "object_position": null,
            "object_fit": null,
            "grid_auto_columns": null,
            "margin": null,
            "display": null,
            "left": null
          }
        },
        "3c763dab4e3448c19c5eb4fd65f4e294": {
          "model_module": "@jupyter-widgets/controls",
          "model_name": "DescriptionStyleModel",
          "state": {
            "_view_name": "StyleView",
            "_model_name": "DescriptionStyleModel",
            "description_width": "",
            "_view_module": "@jupyter-widgets/base",
            "_model_module_version": "1.5.0",
            "_view_count": null,
            "_view_module_version": "1.2.0",
            "_model_module": "@jupyter-widgets/controls"
          }
        },
        "1a7a982127eb4895ad6ac1c28d46c8c7": {
          "model_module": "@jupyter-widgets/base",
          "model_name": "LayoutModel",
          "state": {
            "_view_name": "LayoutView",
            "grid_template_rows": null,
            "right": null,
            "justify_content": null,
            "_view_module": "@jupyter-widgets/base",
            "overflow": null,
            "_model_module_version": "1.2.0",
            "_view_count": null,
            "flex_flow": null,
            "width": null,
            "min_width": null,
            "border": null,
            "align_items": null,
            "bottom": null,
            "_model_module": "@jupyter-widgets/base",
            "top": null,
            "grid_column": null,
            "overflow_y": null,
            "overflow_x": null,
            "grid_auto_flow": null,
            "grid_area": null,
            "grid_template_columns": null,
            "flex": null,
            "_model_name": "LayoutModel",
            "justify_items": null,
            "grid_row": null,
            "max_height": null,
            "align_content": null,
            "visibility": null,
            "align_self": null,
            "height": null,
            "min_height": null,
            "padding": null,
            "grid_auto_rows": null,
            "grid_gap": null,
            "max_width": null,
            "order": null,
            "_view_module_version": "1.2.0",
            "grid_template_areas": null,
            "object_position": null,
            "object_fit": null,
            "grid_auto_columns": null,
            "margin": null,
            "display": null,
            "left": null
          }
        }
      }
    }
  },
  "cells": [
    {
      "cell_type": "markdown",
      "metadata": {
        "id": "view-in-github",
        "colab_type": "text"
      },
      "source": [
        "<a href=\"https://colab.research.google.com/github/makler322/msu_ml_spring_2021/blob/master/Project/Project_baseline.ipynb\" target=\"_parent\"><img src=\"https://colab.research.google.com/assets/colab-badge.svg\" alt=\"Open In Colab\"/></a>"
      ]
    },
    {
      "cell_type": "markdown",
      "metadata": {
        "id": "tLqx2XlLnf2p"
      },
      "source": [
        "## Подключим всё необходимое"
      ]
    },
    {
      "cell_type": "code",
      "metadata": {
        "id": "DVgRzeETcBNv"
      },
      "source": [
        "import pandas as pd\n",
        "import numpy as np\n",
        "import lightgbm as lgb\n",
        "import xgboost as xgb\n",
        "from sklearn.ensemble import GradientBoostingClassifier\n",
        "from tqdm.auto import tqdm\n",
        "from sklearn.model_selection import train_test_split\n",
        "from sklearn.metrics import f1_score"
      ],
      "execution_count": 170,
      "outputs": []
    },
    {
      "cell_type": "markdown",
      "metadata": {
        "id": "K3k0gmqTnbLu"
      },
      "source": [
        "## Посмотрим на данные"
      ]
    },
    {
      "cell_type": "code",
      "metadata": {
        "id": "w1dRy7DucqeD"
      },
      "source": [
        "docs_titles_path = '/content/drive/MyDrive/Boost/docs_titles.tsv'\n",
        "train_data = pd.read_csv('/content/drive/MyDrive/Boost/train_groups.csv')\n",
        "test_data = pd.read_csv('/content/drive/MyDrive/Boost/test_groups.csv')\n",
        "docs_titles_data = pd.read_csv(docs_titles_path, sep='\\t')"
      ],
      "execution_count": 171,
      "outputs": []
    },
    {
      "cell_type": "code",
      "metadata": {
        "colab": {
          "base_uri": "https://localhost:8080/"
        },
        "id": "axLCi3vynak9",
        "outputId": "437503ee-2eac-49a1-b72b-f47ed4f42c26"
      },
      "source": [
        "print(train_data.head(3))\n",
        "print(train_data.info())\n",
        "print(test_data.head(3))\n",
        "print(test_data.info())\n",
        "print(docs_titles_data.head(3))\n",
        "print(docs_titles_data.info())"
      ],
      "execution_count": 172,
      "outputs": [
        {
          "output_type": "stream",
          "text": [
            "   pair_id  group_id  doc_id  target\n",
            "0        1         1   15731       0\n",
            "1        2         1   14829       0\n",
            "2        3         1   15764       0\n",
            "<class 'pandas.core.frame.DataFrame'>\n",
            "RangeIndex: 11690 entries, 0 to 11689\n",
            "Data columns (total 4 columns):\n",
            " #   Column    Non-Null Count  Dtype\n",
            "---  ------    --------------  -----\n",
            " 0   pair_id   11690 non-null  int64\n",
            " 1   group_id  11690 non-null  int64\n",
            " 2   doc_id    11690 non-null  int64\n",
            " 3   target    11690 non-null  int64\n",
            "dtypes: int64(4)\n",
            "memory usage: 365.4 KB\n",
            "None\n",
            "   pair_id  group_id  doc_id\n",
            "0    11691       130    6710\n",
            "1    11692       130    4030\n",
            "2    11693       130    5561\n",
            "<class 'pandas.core.frame.DataFrame'>\n",
            "RangeIndex: 16627 entries, 0 to 16626\n",
            "Data columns (total 3 columns):\n",
            " #   Column    Non-Null Count  Dtype\n",
            "---  ------    --------------  -----\n",
            " 0   pair_id   16627 non-null  int64\n",
            " 1   group_id  16627 non-null  int64\n",
            " 2   doc_id    16627 non-null  int64\n",
            "dtypes: int64(3)\n",
            "memory usage: 389.8 KB\n",
            "None\n",
            "   doc_id                                              title\n",
            "0   15731      ВАЗ 21213 | Замена подшипников ступицы | Нива\n",
            "1   14829  Ваз 2107 оптом в Сочи. Сравнить цены, купить п...\n",
            "2   15764  Купить ступица Лада калина2. Трансмиссия - пер...\n",
            "<class 'pandas.core.frame.DataFrame'>\n",
            "RangeIndex: 27950 entries, 0 to 27949\n",
            "Data columns (total 2 columns):\n",
            " #   Column  Non-Null Count  Dtype \n",
            "---  ------  --------------  ----- \n",
            " 0   doc_id  27950 non-null  int64 \n",
            " 1   title   27919 non-null  object\n",
            "dtypes: int64(1), object(1)\n",
            "memory usage: 436.8+ KB\n",
            "None\n"
          ],
          "name": "stdout"
        }
      ]
    },
    {
      "cell_type": "markdown",
      "metadata": {
        "id": "rT6lu51QuLeM"
      },
      "source": [
        "### В этих данных только заголовки, а ещё у нас есть архив на 6гб с html страницами, где лежит очень много данных. Нужно будет его распарсить. Очевидно, что с ними у нас любой алогритм заработает лучше. Поэтому задача парсинга - одна из главных."
      ]
    },
    {
      "cell_type": "markdown",
      "metadata": {
        "id": "_UBq3jj0rslh"
      },
      "source": [
        "## Предобработка данных"
      ]
    },
    {
      "cell_type": "markdown",
      "metadata": {
        "id": "cMreryslrwum"
      },
      "source": [
        "### Создадим словарик: id - заголовок. По сути, просто переведём docs_titles в словарь\n",
        "### После парсинга поле \"заголовок\" поменяется."
      ]
    },
    {
      "cell_type": "code",
      "metadata": {
        "colab": {
          "base_uri": "https://localhost:8080/"
        },
        "id": "76WbD77XZu2n",
        "outputId": "8643d29c-d1cd-462d-d65b-8a164aa6c238"
      },
      "source": [
        "doc_to_title = {}\n",
        "with open(docs_titles_path) as f:\n",
        "    for num_line, line in enumerate(f):\n",
        "        if num_line == 0:\n",
        "            continue\n",
        "        data = line.strip().split('\\t', 1)\n",
        "        doc_id = int(data[0])\n",
        "        if len(data) == 1:\n",
        "            title = ''\n",
        "        else:\n",
        "            title = data[1]\n",
        "        doc_to_title[doc_id] = title\n",
        "print(len(doc_to_title))"
      ],
      "execution_count": 173,
      "outputs": [
        {
          "output_type": "stream",
          "text": [
            "28026\n"
          ],
          "name": "stdout"
        }
      ]
    },
    {
      "cell_type": "markdown",
      "metadata": {
        "id": "FGSXtivDvSLa"
      },
      "source": [
        "### Здесь сразу разобьём нашу train выборку на train/test для оценки своего промежуточного результата."
      ]
    },
    {
      "cell_type": "code",
      "metadata": {
        "colab": {
          "base_uri": "https://localhost:8080/"
        },
        "id": "LvFPC5dPvfPp",
        "outputId": "23d2fd0b-56ee-4c12-e27a-ccbdf5f41b95"
      },
      "source": [
        "X_train, X_test, y_train, y_test = train_test_split(train_data.drop(['target'], axis=1), train_data[['target']], test_size=0.20, random_state=42)\n",
        "print(X_train.head(3))\n",
        "print(y_train.head(3))\n",
        "print(X_test.head(3))\n",
        "print(y_test.head(3))"
      ],
      "execution_count": 174,
      "outputs": [
        {
          "output_type": "stream",
          "text": [
            "      pair_id  group_id  doc_id\n",
            "9927     9928       110    3001\n",
            "714       715         8   17910\n",
            "1076     1077        14    8507\n",
            "      target\n",
            "9927       0\n",
            "714        0\n",
            "1076       0\n",
            "      pair_id  group_id  doc_id\n",
            "8726     8727        98   15313\n",
            "4884     4885        55   13381\n",
            "5023     5024        57    5541\n",
            "      target\n",
            "8726       0\n",
            "4884       0\n",
            "5023       0\n"
          ],
          "name": "stdout"
        }
      ]
    },
    {
      "cell_type": "markdown",
      "metadata": {
        "id": "OBwKl3GtslGu"
      },
      "source": [
        "### Создадим ещё один словарь. На этот раз с группами, полученными на train.\n",
        "### В качестве аргументов: (id | заголовок | target). После парсинга поменятся только заголовок"
      ]
    },
    {
      "cell_type": "code",
      "metadata": {
        "colab": {
          "base_uri": "https://localhost:8080/",
          "height": 66,
          "referenced_widgets": [
            "77efb243dc1944d896dce8968bf96a74",
            "65be74bf3b044cac9aaae367f282f7e8",
            "cdf55b83d9474e8caa256b9243037215",
            "ac519f38da5c4d3aa9f935eab916a2e3",
            "23e34d0d703347c4a6243f00e812787f",
            "ffec1764431d49ceaa631b3f33a397eb",
            "8d956187d24a48a78ba59bd88907b0e0",
            "e727c6cea22c4ac9a7e5a6bc348113bc"
          ]
        },
        "id": "S5cTkGPTZ-Jn",
        "outputId": "8152c679-aa4a-48fb-fc29-95f25ba01611"
      },
      "source": [
        "traingroups_titledata = {}\n",
        "for i in tqdm(range(len(X_train))):\n",
        "    new_doc = X_train.iloc[i]\n",
        "    doc_group = new_doc['group_id']\n",
        "    doc_id = new_doc['doc_id']\n",
        "    target = y_train.iloc[i]\n",
        "    title = doc_to_title[doc_id]  # гарантировано есть\n",
        "    if doc_group not in traingroups_titledata:\n",
        "        traingroups_titledata[doc_group] = []\n",
        "    traingroups_titledata[doc_group].append((doc_id, title, target))"
      ],
      "execution_count": 175,
      "outputs": [
        {
          "output_type": "display_data",
          "data": {
            "application/vnd.jupyter.widget-view+json": {
              "model_id": "77efb243dc1944d896dce8968bf96a74",
              "version_minor": 0,
              "version_major": 2
            },
            "text/plain": [
              "HBox(children=(FloatProgress(value=0.0, max=9352.0), HTML(value='')))"
            ]
          },
          "metadata": {
            "tags": []
          }
        },
        {
          "output_type": "stream",
          "text": [
            "\n"
          ],
          "name": "stdout"
        }
      ]
    },
    {
      "cell_type": "markdown",
      "metadata": {
        "id": "AAmV0g9L1BLZ"
      },
      "source": [
        "### Сделаем тоже самое, но для test."
      ]
    },
    {
      "cell_type": "code",
      "metadata": {
        "colab": {
          "base_uri": "https://localhost:8080/",
          "height": 66,
          "referenced_widgets": [
            "2317db7c0d7e4d2083afb7f5e82f3116",
            "fdc1dbf351aa4ac58a2bb1262f1322ed",
            "38703f7000bd4310893085b086afbf50",
            "7444675a45cb47008b723ad7d550425f",
            "77004a6cff1a482db6dc9912455aac91",
            "5f8bd811334d4a8d89a5860b6d3fe05f",
            "83c65029f8234e50a46ebac5059611dd",
            "7db835a64b9140579053085f405e6a5d"
          ]
        },
        "id": "egrXSM3e11KL",
        "outputId": "14ea7bf1-5c0b-49a8-ca00-256d9bde816c"
      },
      "source": [
        "testgroups_titledata = {}\n",
        "for i in tqdm(range(len(X_test))):\n",
        "    new_doc = X_test.iloc[i]\n",
        "    doc_group = new_doc['group_id']\n",
        "    doc_id = new_doc['doc_id']\n",
        "    title = doc_to_title[doc_id]\n",
        "    target = y_test.iloc[i]\n",
        "    if doc_group not in testgroups_titledata:\n",
        "        testgroups_titledata[doc_group] = []\n",
        "    testgroups_titledata[doc_group].append((doc_id, title, target))  # Здесь target не используется. Просто костыль."
      ],
      "execution_count": 176,
      "outputs": [
        {
          "output_type": "display_data",
          "data": {
            "application/vnd.jupyter.widget-view+json": {
              "model_id": "2317db7c0d7e4d2083afb7f5e82f3116",
              "version_minor": 0,
              "version_major": 2
            },
            "text/plain": [
              "HBox(children=(FloatProgress(value=0.0, max=2338.0), HTML(value='')))"
            ]
          },
          "metadata": {
            "tags": []
          }
        },
        {
          "output_type": "stream",
          "text": [
            "\n"
          ],
          "name": "stdout"
        }
      ]
    },
    {
      "cell_type": "markdown",
      "metadata": {
        "id": "VVIy5Q__2Q5a"
      },
      "source": [
        "## Смысл идеи: для каждого сайта мы смотрим пересечение с другими по колличеству слов. Больше слов совпало - релевантнее сайт."
      ]
    },
    {
      "cell_type": "code",
      "metadata": {
        "colab": {
          "base_uri": "https://localhost:8080/",
          "height": 223,
          "referenced_widgets": [
            "ed8daa74d20d4fd8b5542f45e7927a36",
            "a217fa31c71642bb86d4464d246b76dc",
            "ecdf60a9588b4afabd24d605596dca18",
            "579c39e031c34f6c946cec3d9e7418f5",
            "9f7f297ac4d64df58391413dd957e371",
            "e41af29912a94708bca5cb811401a236",
            "cb103f6a21e54f3d94b0887df6c265c5",
            "abdb7608935645bdad6f2b65ab8ce740"
          ]
        },
        "id": "_S8g4Zu_Z-Lt",
        "outputId": "67a7f047-8303-4862-9bc5-7003871e0585"
      },
      "source": [
        "\n",
        "y_train = []\n",
        "X_train = []\n",
        "groups_train = []\n",
        "for new_group in tqdm(traingroups_titledata):\n",
        "    docs = traingroups_titledata[new_group]\n",
        "    for k, (doc_id, title, target_id) in enumerate(docs):\n",
        "        y_train.append(target_id)\n",
        "        groups_train.append(new_group)\n",
        "        all_dist = []\n",
        "        words = set(title.strip().split())\n",
        "        for j in range(0, len(docs)):\n",
        "            if k == j:\n",
        "                continue\n",
        "            doc_id_j, title_j, target_j = docs[j]\n",
        "            words_j = set(title_j.strip().split())\n",
        "            all_dist.append(len(words.intersection(words_j)))\n",
        "        X_train.append(sorted(all_dist, reverse=True)[0:15])\n",
        "X_train = np.array(X_train)\n",
        "y_train = np.array(y_train)\n",
        "groups_train = np.array(groups_train)\n",
        "print(X_train.shape, y_train.shape, groups_train.shape)\n",
        "print(X_train[1083:1087])\n",
        "print(y_train[1083:1087])"
      ],
      "execution_count": 177,
      "outputs": [
        {
          "output_type": "display_data",
          "data": {
            "application/vnd.jupyter.widget-view+json": {
              "model_id": "ed8daa74d20d4fd8b5542f45e7927a36",
              "version_minor": 0,
              "version_major": 2
            },
            "text/plain": [
              "HBox(children=(FloatProgress(value=0.0, max=129.0), HTML(value='')))"
            ]
          },
          "metadata": {
            "tags": []
          }
        },
        {
          "output_type": "stream",
          "text": [
            "\n",
            "(9352, 15) (9352, 1) (9352,)\n",
            "[[ 4  3  3  2  2  2  2  2  2  1  1  1  1  1  1]\n",
            " [10  2  2  2  2  1  1  1  1  1  1  1  1  1  1]\n",
            " [ 1  1  1  1  1  1  0  0  0  0  0  0  0  0  0]\n",
            " [ 1  1  1  0  0  0  0  0  0  0  0  0  0  0  0]]\n",
            "[[1]\n",
            " [0]\n",
            " [1]\n",
            " [0]]\n"
          ],
          "name": "stdout"
        }
      ]
    },
    {
      "cell_type": "markdown",
      "metadata": {
        "id": "ELyuROTr4bKd"
      },
      "source": [
        "### Получаем данные, где для каждого вектора есть своя метка класса. С этими векторами и будем работать.\n",
        "### Аналогично строим вектора для test"
      ]
    },
    {
      "cell_type": "code",
      "metadata": {
        "colab": {
          "base_uri": "https://localhost:8080/",
          "height": 205,
          "referenced_widgets": [
            "4307259b67534fb1b8efa4fdfcb1280e",
            "3600ecf3410d4fe19ab4657d599205b0",
            "9c395a9de74a4d8e8341b5633031fd92",
            "17011a9e70464557859077d223456c82",
            "98236f5b2e804ba8b5ce5ca6db45d8f2",
            "a445925895184ef390f8c2b8309e4c1d",
            "a2b484b32e3f4d5fb4f0c031592dcca8",
            "f70ba54e1d87473f8a5c1614f085a91c"
          ]
        },
        "id": "A7EYafUkeFs1",
        "outputId": "f070ae9f-a6cf-4369-aa43-3caea5cbe0c8"
      },
      "source": [
        "X_test1 = []\n",
        "groups_test = []\n",
        "for new_group in tqdm(testgroups_titledata):\n",
        "    docs = testgroups_titledata[new_group]\n",
        "    for k, (doc_id, title, target_id) in enumerate(docs):\n",
        "        groups_test.append(new_group)\n",
        "        all_dist = []\n",
        "        words = set(title.strip().split())\n",
        "        for j in range(0, max(16, len(docs))):\n",
        "            if k == j:\n",
        "                continue\n",
        "            try:\n",
        "                doc_id_j, title_j, target_j = docs[j]\n",
        "                words_j = set(title_j.strip().split())\n",
        "                all_dist.append(len(words.intersection(words_j)))\n",
        "            except:\n",
        "                all_dist.append(0)\n",
        "            \n",
        "\n",
        "        X_test1.append(sorted(all_dist, reverse=True)[0:15])\n",
        "\n",
        "#s = pd.Series(X_test1)\n",
        "#df = pd.DataFrame(s, columns=['foo'])\n",
        "#X_test = pd.DataFrame(df['foo'].tolist()).values\n",
        "\n",
        "X_test = np.array(X_test1)\n",
        "groups_test = np.array(groups_test)\n",
        "print(X_test.shape, groups_test.shape)\n",
        "print(X_test)"
      ],
      "execution_count": 178,
      "outputs": [
        {
          "output_type": "display_data",
          "data": {
            "application/vnd.jupyter.widget-view+json": {
              "model_id": "4307259b67534fb1b8efa4fdfcb1280e",
              "version_minor": 0,
              "version_major": 2
            },
            "text/plain": [
              "HBox(children=(FloatProgress(value=0.0, max=129.0), HTML(value='')))"
            ]
          },
          "metadata": {
            "tags": []
          }
        },
        {
          "output_type": "stream",
          "text": [
            "\n",
            "(2338, 15) (2338,)\n",
            "[[2 1 1 ... 0 0 0]\n",
            " [1 1 1 ... 0 0 0]\n",
            " [2 1 1 ... 0 0 0]\n",
            " ...\n",
            " [2 1 1 ... 0 0 0]\n",
            " [1 1 1 ... 0 0 0]\n",
            " [2 1 1 ... 0 0 0]]\n"
          ],
          "name": "stdout"
        }
      ]
    },
    {
      "cell_type": "markdown",
      "metadata": {
        "id": "1Q3rUMHx57fX"
      },
      "source": [
        "## Возьмём рандомный классификатор и оценим его на test"
      ]
    },
    {
      "cell_type": "code",
      "metadata": {
        "id": "6hs8TqD-Z-N4"
      },
      "source": [
        "clf = xgb.XGBClassifier()\n",
        "# clf = lgb.LGBMClassifier()"
      ],
      "execution_count": 179,
      "outputs": []
    },
    {
      "cell_type": "code",
      "metadata": {
        "colab": {
          "base_uri": "https://localhost:8080/"
        },
        "id": "YiH8plUhb60C",
        "outputId": "2ebf7250-753b-4dd1-ceb1-2d51a32405d3"
      },
      "source": [
        "clf.fit(X_train, y_train)"
      ],
      "execution_count": 180,
      "outputs": [
        {
          "output_type": "stream",
          "text": [
            "/usr/local/lib/python3.7/dist-packages/sklearn/preprocessing/_label.py:235: DataConversionWarning: A column-vector y was passed when a 1d array was expected. Please change the shape of y to (n_samples, ), for example using ravel().\n",
            "  y = column_or_1d(y, warn=True)\n",
            "/usr/local/lib/python3.7/dist-packages/sklearn/preprocessing/_label.py:268: DataConversionWarning: A column-vector y was passed when a 1d array was expected. Please change the shape of y to (n_samples, ), for example using ravel().\n",
            "  y = column_or_1d(y, warn=True)\n"
          ],
          "name": "stderr"
        },
        {
          "output_type": "execute_result",
          "data": {
            "text/plain": [
              "XGBClassifier(base_score=0.5, booster='gbtree', colsample_bylevel=1,\n",
              "              colsample_bynode=1, colsample_bytree=1, gamma=0,\n",
              "              learning_rate=0.1, max_delta_step=0, max_depth=3,\n",
              "              min_child_weight=1, missing=None, n_estimators=100, n_jobs=1,\n",
              "              nthread=None, objective='binary:logistic', random_state=0,\n",
              "              reg_alpha=0, reg_lambda=1, scale_pos_weight=1, seed=None,\n",
              "              silent=None, subsample=1, verbosity=1)"
            ]
          },
          "metadata": {
            "tags": []
          },
          "execution_count": 180
        }
      ]
    },
    {
      "cell_type": "markdown",
      "metadata": {
        "id": "ply3LI-OIrtt"
      },
      "source": [
        "### Напомню, что у нас f1-score"
      ]
    },
    {
      "cell_type": "code",
      "metadata": {
        "colab": {
          "base_uri": "https://localhost:8080/"
        },
        "id": "eNvuX0lpd8me",
        "outputId": "d40c6221-e35a-439b-fbbf-dd3bbbc151c9"
      },
      "source": [
        "y_pred = clf.predict(X_test)\n",
        "y_pred = y_pred.astype(int)\n",
        "\n",
        "f1_score(y_test, y_pred)"
      ],
      "execution_count": 181,
      "outputs": [
        {
          "output_type": "execute_result",
          "data": {
            "text/plain": [
              "0.22263450834879406"
            ]
          },
          "metadata": {
            "tags": []
          },
          "execution_count": 181
        }
      ]
    },
    {
      "cell_type": "markdown",
      "metadata": {
        "id": "1PBHjpJcJQyV"
      },
      "source": [
        "## Отправляем"
      ]
    },
    {
      "cell_type": "code",
      "metadata": {
        "colab": {
          "base_uri": "https://localhost:8080/",
          "height": 66,
          "referenced_widgets": [
            "528b14c2cdca468894e4cc02426a263b",
            "991166de6d2c422c9b14583dc783d431",
            "1191c67a4c6144d49ad26d905d1d4a29",
            "c9f52d95b7ed4ec581eaa75cc8c2c262",
            "b1e21d87796a4606bb4a9544aed58d6a",
            "3b682631bfcc4d488182873478c1e01b",
            "ce3df8f9bf004bc58144394f97826daa",
            "7b569fa5c2044657b0e8644cb1b1de9f"
          ]
        },
        "id": "vs6NJbC4JdW6",
        "outputId": "c4550ebc-ee37-4b1e-ae64-fcfbce9a39d8"
      },
      "source": [
        "testgroups_title = {}\n",
        "for i in tqdm(range(len(test_data))):\n",
        "    new_doc = test_data.iloc[i]\n",
        "    doc_group = new_doc['group_id']\n",
        "    doc_id = new_doc['doc_id']\n",
        "    title = doc_to_title[doc_id]\n",
        "    if doc_group not in testgroups_title:\n",
        "        testgroups_title[doc_group] = []\n",
        "    testgroups_title[doc_group].append((doc_id, title))  "
      ],
      "execution_count": 182,
      "outputs": [
        {
          "output_type": "display_data",
          "data": {
            "application/vnd.jupyter.widget-view+json": {
              "model_id": "528b14c2cdca468894e4cc02426a263b",
              "version_minor": 0,
              "version_major": 2
            },
            "text/plain": [
              "HBox(children=(FloatProgress(value=0.0, max=16627.0), HTML(value='')))"
            ]
          },
          "metadata": {
            "tags": []
          }
        },
        {
          "output_type": "stream",
          "text": [
            "\n"
          ],
          "name": "stdout"
        }
      ]
    },
    {
      "cell_type": "code",
      "metadata": {
        "colab": {
          "base_uri": "https://localhost:8080/",
          "height": 66,
          "referenced_widgets": [
            "055fea26f54b4010a070301dd4881471",
            "c47279b30db445f0997ee7c0a15f7ec5",
            "84557b55d5d641c5be0bc8accbfa377c",
            "2c335a2f1a474a37adeabee2b40f9937",
            "a8f0f4f422c14f7aa79749371f844cda",
            "22e7d9a0d9d046f4ab1d829315e64cf5",
            "3c763dab4e3448c19c5eb4fd65f4e294",
            "1a7a982127eb4895ad6ac1c28d46c8c7"
          ]
        },
        "id": "BWANF8mjIw2B",
        "outputId": "a4c008e2-0a31-4942-a25f-944535a2ad24"
      },
      "source": [
        "Test = []\n",
        "groups_test = []\n",
        "for new_group in tqdm(testgroups_title):\n",
        "    docs = testgroups_title[new_group]\n",
        "    for k, (doc_id, title) in enumerate(docs):\n",
        "        groups_test.append(new_group)\n",
        "        all_dist = []\n",
        "        words = set(title.strip().split())\n",
        "        for j in range(0, max(16, len(docs))):\n",
        "            if k == j:\n",
        "                continue\n",
        "            try:\n",
        "                doc_id_j, title_j = docs[j]\n",
        "                words_j = set(title_j.strip().split())\n",
        "                all_dist.append(len(words.intersection(words_j)))\n",
        "            except:\n",
        "                all_dist.append(0)\n",
        "            \n",
        "\n",
        "        Test.append(sorted(all_dist, reverse=True)[0:15])\n",
        "Test = np.array(Test)\n"
      ],
      "execution_count": 183,
      "outputs": [
        {
          "output_type": "display_data",
          "data": {
            "application/vnd.jupyter.widget-view+json": {
              "model_id": "055fea26f54b4010a070301dd4881471",
              "version_minor": 0,
              "version_major": 2
            },
            "text/plain": [
              "HBox(children=(FloatProgress(value=0.0, max=180.0), HTML(value='')))"
            ]
          },
          "metadata": {
            "tags": []
          }
        },
        {
          "output_type": "stream",
          "text": [
            "\n"
          ],
          "name": "stdout"
        }
      ]
    },
    {
      "cell_type": "code",
      "metadata": {
        "id": "l5DU5c6tJ5nV"
      },
      "source": [
        "y_pred = clf.predict(Test)\n",
        "y_pred = y_pred.astype(int)"
      ],
      "execution_count": 184,
      "outputs": []
    },
    {
      "cell_type": "code",
      "metadata": {
        "id": "TgYfsPSOZ-Qv"
      },
      "source": [
        "sub = pd.DataFrame({'pair_id': np.asarray(test_data['pair_id']), 'target': y_pred})\n",
        "sub = sub.set_index(['pair_id'])\n",
        "sub.to_csv('sub.csv')"
      ],
      "execution_count": 185,
      "outputs": []
    },
    {
      "cell_type": "markdown",
      "metadata": {
        "id": "_kE_Z1DmKX5V"
      },
      "source": [
        "## Score = 0.59923"
      ]
    },
    {
      "cell_type": "code",
      "metadata": {
        "id": "TA0U8ffddwp-"
      },
      "source": [
        ""
      ],
      "execution_count": 185,
      "outputs": []
    }
  ]
}